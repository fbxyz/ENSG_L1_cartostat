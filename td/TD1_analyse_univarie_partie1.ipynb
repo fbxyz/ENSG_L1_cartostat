{
 "cells": [
  {
   "cell_type": "markdown",
   "metadata": {
    "id": "CLqyCoAiRKLy"
   },
   "source": [
    "<img src=\"https://upload.wikimedia.org/wikipedia/commons/3/39/Logo-ENSG-couleur-2023.svg\" style=\"margin-left:auto; margin-right:auto; width:200px; height:auto;\"/>\n"
   ]
  },
  {
   "cell_type": "markdown",
   "metadata": {
    "id": "wkgAs0oTI9gU",
    "tags": []
   },
   "source": [
    "<center> \n",
    "    <h1>ENSG : statistiques appliquées en cartographie</h1> \n",
    "    <h2>Réaliser une analyse univariée à l'aide de Python</h2> \n",
    "    <h3>Florian Bayer, Sami Guembour, Quentin Potie Décembre 2023</h3> \n",
    "</center> \n",
    "\n",
    "<hr style=\"height: 2px; color:  #94bd13 ; background-color:  #94bd13; width: 100%; border: none;\">\n",
    "\n",
    "*   L'objectif de ce TD est de réaliser une petite analyse univariée à l'aide de Python\n",
    "\n",
    "*   Cette analyse a pour but de vous faire découvrir un outil simple et gratuit pour l'analyse de données. Elle vise aussi à mieux comprendre vos données : nature, forme des distributions, signification.\n",
    "  \n",
    "*   Enfin, cette analyse vous permettra de justifier vos choix de discrétisation de manière objective\n",
    "\n",
    "Pour cela, vous allez utiliser un notebook virtuel Jupyter Lab. Il permet d'exécuter du code Python dans des cellules afin d'afficher et de partager des résultats d'analyse. Des blocs de texte Markdown permettent de commenter l'ensemble du notebook \n",
    "\n",
    "Notez qu'en Python, on ne commente jamais ligne par ligne, mais pour des raisons pédagogiques, cela sera fait ici\n",
    "\n",
    "Les exercices prendrons cette forme et <b>sont signaler en <span style=\"color:#bc4749\">rouge</span>.</b>  : \n",
    "\n",
    "> **Exercice**\n"
   ]
  },
  {
   "cell_type": "markdown",
   "metadata": {
    "id": "nRWsycQBMx38"
   },
   "source": [
    "<hr style=\"height: 2px; color:  #94bd13 ; background-color:  #94bd13; width: 100%; border: none;\">\n",
    "\n",
    "# 1. Importation des packages et des données\n",
    "\n",
    "## 1.1 Packages\n",
    "\n",
    "- Les packages sont des outils permettant de réaliser certaines tâches facilement, sans avoir à tout coder vous même. Par exemple, lire un fichier Excel, charger un fond de carte etc.\n",
    "- Vous découvrirez par vous même des packages en fonction de vos besoins, mais pour ce TD, ils sont déjà sélectionnés\n"
   ]
  },
  {
   "cell_type": "markdown",
   "metadata": {},
   "source": [
    "#### Lancer l'importation des packages dans une cellule de code\n",
    "- Ci-dessous se trouve une cellule de code. A l'inverse de la cellule actuelle (en Markdown), elle peut exécuter du code Python dans le Notebook\n",
    "- Pour lancez une cellule de code, sélectionnez la et appuyez sur Shift+Entrée\n"
   ]
  },
  {
   "cell_type": "code",
   "execution_count": null,
   "metadata": {
    "id": "fHvZEA5jIkch"
   },
   "outputs": [],
   "source": [
    "import pandas as pd # Pour gérer les tableaux de données (on parle de Dataframe)\n",
    "import matplotlib.pyplot as plt # pour afficher certains graphiques"
   ]
  },
  {
   "cell_type": "markdown",
   "metadata": {},
   "source": [
    "MAJ du 06/12/2022 : certains étudiants n'avaient pas seaborn. La commande ci-dessous permet de l'installer, ainsi que statsmodels"
   ]
  },
  {
   "cell_type": "code",
   "execution_count": null,
   "metadata": {},
   "outputs": [],
   "source": [
    "import os\n",
    "\n",
    "try:\n",
    "    import seaborn as sns\n",
    "except:\n",
    "    print (\"seaborn non installé, installation ... \")\n",
    "    os.system(\"conda install seaborn -y\")\n",
    "    import seaborn as sns\n",
    "finally:\n",
    "    if '10' in sns.__version__ :\n",
    "        print(\"version trop ancienne, mise à jour de seaborn\")\n",
    "        os.system(\"conda install seaborn==0.11.0 -y\")\n",
    "    else :\n",
    "        print(\"seaborn et displot doivent fonctionner\")\n",
    "        \n",
    "try:\n",
    "    import statsmodels\n",
    "except:\n",
    "    print (\"statsmodels non installé, installation ... \")\n",
    "    os.system(\"conda install statsmodels -y\")\n",
    "    import statsmodels\n",
    "finally:\n",
    "    print(\"statsmodels est installé\")\n"
   ]
  },
  {
   "cell_type": "markdown",
   "metadata": {
    "id": "Ckxmlk_oRbOh"
   },
   "source": [
    "<hr style=\"height: 1px; color:  #a7aeae ; background-color:  #a7aeae; width: 25%; border: none;\">\n",
    "\n",
    "## 1.2 Importation des données\n",
    "\n",
    "- Vous allez importer le premier jeu de données du TD, sur l'Europe. \n",
    "- Les données sont au format CSV dans le répertoire ./data/ (visible dans la fenêtre de gauche)\n",
    "- Le CSV est formaté avec un séparateur \";\" et des décimales \",\""
   ]
  },
  {
   "cell_type": "code",
   "execution_count": null,
   "metadata": {
    "colab": {
     "base_uri": "https://localhost:8080/",
     "height": 655
    },
    "id": "vr0U4f0mNDmZ",
    "outputId": "d396aa35-6175-4c5b-f656-6f3b15dec4fc"
   },
   "outputs": [],
   "source": [
    "df_ue = pd.read_csv(\"./data/TD_Europe.csv\", decimal=\".\", sep=\",\") # charge avec Pandas le csv TD_Europe.csv dans la variable df_ue"
   ]
  },
  {
   "cell_type": "markdown",
   "metadata": {},
   "source": [
    "En cas d'erreur d'importation du fichier TD_Europe.csv :\n",
    "1. lisez le message d'erreur !\n",
    "2. il est probable que cela soit un problème d'accès au fichier. La commande précédente cherche à partir du dossier où se trouve ce Notebook le dossier \"data\" puis le fichier \"TD_Europe.csv\". Vérifiez ce chemin. Vous pouvez changer le chemin de pd.read_csv() ou bien, dans le même répertoire que ce Notebook, créez un dossier data et ajoutez-y le csv.\n",
    "3. la dernière solutioin est de lire directement le fichier depuis le Git : \n",
    "\n",
    "```python\n",
    "df_ue = pd.read_table(\n",
    "    r\"https://raw.githubusercontent.com/fbxyz/ENSG_L1_cartostat/main/td/data/TD_Europe.csv\",\n",
    "    sep=\",\",\n",
    ") \n",
    "```"
   ]
  },
  {
   "cell_type": "code",
   "execution_count": null,
   "metadata": {
    "colab": {
     "base_uri": "https://localhost:8080/",
     "height": 655
    },
    "id": "vr0U4f0mNDmZ",
    "outputId": "d396aa35-6175-4c5b-f656-6f3b15dec4fc"
   },
   "outputs": [],
   "source": [
    "df_ue # affichage du dataframe. Si le nombre de lignes est trop importantes, seule une partie est affichée"
   ]
  },
  {
   "cell_type": "code",
   "execution_count": null,
   "metadata": {},
   "outputs": [],
   "source": []
  },
  {
   "cell_type": "markdown",
   "metadata": {
    "id": "_lC9CiNZPXNA"
   },
   "source": [
    "<div style=\"color:#bc4749\">\n",
    "    \n",
    "> Exercice : vous allez faire en sorte d'afficher uniquement les 5 premières lignes du dataframe.<br>\n",
    "  Pour cela, sélectionnez cette cellule et ajoutez une nouvelle cellule juste en dessous en appuyant sur \"B\" (Bellow). Tapez dans la nouvelle cellule : \n",
    "\n",
    "\n",
    "```python\n",
    "df_ue.head(5)\n",
    "```\n",
    "\n",
    "> Insérer la nouvelle cellule après cette ligne en sélectionnant la cellule avec la souris puis en appuyant sur B. Affichez les 6 premières lignes de df_ue\n",
    "\n",
    "</div>\n",
    "\n",
    "--- \n"
   ]
  },
  {
   "cell_type": "markdown",
   "metadata": {},
   "source": [
    "Autres commandes :\n",
    "- Pour supprimer une cellule, sélectionnez-la et appuyez sur \"X\".\n",
    "- Pour insérer une cellule au dessus de la sélection : \"A\" (Above).\n",
    "- Pour annuler l'action précédente : \"Z\"\n"
   ]
  },
  {
   "cell_type": "markdown",
   "metadata": {},
   "source": [
    "<hr style=\"height: 2px; color:  #94bd13 ; background-color:  #94bd13; width: 100%; border: none;\">\n",
    "\n",
    "# 2. Manipuler le Dataframe\n",
    "\n",
    "Vous pouvez manipuler votre dataframe facilement, comme un fichier Excel. Sauf que vous gardez une trace de vos actions."
   ]
  },
  {
   "cell_type": "markdown",
   "metadata": {},
   "source": [
    "## 2.1 Ajouter une nouvelle colonne\n",
    "Par exemple, la commande ci-dessous calcule la moyenne de l'ICF 2018 et 2019 dans une nouvelle colonne\n",
    "\n",
    "Entre crochets, on précise le nom de la nouvelle colonne :\n",
    "```python\n",
    "df_ue['moy_1819']\n",
    "```\n",
    "\n",
    "On précise la nouvelle valeur à calculer\n",
    "```python\n",
    "(df_ue['ICF_2018'] + df_ue['ICF_2019']) /2\n",
    "```"
   ]
  },
  {
   "cell_type": "code",
   "execution_count": null,
   "metadata": {},
   "outputs": [],
   "source": [
    "df_ue['moy_1819'] = (df_ue['ICF_2018'] + df_ue['ICF_2019']) /2\n",
    "df_ue.head(5)"
   ]
  },
  {
   "cell_type": "markdown",
   "metadata": {},
   "source": [
    "<div style=\"color:#bc4749\">\n",
    "\n",
    "> **Exercice** <br>\n",
    "> Dans la cellule ci-dessous, calculez le taux d'évolution de l'ICF entre 2014 et 2019. <br>\n",
    "> Nommez la nouvelle colonne de manière efficace\n",
    "    \n",
    "</div>"
   ]
  },
  {
   "cell_type": "code",
   "execution_count": null,
   "metadata": {},
   "outputs": [],
   "source": []
  },
  {
   "cell_type": "markdown",
   "metadata": {},
   "source": [
    "<hr style=\"height: 1px; color:  #a7aeae ; background-color:  #a7aeae; width: 25%; border: none;\">\n",
    "\n",
    "## 2.2 Supprimer une colonne\n",
    "Pour supprimer une colonne : \n"
   ]
  },
  {
   "cell_type": "code",
   "execution_count": null,
   "metadata": {},
   "outputs": [],
   "source": [
    "df_ue.drop(columns=['moy_1819'],inplace=True) # inplace=True permet d'appliquer directement la suppression. \n",
    "                                              # Cela revient (presque) à : df_ue = df_ue.drop(columns=['moy_1819'])\n",
    "df_ue.head(5)"
   ]
  },
  {
   "cell_type": "markdown",
   "metadata": {},
   "source": [
    "<hr style=\"height: 1px; color:  #a7aeae ; background-color:  #a7aeae; width: 25%; border: none;\">\n",
    "\n",
    "## 2.3 Filtrer un Dataframe\n",
    "- Il existe de très nombreuses fonctionnalités avec Pandas qui sont communes en base de données : regroupements, pivots etc.\n",
    "- Vous pouvez également filtrer le contenu. Par exemple, en affichant uniquement les pays dont l'ICF en 2019 > 1.7"
   ]
  },
  {
   "cell_type": "code",
   "execution_count": null,
   "metadata": {},
   "outputs": [],
   "source": [
    "df_ue.query(\"ICF_2019>1.7\")"
   ]
  },
  {
   "cell_type": "markdown",
   "metadata": {
    "tags": []
   },
   "source": [
    "<hr style=\"height: 2px; color:  #94bd13 ; background-color:  #94bd13; width: 100%; border: none;\">\n",
    "\n",
    "## 3. Graphiques univariées\n",
    "L'analyse d'un jeu de données passe par deux étapes (cf. cours) : \n",
    "1. sa représentation graphique, facile à interpréter mais subjectives\n",
    "2. le calcul de statistiques objectives, factuelles et reproductibles\n",
    "\n",
    "Pandas permet de construire rapidement des graphiques. Il s'appuie sur Matplotlib, une référence Python en matière de graphique... Mais qui demande une certaine maîtrise.\n",
    "\n",
    "Dans l'exemple ci-dessous, l'histogramme de base de l'ICF 2014 en Europe reste assez simpliste\n"
   ]
  },
  {
   "cell_type": "code",
   "execution_count": null,
   "metadata": {},
   "outputs": [],
   "source": [
    "df_ue['ICF_2014'].plot.hist(bins=6)"
   ]
  },
  {
   "cell_type": "markdown",
   "metadata": {
    "tags": []
   },
   "source": [
    "<hr style=\"height: 1px; color:  #a7aeae ; background-color:  #a7aeae; width: 25%; border: none;\">\n",
    "\n",
    "### 3.1 Histogrammes avec Seaborn"
   ]
  },
  {
   "cell_type": "markdown",
   "metadata": {},
   "source": [
    "Nous allons utiliser une autre librairie, dédiée à la représentation graphique et qui utilise aussi Matplotlib: Seaborn\n",
    "\n",
    "Notez que le résultat est assigné à une variable hist"
   ]
  },
  {
   "cell_type": "code",
   "execution_count": null,
   "metadata": {},
   "outputs": [],
   "source": [
    "import seaborn as sns\n",
    "hist = sns.displot(data=df_ue, # Le Dataframe\n",
    "                 x=\"ICF_2014\", # La colonne à utiliser\n",
    "                 bins=6, # Le nombre de classes \n",
    "                 kde=True) # Ajoute la ligne de kernel density pour mieux visualiser la forme de la distribution"
   ]
  },
  {
   "cell_type": "markdown",
   "metadata": {},
   "source": [
    "Il est possible d'ajouter des éléments au graphique en rappelant la variable hist après avoir créé le graphique"
   ]
  },
  {
   "cell_type": "code",
   "execution_count": null,
   "metadata": {},
   "outputs": [],
   "source": [
    "hist = sns.displot(data=df_ue, # Le Dataframe\n",
    "                 x=\"ICF_2014\", # La colonne à utiliser\n",
    "                 bins=6, # Le nombre de classes \n",
    "                 kde=True)\n",
    "\n",
    "hist.set(title='mon titre',\n",
    "         xlabel='mon axe des x',\n",
    "         ylabel='mon axe des y',\n",
    "         xlim = (1.1,2.1), # les limites de l'axe X\n",
    "         ylim=(0, 10)) # et de y"
   ]
  },
  {
   "cell_type": "markdown",
   "metadata": {},
   "source": [
    "<div style=\"color:#bc4749\">\n",
    "\n",
    "> **Exercice** <br> Essayez maintenant de construire dans le bloc de code ci-dessous un histogramme pour l'année 2018 <br> Mettez le en page avec un titre et des libellés x et y adéquats\n",
    "<br> Faites en sorte qu'il soit comparable au graphique 2014 précédent\n",
    "    \n",
    "</div>"
   ]
  },
  {
   "cell_type": "markdown",
   "metadata": {
    "tags": []
   },
   "source": [
    "<hr style=\"height: 1px; color:  #a7aeae ; background-color:  #a7aeae; width: 25%; border: none;\">\n",
    "\n",
    "### 3.2 Boxplots avec Seaborn\n",
    "Il est possible de réaliser d'autres graphiques dans Seaborn. Dans l'exemple du boxplot, l'ensemble du Dataframe df_ue est passé dans la fonction boxplot. Les 6 répartitions sont alors visibles"
   ]
  },
  {
   "cell_type": "code",
   "execution_count": null,
   "metadata": {},
   "outputs": [],
   "source": [
    "bp = sns.boxplot(data=df_ue)\n",
    "bp.set(title=\"Evolution de l'inndicateurs conjoncturel de fécondité\\nen Europe\") #remarquez le \\n dans le titre qui permet de faire un saut de ligne"
   ]
  },
  {
   "cell_type": "markdown",
   "metadata": {
    "tags": []
   },
   "source": [
    "<hr style=\"height: 2px; color:  #94bd13 ; background-color:  #94bd13; width: 100%; border: none;\">\n",
    "\n",
    "## 4. Statistiques univariées\n",
    "L'interprétation visuelle des graphiques n'est cependant pas suffisante. \n",
    "- En analyse de données, il convient de coupler les graphiques à des calculs statistiques\n",
    "- Qui ont l'avantage d'être factuels, objectifs et reproductibles\n",
    "\n",
    "Pandas propose des outils pour y parvenir\n"
   ]
  },
  {
   "cell_type": "markdown",
   "metadata": {},
   "source": [
    "### 4.1 Description des données\n",
    "La fonction describe d'un Dataframe Pandas donne :\n",
    "- le nombre d'individus\n",
    "- la moyenne (mean)\n",
    "- l'écart-type (std)\n",
    "- les quartiles"
   ]
  },
  {
   "cell_type": "code",
   "execution_count": null,
   "metadata": {},
   "outputs": [],
   "source": [
    "df_ue.describe()"
   ]
  },
  {
   "cell_type": "markdown",
   "metadata": {},
   "source": [
    "<hr style=\"height: 1px; color:  #a7aeae ; background-color:  #a7aeae; width: 25%; border: none;\">\n",
    "\n",
    "### 4.2 Coefficient d'asymétrie\n",
    "Vous pouvez aussi vérifier si la série est globalement symétrique\n",
    "\n",
    "- Le coefficient d'asymétrie (skew) peut être calculé pour toute les colonnes numériques\n",
    "- On constate que pour 2017 et 2018, les données semblent plutôt symétriques. \n",
    "- Mais le graphique 2018 réalisé précédemment permet de relativiser ce résultat. Avec seulement 27 individus (pays), il faut rester prudent lors de l'interprétation de ces statistiques et croiser les résultats avec vos interprétations graphiques"
   ]
  },
  {
   "cell_type": "code",
   "execution_count": null,
   "metadata": {},
   "outputs": [],
   "source": [
    "df_ue.skew(numeric_only=True) # le paramètre numeric_only=True précise que le Skew ne sera pas calculé sur les colonnes non numériques"
   ]
  },
  {
   "cell_type": "markdown",
   "metadata": {},
   "source": [
    "<hr style=\"height: 1px; color:  #a7aeae ; background-color:  #a7aeae; width: 25%; border: none;\">\n",
    "\n",
    "### 4.3 Normalité des séries\n",
    "Il serait possible de calculer le coefficient d'aplatissement de chaque série : \n",
    "\n",
    "```python\n",
    "df_ue.kurtosis(numeric_only=True)\n",
    "```\n",
    "\n",
    "Mais nous allons plutôt utiliser un test statistique pour vérifier si les données suivent une loi normale.\n",
    "\n",
    "Pour cela, vous allez utiliser un autre package très utile en statistique : scipy\n",
    "- il contient de nombreux outils statistiques et fonctionne bien avec Pandas (et plus généralement Numpy)\n",
    "- [l'aide en ligne](https://docs.scipy.org/doc/scipy/reference/generated/scipy.stats.shapiro.html) permet de trouver les outils qui vous intéressent \n",
    "- et les différentes options qui accompagnent les fonctions\n",
    "\n"
   ]
  },
  {
   "cell_type": "markdown",
   "metadata": {},
   "source": [
    "Le module stats de scipy va être importé pour nous aider à déterminer si une série suit une loi normale ou non\n",
    "- De nouveau, il faut rester prudent vis-à-vis du résultat : avec 27 individus, il sera toujours difficile de déterminer si la série suit vraiment une loi normale"
   ]
  },
  {
   "cell_type": "code",
   "execution_count": null,
   "metadata": {},
   "outputs": [],
   "source": [
    "from scipy import stats # scipy n'est pas importé complètement, seule un module qui nous intéresse est chargé : stats"
   ]
  },
  {
   "cell_type": "markdown",
   "metadata": {},
   "source": [
    "On utilise le test de Shapiro-Wilk sur les données 2018. <br>\n",
    "- La valeur statistic est difficilement interprétable seule\n",
    "- La pvalue est plus intéressante. A moins de 5% (pvalue<0.05), on peut rejeter l'hypothèse nulle et accepter H1, la distribution n'est pas normale.\n",
    "- Ici la pvalue=0.76, ce qui pourrait laisser croire que la série suit une loi normale\n",
    "- Hors les graphiques précédents laissent la place au doute. Peut-être que le test manque de puissance (27 pays)."
   ]
  },
  {
   "cell_type": "code",
   "execution_count": null,
   "metadata": {},
   "outputs": [],
   "source": [
    "stats.shapiro(df_ue['ICF_2018'])"
   ]
  },
  {
   "cell_type": "markdown",
   "metadata": {},
   "source": [
    "<hr style=\"height: 1px; color:  #a7aeae ; background-color:  #a7aeae; width: 25%; border: none;\">\n",
    "\n",
    "### 4.4 Diagramme Q-Q Plot\n",
    "Dans le doute, on utilise une dernière méthode très pratique pour vérifier la normalité d'une série : le diagramme [q-q plot](https://fr.wikipedia.org/wiki/Diagramme_quantile-quantile)\n",
    "- Il permet d'illustrer sur un graphique la position des quantiles observées par rapport à ce qu'ils devraient être en théorie s'ils suivaient une loi normale \n",
    "- Si l'observé et le théorique sont semblables, alors les observations s'alignent sur une droite : les données suivent une loi normale\n",
    "\n",
    "Une autre librairie va être chargée : statsmodels"
   ]
  },
  {
   "cell_type": "code",
   "execution_count": null,
   "metadata": {},
   "outputs": [],
   "source": [
    "import statsmodels.api as sm"
   ]
  },
  {
   "cell_type": "markdown",
   "metadata": {},
   "source": [
    "Les données 2018 ne se positionnent pas parfaitement sur la droite rouge. De nouveau, le manque de puissance rend la conclusion difficile"
   ]
  },
  {
   "cell_type": "code",
   "execution_count": null,
   "metadata": {},
   "outputs": [],
   "source": [
    "sm.qqplot(df_ue['ICF_2018'], line='s')\n",
    "plt.show()"
   ]
  },
  {
   "cell_type": "markdown",
   "metadata": {},
   "source": [
    "Voici le résultat dans le cas où on génère une série de données qui suit une loi normale :"
   ]
  },
  {
   "cell_type": "code",
   "execution_count": null,
   "metadata": {},
   "outputs": [],
   "source": [
    "import numpy as np \n",
    "\n",
    "np.random.seed(42) # Permet de conserver le même \"aléa\"\n",
    "mu, sigma = 0, 1 # moyenne à 0, écart-type à 1\n",
    "\n",
    "s = np.random.normal(mu, sigma, 200) # génération des données \n",
    "\n",
    "sm.qqplot(s, line='s')\n",
    "plt.show()"
   ]
  },
  {
   "cell_type": "markdown",
   "metadata": {},
   "source": [
    "Et pour une série qui suit une loi exponentielle :"
   ]
  },
  {
   "cell_type": "code",
   "execution_count": null,
   "metadata": {},
   "outputs": [],
   "source": [
    "s = np.random.exponential(size = 200)\n",
    "\n",
    "sm.qqplot(s, line='s')\n",
    "plt.show()"
   ]
  },
  {
   "cell_type": "markdown",
   "metadata": {},
   "source": [
    "<hr style=\"height: 1px; color:  #a7aeae ; background-color:  #a7aeae; width: 25%; border: none;\">\n",
    "\n",
    "## 5 Centrer-réduire\n",
    "\n",
    "<div style=\"color:#bc4749\">\n",
    "<blockquote>\n",
    "<b>Exercice</b> <br>\n",
    "Pour le dernier exercice de la première partie du TD, il est demandé : \n",
    "1. de centrer-réduire toutes les données de l'ICF de 2014 à 2019\n",
    "2. de comparer graphiquement les résultats obtenus, idéalement à l'aide de boxplots\n",
    "\n",
    "Pour cet exercice, vous êtes libre. Vous pouvez centrer-réduire avec un calcul pandas ou bien essayez d'utiliser \n",
    "[scipy.stats.zscore](https://docs.scipy.org/doc/scipy/reference/generated/scipy.stats.zscore.html)\n",
    "</blockquote>    \n",
    "<div style=\"color:#bc4749\">"
   ]
  },
  {
   "cell_type": "code",
   "execution_count": null,
   "metadata": {},
   "outputs": [],
   "source": []
  }
 ],
 "metadata": {
  "colab": {
   "authorship_tag": "ABX9TyOkexbfxkVCFcNqVtlGvlo+",
   "collapsed_sections": [],
   "include_colab_link": true,
   "name": "Pandas_univ.ipynb",
   "provenance": []
  },
  "kernelspec": {
   "display_name": "Python 3 (ipykernel)",
   "language": "python",
   "name": "python3"
  },
  "language_info": {
   "codemirror_mode": {
    "name": "ipython",
    "version": 3
   },
   "file_extension": ".py",
   "mimetype": "text/x-python",
   "name": "python",
   "nbconvert_exporter": "python",
   "pygments_lexer": "ipython3",
   "version": "3.11.6"
  }
 },
 "nbformat": 4,
 "nbformat_minor": 4
}
