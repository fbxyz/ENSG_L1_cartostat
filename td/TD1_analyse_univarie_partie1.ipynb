{
 "cells": [
  {
   "cell_type": "markdown",
   "metadata": {
    "id": "CLqyCoAiRKLy"
   },
   "source": [
    "<img src=\"https://upload.wikimedia.org/wikipedia/fr/thumb/9/9e/Logo_ENSG_G%C3%A9omatique_2012.svg/220px-Logo_ENSG_G%C3%A9omatique_2012.svg.png\" style=\"margin-left:auto; margin-right:auto\"/>\n"
   ]
  },
  {
   "cell_type": "markdown",
   "metadata": {
    "id": "wkgAs0oTI9gU",
    "tags": []
   },
   "source": [
    "<center> \n",
    "    <h1>ENSG : statistiques appliquées en cartographie</h1> \n",
    "    <h2>Réaliser une analyse univariée à l'aide de Python</h2> \n",
    "    <h3>Florian Bayer, janvier 2022</h3> \n",
    "</center> \n",
    "\n",
    "<hr style=\"height: 2px; color:  #94bd13 ; background-color:  #94bd13; width: 100%; border: none;\">\n",
    "\n",
    "*   L'objectif de ce TD est de réaliser une petite analyse univariée à l'aide de Python\n",
    "\n",
    "*   Cette analyse a pour but de vous faire découvrir un outil simple et gratuit pour l'analyse de données. Elle vise aussi à mieux comprendre vos données : nature, forme des distributions, signification.\n",
    "  \n",
    "*   Enfin, cette analyse vous permettra de justifier vos choix de discrétisation de manière objective\n",
    "\n",
    "Pour cela, vous allez utiliser un notebook virtuel Jupyter Lab. Il permet d'exécuter du code Python dans des cellules afin d'afficher et de partager des résultats d'analyse. Des blocs de texte Markdown permettent de commenter l'ensemble du notebook \n",
    "\n",
    "Notez qu'en Python, on ne commente jamais ligne pas ligne, mais pour des raisons pédagogiques, cela sera fait ici\n",
    "\n",
    "Les exercices prendrons cette forme : \n",
    "\n",
    "> **Exercice**\n"
   ]
  },
  {
   "cell_type": "markdown",
   "metadata": {
    "id": "nRWsycQBMx38"
   },
   "source": [
    "<hr style=\"height: 2px; color:  #94bd13 ; background-color:  #94bd13; width: 100%; border: none;\">\n",
    "\n",
    "# 1. Importation des packages et des données\n",
    "\n",
    "## 1.1 Packages\n",
    "\n",
    "- Les packages sont des outils permettant de réaliser certaines tâches facilement, sans avoir à tout coder vous même. Par exemple, lire un fichier Excel, charger un fond de carte etc.\n",
    "- Vous découvrirez par vous même des packages en fonction de vos besoins, mais pour ce TD, ils sont déjà sélectionnés\n"
   ]
  },
  {
   "cell_type": "markdown",
   "metadata": {},
   "source": [
    "#### Lancer l'importation des packages dans une cellule de code\n",
    "- Ci-dessous se trouve une cellule de code. A l'inverse de la cellule actuelle (en Markdown), elle peut exécuter du code Python dans le Notebook\n",
    "- Pour lancez une cellule de code, sélectionnez la et appuyez sur Shift+Entrée\n"
   ]
  },
  {
   "cell_type": "code",
   "execution_count": 1,
   "metadata": {
    "id": "fHvZEA5jIkch"
   },
   "outputs": [],
   "source": [
    "import pandas as pd # Pour gérer les tableaux de données (on parle de Dataframe)\n",
    "import matplotlib.pyplot as plt # pour afficher certains graphiques"
   ]
  },
  {
   "cell_type": "markdown",
   "metadata": {
    "id": "Ckxmlk_oRbOh"
   },
   "source": [
    "<hr style=\"height: 1px; color:  #a7aeae ; background-color:  #a7aeae; width: 25%; border: none;\">\n",
    "\n",
    "## 1.2 Importation des données\n",
    "\n",
    "- Vous allez importer le premier jeu de données du TD, sur l'Europe. \n",
    "- Les données sont au format CSV dans le répertoire ./data/ (visible dans la fenêtre de gauche)\n",
    "- Le CSV est formaté avec un séparateur \";\" et des décimales \",\""
   ]
  },
  {
   "cell_type": "code",
   "execution_count": 2,
   "metadata": {
    "colab": {
     "base_uri": "https://localhost:8080/",
     "height": 655
    },
    "id": "vr0U4f0mNDmZ",
    "outputId": "d396aa35-6175-4c5b-f656-6f3b15dec4fc"
   },
   "outputs": [
    {
     "data": {
      "text/html": [
       "<div>\n",
       "<style scoped>\n",
       "    .dataframe tbody tr th:only-of-type {\n",
       "        vertical-align: middle;\n",
       "    }\n",
       "\n",
       "    .dataframe tbody tr th {\n",
       "        vertical-align: top;\n",
       "    }\n",
       "\n",
       "    .dataframe thead th {\n",
       "        text-align: right;\n",
       "    }\n",
       "</style>\n",
       "<table border=\"1\" class=\"dataframe\">\n",
       "  <thead>\n",
       "    <tr style=\"text-align: right;\">\n",
       "      <th></th>\n",
       "      <th>Code</th>\n",
       "      <th>Pays</th>\n",
       "      <th>ICF_2014</th>\n",
       "      <th>ICF_2015</th>\n",
       "      <th>ICF_2016</th>\n",
       "      <th>ICF_2017</th>\n",
       "      <th>ICF_2018</th>\n",
       "      <th>ICF_2019</th>\n",
       "    </tr>\n",
       "  </thead>\n",
       "  <tbody>\n",
       "    <tr>\n",
       "      <th>0</th>\n",
       "      <td>DE</td>\n",
       "      <td>Allemagne</td>\n",
       "      <td>1.47</td>\n",
       "      <td>1.50</td>\n",
       "      <td>1.60</td>\n",
       "      <td>1.57</td>\n",
       "      <td>1.57</td>\n",
       "      <td>1.54</td>\n",
       "    </tr>\n",
       "    <tr>\n",
       "      <th>1</th>\n",
       "      <td>AT</td>\n",
       "      <td>Autriche</td>\n",
       "      <td>1.46</td>\n",
       "      <td>1.49</td>\n",
       "      <td>1.53</td>\n",
       "      <td>1.52</td>\n",
       "      <td>1.47</td>\n",
       "      <td>1.46</td>\n",
       "    </tr>\n",
       "    <tr>\n",
       "      <th>2</th>\n",
       "      <td>BE</td>\n",
       "      <td>Belgique</td>\n",
       "      <td>1.74</td>\n",
       "      <td>1.70</td>\n",
       "      <td>1.68</td>\n",
       "      <td>1.65</td>\n",
       "      <td>1.62</td>\n",
       "      <td>1.60</td>\n",
       "    </tr>\n",
       "    <tr>\n",
       "      <th>3</th>\n",
       "      <td>BG</td>\n",
       "      <td>Bulgarie</td>\n",
       "      <td>1.53</td>\n",
       "      <td>1.53</td>\n",
       "      <td>1.54</td>\n",
       "      <td>1.56</td>\n",
       "      <td>1.56</td>\n",
       "      <td>1.58</td>\n",
       "    </tr>\n",
       "    <tr>\n",
       "      <th>4</th>\n",
       "      <td>CY</td>\n",
       "      <td>Chypre</td>\n",
       "      <td>1.31</td>\n",
       "      <td>1.32</td>\n",
       "      <td>1.37</td>\n",
       "      <td>1.32</td>\n",
       "      <td>1.32</td>\n",
       "      <td>1.33</td>\n",
       "    </tr>\n",
       "    <tr>\n",
       "      <th>5</th>\n",
       "      <td>HR</td>\n",
       "      <td>Croatie</td>\n",
       "      <td>1.46</td>\n",
       "      <td>1.40</td>\n",
       "      <td>1.42</td>\n",
       "      <td>1.42</td>\n",
       "      <td>1.47</td>\n",
       "      <td>1.47</td>\n",
       "    </tr>\n",
       "    <tr>\n",
       "      <th>6</th>\n",
       "      <td>DK</td>\n",
       "      <td>Danemark</td>\n",
       "      <td>1.69</td>\n",
       "      <td>1.71</td>\n",
       "      <td>1.79</td>\n",
       "      <td>1.75</td>\n",
       "      <td>1.73</td>\n",
       "      <td>1.70</td>\n",
       "    </tr>\n",
       "    <tr>\n",
       "      <th>7</th>\n",
       "      <td>ES</td>\n",
       "      <td>Espagne</td>\n",
       "      <td>1.32</td>\n",
       "      <td>1.33</td>\n",
       "      <td>1.34</td>\n",
       "      <td>1.31</td>\n",
       "      <td>1.26</td>\n",
       "      <td>1.23</td>\n",
       "    </tr>\n",
       "    <tr>\n",
       "      <th>8</th>\n",
       "      <td>EE</td>\n",
       "      <td>Estonie</td>\n",
       "      <td>1.54</td>\n",
       "      <td>1.58</td>\n",
       "      <td>1.60</td>\n",
       "      <td>1.59</td>\n",
       "      <td>1.67</td>\n",
       "      <td>1.66</td>\n",
       "    </tr>\n",
       "    <tr>\n",
       "      <th>9</th>\n",
       "      <td>FI</td>\n",
       "      <td>Finlande</td>\n",
       "      <td>1.71</td>\n",
       "      <td>1.65</td>\n",
       "      <td>1.57</td>\n",
       "      <td>1.49</td>\n",
       "      <td>1.41</td>\n",
       "      <td>1.35</td>\n",
       "    </tr>\n",
       "    <tr>\n",
       "      <th>10</th>\n",
       "      <td>FR</td>\n",
       "      <td>France</td>\n",
       "      <td>2.00</td>\n",
       "      <td>1.96</td>\n",
       "      <td>1.93</td>\n",
       "      <td>1.89</td>\n",
       "      <td>1.87</td>\n",
       "      <td>1.86</td>\n",
       "    </tr>\n",
       "    <tr>\n",
       "      <th>11</th>\n",
       "      <td>EL</td>\n",
       "      <td>Grèce</td>\n",
       "      <td>1.30</td>\n",
       "      <td>1.33</td>\n",
       "      <td>1.38</td>\n",
       "      <td>1.35</td>\n",
       "      <td>1.35</td>\n",
       "      <td>1.34</td>\n",
       "    </tr>\n",
       "    <tr>\n",
       "      <th>12</th>\n",
       "      <td>HU</td>\n",
       "      <td>Hongrie</td>\n",
       "      <td>1.44</td>\n",
       "      <td>1.45</td>\n",
       "      <td>1.53</td>\n",
       "      <td>1.54</td>\n",
       "      <td>1.55</td>\n",
       "      <td>1.55</td>\n",
       "    </tr>\n",
       "    <tr>\n",
       "      <th>13</th>\n",
       "      <td>IE</td>\n",
       "      <td>Irlande</td>\n",
       "      <td>1.89</td>\n",
       "      <td>1.85</td>\n",
       "      <td>1.81</td>\n",
       "      <td>1.77</td>\n",
       "      <td>1.75</td>\n",
       "      <td>1.71</td>\n",
       "    </tr>\n",
       "    <tr>\n",
       "      <th>14</th>\n",
       "      <td>IT</td>\n",
       "      <td>Italie</td>\n",
       "      <td>1.37</td>\n",
       "      <td>1.35</td>\n",
       "      <td>1.34</td>\n",
       "      <td>1.32</td>\n",
       "      <td>1.29</td>\n",
       "      <td>1.27</td>\n",
       "    </tr>\n",
       "    <tr>\n",
       "      <th>15</th>\n",
       "      <td>LV</td>\n",
       "      <td>Lettonie</td>\n",
       "      <td>1.65</td>\n",
       "      <td>1.70</td>\n",
       "      <td>1.74</td>\n",
       "      <td>1.69</td>\n",
       "      <td>1.60</td>\n",
       "      <td>1.61</td>\n",
       "    </tr>\n",
       "    <tr>\n",
       "      <th>16</th>\n",
       "      <td>LT</td>\n",
       "      <td>Lituanie</td>\n",
       "      <td>1.63</td>\n",
       "      <td>1.70</td>\n",
       "      <td>1.69</td>\n",
       "      <td>1.63</td>\n",
       "      <td>1.63</td>\n",
       "      <td>1.61</td>\n",
       "    </tr>\n",
       "    <tr>\n",
       "      <th>17</th>\n",
       "      <td>LU</td>\n",
       "      <td>Luxembourg</td>\n",
       "      <td>1.50</td>\n",
       "      <td>1.47</td>\n",
       "      <td>1.41</td>\n",
       "      <td>1.39</td>\n",
       "      <td>1.38</td>\n",
       "      <td>1.34</td>\n",
       "    </tr>\n",
       "    <tr>\n",
       "      <th>18</th>\n",
       "      <td>MT</td>\n",
       "      <td>Malte</td>\n",
       "      <td>1.38</td>\n",
       "      <td>1.37</td>\n",
       "      <td>1.37</td>\n",
       "      <td>1.26</td>\n",
       "      <td>1.23</td>\n",
       "      <td>1.14</td>\n",
       "    </tr>\n",
       "    <tr>\n",
       "      <th>19</th>\n",
       "      <td>NL</td>\n",
       "      <td>Pays-Bas</td>\n",
       "      <td>1.71</td>\n",
       "      <td>1.66</td>\n",
       "      <td>1.66</td>\n",
       "      <td>1.62</td>\n",
       "      <td>1.59</td>\n",
       "      <td>1.57</td>\n",
       "    </tr>\n",
       "    <tr>\n",
       "      <th>20</th>\n",
       "      <td>PL</td>\n",
       "      <td>Pologne</td>\n",
       "      <td>1.32</td>\n",
       "      <td>1.32</td>\n",
       "      <td>1.39</td>\n",
       "      <td>1.48</td>\n",
       "      <td>1.46</td>\n",
       "      <td>1.44</td>\n",
       "    </tr>\n",
       "    <tr>\n",
       "      <th>21</th>\n",
       "      <td>PT</td>\n",
       "      <td>Portugal</td>\n",
       "      <td>1.23</td>\n",
       "      <td>1.31</td>\n",
       "      <td>1.36</td>\n",
       "      <td>1.38</td>\n",
       "      <td>1.42</td>\n",
       "      <td>1.43</td>\n",
       "    </tr>\n",
       "    <tr>\n",
       "      <th>22</th>\n",
       "      <td>CZ</td>\n",
       "      <td>Tchéquie</td>\n",
       "      <td>1.53</td>\n",
       "      <td>1.57</td>\n",
       "      <td>1.63</td>\n",
       "      <td>1.69</td>\n",
       "      <td>1.71</td>\n",
       "      <td>1.71</td>\n",
       "    </tr>\n",
       "    <tr>\n",
       "      <th>23</th>\n",
       "      <td>RO</td>\n",
       "      <td>Roumanie</td>\n",
       "      <td>1.56</td>\n",
       "      <td>1.62</td>\n",
       "      <td>1.69</td>\n",
       "      <td>1.78</td>\n",
       "      <td>1.76</td>\n",
       "      <td>1.77</td>\n",
       "    </tr>\n",
       "    <tr>\n",
       "      <th>24</th>\n",
       "      <td>SK</td>\n",
       "      <td>Slovaquie</td>\n",
       "      <td>1.37</td>\n",
       "      <td>1.40</td>\n",
       "      <td>1.48</td>\n",
       "      <td>1.52</td>\n",
       "      <td>1.54</td>\n",
       "      <td>1.57</td>\n",
       "    </tr>\n",
       "    <tr>\n",
       "      <th>25</th>\n",
       "      <td>SI</td>\n",
       "      <td>Slovénie</td>\n",
       "      <td>1.58</td>\n",
       "      <td>1.57</td>\n",
       "      <td>1.58</td>\n",
       "      <td>1.62</td>\n",
       "      <td>1.60</td>\n",
       "      <td>1.61</td>\n",
       "    </tr>\n",
       "    <tr>\n",
       "      <th>26</th>\n",
       "      <td>SE</td>\n",
       "      <td>Suède</td>\n",
       "      <td>1.88</td>\n",
       "      <td>1.85</td>\n",
       "      <td>1.85</td>\n",
       "      <td>1.78</td>\n",
       "      <td>1.76</td>\n",
       "      <td>1.71</td>\n",
       "    </tr>\n",
       "  </tbody>\n",
       "</table>\n",
       "</div>"
      ],
      "text/plain": [
       "   Code        Pays  ICF_2014  ICF_2015  ICF_2016  ICF_2017  ICF_2018  \\\n",
       "0    DE   Allemagne      1.47      1.50      1.60      1.57      1.57   \n",
       "1    AT    Autriche      1.46      1.49      1.53      1.52      1.47   \n",
       "2    BE    Belgique      1.74      1.70      1.68      1.65      1.62   \n",
       "3    BG    Bulgarie      1.53      1.53      1.54      1.56      1.56   \n",
       "4    CY      Chypre      1.31      1.32      1.37      1.32      1.32   \n",
       "5    HR     Croatie      1.46      1.40      1.42      1.42      1.47   \n",
       "6    DK    Danemark      1.69      1.71      1.79      1.75      1.73   \n",
       "7    ES     Espagne      1.32      1.33      1.34      1.31      1.26   \n",
       "8    EE     Estonie      1.54      1.58      1.60      1.59      1.67   \n",
       "9    FI    Finlande      1.71      1.65      1.57      1.49      1.41   \n",
       "10   FR      France      2.00      1.96      1.93      1.89      1.87   \n",
       "11   EL       Grèce      1.30      1.33      1.38      1.35      1.35   \n",
       "12   HU     Hongrie      1.44      1.45      1.53      1.54      1.55   \n",
       "13   IE     Irlande      1.89      1.85      1.81      1.77      1.75   \n",
       "14   IT      Italie      1.37      1.35      1.34      1.32      1.29   \n",
       "15   LV    Lettonie      1.65      1.70      1.74      1.69      1.60   \n",
       "16   LT    Lituanie      1.63      1.70      1.69      1.63      1.63   \n",
       "17   LU  Luxembourg      1.50      1.47      1.41      1.39      1.38   \n",
       "18   MT       Malte      1.38      1.37      1.37      1.26      1.23   \n",
       "19   NL    Pays-Bas      1.71      1.66      1.66      1.62      1.59   \n",
       "20   PL     Pologne      1.32      1.32      1.39      1.48      1.46   \n",
       "21   PT    Portugal      1.23      1.31      1.36      1.38      1.42   \n",
       "22   CZ    Tchéquie      1.53      1.57      1.63      1.69      1.71   \n",
       "23   RO    Roumanie      1.56      1.62      1.69      1.78      1.76   \n",
       "24   SK   Slovaquie      1.37      1.40      1.48      1.52      1.54   \n",
       "25   SI    Slovénie      1.58      1.57      1.58      1.62      1.60   \n",
       "26   SE       Suède      1.88      1.85      1.85      1.78      1.76   \n",
       "\n",
       "    ICF_2019  \n",
       "0       1.54  \n",
       "1       1.46  \n",
       "2       1.60  \n",
       "3       1.58  \n",
       "4       1.33  \n",
       "5       1.47  \n",
       "6       1.70  \n",
       "7       1.23  \n",
       "8       1.66  \n",
       "9       1.35  \n",
       "10      1.86  \n",
       "11      1.34  \n",
       "12      1.55  \n",
       "13      1.71  \n",
       "14      1.27  \n",
       "15      1.61  \n",
       "16      1.61  \n",
       "17      1.34  \n",
       "18      1.14  \n",
       "19      1.57  \n",
       "20      1.44  \n",
       "21      1.43  \n",
       "22      1.71  \n",
       "23      1.77  \n",
       "24      1.57  \n",
       "25      1.61  \n",
       "26      1.71  "
      ]
     },
     "execution_count": 2,
     "metadata": {},
     "output_type": "execute_result"
    }
   ],
   "source": [
    "df_ue = pd.read_csv(\"./data/TD_Europe.csv\", decimal=\",\", sep=\";\") # charge avec Pandas le csv TD_Europe.csv dans la variable df_ue\n",
    "df_ue # affichage du dataframe. Si le nombre de lignes est trop importantes, seule une partie est affichée"
   ]
  },
  {
   "cell_type": "markdown",
   "metadata": {
    "id": "_lC9CiNZPXNA"
   },
   "source": [
    "> Exercice : vous allez faire en sorte d'afficher uniquement les 5 premières lignes du dataframe.<br>\n",
    "  Pour cela, sélectionnez cette cellule et ajoutez une nouvelle cellule juste en dessous en appuyant sur \"B\" (Bellow). Tapez dans la nouvelle cellule : \n",
    "\n",
    "\n",
    "```python\n",
    "df_ue.head(5)\n",
    "```\n",
    "\n",
    "> Insérer la nouvelle cellule après cette ligne en sélectionnant la cellule avec la souris puis en appuyant sur B. Affichez les 6 premières lignes de df_ue\n",
    "\n",
    "--- \n"
   ]
  },
  {
   "cell_type": "markdown",
   "metadata": {},
   "source": [
    "Autres commandes :\n",
    "- Pour supprimer une cellule, sélectionnez-la et appuyez sur \"X\".\n",
    "- Pour insérer une cellule au dessus de la sélection : \"A\" (Above).\n",
    "- Pour annuler l'action précédente : \"Z\"\n"
   ]
  },
  {
   "cell_type": "markdown",
   "metadata": {},
   "source": [
    "<hr style=\"height: 2px; color:  #94bd13 ; background-color:  #94bd13; width: 100%; border: none;\">\n",
    "\n",
    "# 2. Manipuler le Dataframe\n",
    "\n",
    "Vous pouvez manipuler votre dataframe facilement, comme un fichier Excel. Sauf que vous gardez une trace de vos actions."
   ]
  },
  {
   "cell_type": "markdown",
   "metadata": {},
   "source": [
    "## 2.1 Ajouter une nouvelle colonne\n",
    "Par exemple, la commande ci-dessous calcule la moyenne de l'ICF 2018 et 2019 dans une nouvelle colonne\n",
    "\n",
    "Entre crochets, on précise le nom de la nouvelle colonne :\n",
    "```python\n",
    "df_ue['moy_1819']\n",
    "```\n",
    "\n",
    "On précise la nouvelle valeur à calculer\n",
    "```python\n",
    "(df_ue['ICF_2018'] + df_ue['ICF_2019']) /2\n",
    "```"
   ]
  },
  {
   "cell_type": "code",
   "execution_count": 3,
   "metadata": {},
   "outputs": [
    {
     "data": {
      "text/html": [
       "<div>\n",
       "<style scoped>\n",
       "    .dataframe tbody tr th:only-of-type {\n",
       "        vertical-align: middle;\n",
       "    }\n",
       "\n",
       "    .dataframe tbody tr th {\n",
       "        vertical-align: top;\n",
       "    }\n",
       "\n",
       "    .dataframe thead th {\n",
       "        text-align: right;\n",
       "    }\n",
       "</style>\n",
       "<table border=\"1\" class=\"dataframe\">\n",
       "  <thead>\n",
       "    <tr style=\"text-align: right;\">\n",
       "      <th></th>\n",
       "      <th>Code</th>\n",
       "      <th>Pays</th>\n",
       "      <th>ICF_2014</th>\n",
       "      <th>ICF_2015</th>\n",
       "      <th>ICF_2016</th>\n",
       "      <th>ICF_2017</th>\n",
       "      <th>ICF_2018</th>\n",
       "      <th>ICF_2019</th>\n",
       "      <th>moy_1819</th>\n",
       "    </tr>\n",
       "  </thead>\n",
       "  <tbody>\n",
       "    <tr>\n",
       "      <th>0</th>\n",
       "      <td>DE</td>\n",
       "      <td>Allemagne</td>\n",
       "      <td>1.47</td>\n",
       "      <td>1.50</td>\n",
       "      <td>1.60</td>\n",
       "      <td>1.57</td>\n",
       "      <td>1.57</td>\n",
       "      <td>1.54</td>\n",
       "      <td>1.555</td>\n",
       "    </tr>\n",
       "    <tr>\n",
       "      <th>1</th>\n",
       "      <td>AT</td>\n",
       "      <td>Autriche</td>\n",
       "      <td>1.46</td>\n",
       "      <td>1.49</td>\n",
       "      <td>1.53</td>\n",
       "      <td>1.52</td>\n",
       "      <td>1.47</td>\n",
       "      <td>1.46</td>\n",
       "      <td>1.465</td>\n",
       "    </tr>\n",
       "    <tr>\n",
       "      <th>2</th>\n",
       "      <td>BE</td>\n",
       "      <td>Belgique</td>\n",
       "      <td>1.74</td>\n",
       "      <td>1.70</td>\n",
       "      <td>1.68</td>\n",
       "      <td>1.65</td>\n",
       "      <td>1.62</td>\n",
       "      <td>1.60</td>\n",
       "      <td>1.610</td>\n",
       "    </tr>\n",
       "    <tr>\n",
       "      <th>3</th>\n",
       "      <td>BG</td>\n",
       "      <td>Bulgarie</td>\n",
       "      <td>1.53</td>\n",
       "      <td>1.53</td>\n",
       "      <td>1.54</td>\n",
       "      <td>1.56</td>\n",
       "      <td>1.56</td>\n",
       "      <td>1.58</td>\n",
       "      <td>1.570</td>\n",
       "    </tr>\n",
       "    <tr>\n",
       "      <th>4</th>\n",
       "      <td>CY</td>\n",
       "      <td>Chypre</td>\n",
       "      <td>1.31</td>\n",
       "      <td>1.32</td>\n",
       "      <td>1.37</td>\n",
       "      <td>1.32</td>\n",
       "      <td>1.32</td>\n",
       "      <td>1.33</td>\n",
       "      <td>1.325</td>\n",
       "    </tr>\n",
       "  </tbody>\n",
       "</table>\n",
       "</div>"
      ],
      "text/plain": [
       "  Code       Pays  ICF_2014  ICF_2015  ICF_2016  ICF_2017  ICF_2018  ICF_2019  \\\n",
       "0   DE  Allemagne      1.47      1.50      1.60      1.57      1.57      1.54   \n",
       "1   AT   Autriche      1.46      1.49      1.53      1.52      1.47      1.46   \n",
       "2   BE   Belgique      1.74      1.70      1.68      1.65      1.62      1.60   \n",
       "3   BG   Bulgarie      1.53      1.53      1.54      1.56      1.56      1.58   \n",
       "4   CY     Chypre      1.31      1.32      1.37      1.32      1.32      1.33   \n",
       "\n",
       "   moy_1819  \n",
       "0     1.555  \n",
       "1     1.465  \n",
       "2     1.610  \n",
       "3     1.570  \n",
       "4     1.325  "
      ]
     },
     "execution_count": 3,
     "metadata": {},
     "output_type": "execute_result"
    }
   ],
   "source": [
    "df_ue['moy_1819'] = (df_ue['ICF_2018'] + df_ue['ICF_2019']) /2\n",
    "df_ue.head(5)"
   ]
  },
  {
   "cell_type": "markdown",
   "metadata": {},
   "source": [
    "> **Exercice** <br>\n",
    "> Dans la cellule ci-dessous, calculez le taux d'évolution de l'ICF entre 2014 et 2019. <br>\n",
    "> Nommez la nouvelle colonne de manière efficace"
   ]
  },
  {
   "cell_type": "code",
   "execution_count": null,
   "metadata": {},
   "outputs": [],
   "source": []
  },
  {
   "cell_type": "markdown",
   "metadata": {},
   "source": [
    "<hr style=\"height: 1px; color:  #a7aeae ; background-color:  #a7aeae; width: 25%; border: none;\">\n",
    "\n",
    "## 2.2 Supprimer une colonne\n",
    "Pour supprimer une colonne : \n"
   ]
  },
  {
   "cell_type": "code",
   "execution_count": 4,
   "metadata": {},
   "outputs": [
    {
     "data": {
      "text/html": [
       "<div>\n",
       "<style scoped>\n",
       "    .dataframe tbody tr th:only-of-type {\n",
       "        vertical-align: middle;\n",
       "    }\n",
       "\n",
       "    .dataframe tbody tr th {\n",
       "        vertical-align: top;\n",
       "    }\n",
       "\n",
       "    .dataframe thead th {\n",
       "        text-align: right;\n",
       "    }\n",
       "</style>\n",
       "<table border=\"1\" class=\"dataframe\">\n",
       "  <thead>\n",
       "    <tr style=\"text-align: right;\">\n",
       "      <th></th>\n",
       "      <th>Code</th>\n",
       "      <th>Pays</th>\n",
       "      <th>ICF_2014</th>\n",
       "      <th>ICF_2015</th>\n",
       "      <th>ICF_2016</th>\n",
       "      <th>ICF_2017</th>\n",
       "      <th>ICF_2018</th>\n",
       "      <th>ICF_2019</th>\n",
       "    </tr>\n",
       "  </thead>\n",
       "  <tbody>\n",
       "    <tr>\n",
       "      <th>0</th>\n",
       "      <td>DE</td>\n",
       "      <td>Allemagne</td>\n",
       "      <td>1.47</td>\n",
       "      <td>1.50</td>\n",
       "      <td>1.60</td>\n",
       "      <td>1.57</td>\n",
       "      <td>1.57</td>\n",
       "      <td>1.54</td>\n",
       "    </tr>\n",
       "    <tr>\n",
       "      <th>1</th>\n",
       "      <td>AT</td>\n",
       "      <td>Autriche</td>\n",
       "      <td>1.46</td>\n",
       "      <td>1.49</td>\n",
       "      <td>1.53</td>\n",
       "      <td>1.52</td>\n",
       "      <td>1.47</td>\n",
       "      <td>1.46</td>\n",
       "    </tr>\n",
       "    <tr>\n",
       "      <th>2</th>\n",
       "      <td>BE</td>\n",
       "      <td>Belgique</td>\n",
       "      <td>1.74</td>\n",
       "      <td>1.70</td>\n",
       "      <td>1.68</td>\n",
       "      <td>1.65</td>\n",
       "      <td>1.62</td>\n",
       "      <td>1.60</td>\n",
       "    </tr>\n",
       "    <tr>\n",
       "      <th>3</th>\n",
       "      <td>BG</td>\n",
       "      <td>Bulgarie</td>\n",
       "      <td>1.53</td>\n",
       "      <td>1.53</td>\n",
       "      <td>1.54</td>\n",
       "      <td>1.56</td>\n",
       "      <td>1.56</td>\n",
       "      <td>1.58</td>\n",
       "    </tr>\n",
       "    <tr>\n",
       "      <th>4</th>\n",
       "      <td>CY</td>\n",
       "      <td>Chypre</td>\n",
       "      <td>1.31</td>\n",
       "      <td>1.32</td>\n",
       "      <td>1.37</td>\n",
       "      <td>1.32</td>\n",
       "      <td>1.32</td>\n",
       "      <td>1.33</td>\n",
       "    </tr>\n",
       "  </tbody>\n",
       "</table>\n",
       "</div>"
      ],
      "text/plain": [
       "  Code       Pays  ICF_2014  ICF_2015  ICF_2016  ICF_2017  ICF_2018  ICF_2019\n",
       "0   DE  Allemagne      1.47      1.50      1.60      1.57      1.57      1.54\n",
       "1   AT   Autriche      1.46      1.49      1.53      1.52      1.47      1.46\n",
       "2   BE   Belgique      1.74      1.70      1.68      1.65      1.62      1.60\n",
       "3   BG   Bulgarie      1.53      1.53      1.54      1.56      1.56      1.58\n",
       "4   CY     Chypre      1.31      1.32      1.37      1.32      1.32      1.33"
      ]
     },
     "execution_count": 4,
     "metadata": {},
     "output_type": "execute_result"
    }
   ],
   "source": [
    "df_ue.drop(columns=['moy_1819'],inplace=True) # inplace=True permet d'appliquer directement la suppression. \n",
    "                                              # Cela revient (presque) à : df_ue = df_ue.drop(columns=['moy_1819'])\n",
    "df_ue.head(5)"
   ]
  },
  {
   "cell_type": "markdown",
   "metadata": {},
   "source": [
    "<hr style=\"height: 1px; color:  #a7aeae ; background-color:  #a7aeae; width: 25%; border: none;\">\n",
    "\n",
    "## 2.3 Filtrer un Dataframe\n",
    "- Il existe de très nombreuses fonctionnalités avec Pandas qui sont communes en base de données : regroupements, pivots etc.\n",
    "- Vous pouvez également filtrer le contenu. Par exemple, en affichant uniquement les pays dont l'ICF en 2019 > 1.7"
   ]
  },
  {
   "cell_type": "code",
   "execution_count": 5,
   "metadata": {},
   "outputs": [
    {
     "data": {
      "text/html": [
       "<div>\n",
       "<style scoped>\n",
       "    .dataframe tbody tr th:only-of-type {\n",
       "        vertical-align: middle;\n",
       "    }\n",
       "\n",
       "    .dataframe tbody tr th {\n",
       "        vertical-align: top;\n",
       "    }\n",
       "\n",
       "    .dataframe thead th {\n",
       "        text-align: right;\n",
       "    }\n",
       "</style>\n",
       "<table border=\"1\" class=\"dataframe\">\n",
       "  <thead>\n",
       "    <tr style=\"text-align: right;\">\n",
       "      <th></th>\n",
       "      <th>Code</th>\n",
       "      <th>Pays</th>\n",
       "      <th>ICF_2014</th>\n",
       "      <th>ICF_2015</th>\n",
       "      <th>ICF_2016</th>\n",
       "      <th>ICF_2017</th>\n",
       "      <th>ICF_2018</th>\n",
       "      <th>ICF_2019</th>\n",
       "    </tr>\n",
       "  </thead>\n",
       "  <tbody>\n",
       "    <tr>\n",
       "      <th>10</th>\n",
       "      <td>FR</td>\n",
       "      <td>France</td>\n",
       "      <td>2.00</td>\n",
       "      <td>1.96</td>\n",
       "      <td>1.93</td>\n",
       "      <td>1.89</td>\n",
       "      <td>1.87</td>\n",
       "      <td>1.86</td>\n",
       "    </tr>\n",
       "    <tr>\n",
       "      <th>13</th>\n",
       "      <td>IE</td>\n",
       "      <td>Irlande</td>\n",
       "      <td>1.89</td>\n",
       "      <td>1.85</td>\n",
       "      <td>1.81</td>\n",
       "      <td>1.77</td>\n",
       "      <td>1.75</td>\n",
       "      <td>1.71</td>\n",
       "    </tr>\n",
       "    <tr>\n",
       "      <th>22</th>\n",
       "      <td>CZ</td>\n",
       "      <td>Tchéquie</td>\n",
       "      <td>1.53</td>\n",
       "      <td>1.57</td>\n",
       "      <td>1.63</td>\n",
       "      <td>1.69</td>\n",
       "      <td>1.71</td>\n",
       "      <td>1.71</td>\n",
       "    </tr>\n",
       "    <tr>\n",
       "      <th>23</th>\n",
       "      <td>RO</td>\n",
       "      <td>Roumanie</td>\n",
       "      <td>1.56</td>\n",
       "      <td>1.62</td>\n",
       "      <td>1.69</td>\n",
       "      <td>1.78</td>\n",
       "      <td>1.76</td>\n",
       "      <td>1.77</td>\n",
       "    </tr>\n",
       "    <tr>\n",
       "      <th>26</th>\n",
       "      <td>SE</td>\n",
       "      <td>Suède</td>\n",
       "      <td>1.88</td>\n",
       "      <td>1.85</td>\n",
       "      <td>1.85</td>\n",
       "      <td>1.78</td>\n",
       "      <td>1.76</td>\n",
       "      <td>1.71</td>\n",
       "    </tr>\n",
       "  </tbody>\n",
       "</table>\n",
       "</div>"
      ],
      "text/plain": [
       "   Code      Pays  ICF_2014  ICF_2015  ICF_2016  ICF_2017  ICF_2018  ICF_2019\n",
       "10   FR    France      2.00      1.96      1.93      1.89      1.87      1.86\n",
       "13   IE   Irlande      1.89      1.85      1.81      1.77      1.75      1.71\n",
       "22   CZ  Tchéquie      1.53      1.57      1.63      1.69      1.71      1.71\n",
       "23   RO  Roumanie      1.56      1.62      1.69      1.78      1.76      1.77\n",
       "26   SE     Suède      1.88      1.85      1.85      1.78      1.76      1.71"
      ]
     },
     "execution_count": 5,
     "metadata": {},
     "output_type": "execute_result"
    }
   ],
   "source": [
    "df_ue.query(\"ICF_2019>1.7\")"
   ]
  },
  {
   "cell_type": "markdown",
   "metadata": {
    "tags": []
   },
   "source": [
    "<hr style=\"height: 2px; color:  #94bd13 ; background-color:  #94bd13; width: 100%; border: none;\">\n",
    "\n",
    "## 3. Graphiques univariées\n",
    "L'analyse d'un jeu de données passe par deux étapes (cf. cours) : \n",
    "1. sa représentation graphique, facile à interpréter mais subjectives\n",
    "2. le calcul de statistiques objectives, factuelles et reproductibles\n",
    "\n",
    "Pandas permet de construire rapidement des graphiques. Il s'appuie sur Matplotlib, une référence Python en matière de graphique... Mais qui demande une certaine maîtrise.\n",
    "\n",
    "Dans l'exemple ci-dessous, l'histogramme de base de l'ICF 2014 en Europe reste assez simpliste\n"
   ]
  },
  {
   "cell_type": "code",
   "execution_count": 6,
   "metadata": {},
   "outputs": [
    {
     "data": {
      "text/plain": [
       "<AxesSubplot:ylabel='Frequency'>"
      ]
     },
     "execution_count": 6,
     "metadata": {},
     "output_type": "execute_result"
    },
    {
     "data": {
      "image/png": "[encoded data removed]",
      "text/plain": [
       "<Figure size 432x288 with 1 Axes>"
      ]
     },
     "metadata": {
      "needs_background": "light"
     },
     "output_type": "display_data"
    }
   ],
   "source": [
    "df_ue['ICF_2014'].plot.hist(bins=6)"
   ]
  },
  {
   "cell_type": "markdown",
   "metadata": {
    "tags": []
   },
   "source": [
    "<hr style=\"height: 1px; color:  #a7aeae ; background-color:  #a7aeae; width: 25%; border: none;\">\n",
    "\n",
    "### 3.1 Histogrammes avec Seaborn"
   ]
  },
  {
   "cell_type": "markdown",
   "metadata": {},
   "source": [
    "Nous allons utiliser une autre librairie, dédiée à la représentation graphique et qui utilise aussi Matplotlib: Seaborn\n",
    "\n",
    "Notez que le résultat est assigné à une variable hist"
   ]
  },
  {
   "cell_type": "code",
   "execution_count": 7,
   "metadata": {},
   "outputs": [
    {
     "data": {
      "image/png": "[encoded data removed]",
      "text/plain": [
       "<Figure size 360x360 with 1 Axes>"
      ]
     },
     "metadata": {
      "needs_background": "light"
     },
     "output_type": "display_data"
    }
   ],
   "source": [
    "import seaborn as sns\n",
    "hist = sns.displot(data=df_ue, # Le Dataframe\n",
    "                 x=\"ICF_2014\", # La colonne à utiliser\n",
    "                 bins=6, # Le nombre de classes \n",
    "                 kde=True) # Ajoute la ligne de kernel density pour mieux visualiser la forme de la distribution"
   ]
  },
  {
   "cell_type": "markdown",
   "metadata": {},
   "source": [
    "Il est possible d'ajouter des éléments au graphique en rappelant la variable hist après avoir créé le graphique"
   ]
  },
  {
   "cell_type": "code",
   "execution_count": 8,
   "metadata": {},
   "outputs": [
    {
     "data": {
      "text/plain": [
       "<seaborn.axisgrid.FacetGrid at 0x2dd6faa2850>"
      ]
     },
     "execution_count": 8,
     "metadata": {},
     "output_type": "execute_result"
    },
    {
     "data": {
      "image/png": "[encoded data removed]",
      "text/plain": [
       "<Figure size 360x360 with 1 Axes>"
      ]
     },
     "metadata": {
      "needs_background": "light"
     },
     "output_type": "display_data"
    }
   ],
   "source": [
    "hist = sns.displot(data=df_ue, # Le Dataframe\n",
    "                 x=\"ICF_2014\", # La colonne à utiliser\n",
    "                 bins=6, # Le nombre de classes \n",
    "                 kde=True)\n",
    "\n",
    "hist.set(title='mon titre',\n",
    "         xlabel='mon axe des x',\n",
    "         ylabel='mon axe des y',\n",
    "         xlim = (1.1,2.1), # les limites de l'axe X\n",
    "         ylim=(0, 10)) # et de y"
   ]
  },
  {
   "cell_type": "markdown",
   "metadata": {},
   "source": [
    "> **Exercice** <br> Essayez maintenant de construire dans le bloc de code ci-dessous un histogramme pour l'année 2018 <br> Mettez le en page avec un titre et des libellés x et y adéquats\n",
    "<br> Faites en sorte qu'il soit comparable au graphique 2014 précédent"
   ]
  },
  {
   "cell_type": "markdown",
   "metadata": {
    "tags": []
   },
   "source": [
    "<hr style=\"height: 1px; color:  #a7aeae ; background-color:  #a7aeae; width: 25%; border: none;\">\n",
    "\n",
    "### 3.2 Boxplots avec Seaborn\n",
    "Il est possible de réaliser d'autres graphiques dans Seaborn. Dans l'exemple du boxplot, l'ensemble du Dataframe df_ue est passé dans la fonction boxplot. Les 6 répartitions sont alors visibles"
   ]
  },
  {
   "cell_type": "code",
   "execution_count": 9,
   "metadata": {},
   "outputs": [
    {
     "data": {
      "text/plain": [
       "[Text(0.5, 1.0, \"Evolution de l'inndicateurs conjoncturel de fécondité\\nen Europe\")]"
      ]
     },
     "execution_count": 9,
     "metadata": {},
     "output_type": "execute_result"
    },
    {
     "data": {
      "image/png": "[encoded data removed]",
      "text/plain": [
       "<Figure size 432x288 with 1 Axes>"
      ]
     },
     "metadata": {
      "needs_background": "light"
     },
     "output_type": "display_data"
    }
   ],
   "source": [
    "bp = sns.boxplot(data=df_ue)\n",
    "bp.set(title=\"Evolution de l'inndicateurs conjoncturel de fécondité\\nen Europe\") #remarquez le \\n dans le titre qui permet de faire un saut de ligne"
   ]
  },
  {
   "cell_type": "markdown",
   "metadata": {
    "tags": []
   },
   "source": [
    "<hr style=\"height: 2px; color:  #94bd13 ; background-color:  #94bd13; width: 100%; border: none;\">\n",
    "\n",
    "## 4. Statistiques univariées\n",
    "L'interprétation visuelle des graphiques n'est cependant pas suffisante. \n",
    "- En analyse de données, il convient de coupler les graphiques à des calculs statistiques\n",
    "- Qui ont l'avantage d'être factuels, objectifs et reproductibles\n",
    "\n",
    "Pandas propose des outils pour y parvenir\n"
   ]
  },
  {
   "cell_type": "markdown",
   "metadata": {},
   "source": [
    "### 4.1 Description des données\n",
    "La fonction describe d'un Dataframe Pandas donne :\n",
    "- le nombre d'individus\n",
    "- la moyenne (mean)\n",
    "- l'écart-type (std)\n",
    "- les quartiles"
   ]
  },
  {
   "cell_type": "code",
   "execution_count": 10,
   "metadata": {},
   "outputs": [
    {
     "data": {
      "text/html": [
       "<div>\n",
       "<style scoped>\n",
       "    .dataframe tbody tr th:only-of-type {\n",
       "        vertical-align: middle;\n",
       "    }\n",
       "\n",
       "    .dataframe tbody tr th {\n",
       "        vertical-align: top;\n",
       "    }\n",
       "\n",
       "    .dataframe thead th {\n",
       "        text-align: right;\n",
       "    }\n",
       "</style>\n",
       "<table border=\"1\" class=\"dataframe\">\n",
       "  <thead>\n",
       "    <tr style=\"text-align: right;\">\n",
       "      <th></th>\n",
       "      <th>ICF_2014</th>\n",
       "      <th>ICF_2015</th>\n",
       "      <th>ICF_2016</th>\n",
       "      <th>ICF_2017</th>\n",
       "      <th>ICF_2018</th>\n",
       "      <th>ICF_2019</th>\n",
       "    </tr>\n",
       "  </thead>\n",
       "  <tbody>\n",
       "    <tr>\n",
       "      <th>count</th>\n",
       "      <td>27.000000</td>\n",
       "      <td>27.000000</td>\n",
       "      <td>27.000000</td>\n",
       "      <td>27.000000</td>\n",
       "      <td>27.000000</td>\n",
       "      <td>27.000000</td>\n",
       "    </tr>\n",
       "    <tr>\n",
       "      <th>mean</th>\n",
       "      <td>1.539630</td>\n",
       "      <td>1.544074</td>\n",
       "      <td>1.565926</td>\n",
       "      <td>1.551481</td>\n",
       "      <td>1.539630</td>\n",
       "      <td>1.524444</td>\n",
       "    </tr>\n",
       "    <tr>\n",
       "      <th>std</th>\n",
       "      <td>0.196948</td>\n",
       "      <td>0.182867</td>\n",
       "      <td>0.170480</td>\n",
       "      <td>0.169449</td>\n",
       "      <td>0.170056</td>\n",
       "      <td>0.177576</td>\n",
       "    </tr>\n",
       "    <tr>\n",
       "      <th>min</th>\n",
       "      <td>1.230000</td>\n",
       "      <td>1.310000</td>\n",
       "      <td>1.340000</td>\n",
       "      <td>1.260000</td>\n",
       "      <td>1.230000</td>\n",
       "      <td>1.140000</td>\n",
       "    </tr>\n",
       "    <tr>\n",
       "      <th>25%</th>\n",
       "      <td>1.375000</td>\n",
       "      <td>1.385000</td>\n",
       "      <td>1.400000</td>\n",
       "      <td>1.405000</td>\n",
       "      <td>1.415000</td>\n",
       "      <td>1.390000</td>\n",
       "    </tr>\n",
       "    <tr>\n",
       "      <th>50%</th>\n",
       "      <td>1.530000</td>\n",
       "      <td>1.530000</td>\n",
       "      <td>1.570000</td>\n",
       "      <td>1.560000</td>\n",
       "      <td>1.560000</td>\n",
       "      <td>1.570000</td>\n",
       "    </tr>\n",
       "    <tr>\n",
       "      <th>75%</th>\n",
       "      <td>1.670000</td>\n",
       "      <td>1.680000</td>\n",
       "      <td>1.685000</td>\n",
       "      <td>1.670000</td>\n",
       "      <td>1.650000</td>\n",
       "      <td>1.635000</td>\n",
       "    </tr>\n",
       "    <tr>\n",
       "      <th>max</th>\n",
       "      <td>2.000000</td>\n",
       "      <td>1.960000</td>\n",
       "      <td>1.930000</td>\n",
       "      <td>1.890000</td>\n",
       "      <td>1.870000</td>\n",
       "      <td>1.860000</td>\n",
       "    </tr>\n",
       "  </tbody>\n",
       "</table>\n",
       "</div>"
      ],
      "text/plain": [
       "        ICF_2014   ICF_2015   ICF_2016   ICF_2017   ICF_2018   ICF_2019\n",
       "count  27.000000  27.000000  27.000000  27.000000  27.000000  27.000000\n",
       "mean    1.539630   1.544074   1.565926   1.551481   1.539630   1.524444\n",
       "std     0.196948   0.182867   0.170480   0.169449   0.170056   0.177576\n",
       "min     1.230000   1.310000   1.340000   1.260000   1.230000   1.140000\n",
       "25%     1.375000   1.385000   1.400000   1.405000   1.415000   1.390000\n",
       "50%     1.530000   1.530000   1.570000   1.560000   1.560000   1.570000\n",
       "75%     1.670000   1.680000   1.685000   1.670000   1.650000   1.635000\n",
       "max     2.000000   1.960000   1.930000   1.890000   1.870000   1.860000"
      ]
     },
     "execution_count": 10,
     "metadata": {},
     "output_type": "execute_result"
    }
   ],
   "source": [
    "df_ue.describe()"
   ]
  },
  {
   "cell_type": "markdown",
   "metadata": {},
   "source": [
    "<hr style=\"height: 1px; color:  #a7aeae ; background-color:  #a7aeae; width: 25%; border: none;\">\n",
    "\n",
    "### 4.2 Coefficient d'asymétrie\n",
    "Vous pouvez aussi vérifier si la série est globalement symétrique\n",
    "\n",
    "- Le coefficient d'asymétrie (skew) peut être calculé pour toute les colonnes numériques\n",
    "- On constate que pour 2017 et 2018, les données semblent plutôt symétriques. \n",
    "- Mais le graphique 2018 réalisé précédemment permet de relativiser ce résultat. Avec seulement 27 individus (pays), il faut rester prudent lors de l'interprétation de ces statistiques et croiser les résultats avec vos interprétations graphiques"
   ]
  },
  {
   "cell_type": "code",
   "execution_count": 11,
   "metadata": {},
   "outputs": [
    {
     "data": {
      "text/plain": [
       "ICF_2014    0.601037\n",
       "ICF_2015    0.498751\n",
       "ICF_2016    0.355266\n",
       "ICF_2017    0.037223\n",
       "ICF_2018   -0.092586\n",
       "ICF_2019   -0.323104\n",
       "dtype: float64"
      ]
     },
     "execution_count": 11,
     "metadata": {},
     "output_type": "execute_result"
    }
   ],
   "source": [
    "df_ue.skew(numeric_only=True) # le paramètre numeric_only=True précise que le Skew ne sera pas calculé sur les colonnes non numériques"
   ]
  },
  {
   "cell_type": "markdown",
   "metadata": {},
   "source": [
    "<hr style=\"height: 1px; color:  #a7aeae ; background-color:  #a7aeae; width: 25%; border: none;\">\n",
    "\n",
    "### 4.3 Normalité des séries\n",
    "Il serait possible de calculer le coefficient d'aplatissement de chaque série : \n",
    "\n",
    "```python\n",
    "df_ue.kurtosis(numeric_only=True)\n",
    "```\n",
    "\n",
    "Mais nous allons plutôt utiliser un test statistique pour vérifier si les données suivent une loi normale.\n",
    "\n",
    "Pour cela, vous allez utiliser un autre package très utile en statistique : scipy\n",
    "- il contient de nombreux outils statistiques et fonctionne bien avec Pandas (et plus généralement Numpy)\n",
    "- [l'aide en ligne](https://docs.scipy.org/doc/scipy/reference/generated/scipy.stats.shapiro.html) permet de trouver les outils qui vous intéressent \n",
    "- et les différentes options qui accompagnent les fonctions\n",
    "\n"
   ]
  },
  {
   "cell_type": "markdown",
   "metadata": {},
   "source": [
    "Le module stats de scipy va être importé pour nous aider à déterminer si une série suit une loi normale ou non\n",
    "- De nouveau, il faut rester prudent vis-à-vis du résultat : avec 27 individus, il sera toujours difficile de déterminer si la série suit vraiment une loi normale"
   ]
  },
  {
   "cell_type": "code",
   "execution_count": 12,
   "metadata": {},
   "outputs": [],
   "source": [
    "from scipy import stats # scipy n'est pas importé complètement, seule un module qui nous intéresse est chargé : stats"
   ]
  },
  {
   "cell_type": "markdown",
   "metadata": {},
   "source": [
    "On utilise le test de Shapiro-Wilk sur les données 2018. <br>\n",
    "- La valeur statistic est difficilement interprétable seule\n",
    "- La pvalue est plus intéressante. A moins de 5% (pvalue<0.05), on peut rejeter l'hypothèse nulle et accepter H1, la distribution n'est pas normale.\n",
    "- Ici la pvalue=0.76, ce qui pourrait laisser croire que la série suit une loi normale\n",
    "- Hors les graphiques précédents laissent la place au doute. Peut-être que le test manque de puissance (27 pays)."
   ]
  },
  {
   "cell_type": "code",
   "execution_count": 13,
   "metadata": {},
   "outputs": [
    {
     "data": {
      "text/plain": [
       "ShapiroResult(statistic=0.9759425520896912, pvalue=0.7616128325462341)"
      ]
     },
     "execution_count": 13,
     "metadata": {},
     "output_type": "execute_result"
    }
   ],
   "source": [
    "stats.shapiro(df_ue['ICF_2018'])"
   ]
  },
  {
   "cell_type": "markdown",
   "metadata": {},
   "source": [
    "<hr style=\"height: 1px; color:  #a7aeae ; background-color:  #a7aeae; width: 25%; border: none;\">\n",
    "\n",
    "### 4.4 Diagramme Q-Q Plot\n",
    "Dans le doute, on utilise une dernière méthode très pratique pour vérifier la normalité d'une série : le diagramme [q-q plot](https://fr.wikipedia.org/wiki/Diagramme_quantile-quantile)\n",
    "- Il permet d'illustrer sur un graphique la position des quantiles observées par rapport à ce qu'ils devraient être en théorie s'ils suivaient une loi normale \n",
    "- Si l'observé et le théorique sont semblables, alors les observations s'alignent sur une droite : les données suivent une loi normale\n",
    "\n",
    "Une autre librairie va être chargée : statsmodels"
   ]
  },
  {
   "cell_type": "code",
   "execution_count": 14,
   "metadata": {},
   "outputs": [],
   "source": [
    "import statsmodels.api as sm"
   ]
  },
  {
   "cell_type": "markdown",
   "metadata": {},
   "source": [
    "Les données 2018 ne se positionnent pas parfaitement sur la droite rouge. De nouveau, le manque de puissance rend la conclusion difficile"
   ]
  },
  {
   "cell_type": "code",
   "execution_count": 15,
   "metadata": {},
   "outputs": [
    {
     "data": {
      "image/png": "[encoded data removed]",
      "text/plain": [
       "<Figure size 432x288 with 1 Axes>"
      ]
     },
     "metadata": {
      "needs_background": "light"
     },
     "output_type": "display_data"
    }
   ],
   "source": [
    "sm.qqplot(df_ue['ICF_2018'], line='s')\n",
    "plt.show()"
   ]
  },
  {
   "cell_type": "markdown",
   "metadata": {},
   "source": [
    "Voici le résultat dans le cas où on génère une série de données qui suit une loi normale :"
   ]
  },
  {
   "cell_type": "code",
   "execution_count": 16,
   "metadata": {},
   "outputs": [
    {
     "data": {
      "image/png": "[encoded data removed]",
      "text/plain": [
       "<Figure size 432x288 with 1 Axes>"
      ]
     },
     "metadata": {
      "needs_background": "light"
     },
     "output_type": "display_data"
    }
   ],
   "source": [
    "import numpy as np \n",
    "\n",
    "np.random.seed(42) # Permet de conserver le même \"aléa\"\n",
    "mu, sigma = 0, 1 # moyenne à 0, écart-type à 1\n",
    "\n",
    "s = np.random.normal(mu, sigma, 200) # génération des données \n",
    "\n",
    "sm.qqplot(s, line='s')\n",
    "plt.show()"
   ]
  },
  {
   "cell_type": "markdown",
   "metadata": {},
   "source": [
    "Et pour une série qui suit une loi exponentielle :"
   ]
  },
  {
   "cell_type": "code",
   "execution_count": 17,
   "metadata": {},
   "outputs": [
    {
     "data": {
      "image/png": "[encoded data removed]",
      "text/plain": [
       "<Figure size 432x288 with 1 Axes>"
      ]
     },
     "metadata": {
      "needs_background": "light"
     },
     "output_type": "display_data"
    }
   ],
   "source": [
    "s = np.random.exponential(size = 200)\n",
    "\n",
    "sm.qqplot(s, line='s')\n",
    "plt.show()"
   ]
  }
 ],
 "metadata": {
  "colab": {
   "authorship_tag": "ABX9TyOkexbfxkVCFcNqVtlGvlo+",
   "collapsed_sections": [],
   "include_colab_link": true,
   "name": "Pandas_univ.ipynb",
   "provenance": []
  },
  "kernelspec": {
   "display_name": "Python 3 (ipykernel)",
   "language": "python",
   "name": "python3"
  },
  "language_info": {
   "codemirror_mode": {
    "name": "ipython",
    "version": 3
   },
   "file_extension": ".py",
   "mimetype": "text/x-python",
   "name": "python",
   "nbconvert_exporter": "python",
   "pygments_lexer": "ipython3",
   "version": "3.10.1"
  }
 },
 "nbformat": 4,
 "nbformat_minor": 4
}
