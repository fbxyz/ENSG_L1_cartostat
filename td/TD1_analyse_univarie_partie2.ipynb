{
 "cells": [
  {
   "cell_type": "markdown",
   "metadata": {
    "id": "CLqyCoAiRKLy"
   },
   "source": [
    "<img src=\"https://upload.wikimedia.org/wikipedia/commons/3/39/Logo-ENSG-couleur-2023.svg\" style=\"margin-left:auto; margin-right:auto; width:200px; height:auto;\"/>\n"
   ]
  },
  {
   "cell_type": "markdown",
   "metadata": {
    "id": "wkgAs0oTI9gU",
    "tags": []
   },
   "source": [
    "<center> \n",
    "    <h1>ENSG : statistiques appliquées en cartographie</h1> \n",
    "    <h2>Réaliser une analyse univariée à l'aide de Python</h2> \n",
    "    <h3>Florian Bayer, Sami Guembour, Quentin Potie Décembre 2023</h3> \n",
    "</center> \n",
    "\n",
    "<hr style=\"height: 2px; color:  #94bd13 ; background-color:  #94bd13; width: 100%; border: none;\">\n",
    "\n",
    "*   L'objectif de la seconde partie de ce TD est d'appliquer les connaissances acquises dans la première partie\n",
    "  \n",
    "*   Vous utiliserez de nouveau jupyter lab pour réaliser votre petite analyse\n",
    "\n",
    "*   En cas de difficultés, ne restez pas bloqué et contactez l'enseignant\n",
    "\n",
    "Attention, les notebooks que vous lancez à partir de la page Git du cours sont **temporaires**. Vous pouvez néanmoins les sauvegarder et les uploader. La manipulation sera montrée en cours\n",
    "\n",
    "Si vous le souhaitez, vous pouvez cloner ce Git et installer un environnement Conda sur votre ordinateur en suivant cette [procédure](https://github.com/fbxyz/ENSG_L1_cartostat/tree/main/td#comment-cloner-le-repo-git-du-cours-cr%C3%A9er-un-environnement-conda-installer-les-packages-et-lancer-jupyter-lab). \n",
    "\n",
    "Une dernière solution, si vous disposez d'un compte google, est d'utiliser [Collaboratory](https://colab.research.google.com), mais il faudra importer les données csv."
   ]
  },
  {
   "cell_type": "markdown",
   "metadata": {
    "id": "wkgAs0oTI9gU",
    "tags": []
   },
   "source": [
    "<hr style=\"height: 2px; color:  #94bd13 ; background-color:  #94bd13; width: 100%; border: none;\">\n",
    "\n",
    "# Consignes\n",
    "\n",
    "La Fédération Française d'Etude de la Reproduction va organiser un congrès, dont le thème sera : état de l'offre de soins et infertilité en France. Il réunira des professionnels spécialisés dans l’assistance médicale à la procréation.\n",
    "\n",
    "L'introduction de la session plénière aura comme support deux cartes projetées sur grand écran : \n",
    "\n",
    "- Evolution de la fécondité des départements français entre 2014 et 2019. \n",
    "- Les deux cartes serviront de base à la discussion d’un sujet de la session :  Vers de nouvelles dynamiques de la fécondité en France ?\n"
   ]
  },
  {
   "cell_type": "markdown",
   "metadata": {},
   "source": [
    "Comme l’âge des femmes est un facteur d’infertilité et que la répartition de l’âge des femmes n’est pas identique sur les différents territoires étudiés, on vous demande d’utiliser l’indicateur conjoncturel de fécondité. \n",
    "\n",
    "Il correspond au nombre d'enfants qu'aurait une femme tout au long de sa vie, si les taux de fécondité observés l'année considérée à chaque âge demeuraient inchangés. Autrement dit, l’indicateur « gomme » l’effet de l’âge sur la fécondité sur la période et les territoires étudiés.\n",
    "\n",
    "Les cartes seront produites par un prestataire, mais en tant qu’apprenti, on vous demande de lui rédiger par écrit différentes tâches : \n",
    "- La discrétisation des 2 cartes (en précisant les bornes \"[  ]\")\n",
    "- La méthode de représentation à utiliser (quelle variable visuelle)\n",
    "- La justification de l’ensemble de vos choix (types de variables, caractéristiques statistiques, choix de représentation, choix des méthodes de discrétisation etc.)\n",
    "\n",
    "Vous devez choisir la ou les méthodes les plus adaptées selon vous et le nombre de classes, en justifiant vos choix. Référez-vous au cours sur les données, la discrétisation, la sémiologie graphique et le TD précédent sur l'univariée.\n",
    "\n",
    "Les données sont fournies dans le dossier ./data/ et proviennent de l’Insee.\n",
    "\n",
    "Attention :  \n",
    "- Certains calculs sont déjà faits à titre d'illustration. <b>Ceux à faire par vos soins sont signaler en <span style=\"color:#bc4749\">rouge</span>.</b>\n",
    "- il n’est pas encore demandé de réaliser la carte \n"
   ]
  },
  {
   "cell_type": "markdown",
   "metadata": {
    "id": "nRWsycQBMx38"
   },
   "source": [
    "<hr style=\"height: 2px; color:  #94bd13 ; background-color:  #94bd13; width: 100%; border: none;\">\n",
    "\n",
    "# 1. Importation des packages et des données\n"
   ]
  },
  {
   "cell_type": "markdown",
   "metadata": {},
   "source": [
    "Pour vous aider, les premières étapes de l'analyse sont guidées"
   ]
  },
  {
   "cell_type": "code",
   "execution_count": 1,
   "metadata": {
    "id": "fHvZEA5jIkch"
   },
   "outputs": [],
   "source": [
    "import pandas as pd # Pour importer les données dans un Dataframe\n",
    "import seaborn as sns # Pour faire les graphiques\n",
    "from scipy import stats # Un peu de stat\n",
    "import statsmodels.api as sm # Et pourquoi pas un Q-Q plot...\n",
    "import matplotlib.pyplot as plt\n",
    "import numpy as np"
   ]
  },
  {
   "cell_type": "markdown",
   "metadata": {},
   "source": [
    "<blockquote style=\"color:#bc4749\">\n",
    "    \n",
    "<b>Exercice</b> <br>\n",
    "Importez les données TD_France.csv dans un Dataframe  <b>df_fr</b> à l'aide de :\n",
    "    \n",
    "```python\n",
    "pd.read_csv()\n",
    "```\n",
    "    \n",
    "Attention, il faut faire en sorte que le fichier TD_France.csv soit accessible depuis votre Notebook. Si besoin, aidez-vous du TD1 partie 1\n",
    "    \n",
    "Une autre solution est de charger les données directement à partir du Git du cours : \n",
    "\n",
    "```python\n",
    "pd.read_table(\n",
    "    r\"https://raw.githubusercontent.com/fbxyz/ENSG_L1_cartostat/main/td/data/TD_France.csv\",\n",
    "    sep=\",\"\n",
    ") \n",
    "```\n",
    "</blockquote>    \n"
   ]
  },
  {
   "cell_type": "code",
   "execution_count": null,
   "metadata": {},
   "outputs": [],
   "source": []
  },
  {
   "cell_type": "markdown",
   "metadata": {},
   "source": [
    "Vous pouvez ensuite vérifier le type de variable avec la commande suivante"
   ]
  },
  {
   "cell_type": "code",
   "execution_count": null,
   "metadata": {},
   "outputs": [],
   "source": [
    "df_fr.dtypes"
   ]
  },
  {
   "cell_type": "markdown",
   "metadata": {
    "id": "nRWsycQBMx38"
   },
   "source": [
    "<hr style=\"height: 2px; color:  #94bd13 ; background-color:  #94bd13; width: 100%; border: none;\">\n",
    "\n",
    "# 2. Représentations graphiques\n",
    "\n",
    "Utilisez le Dataframe précédemment créé pour réaliser les histogrammes et/ou les boxplots des données qui vous intéressent. N'oubliez pas, pour créer une nouvelle cellule de code, appuyez sur B (sauf sous Collaboratory)\n",
    "\n",
    "Pour créer une cellule de texte (Markdown), ajoutez une nouvelle cellule avec B puis appuyez sur M\n"
   ]
  },
  {
   "cell_type": "markdown",
   "metadata": {},
   "source": [
    "## 2.1 Les histogrammes"
   ]
  },
  {
   "cell_type": "markdown",
   "metadata": {},
   "source": [
    "### 2.1.1 Avec toutes les données"
   ]
  },
  {
   "cell_type": "markdown",
   "metadata": {},
   "source": [
    "<blockquote style=\"color:#bc4749\">\n",
    "    \n",
    "<b>Exercice</b> <br>\n",
    "\n",
    "Faites l'histogramme pour 2014\n",
    "    \n",
    "</blockquote>    "
   ]
  },
  {
   "cell_type": "code",
   "execution_count": null,
   "metadata": {},
   "outputs": [],
   "source": []
  },
  {
   "cell_type": "markdown",
   "metadata": {},
   "source": [
    "<blockquote style=\"color:#bc4749\">\n",
    "    \n",
    "<b>Exercice</b> <br>\n",
    "\n",
    "Faites l'histogramme pour 2019\n",
    "    \n",
    "</blockquote>    "
   ]
  },
  {
   "cell_type": "code",
   "execution_count": null,
   "metadata": {},
   "outputs": [],
   "source": []
  },
  {
   "cell_type": "markdown",
   "metadata": {},
   "source": [
    "<blockquote style=\"color:#bc4749\">\n",
    "    \n",
    "<b>Exercice</b> <br>\n",
    "\n",
    "Interprétez ces résultats graphiques. Que constatez-vous ?\n",
    "\n",
    "</blockquote>    "
   ]
  },
  {
   "cell_type": "markdown",
   "metadata": {},
   "source": [
    "Ecrivez vos observations ici"
   ]
  },
  {
   "cell_type": "markdown",
   "metadata": {},
   "source": [
    "### 2.1.2 Sans les valeurs extrêmes"
   ]
  },
  {
   "cell_type": "markdown",
   "metadata": {},
   "source": [
    "On décide de vérifier la répartition des données sans les valeurs extrêmes.\n",
    "\n",
    "NB. Le dataframe est passé en melt pour pouvoir appliquer la méthode facet (graphiques 2014 et 2019 côte à côte). Les variables sont passées en ligne, une colonne value est ajoutée\n",
    "\n",
    "Le format melt est très pratique car il évite de démultiplier le nombre de colonnes (une seule colonne pour les années)"
   ]
  },
  {
   "cell_type": "code",
   "execution_count": null,
   "metadata": {
    "scrolled": true
   },
   "outputs": [],
   "source": [
    "df_fr_m = pd.melt(df_fr, id_vars=['Code','Département'])\n",
    "\n",
    "# On utilise le filtre par query vu dans le TD1 partie 1, partie 2.3 \n",
    "df_fr_m.query(\"value < 3\")"
   ]
  },
  {
   "cell_type": "markdown",
   "metadata": {},
   "source": [
    "Pour supprimer les valeurs extrèmes, on filtre le dataframe et on ne conserve que 2014 et 2019"
   ]
  },
  {
   "cell_type": "code",
   "execution_count": null,
   "metadata": {},
   "outputs": [],
   "source": [
    "# Création, du facet, avec autant de colonne qu'il y a de modalités dans la colonne variable du dataframe\n",
    "g = sns.FacetGrid(df_fr_m.query(\"variable in ('ICF_2014','ICF_2019') and value <3\"),\n",
    "                  col=\"variable\", )\n",
    "\n",
    "# Il n'est pas possible de faire un displot en facet... Seaborn recommande d'utiliser histplot\n",
    "g.map_dataframe(sns.histplot, binwidth=0.1, binrange=(1.4, 2.5))"
   ]
  },
  {
   "cell_type": "markdown",
   "metadata": {
    "tags": []
   },
   "source": [
    "## 2.2 Boxplot pour voir les tendances"
   ]
  },
  {
   "cell_type": "markdown",
   "metadata": {
    "tags": []
   },
   "source": [
    "<blockquote style=\"color:#bc4749\">\n",
    "    \n",
    "<b>Exercice</b> <br>\n",
    "\n",
    "Faites les boxplots avec toutes les valeurs. Pensez à ajouter un titre à votre graphique.\n",
    "    \n",
    "</blockquote>   \n"
   ]
  },
  {
   "cell_type": "code",
   "execution_count": null,
   "metadata": {},
   "outputs": [],
   "source": []
  },
  {
   "cell_type": "markdown",
   "metadata": {
    "tags": []
   },
   "source": [
    "<blockquote style=\"color:#bc4749\">\n",
    "    \n",
    "<b>Exercice</b> <br>\n",
    "\n",
    "Faites les boxplots sans les valeurs extrêmes. Filtrer directement sur les valeurs est risqué (query(\"value <3\")). Il donc est préférable d'enlever toutes les valeurs de Mayotte et de la Guyane qui correspondent à ces valeurs extrêmes\n",
    "\n",
    "Il est préférable de créer un nouveau dataframe pour cette partie\n",
    "    \n",
    "</blockquote>   "
   ]
  },
  {
   "cell_type": "code",
   "execution_count": null,
   "metadata": {},
   "outputs": [],
   "source": []
  },
  {
   "cell_type": "markdown",
   "metadata": {},
   "source": [
    "<blockquote style=\"color:#bc4749\">\n",
    "    \n",
    "<b>Exercice</b> <br>\n",
    "\n",
    "Interprétez ces résultats graphiques. Que constatez-vous ?\n",
    "\n",
    "</blockquote>    "
   ]
  },
  {
   "cell_type": "markdown",
   "metadata": {},
   "source": [
    "Ecrivez vos observations ici"
   ]
  },
  {
   "cell_type": "markdown",
   "metadata": {
    "id": "nRWsycQBMx38"
   },
   "source": [
    "<hr style=\"height: 2px; color:  #94bd13 ; background-color:  #94bd13; width: 100%; border: none;\">\n",
    "\n",
    "# 3. Calculs statistiques\n",
    "\n",
    "Réalisez les calculs qui vous permettront de mieux interpréter vos données, leur forme, les points d'attention..."
   ]
  },
  {
   "cell_type": "markdown",
   "metadata": {},
   "source": [
    "\n",
    "<blockquote style=\"color:#bc4749\">\n",
    "    \n",
    "<b>Exercice</b> <br>\n",
    "\n",
    "Faites les calculs univariée avec toutes les valeurs. Reportez vous à la partie 4 du TD1 partie 1\n",
    "    \n",
    "</blockquote>   \n"
   ]
  },
  {
   "cell_type": "code",
   "execution_count": null,
   "metadata": {},
   "outputs": [],
   "source": []
  },
  {
   "cell_type": "markdown",
   "metadata": {},
   "source": [
    "<blockquote style=\"color:#bc4749\">\n",
    "    \n",
    "<b>Exercice</b> <br>\n",
    "\n",
    "Faites les calculs univariée sans les valeurs extrêmes, comme pour les boxplots du point 2.2 précédents (TD1 partie 2). \n",
    "\n",
    "Si vous avez créé un Dataframe sans les valeurs extrêmes, réutilisez le\n",
    "    \n",
    "</blockquote>   \n",
    "\n"
   ]
  },
  {
   "cell_type": "code",
   "execution_count": null,
   "metadata": {},
   "outputs": [],
   "source": []
  },
  {
   "cell_type": "markdown",
   "metadata": {},
   "source": [
    "## 3.2 Exemples sur les quantiles\n",
    "\n",
    "Les cellules suivantes vous montrent comment calculer des quantiles spécifiques avec Pandas : "
   ]
  },
  {
   "cell_type": "markdown",
   "metadata": {},
   "source": [
    "### 3.2.1 Afficher les valeurs de quantiles spécifiques"
   ]
  },
  {
   "cell_type": "code",
   "execution_count": null,
   "metadata": {},
   "outputs": [],
   "source": [
    "df_fr.quantile([.20, .80],numeric_only=True)"
   ]
  },
  {
   "cell_type": "markdown",
   "metadata": {},
   "source": [
    "<blockquote style=\"color:#bc4749\">\n",
    "    \n",
    "<b>Exercice</b> <br>\n",
    "\n",
    "Affichez les 5 premiers % et les 95 derniers %.\n",
    "    \n",
    "</blockquote>   \n",
    "\n"
   ]
  },
  {
   "cell_type": "code",
   "execution_count": null,
   "metadata": {},
   "outputs": [],
   "source": []
  },
  {
   "cell_type": "markdown",
   "metadata": {},
   "source": [
    "## 3.3 Tests de normalité"
   ]
  },
  {
   "cell_type": "markdown",
   "metadata": {},
   "source": [
    "### 3.3.1 Tests de la normalité sans les extrêmes\n",
    "\n",
    "Les graphiques précédents ont montré que les séries 2014 et 2019 étaient étirées vers la droite à cause des valeurs de Mayotte et de la Guyane. \n",
    "\n",
    "Testons la normalité de la série 2014 sans ces deux valeurs."
   ]
  },
  {
   "cell_type": "code",
   "execution_count": null,
   "metadata": {
    "scrolled": true
   },
   "outputs": [],
   "source": [
    "# on écrit la query d'exclusion des deux DROM dans une variable pour ne pas le refaire à chaque fois \n",
    "q = \"Code not in ('973','976')\"\n",
    "\n",
    "# On utilise le module stats de scipy abordé dans la partie 4.3 de la partie 1 du TD1\n",
    "stats.shapiro(df_fr.query(q)['ICF_2014'])"
   ]
  },
  {
   "cell_type": "markdown",
   "metadata": {},
   "source": [
    "Le Shapiro test montre que la série 2014 est à la limite de la significativité (p-value = 0.04). \n",
    "L'histogramme laissait cependant suggérer une loi normale. On vérifie le kurtosis et le skew pour comprendre"
   ]
  },
  {
   "cell_type": "code",
   "execution_count": null,
   "metadata": {},
   "outputs": [],
   "source": [
    "s = df_fr.query(q)['ICF_2014'].skew()\n",
    "k = df_fr.query(q)['ICF_2014'].kurtosis()\n",
    "\n",
    "# on fait un print avec un format `f` afin d'obtenir un résultat plus lisible\n",
    "print(f\"\"\"Pour la série 2014 : \n",
    "Skew = {s:.3f}\n",
    "Kurtosis = {k:.3f}\n",
    "\"\"\")"
   ]
  },
  {
   "cell_type": "markdown",
   "metadata": {},
   "source": [
    "Le coefficient d'asymétrie (Skew) est très proche de 0, ce qui tend à montrer la symétrie de la distribution\n",
    "\n",
    "Le kurtosis est égal = 1.6, ce qui explique pourquoi le Shapiro-test est à la limite de la significativité. Un kurtosis standardisé de loi normale est normalement proche de 0"
   ]
  },
  {
   "cell_type": "markdown",
   "metadata": {},
   "source": [
    "<blockquote style=\"color:#bc4749\">\n",
    "    \n",
    "<b>Exercice</b> <br>\n",
    "\n",
    "Faites le test de normalité pour 2019 :\n",
    "    \n",
    "</blockquote>   "
   ]
  },
  {
   "cell_type": "code",
   "execution_count": null,
   "metadata": {},
   "outputs": [],
   "source": []
  },
  {
   "cell_type": "markdown",
   "metadata": {},
   "source": [
    "<blockquote style=\"color:#bc4749\">\n",
    "    \n",
    "<b>Exercice</b> <br>\n",
    "\n",
    "Que constastez vous ?\n",
    "</blockquote>   "
   ]
  },
  {
   "cell_type": "markdown",
   "metadata": {},
   "source": [
    "Ecrire votre réponse ici"
   ]
  },
  {
   "cell_type": "markdown",
   "metadata": {},
   "source": [
    "On peut également tester si les deux moyennes et les deux variances sont significativement différentes :\n",
    "- On utilise un test de Levene car la série 2019 ne suit pas une loi normale\n",
    "- un t-test pour la moyenne car les variances ne sont pas différentes entre les deux séries"
   ]
  },
  {
   "cell_type": "code",
   "execution_count": null,
   "metadata": {},
   "outputs": [],
   "source": [
    "icf14 = df_fr.query(q)['ICF_2014']\n",
    "icf19 = df_fr.query(q)['ICF_2019']\n",
    "\n",
    "lr, lp = stats.levene(icf14,icf19) # lr correspond au résultat du test de Levene, lp à sa p-value\n",
    "tr, tp = stats.ttest_ind(icf14,icf19) \n",
    "\n",
    "print(f\"\"\"\n",
    "Levene p-value= {lp:.3f}\n",
    "Ttest p-value= {tp:.9f}\n",
    "\"\"\")"
   ]
  },
  {
   "cell_type": "markdown",
   "metadata": {},
   "source": [
    "Les variances des deux séries sans ls extrêmes ne sont pas significativement différentes, les moyennes sont significativement différentes"
   ]
  },
  {
   "cell_type": "markdown",
   "metadata": {},
   "source": [
    "<blockquote style=\"color:#bc4749\">\n",
    "    \n",
    "<b>Exercice</b> <br>\n",
    "\n",
    "Faites les tests d'équalité de variance et de moyennes entre 2018 et 2019 :\n",
    "    \n",
    "</blockquote>   "
   ]
  },
  {
   "cell_type": "code",
   "execution_count": null,
   "metadata": {},
   "outputs": [],
   "source": []
  },
  {
   "cell_type": "markdown",
   "metadata": {},
   "source": [
    "<blockquote style=\"color:#bc4749\">\n",
    "    \n",
    "<b>Exercice</b> <br>\n",
    "\n",
    "Que constastez vous ?\n",
    "</blockquote>   "
   ]
  },
  {
   "cell_type": "markdown",
   "metadata": {},
   "source": [
    "Ecrire votre réponse ici"
   ]
  },
  {
   "cell_type": "markdown",
   "metadata": {},
   "source": [
    "### Une fonction pour tester les variances et les moyennes\n",
    "La fonction suivante sélectionne automatiquement les tests adéquats en fonction de la forme des deux séries. C'est le genre de fonction créée avec Python qui s'avère très utile pour de multiples études."
   ]
  },
  {
   "cell_type": "code",
   "execution_count": null,
   "metadata": {},
   "outputs": [],
   "source": [
    "def test_moyenne(x, y,pair=True):\n",
    "    \"\"\"\n",
    "    test de l'égalité de deux moyennes et de leur variance. Vérification de la normalité des données\n",
    "    et ajustement des tests si nécessaire (normalité, égalité des variances). Test apparié par défaut\n",
    "    @return: str\n",
    "    @type x: np.array\n",
    "    @type y: np.array\n",
    "    @type y: boolean\n",
    "    \"\"\"\n",
    "    # TODO : trop de conditions, à passer en class\n",
    "    \n",
    "    # test de la normalité\n",
    "    sv_x, sp_x = stats.shapiro(x)\n",
    "    sv_y, sp_y = stats.shapiro(y)\n",
    "\n",
    "    if sp_x < 0.05 or sp_y < 0.05:\n",
    "        var = \"H1\"\n",
    "        test_n = \"Au moins une distribution ne suit pas une loi normale\"\n",
    "\n",
    "    else:\n",
    "        var = \"H0\"\n",
    "        test_n = \"Les deux distributions suivent une loi normale\"\n",
    "\n",
    "    # test de variance, en fonction de la normalité des données\n",
    "    if var == 'H0':\n",
    "        vv, vp = stats.bartlett(x, y)\n",
    "        if vp < 0.05:\n",
    "            test_v = f\"Bartlett : Les variances sont significativement différentes: p= {vp:.4f}\"\n",
    "        else:\n",
    "            test_v = f\"Bartlett : Les variances ne sont pas significativement différentes: p= {vp:.4f}\"\n",
    "\n",
    "    else:\n",
    "        vv, vp = stats.levene(x, y)\n",
    "        if vp < 0.05:\n",
    "            test_v = f\"Levene : Les variances sont significativement différentes: p= {vp:.4f}\"\n",
    "        else:\n",
    "            test_v = f\"Levene : Les variances ne sont pas significativement différentes: p= {vp:.4f}\"\n",
    "\n",
    "    if pair : \n",
    "         tv, tp = stats.ttest_rel(x, y) \n",
    "    else : \n",
    "         # test d'égalité des moyennes si les séries sont non appariées, en fonction de l'égalité des variances\n",
    "        if vp >= 0.05:\n",
    "            tv, tp = stats.ttest_ind(x, y, equal_var=True)\n",
    "        else:\n",
    "            tv, tp = stats.ttest_ind(x, y, equal_var=False)  \n",
    "\n",
    "    if tp >= 0.05:\n",
    "        test_m = f\"Les moyennes ne sont pas significativement différentes: {np.mean(x):.4f} et {np.mean(y):.4f}, p= {tp:.4f}\"\n",
    "    else:\n",
    "        test_m = f\"Les moyennes sont significativement différentes: {np.mean(x):.4f} et {np.mean(y):.4f}, p= {tp:.4f}\"\n",
    "\n",
    "    return print(f\"\"\"{test_n}\\n{test_v}\\n{test_m}\"\"\")\n",
    "\n",
    "# on appelle la fonction : \n",
    "test_moyenne(icf14,icf19)\n"
   ]
  },
  {
   "cell_type": "markdown",
   "metadata": {},
   "source": [
    "## 3.3.2 QQ-plot\n",
    "\n",
    "Enfin, on valide graphiquement les résultats des tests de normalité avec le QQ-plot"
   ]
  },
  {
   "cell_type": "markdown",
   "metadata": {},
   "source": [
    "<blockquote style=\"color:#bc4749\">\n",
    "    \n",
    "<b>Exercice</b> <br>\n",
    "\n",
    "Faites les QQ-plot 2014 et 2019 avec tous les départements (cf. première partie du TD1, chapitre 4.4) :\n",
    "    \n",
    "</blockquote>   "
   ]
  },
  {
   "cell_type": "code",
   "execution_count": null,
   "metadata": {},
   "outputs": [],
   "source": []
  },
  {
   "cell_type": "markdown",
   "metadata": {},
   "source": [
    "<blockquote style=\"color:#bc4749\">\n",
    "    \n",
    "<b>Exercice</b> <br>\n",
    "\n",
    "Et 2014 puis 2019 sans les valeurs extrêmes :\n",
    "    \n",
    "</blockquote>   "
   ]
  },
  {
   "cell_type": "code",
   "execution_count": null,
   "metadata": {},
   "outputs": [],
   "source": []
  },
  {
   "cell_type": "markdown",
   "metadata": {
    "id": "nRWsycQBMx38"
   },
   "source": [
    "<hr style=\"height: 2px; color:  #94bd13 ; background-color:  #94bd13; width: 100%; border: none;\">\n",
    "\n",
    "# 4. Réponses à la demande\n",
    "\n",
    "Avant de répondre à la demande initiale, \n",
    "\n",
    "- Essayez d'interpréter les résultats des graphiques et des calculs. \n",
    "- Que pouvez-vous tirer de cette analyse univariée ?\n",
    "- Pensez aux objectifs des cartes, au contexte, au public.\n",
    "\n",
    "Rédigez ensuite vos réponses et proposez une ou plusieurs méthodes de discrétisation. Pour rappel, il n'est pas encore démandé de faire la carte.\n",
    "\n"
   ]
  },
  {
   "cell_type": "markdown",
   "metadata": {},
   "source": []
  }
 ],
 "metadata": {
  "colab": {
   "authorship_tag": "ABX9TyOkexbfxkVCFcNqVtlGvlo+",
   "collapsed_sections": [],
   "include_colab_link": true,
   "name": "Pandas_univ.ipynb",
   "provenance": []
  },
  "kernelspec": {
   "display_name": "Python 3 (ipykernel)",
   "language": "python",
   "name": "python3"
  },
  "language_info": {
   "codemirror_mode": {
    "name": "ipython",
    "version": 3
   },
   "file_extension": ".py",
   "mimetype": "text/x-python",
   "name": "python",
   "nbconvert_exporter": "python",
   "pygments_lexer": "ipython3",
   "version": "3.11.6"
  }
 },
 "nbformat": 4,
 "nbformat_minor": 4
}
