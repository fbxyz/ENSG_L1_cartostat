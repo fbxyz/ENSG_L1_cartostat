{
 "cells": [
  {
   "cell_type": "markdown",
   "metadata": {
    "id": "CLqyCoAiRKLy"
   },
   "source": [
    "<img src=\"https://upload.wikimedia.org/wikipedia/fr/thumb/9/9e/Logo_ENSG_G%C3%A9omatique_2012.svg/220px-Logo_ENSG_G%C3%A9omatique_2012.svg.png\" style=\"margin-left:auto; margin-right:auto\"/>\n"
   ]
  },
  {
   "cell_type": "markdown",
   "metadata": {
    "id": "wkgAs0oTI9gU",
    "tags": []
   },
   "source": [
    "<center> \n",
    "    <h1>ENSG : statistiques appliquées en cartographie</h1> \n",
    "    <h2>Réaliser une analyse univariée à l'aide de Python</h2> \n",
    "    <h3>Florian Bayer, janvier 2022</h3> \n",
    "</center> \n",
    "\n",
    "<hr style=\"height: 2px; color:  #94bd13 ; background-color:  #94bd13; width: 100%; border: none;\">\n",
    "\n",
    "*   L'objectif de la seconde partie de ce TD est d'appliquer les connaissances acquises dans la première partie\n",
    "  \n",
    "*   Vous utiliserez de nouveau jupyter lab pour réaliser votre petite analyse\n",
    "\n",
    "*   En cas de difficultés, ne restez pas bloqué et contactez moi\n",
    "\n",
    "Attention, les notebooks que vous lancez à partir de la page Git du cours sont temporaires. Vous pouvez néanmoins les sauvegarder. La manipulation sera montrée en cours\n",
    "\n",
    "Une autre solution, si vous disposez d'un compte google, est d'utiliser [Collaboratory](https://colab.research.google.com), mais il faudra importer les données csv. La manipulation sera montrée en cours\n"
   ]
  },
  {
   "cell_type": "markdown",
   "metadata": {
    "id": "wkgAs0oTI9gU",
    "tags": []
   },
   "source": [
    "<hr style=\"height: 2px; color:  #94bd13 ; background-color:  #94bd13; width: 100%; border: none;\">\n",
    "\n",
    "# Consignes\n",
    "\n",
    "La Fédération Française d'Etude de la Reproduction va organiser un congrès, dont le thème sera : état de l'offre de soins et infertilité en France. Il réunira des professionnels spécialisés dans l’assistance médicale à la procréation.\n",
    "\n",
    "L'introduction de la session plénière aura comme support deux cartes projetées sur grand écran : \n",
    "\n",
    "- Evolution de la fécondité des départements français entre 2014 et 2019. \n",
    "- Les deux cartes serviront de base à la discussion d’un sujet de la session :  Vers de nouvelles dynamiques de la fécondité en France ?\n"
   ]
  },
  {
   "cell_type": "markdown",
   "metadata": {},
   "source": [
    "Comme l’âge des femmes est un facteur d’infertilité et que la répartition de l’âge des femmes n’est pas identique sur les différents territoires étudiés, on vous demande d’utiliser l’indicateur conjoncturel de fécondité. \n",
    "\n",
    "Il correspond au nombre d'enfants qu'aurait une femme tout au long de sa vie, si les taux de fécondité observés l'année considérée à chaque âge demeuraient inchangés. Autrement dit, l’indicateur « gomme » l’effet de l’âge sur la fécondité sur la période et les territoires étudiés.\n",
    "\n",
    "Les cartes seront produites par un prestataire, mais en tant qu’apprenti, on vous demande de lui rédiger par écrit différentes tâches : \n",
    "- La discrétisation des 2 cartes (en précisant les bornes \"[  ]\")\n",
    "- La méthode de représentation à utiliser (quelle variable visuelle)\n",
    "- La justification de l’ensemble de vos choix (types de variables, caractéristiques statistiques, choix de représentation, choix des méthodes de discrétisation etc.)\n",
    "\n",
    "Vous devez choisir la ou les méthodes les plus adaptées selon vous et le nombre de classes, en justifiant vos choix. Référez-vous au cours sur les données, la discrétisation, la sémiologie graphique et le TD précédent sur l'univariée.\n",
    "\n",
    "Les données sont fournies dans le dossier ./data/ et proviennent de l’Insee.\n",
    "\n",
    "Attention, il n’est pas encore demandé de réaliser la carte \n"
   ]
  },
  {
   "cell_type": "markdown",
   "metadata": {
    "id": "nRWsycQBMx38"
   },
   "source": [
    "<hr style=\"height: 2px; color:  #94bd13 ; background-color:  #94bd13; width: 100%; border: none;\">\n",
    "\n",
    "# 1. Importation des packages et des données\n"
   ]
  },
  {
   "cell_type": "markdown",
   "metadata": {},
   "source": [
    "Pour vous aider, les premières étapes de l'analyse sont guidées"
   ]
  },
  {
   "cell_type": "code",
   "execution_count": 159,
   "metadata": {
    "id": "fHvZEA5jIkch"
   },
   "outputs": [],
   "source": [
    "import pandas as pd # Pour importer les données dans un Dataframe\n",
    "import seaborn as sns # Pour faire les graphiques\n",
    "from scipy import stats # Un peu de stat\n",
    "import statsmodels.api as sm # Et pourquoi pas un Q-Q plot...\n",
    "import matplotlib.pyplot as plt\n",
    "import numpy as np"
   ]
  },
  {
   "cell_type": "markdown",
   "metadata": {},
   "source": [
    "Importez les données France à l'aide de  \n",
    "\n",
    "```python\n",
    "pd.read_csv()\n",
    "```\n",
    "dans la cellule ci-dessous"
   ]
  },
  {
   "cell_type": "code",
   "execution_count": 181,
   "metadata": {},
   "outputs": [
    {
     "data": {
      "text/html": [
       "<div>\n",
       "<style scoped>\n",
       "    .dataframe tbody tr th:only-of-type {\n",
       "        vertical-align: middle;\n",
       "    }\n",
       "\n",
       "    .dataframe tbody tr th {\n",
       "        vertical-align: top;\n",
       "    }\n",
       "\n",
       "    .dataframe thead th {\n",
       "        text-align: right;\n",
       "    }\n",
       "</style>\n",
       "<table border=\"1\" class=\"dataframe\">\n",
       "  <thead>\n",
       "    <tr style=\"text-align: right;\">\n",
       "      <th></th>\n",
       "      <th>Code</th>\n",
       "      <th>Département</th>\n",
       "      <th>ICF_2014</th>\n",
       "      <th>ICF_2015</th>\n",
       "      <th>ICF_2016</th>\n",
       "      <th>ICF_2017</th>\n",
       "      <th>ICF_2018</th>\n",
       "      <th>ICF_2019</th>\n",
       "      <th>ICF_2014_bin</th>\n",
       "    </tr>\n",
       "  </thead>\n",
       "  <tbody>\n",
       "    <tr>\n",
       "      <th>0</th>\n",
       "      <td>01</td>\n",
       "      <td>Ain</td>\n",
       "      <td>1.98</td>\n",
       "      <td>1.87</td>\n",
       "      <td>1.88</td>\n",
       "      <td>1.82</td>\n",
       "      <td>1.86</td>\n",
       "      <td>1.80</td>\n",
       "      <td>(1, 2]</td>\n",
       "    </tr>\n",
       "    <tr>\n",
       "      <th>1</th>\n",
       "      <td>02</td>\n",
       "      <td>Aisne</td>\n",
       "      <td>2.14</td>\n",
       "      <td>2.09</td>\n",
       "      <td>1.97</td>\n",
       "      <td>2.02</td>\n",
       "      <td>1.95</td>\n",
       "      <td>1.91</td>\n",
       "      <td>(2, 3]</td>\n",
       "    </tr>\n",
       "    <tr>\n",
       "      <th>2</th>\n",
       "      <td>03</td>\n",
       "      <td>Allier</td>\n",
       "      <td>1.93</td>\n",
       "      <td>1.86</td>\n",
       "      <td>1.91</td>\n",
       "      <td>1.85</td>\n",
       "      <td>1.81</td>\n",
       "      <td>1.85</td>\n",
       "      <td>(1, 2]</td>\n",
       "    </tr>\n",
       "    <tr>\n",
       "      <th>3</th>\n",
       "      <td>04</td>\n",
       "      <td>Alpes-de-Haute-Provence</td>\n",
       "      <td>1.98</td>\n",
       "      <td>1.95</td>\n",
       "      <td>1.93</td>\n",
       "      <td>1.85</td>\n",
       "      <td>1.82</td>\n",
       "      <td>1.80</td>\n",
       "      <td>(1, 2]</td>\n",
       "    </tr>\n",
       "    <tr>\n",
       "      <th>4</th>\n",
       "      <td>05</td>\n",
       "      <td>Hautes-Alpes</td>\n",
       "      <td>1.93</td>\n",
       "      <td>1.86</td>\n",
       "      <td>1.80</td>\n",
       "      <td>1.69</td>\n",
       "      <td>1.77</td>\n",
       "      <td>1.78</td>\n",
       "      <td>(1, 2]</td>\n",
       "    </tr>\n",
       "    <tr>\n",
       "      <th>...</th>\n",
       "      <td>...</td>\n",
       "      <td>...</td>\n",
       "      <td>...</td>\n",
       "      <td>...</td>\n",
       "      <td>...</td>\n",
       "      <td>...</td>\n",
       "      <td>...</td>\n",
       "      <td>...</td>\n",
       "      <td>...</td>\n",
       "    </tr>\n",
       "    <tr>\n",
       "      <th>96</th>\n",
       "      <td>971</td>\n",
       "      <td>Guadeloupe</td>\n",
       "      <td>2.19</td>\n",
       "      <td>2.10</td>\n",
       "      <td>2.14</td>\n",
       "      <td>1.94</td>\n",
       "      <td>2.04</td>\n",
       "      <td>2.25</td>\n",
       "      <td>(2, 3]</td>\n",
       "    </tr>\n",
       "    <tr>\n",
       "      <th>97</th>\n",
       "      <td>973</td>\n",
       "      <td>Martinique</td>\n",
       "      <td>2.08</td>\n",
       "      <td>1.94</td>\n",
       "      <td>1.90</td>\n",
       "      <td>1.87</td>\n",
       "      <td>1.91</td>\n",
       "      <td>2.00</td>\n",
       "      <td>(2, 3]</td>\n",
       "    </tr>\n",
       "    <tr>\n",
       "      <th>98</th>\n",
       "      <td>972</td>\n",
       "      <td>Guyane</td>\n",
       "      <td>3.44</td>\n",
       "      <td>3.44</td>\n",
       "      <td>3.61</td>\n",
       "      <td>3.92</td>\n",
       "      <td>3.79</td>\n",
       "      <td>3.74</td>\n",
       "      <td>(3, 5]</td>\n",
       "    </tr>\n",
       "    <tr>\n",
       "      <th>99</th>\n",
       "      <td>974</td>\n",
       "      <td>La Réunion</td>\n",
       "      <td>2.44</td>\n",
       "      <td>2.46</td>\n",
       "      <td>2.43</td>\n",
       "      <td>2.44</td>\n",
       "      <td>2.40</td>\n",
       "      <td>2.39</td>\n",
       "      <td>(2, 3]</td>\n",
       "    </tr>\n",
       "    <tr>\n",
       "      <th>100</th>\n",
       "      <td>NaN</td>\n",
       "      <td>Mayotte</td>\n",
       "      <td>4.12</td>\n",
       "      <td>4.87</td>\n",
       "      <td>4.95</td>\n",
       "      <td>4.92</td>\n",
       "      <td>4.66</td>\n",
       "      <td>4.59</td>\n",
       "      <td>(3, 5]</td>\n",
       "    </tr>\n",
       "  </tbody>\n",
       "</table>\n",
       "<p>101 rows × 9 columns</p>\n",
       "</div>"
      ],
      "text/plain": [
       "    Code              Département  ICF_2014  ICF_2015  ICF_2016  ICF_2017  \\\n",
       "0     01                      Ain      1.98      1.87      1.88      1.82   \n",
       "1     02                    Aisne      2.14      2.09      1.97      2.02   \n",
       "2     03                   Allier      1.93      1.86      1.91      1.85   \n",
       "3     04  Alpes-de-Haute-Provence      1.98      1.95      1.93      1.85   \n",
       "4     05             Hautes-Alpes      1.93      1.86      1.80      1.69   \n",
       "..   ...                      ...       ...       ...       ...       ...   \n",
       "96   971               Guadeloupe      2.19      2.10      2.14      1.94   \n",
       "97   973               Martinique      2.08      1.94      1.90      1.87   \n",
       "98   972                   Guyane      3.44      3.44      3.61      3.92   \n",
       "99   974               La Réunion      2.44      2.46      2.43      2.44   \n",
       "100  NaN                  Mayotte      4.12      4.87      4.95      4.92   \n",
       "\n",
       "     ICF_2018  ICF_2019 ICF_2014_bin  \n",
       "0        1.86      1.80       (1, 2]  \n",
       "1        1.95      1.91       (2, 3]  \n",
       "2        1.81      1.85       (1, 2]  \n",
       "3        1.82      1.80       (1, 2]  \n",
       "4        1.77      1.78       (1, 2]  \n",
       "..        ...       ...          ...  \n",
       "96       2.04      2.25       (2, 3]  \n",
       "97       1.91      2.00       (2, 3]  \n",
       "98       3.79      3.74       (3, 5]  \n",
       "99       2.40      2.39       (2, 3]  \n",
       "100      4.66      4.59       (3, 5]  \n",
       "\n",
       "[101 rows x 9 columns]"
      ]
     },
     "execution_count": 181,
     "metadata": {},
     "output_type": "execute_result"
    }
   ],
   "source": [
    "df_fr['ICF_2014_bin'] = pd.cut(df_fr['ICF_2014'],[0,1,2,3,5])\n",
    "df_fr"
   ]
  },
  {
   "cell_type": "code",
   "execution_count": 160,
   "metadata": {},
   "outputs": [
    {
     "data": {
      "text/html": [
       "<div>\n",
       "<style scoped>\n",
       "    .dataframe tbody tr th:only-of-type {\n",
       "        vertical-align: middle;\n",
       "    }\n",
       "\n",
       "    .dataframe tbody tr th {\n",
       "        vertical-align: top;\n",
       "    }\n",
       "\n",
       "    .dataframe thead th {\n",
       "        text-align: right;\n",
       "    }\n",
       "</style>\n",
       "<table border=\"1\" class=\"dataframe\">\n",
       "  <thead>\n",
       "    <tr style=\"text-align: right;\">\n",
       "      <th></th>\n",
       "      <th>Code</th>\n",
       "      <th>Département</th>\n",
       "      <th>ICF_2014</th>\n",
       "      <th>ICF_2015</th>\n",
       "      <th>ICF_2016</th>\n",
       "      <th>ICF_2017</th>\n",
       "      <th>ICF_2018</th>\n",
       "      <th>ICF_2019</th>\n",
       "    </tr>\n",
       "  </thead>\n",
       "  <tbody>\n",
       "    <tr>\n",
       "      <th>0</th>\n",
       "      <td>01</td>\n",
       "      <td>Ain</td>\n",
       "      <td>1.98</td>\n",
       "      <td>1.87</td>\n",
       "      <td>1.88</td>\n",
       "      <td>1.82</td>\n",
       "      <td>1.86</td>\n",
       "      <td>1.80</td>\n",
       "    </tr>\n",
       "    <tr>\n",
       "      <th>1</th>\n",
       "      <td>02</td>\n",
       "      <td>Aisne</td>\n",
       "      <td>2.14</td>\n",
       "      <td>2.09</td>\n",
       "      <td>1.97</td>\n",
       "      <td>2.02</td>\n",
       "      <td>1.95</td>\n",
       "      <td>1.91</td>\n",
       "    </tr>\n",
       "    <tr>\n",
       "      <th>2</th>\n",
       "      <td>03</td>\n",
       "      <td>Allier</td>\n",
       "      <td>1.93</td>\n",
       "      <td>1.86</td>\n",
       "      <td>1.91</td>\n",
       "      <td>1.85</td>\n",
       "      <td>1.81</td>\n",
       "      <td>1.85</td>\n",
       "    </tr>\n",
       "    <tr>\n",
       "      <th>3</th>\n",
       "      <td>04</td>\n",
       "      <td>Alpes-de-Haute-Provence</td>\n",
       "      <td>1.98</td>\n",
       "      <td>1.95</td>\n",
       "      <td>1.93</td>\n",
       "      <td>1.85</td>\n",
       "      <td>1.82</td>\n",
       "      <td>1.80</td>\n",
       "    </tr>\n",
       "    <tr>\n",
       "      <th>4</th>\n",
       "      <td>05</td>\n",
       "      <td>Hautes-Alpes</td>\n",
       "      <td>1.93</td>\n",
       "      <td>1.86</td>\n",
       "      <td>1.80</td>\n",
       "      <td>1.69</td>\n",
       "      <td>1.77</td>\n",
       "      <td>1.78</td>\n",
       "    </tr>\n",
       "    <tr>\n",
       "      <th>...</th>\n",
       "      <td>...</td>\n",
       "      <td>...</td>\n",
       "      <td>...</td>\n",
       "      <td>...</td>\n",
       "      <td>...</td>\n",
       "      <td>...</td>\n",
       "      <td>...</td>\n",
       "      <td>...</td>\n",
       "    </tr>\n",
       "    <tr>\n",
       "      <th>96</th>\n",
       "      <td>971</td>\n",
       "      <td>Guadeloupe</td>\n",
       "      <td>2.19</td>\n",
       "      <td>2.10</td>\n",
       "      <td>2.14</td>\n",
       "      <td>1.94</td>\n",
       "      <td>2.04</td>\n",
       "      <td>2.25</td>\n",
       "    </tr>\n",
       "    <tr>\n",
       "      <th>97</th>\n",
       "      <td>973</td>\n",
       "      <td>Martinique</td>\n",
       "      <td>2.08</td>\n",
       "      <td>1.94</td>\n",
       "      <td>1.90</td>\n",
       "      <td>1.87</td>\n",
       "      <td>1.91</td>\n",
       "      <td>2.00</td>\n",
       "    </tr>\n",
       "    <tr>\n",
       "      <th>98</th>\n",
       "      <td>972</td>\n",
       "      <td>Guyane</td>\n",
       "      <td>3.44</td>\n",
       "      <td>3.44</td>\n",
       "      <td>3.61</td>\n",
       "      <td>3.92</td>\n",
       "      <td>3.79</td>\n",
       "      <td>3.74</td>\n",
       "    </tr>\n",
       "    <tr>\n",
       "      <th>99</th>\n",
       "      <td>974</td>\n",
       "      <td>La Réunion</td>\n",
       "      <td>2.44</td>\n",
       "      <td>2.46</td>\n",
       "      <td>2.43</td>\n",
       "      <td>2.44</td>\n",
       "      <td>2.40</td>\n",
       "      <td>2.39</td>\n",
       "    </tr>\n",
       "    <tr>\n",
       "      <th>100</th>\n",
       "      <td>NaN</td>\n",
       "      <td>Mayotte</td>\n",
       "      <td>4.12</td>\n",
       "      <td>4.87</td>\n",
       "      <td>4.95</td>\n",
       "      <td>4.92</td>\n",
       "      <td>4.66</td>\n",
       "      <td>4.59</td>\n",
       "    </tr>\n",
       "  </tbody>\n",
       "</table>\n",
       "<p>101 rows × 8 columns</p>\n",
       "</div>"
      ],
      "text/plain": [
       "    Code              Département  ICF_2014  ICF_2015  ICF_2016  ICF_2017  \\\n",
       "0     01                      Ain      1.98      1.87      1.88      1.82   \n",
       "1     02                    Aisne      2.14      2.09      1.97      2.02   \n",
       "2     03                   Allier      1.93      1.86      1.91      1.85   \n",
       "3     04  Alpes-de-Haute-Provence      1.98      1.95      1.93      1.85   \n",
       "4     05             Hautes-Alpes      1.93      1.86      1.80      1.69   \n",
       "..   ...                      ...       ...       ...       ...       ...   \n",
       "96   971               Guadeloupe      2.19      2.10      2.14      1.94   \n",
       "97   973               Martinique      2.08      1.94      1.90      1.87   \n",
       "98   972                   Guyane      3.44      3.44      3.61      3.92   \n",
       "99   974               La Réunion      2.44      2.46      2.43      2.44   \n",
       "100  NaN                  Mayotte      4.12      4.87      4.95      4.92   \n",
       "\n",
       "     ICF_2018  ICF_2019  \n",
       "0        1.86      1.80  \n",
       "1        1.95      1.91  \n",
       "2        1.81      1.85  \n",
       "3        1.82      1.80  \n",
       "4        1.77      1.78  \n",
       "..        ...       ...  \n",
       "96       2.04      2.25  \n",
       "97       1.91      2.00  \n",
       "98       3.79      3.74  \n",
       "99       2.40      2.39  \n",
       "100      4.66      4.59  \n",
       "\n",
       "[101 rows x 8 columns]"
      ]
     },
     "execution_count": 160,
     "metadata": {},
     "output_type": "execute_result"
    }
   ],
   "source": [
    "df_fr = pd.read_csv(\"./data/TD_France.csv\", decimal=\",\", sep=\";\")\n",
    "df_fr"
   ]
  },
  {
   "cell_type": "markdown",
   "metadata": {
    "id": "nRWsycQBMx38"
   },
   "source": [
    "<hr style=\"height: 2px; color:  #94bd13 ; background-color:  #94bd13; width: 100%; border: none;\">\n",
    "\n",
    "# 2. Représentations graphiques\n",
    "\n",
    "Utilisez le Dataframe précédemment créé pour réaliser les histogrammes et/ou les boxplots des données qui vous intéressent. N'oubliez pas, pour créer une nouvelle cellule de code, appuyez sur B (sauf sous Collaboratory)\n",
    "\n",
    "Pour créer une cellule de texte (Markdown), ajoutez une nouvelle cellule avec B puis appuyez sur M\n"
   ]
  },
  {
   "cell_type": "markdown",
   "metadata": {},
   "source": [
    "## 2.1 Les histogrammes"
   ]
  },
  {
   "cell_type": "markdown",
   "metadata": {},
   "source": [
    "### 2.1.1 Avec toutes les données"
   ]
  },
  {
   "cell_type": "code",
   "execution_count": 162,
   "metadata": {},
   "outputs": [
    {
     "data": {
      "text/plain": [
       "<seaborn.axisgrid.FacetGrid at 0x7f06ac33c610>"
      ]
     },
     "execution_count": 162,
     "metadata": {},
     "output_type": "execute_result"
    },
    {
     "data": {
      "image/png": "[encoded data removed]",
      "text/plain": [
       "<Figure size 360x360 with 1 Axes>"
      ]
     },
     "metadata": {
      "needs_background": "light"
     },
     "output_type": "display_data"
    }
   ],
   "source": [
    "annee = 2014\n",
    "\n",
    "hist_14 = sns.displot(data=df_fr, x=f\"ICF_{annee}\", bins=10, kde=True)\n",
    "hist_14.set(title=f'ICF des départements français en {annee}',\n",
    "         xlabel='Indicateur conjoncturel de fécondité',\n",
    "         ylabel='Effectif',\n",
    "         xlim = (1.2,4.2),\n",
    "         ylim=(0, 80))"
   ]
  },
  {
   "cell_type": "code",
   "execution_count": 109,
   "metadata": {},
   "outputs": [
    {
     "data": {
      "text/plain": [
       "<seaborn.axisgrid.FacetGrid at 0x7f06accfda50>"
      ]
     },
     "execution_count": 109,
     "metadata": {},
     "output_type": "execute_result"
    },
    {
     "data": {
      "image/png": "[encoded data removed]",
      "text/plain": [
       "<Figure size 360x360 with 1 Axes>"
      ]
     },
     "metadata": {
      "needs_background": "light"
     },
     "output_type": "display_data"
    }
   ],
   "source": [
    "annee = 2019\n",
    "hist_19 = sns.displot(data=df_fr, x=f\"ICF_{annee}\", bins=10, kde=True)\n",
    "hist_19.set(title=f'ICF des départements français en {annee}',\n",
    "         xlabel='Indicateur conjoncturel de fécondité',\n",
    "         ylabel='Effectif',\n",
    "         xlim = (1.2,4.2),\n",
    "         ylim=(0, 80))"
   ]
  },
  {
   "cell_type": "markdown",
   "metadata": {},
   "source": [
    "### 2.1.2 Sans les valeurs extrêmes"
   ]
  },
  {
   "cell_type": "markdown",
   "metadata": {},
   "source": [
    "On décide de vérifier la répartition des données sans les valeurs extrèmes.\n",
    "\n",
    "NB. Le dataframe est passé en melt pour pouvoir appliquer la méthode facet (graphiques 2014 et 2018 côte à côte). Les variables sont passées en ligne, une colonne value est ajoutée"
   ]
  },
  {
   "cell_type": "code",
   "execution_count": 163,
   "metadata": {},
   "outputs": [
    {
     "data": {
      "text/html": [
       "<div>\n",
       "<style scoped>\n",
       "    .dataframe tbody tr th:only-of-type {\n",
       "        vertical-align: middle;\n",
       "    }\n",
       "\n",
       "    .dataframe tbody tr th {\n",
       "        vertical-align: top;\n",
       "    }\n",
       "\n",
       "    .dataframe thead th {\n",
       "        text-align: right;\n",
       "    }\n",
       "</style>\n",
       "<table border=\"1\" class=\"dataframe\">\n",
       "  <thead>\n",
       "    <tr style=\"text-align: right;\">\n",
       "      <th></th>\n",
       "      <th>Code</th>\n",
       "      <th>Département</th>\n",
       "      <th>variable</th>\n",
       "      <th>value</th>\n",
       "    </tr>\n",
       "  </thead>\n",
       "  <tbody>\n",
       "    <tr>\n",
       "      <th>0</th>\n",
       "      <td>01</td>\n",
       "      <td>Ain</td>\n",
       "      <td>ICF_2014</td>\n",
       "      <td>1.98</td>\n",
       "    </tr>\n",
       "    <tr>\n",
       "      <th>1</th>\n",
       "      <td>02</td>\n",
       "      <td>Aisne</td>\n",
       "      <td>ICF_2014</td>\n",
       "      <td>2.14</td>\n",
       "    </tr>\n",
       "    <tr>\n",
       "      <th>2</th>\n",
       "      <td>03</td>\n",
       "      <td>Allier</td>\n",
       "      <td>ICF_2014</td>\n",
       "      <td>1.93</td>\n",
       "    </tr>\n",
       "    <tr>\n",
       "      <th>3</th>\n",
       "      <td>04</td>\n",
       "      <td>Alpes-de-Haute-Provence</td>\n",
       "      <td>ICF_2014</td>\n",
       "      <td>1.98</td>\n",
       "    </tr>\n",
       "    <tr>\n",
       "      <th>4</th>\n",
       "      <td>05</td>\n",
       "      <td>Hautes-Alpes</td>\n",
       "      <td>ICF_2014</td>\n",
       "      <td>1.93</td>\n",
       "    </tr>\n",
       "    <tr>\n",
       "      <th>...</th>\n",
       "      <td>...</td>\n",
       "      <td>...</td>\n",
       "      <td>...</td>\n",
       "      <td>...</td>\n",
       "    </tr>\n",
       "    <tr>\n",
       "      <th>599</th>\n",
       "      <td>94</td>\n",
       "      <td>Val-de-Marne</td>\n",
       "      <td>ICF_2019</td>\n",
       "      <td>1.96</td>\n",
       "    </tr>\n",
       "    <tr>\n",
       "      <th>600</th>\n",
       "      <td>95</td>\n",
       "      <td>Val-d'Oise</td>\n",
       "      <td>ICF_2019</td>\n",
       "      <td>2.29</td>\n",
       "    </tr>\n",
       "    <tr>\n",
       "      <th>601</th>\n",
       "      <td>971</td>\n",
       "      <td>Guadeloupe</td>\n",
       "      <td>ICF_2019</td>\n",
       "      <td>2.25</td>\n",
       "    </tr>\n",
       "    <tr>\n",
       "      <th>602</th>\n",
       "      <td>973</td>\n",
       "      <td>Martinique</td>\n",
       "      <td>ICF_2019</td>\n",
       "      <td>2.00</td>\n",
       "    </tr>\n",
       "    <tr>\n",
       "      <th>604</th>\n",
       "      <td>974</td>\n",
       "      <td>La Réunion</td>\n",
       "      <td>ICF_2019</td>\n",
       "      <td>2.39</td>\n",
       "    </tr>\n",
       "  </tbody>\n",
       "</table>\n",
       "<p>594 rows × 4 columns</p>\n",
       "</div>"
      ],
      "text/plain": [
       "    Code              Département  variable  value\n",
       "0     01                      Ain  ICF_2014   1.98\n",
       "1     02                    Aisne  ICF_2014   2.14\n",
       "2     03                   Allier  ICF_2014   1.93\n",
       "3     04  Alpes-de-Haute-Provence  ICF_2014   1.98\n",
       "4     05             Hautes-Alpes  ICF_2014   1.93\n",
       "..   ...                      ...       ...    ...\n",
       "599   94             Val-de-Marne  ICF_2019   1.96\n",
       "600   95               Val-d'Oise  ICF_2019   2.29\n",
       "601  971               Guadeloupe  ICF_2019   2.25\n",
       "602  973               Martinique  ICF_2019   2.00\n",
       "604  974               La Réunion  ICF_2019   2.39\n",
       "\n",
       "[594 rows x 4 columns]"
      ]
     },
     "execution_count": 163,
     "metadata": {},
     "output_type": "execute_result"
    }
   ],
   "source": [
    "df_fr_m = pd.melt(df_fr, id_vars=['Code','Département'])\n",
    "df_fr_m.query(\"value < 3\")"
   ]
  },
  {
   "cell_type": "markdown",
   "metadata": {},
   "source": [
    "Pour supprimer les valeurs extrèmes, on filtre le dataframe et on ne conserve que 2014 et 2018"
   ]
  },
  {
   "cell_type": "code",
   "execution_count": 164,
   "metadata": {},
   "outputs": [
    {
     "data": {
      "text/plain": [
       "<seaborn.axisgrid.FacetGrid at 0x7f06ac0793d0>"
      ]
     },
     "execution_count": 164,
     "metadata": {},
     "output_type": "execute_result"
    },
    {
     "data": {
      "image/png": "[encoded data removed]",
      "text/plain": [
       "<Figure size 432x216 with 2 Axes>"
      ]
     },
     "metadata": {
      "needs_background": "light"
     },
     "output_type": "display_data"
    }
   ],
   "source": [
    "# Création, du facet, avec autant de colonne qu'il y a de modalités dans la colonne variable du dataframe\n",
    "g = sns.FacetGrid(df_fr_m.query(\"variable in ('ICF_2014','ICF_2019') and value <3\"),\n",
    "                  col=\"variable\", )\n",
    "\n",
    "# Il n'est pas possible de faire un displot en facet... Seaborn recommande d'utiliser histplot\n",
    "g.map_dataframe(sns.histplot, binwidth=0.1, binrange=(1.4, 2.5))"
   ]
  },
  {
   "cell_type": "markdown",
   "metadata": {
    "tags": []
   },
   "source": [
    "## 2.2 Boxplot pour voir les tendances"
   ]
  },
  {
   "cell_type": "markdown",
   "metadata": {
    "tags": []
   },
   "source": [
    "### 2.2.1 Avec toutes les valeurs"
   ]
  },
  {
   "cell_type": "code",
   "execution_count": 165,
   "metadata": {},
   "outputs": [
    {
     "data": {
      "text/plain": [
       "[Text(0.5, 1.0, \"Evolution de l'inndicateurs conjoncturel de fécondité\\ndans les départements français\")]"
      ]
     },
     "execution_count": 165,
     "metadata": {},
     "output_type": "execute_result"
    },
    {
     "data": {
      "image/png": "[encoded data removed]",
      "text/plain": [
       "<Figure size 432x288 with 1 Axes>"
      ]
     },
     "metadata": {
      "needs_background": "light"
     },
     "output_type": "display_data"
    }
   ],
   "source": [
    "bp = sns.boxplot(data=df_fr)\n",
    "bp.set(title=\"Evolution de l'inndicateurs conjoncturel de fécondité\\ndans les départements français\")"
   ]
  },
  {
   "cell_type": "markdown",
   "metadata": {
    "tags": []
   },
   "source": [
    "### 2.2.2 Sans les extrêmes"
   ]
  },
  {
   "cell_type": "code",
   "execution_count": 166,
   "metadata": {},
   "outputs": [
    {
     "data": {
      "text/plain": [
       "[Text(0.5, 1.0, \"Evolution de l'inndicateurs conjoncturel de fécondité\\ndans les départements français hors Mayotte et Guyane\")]"
      ]
     },
     "execution_count": 166,
     "metadata": {},
     "output_type": "execute_result"
    },
    {
     "data": {
      "image/png": "[encoded data removed]",
      "text/plain": [
       "<Figure size 432x288 with 1 Axes>"
      ]
     },
     "metadata": {
      "needs_background": "light"
     },
     "output_type": "display_data"
    }
   ],
   "source": [
    "bp = sns.boxplot(data=df_fr.query(\"ICF_2014 <3 and ICF_2015 <3 \"))\n",
    "title = \"Evolution de l'inndicateurs conjoncturel de fécondité\\ndans les départements français hors Mayotte et Guyane\"\n",
    "bp.set(title=title)"
   ]
  },
  {
   "cell_type": "markdown",
   "metadata": {},
   "source": [
    "## Exemple Altair"
   ]
  },
  {
   "cell_type": "code",
   "execution_count": 167,
   "metadata": {},
   "outputs": [
    {
     "data": {
      "text/html": [
       "\n",
       "<div id=\"altair-viz-e94168adf8cf4d32817914ed7bb7e712\"></div>\n",
       "<script type=\"text/javascript\">\n",
       "  (function(spec, embedOpt){\n",
       "    let outputDiv = document.currentScript.previousElementSibling;\n",
       "    if (outputDiv.id !== \"altair-viz-e94168adf8cf4d32817914ed7bb7e712\") {\n",
       "      outputDiv = document.getElementById(\"altair-viz-e94168adf8cf4d32817914ed7bb7e712\");\n",
       "    }\n",
       "    const paths = {\n",
       "      \"vega\": \"https://cdn.jsdelivr.net/npm//vega@5?noext\",\n",
       "      \"vega-lib\": \"https://cdn.jsdelivr.net/npm//vega-lib?noext\",\n",
       "      \"vega-lite\": \"https://cdn.jsdelivr.net/npm//vega-lite@4.8.1?noext\",\n",
       "      \"vega-embed\": \"https://cdn.jsdelivr.net/npm//vega-embed@6?noext\",\n",
       "    };\n",
       "\n",
       "    function loadScript(lib) {\n",
       "      return new Promise(function(resolve, reject) {\n",
       "        var s = document.createElement('script');\n",
       "        s.src = paths[lib];\n",
       "        s.async = true;\n",
       "        s.onload = () => resolve(paths[lib]);\n",
       "        s.onerror = () => reject(`Error loading script: ${paths[lib]}`);\n",
       "        document.getElementsByTagName(\"head\")[0].appendChild(s);\n",
       "      });\n",
       "    }\n",
       "\n",
       "    function showError(err) {\n",
       "      outputDiv.innerHTML = `<div class=\"error\" style=\"color:red;\">${err}</div>`;\n",
       "      throw err;\n",
       "    }\n",
       "\n",
       "    function displayChart(vegaEmbed) {\n",
       "      vegaEmbed(outputDiv, spec, embedOpt)\n",
       "        .catch(err => showError(`Javascript Error: ${err.message}<br>This usually means there's a typo in your chart specification. See the javascript console for the full traceback.`));\n",
       "    }\n",
       "\n",
       "    if(typeof define === \"function\" && define.amd) {\n",
       "      requirejs.config({paths});\n",
       "      require([\"vega-embed\"], displayChart, err => showError(`Error loading script: ${err.message}`));\n",
       "    } else if (typeof vegaEmbed === \"function\") {\n",
       "      displayChart(vegaEmbed);\n",
       "    } else {\n",
       "      loadScript(\"vega\")\n",
       "        .then(() => loadScript(\"vega-lite\"))\n",
       "        .then(() => loadScript(\"vega-embed\"))\n",
       "        .catch(showError)\n",
       "        .then(() => displayChart(vegaEmbed));\n",
       "    }\n",
       "  })({\"config\": {\"view\": {\"continuousWidth\": 400, \"continuousHeight\": 300}}, \"data\": {\"name\": \"data-9af9c7eef0a61df3559ed68312f3d311\"}, \"mark\": {\"type\": \"bar\", \"size\": 15}, \"encoding\": {\"tooltip\": [{\"type\": \"quantitative\", \"field\": \"ICF_2014\"}], \"x\": {\"type\": \"quantitative\", \"bin\": {\"extent\": [1.2, 4.5], \"step\": 0.15}, \"field\": \"ICF_2014\"}, \"y\": {\"type\": \"quantitative\", \"aggregate\": \"count\"}}, \"title\": \"Test Altair\", \"$schema\": \"https://vega.github.io/schema/vega-lite/v4.8.1.json\", \"datasets\": {\"data-9af9c7eef0a61df3559ed68312f3d311\": [{\"Code\": \"01\", \"D\\u00e9partement\": \"Ain\", \"ICF_2014\": 1.98, \"ICF_2015\": 1.87, \"ICF_2016\": 1.88, \"ICF_2017\": 1.82, \"ICF_2018\": 1.86, \"ICF_2019\": 1.8}, {\"Code\": \"02\", \"D\\u00e9partement\": \"Aisne\", \"ICF_2014\": 2.14, \"ICF_2015\": 2.09, \"ICF_2016\": 1.97, \"ICF_2017\": 2.02, \"ICF_2018\": 1.95, \"ICF_2019\": 1.91}, {\"Code\": \"03\", \"D\\u00e9partement\": \"Allier\", \"ICF_2014\": 1.93, \"ICF_2015\": 1.86, \"ICF_2016\": 1.91, \"ICF_2017\": 1.85, \"ICF_2018\": 1.81, \"ICF_2019\": 1.85}, {\"Code\": \"04\", \"D\\u00e9partement\": \"Alpes-de-Haute-Provence\", \"ICF_2014\": 1.98, \"ICF_2015\": 1.95, \"ICF_2016\": 1.93, \"ICF_2017\": 1.85, \"ICF_2018\": 1.82, \"ICF_2019\": 1.8}, {\"Code\": \"05\", \"D\\u00e9partement\": \"Hautes-Alpes\", \"ICF_2014\": 1.93, \"ICF_2015\": 1.86, \"ICF_2016\": 1.8, \"ICF_2017\": 1.69, \"ICF_2018\": 1.77, \"ICF_2019\": 1.78}, {\"Code\": \"06\", \"D\\u00e9partement\": \"Alpes-Maritimes\", \"ICF_2014\": 1.94, \"ICF_2015\": 1.92, \"ICF_2016\": 1.91, \"ICF_2017\": 1.91, \"ICF_2018\": 1.88, \"ICF_2019\": 1.88}, {\"Code\": \"07\", \"D\\u00e9partement\": \"Ard\\u00e8che\", \"ICF_2014\": 2.04, \"ICF_2015\": 2.05, \"ICF_2016\": 1.81, \"ICF_2017\": 1.92, \"ICF_2018\": 1.87, \"ICF_2019\": 1.97}, {\"Code\": \"08\", \"D\\u00e9partement\": \"Ardennes\", \"ICF_2014\": 1.95, \"ICF_2015\": 1.87, \"ICF_2016\": 1.87, \"ICF_2017\": 1.75, \"ICF_2018\": 1.74, \"ICF_2019\": 1.86}, {\"Code\": \"09\", \"D\\u00e9partement\": \"Ari\\u00e8ge\", \"ICF_2014\": 1.87, \"ICF_2015\": 1.91, \"ICF_2016\": 1.87, \"ICF_2017\": 1.77, \"ICF_2018\": 1.74, \"ICF_2019\": 1.71}, {\"Code\": \"10\", \"D\\u00e9partement\": \"Aube\", \"ICF_2014\": 1.92, \"ICF_2015\": 1.97, \"ICF_2016\": 1.9, \"ICF_2017\": 1.79, \"ICF_2018\": 1.82, \"ICF_2019\": 1.79}, {\"Code\": \"11\", \"D\\u00e9partement\": \"Aude\", \"ICF_2014\": 1.92, \"ICF_2015\": 1.93, \"ICF_2016\": 1.86, \"ICF_2017\": 1.84, \"ICF_2018\": 1.79, \"ICF_2019\": 1.79}, {\"Code\": \"12\", \"D\\u00e9partement\": \"Aveyron\", \"ICF_2014\": 1.96, \"ICF_2015\": 1.82, \"ICF_2016\": 1.86, \"ICF_2017\": 1.81, \"ICF_2018\": 1.78, \"ICF_2019\": 1.74}, {\"Code\": \"13\", \"D\\u00e9partement\": \"Bouches-du-Rh\\u00f4ne\", \"ICF_2014\": 2.09, \"ICF_2015\": 2.08, \"ICF_2016\": 2.05, \"ICF_2017\": 2.05, \"ICF_2018\": 2.03, \"ICF_2019\": 2.01}, {\"Code\": \"14\", \"D\\u00e9partement\": \"Calvados\", \"ICF_2014\": 1.85, \"ICF_2015\": 1.8, \"ICF_2016\": 1.74, \"ICF_2017\": 1.69, \"ICF_2018\": 1.69, \"ICF_2019\": 1.69}, {\"Code\": \"15\", \"D\\u00e9partement\": \"Cantal\", \"ICF_2014\": 1.79, \"ICF_2015\": 1.69, \"ICF_2016\": 1.64, \"ICF_2017\": 1.67, \"ICF_2018\": 1.75, \"ICF_2019\": 1.64}, {\"Code\": \"16\", \"D\\u00e9partement\": \"Charente\", \"ICF_2014\": 1.91, \"ICF_2015\": 1.87, \"ICF_2016\": 1.81, \"ICF_2017\": 1.74, \"ICF_2018\": 1.7, \"ICF_2019\": 1.73}, {\"Code\": \"17\", \"D\\u00e9partement\": \"Charente-Maritime\", \"ICF_2014\": 1.86, \"ICF_2015\": 1.74, \"ICF_2016\": 1.76, \"ICF_2017\": 1.69, \"ICF_2018\": 1.67, \"ICF_2019\": 1.72}, {\"Code\": \"18\", \"D\\u00e9partement\": \"Cher\", \"ICF_2014\": 2.01, \"ICF_2015\": 1.86, \"ICF_2016\": 1.93, \"ICF_2017\": 1.88, \"ICF_2018\": 1.82, \"ICF_2019\": 1.92}, {\"Code\": \"19\", \"D\\u00e9partement\": \"Corr\\u00e8ze\", \"ICF_2014\": 1.85, \"ICF_2015\": 1.72, \"ICF_2016\": 1.76, \"ICF_2017\": 1.74, \"ICF_2018\": 1.75, \"ICF_2019\": 1.7}, {\"Code\": \"2A\", \"D\\u00e9partement\": \"Corse-du-Sud\", \"ICF_2014\": 1.49, \"ICF_2015\": 1.45, \"ICF_2016\": 1.48, \"ICF_2017\": 1.42, \"ICF_2018\": 1.5, \"ICF_2019\": 1.46}, {\"Code\": \"2B\", \"D\\u00e9partement\": \"Haute-Corse\", \"ICF_2014\": 1.55, \"ICF_2015\": 1.47, \"ICF_2016\": 1.47, \"ICF_2017\": 1.49, \"ICF_2018\": 1.37, \"ICF_2019\": 1.38}, {\"Code\": \"21\", \"D\\u00e9partement\": \"C\\u00f4te-d'Or\", \"ICF_2014\": 1.78, \"ICF_2015\": 1.69, \"ICF_2016\": 1.67, \"ICF_2017\": 1.69, \"ICF_2018\": 1.65, \"ICF_2019\": 1.62}, {\"Code\": \"22\", \"D\\u00e9partement\": \"C\\u00f4tes-d'Armor\", \"ICF_2014\": 2.04, \"ICF_2015\": 1.99, \"ICF_2016\": 1.94, \"ICF_2017\": 1.93, \"ICF_2018\": 1.96, \"ICF_2019\": 1.91}, {\"Code\": \"23\", \"D\\u00e9partement\": \"Creuse\", \"ICF_2014\": 1.75, \"ICF_2015\": 1.78, \"ICF_2016\": 1.67, \"ICF_2017\": 1.74, \"ICF_2018\": 1.73, \"ICF_2019\": 1.68}, {\"Code\": \"24\", \"D\\u00e9partement\": \"Dordogne\", \"ICF_2014\": 1.87, \"ICF_2015\": 1.77, \"ICF_2016\": 1.78, \"ICF_2017\": 1.77, \"ICF_2018\": 1.65, \"ICF_2019\": 1.7}, {\"Code\": \"25\", \"D\\u00e9partement\": \"Doubs\", \"ICF_2014\": 1.98, \"ICF_2015\": 1.95, \"ICF_2016\": 1.91, \"ICF_2017\": 1.86, \"ICF_2018\": 1.83, \"ICF_2019\": 1.77}, {\"Code\": \"26\", \"D\\u00e9partement\": \"Dr\\u00f4me\", \"ICF_2014\": 2.13, \"ICF_2015\": 2.06, \"ICF_2016\": 1.98, \"ICF_2017\": 1.98, \"ICF_2018\": 1.92, \"ICF_2019\": 1.95}, {\"Code\": \"27\", \"D\\u00e9partement\": \"Eure\", \"ICF_2014\": 2.09, \"ICF_2015\": 2.02, \"ICF_2016\": 2.07, \"ICF_2017\": 1.98, \"ICF_2018\": 1.96, \"ICF_2019\": 1.92}, {\"Code\": \"28\", \"D\\u00e9partement\": \"Eure-et-Loir\", \"ICF_2014\": 2.14, \"ICF_2015\": 2.07, \"ICF_2016\": 2.15, \"ICF_2017\": 2.02, \"ICF_2018\": 2.03, \"ICF_2019\": 2.0}, {\"Code\": \"29\", \"D\\u00e9partement\": \"Finist\\u00e8re\", \"ICF_2014\": 1.9, \"ICF_2015\": 1.85, \"ICF_2016\": 1.79, \"ICF_2017\": 1.79, \"ICF_2018\": 1.74, \"ICF_2019\": 1.72}, {\"Code\": \"30\", \"D\\u00e9partement\": \"Gard\", \"ICF_2014\": 2.05, \"ICF_2015\": 2.0, \"ICF_2016\": 2.0, \"ICF_2017\": 1.95, \"ICF_2018\": 1.93, \"ICF_2019\": 1.92}, {\"Code\": \"31\", \"D\\u00e9partement\": \"Haute-Garonne\", \"ICF_2014\": 1.77, \"ICF_2015\": 1.72, \"ICF_2016\": 1.68, \"ICF_2017\": 1.67, \"ICF_2018\": 1.65, \"ICF_2019\": 1.63}, {\"Code\": \"32\", \"D\\u00e9partement\": \"Gers\", \"ICF_2014\": 1.93, \"ICF_2015\": 1.85, \"ICF_2016\": 1.76, \"ICF_2017\": 1.63, \"ICF_2018\": 1.7, \"ICF_2019\": 1.66}, {\"Code\": \"33\", \"D\\u00e9partement\": \"Gironde\", \"ICF_2014\": 1.74, \"ICF_2015\": 1.7, \"ICF_2016\": 1.68, \"ICF_2017\": 1.66, \"ICF_2018\": 1.65, \"ICF_2019\": 1.62}, {\"Code\": \"34\", \"D\\u00e9partement\": \"H\\u00e9rault\", \"ICF_2014\": 1.85, \"ICF_2015\": 1.83, \"ICF_2016\": 1.8, \"ICF_2017\": 1.75, \"ICF_2018\": 1.75, \"ICF_2019\": 1.72}, {\"Code\": \"35\", \"D\\u00e9partement\": \"Ille-et-Vilaine\", \"ICF_2014\": 1.89, \"ICF_2015\": 1.81, \"ICF_2016\": 1.8, \"ICF_2017\": 1.76, \"ICF_2018\": 1.75, \"ICF_2019\": 1.75}, {\"Code\": \"36\", \"D\\u00e9partement\": \"Indre\", \"ICF_2014\": 1.98, \"ICF_2015\": 1.84, \"ICF_2016\": 1.75, \"ICF_2017\": 1.74, \"ICF_2018\": 1.81, \"ICF_2019\": 1.83}, {\"Code\": \"37\", \"D\\u00e9partement\": \"Indre-et-Loire\", \"ICF_2014\": 1.88, \"ICF_2015\": 1.82, \"ICF_2016\": 1.81, \"ICF_2017\": 1.76, \"ICF_2018\": 1.73, \"ICF_2019\": 1.71}, {\"Code\": \"38\", \"D\\u00e9partement\": \"Is\\u00e8re\", \"ICF_2014\": 2.05, \"ICF_2015\": 1.97, \"ICF_2016\": 1.97, \"ICF_2017\": 1.93, \"ICF_2018\": 1.86, \"ICF_2019\": 1.85}, {\"Code\": \"39\", \"D\\u00e9partement\": \"Jura\", \"ICF_2014\": 1.98, \"ICF_2015\": 1.9, \"ICF_2016\": 1.92, \"ICF_2017\": 1.86, \"ICF_2018\": 1.79, \"ICF_2019\": 1.86}, {\"Code\": \"40\", \"D\\u00e9partement\": \"Landes\", \"ICF_2014\": 1.84, \"ICF_2015\": 1.83, \"ICF_2016\": 1.73, \"ICF_2017\": 1.69, \"ICF_2018\": 1.68, \"ICF_2019\": 1.76}, {\"Code\": \"41\", \"D\\u00e9partement\": \"Loir-et-Cher\", \"ICF_2014\": 2.11, \"ICF_2015\": 2.02, \"ICF_2016\": 1.96, \"ICF_2017\": 1.93, \"ICF_2018\": 1.9, \"ICF_2019\": 1.88}, {\"Code\": \"42\", \"D\\u00e9partement\": \"Loire\", \"ICF_2014\": 2.15, \"ICF_2015\": 2.12, \"ICF_2016\": 2.02, \"ICF_2017\": 1.99, \"ICF_2018\": 2.01, \"ICF_2019\": 2.01}, {\"Code\": \"43\", \"D\\u00e9partement\": \"Haute-Loire\", \"ICF_2014\": 1.98, \"ICF_2015\": 2.02, \"ICF_2016\": 1.87, \"ICF_2017\": 1.87, \"ICF_2018\": 1.93, \"ICF_2019\": 1.83}, {\"Code\": \"44\", \"D\\u00e9partement\": \"Loire-Atlantique\", \"ICF_2014\": 1.96, \"ICF_2015\": 1.89, \"ICF_2016\": 1.85, \"ICF_2017\": 1.85, \"ICF_2018\": 1.83, \"ICF_2019\": 1.81}, {\"Code\": \"45\", \"D\\u00e9partement\": \"Loiret\", \"ICF_2014\": 2.07, \"ICF_2015\": 2.03, \"ICF_2016\": 1.97, \"ICF_2017\": 1.95, \"ICF_2018\": 1.96, \"ICF_2019\": 1.98}, {\"Code\": \"46\", \"D\\u00e9partement\": \"Lot\", \"ICF_2014\": 1.91, \"ICF_2015\": 1.69, \"ICF_2016\": 1.73, \"ICF_2017\": 1.7, \"ICF_2018\": 1.75, \"ICF_2019\": 1.66}, {\"Code\": \"47\", \"D\\u00e9partement\": \"Lot-et-Garonne\", \"ICF_2014\": 2.0, \"ICF_2015\": 1.86, \"ICF_2016\": 1.86, \"ICF_2017\": 1.8, \"ICF_2018\": 1.82, \"ICF_2019\": 1.85}, {\"Code\": \"48\", \"D\\u00e9partement\": \"Loz\\u00e8re\", \"ICF_2014\": 1.71, \"ICF_2015\": 1.86, \"ICF_2016\": 1.78, \"ICF_2017\": 1.62, \"ICF_2018\": 1.6, \"ICF_2019\": 1.61}, {\"Code\": \"49\", \"D\\u00e9partement\": \"Maine-et-Loire\", \"ICF_2014\": 2.04, \"ICF_2015\": 1.99, \"ICF_2016\": 1.95, \"ICF_2017\": 1.94, \"ICF_2018\": 1.9, \"ICF_2019\": 1.85}, {\"Code\": \"50\", \"D\\u00e9partement\": \"Manche\", \"ICF_2014\": 1.97, \"ICF_2015\": 1.97, \"ICF_2016\": 1.86, \"ICF_2017\": 1.83, \"ICF_2018\": 1.8, \"ICF_2019\": 1.86}, {\"Code\": \"51\", \"D\\u00e9partement\": \"Marne\", \"ICF_2014\": 1.91, \"ICF_2015\": 1.86, \"ICF_2016\": 1.82, \"ICF_2017\": 1.75, \"ICF_2018\": 1.76, \"ICF_2019\": 1.79}, {\"Code\": \"52\", \"D\\u00e9partement\": \"Haute-Marne\", \"ICF_2014\": 2.09, \"ICF_2015\": 1.93, \"ICF_2016\": 1.84, \"ICF_2017\": 1.8, \"ICF_2018\": 1.79, \"ICF_2019\": 1.73}, {\"Code\": \"53\", \"D\\u00e9partement\": \"Mayenne\", \"ICF_2014\": 2.13, \"ICF_2015\": 2.1, \"ICF_2016\": 2.06, \"ICF_2017\": 1.94, \"ICF_2018\": 1.98, \"ICF_2019\": 1.99}, {\"Code\": \"54\", \"D\\u00e9partement\": \"Meurthe-et-Moselle\", \"ICF_2014\": 1.75, \"ICF_2015\": 1.68, \"ICF_2016\": 1.7, \"ICF_2017\": 1.64, \"ICF_2018\": 1.57, \"ICF_2019\": 1.56}, {\"Code\": \"55\", \"D\\u00e9partement\": \"Meuse\", \"ICF_2014\": 1.9, \"ICF_2015\": 1.88, \"ICF_2016\": 1.81, \"ICF_2017\": 1.84, \"ICF_2018\": 1.78, \"ICF_2019\": 1.75}, {\"Code\": \"56\", \"D\\u00e9partement\": \"Morbihan\", \"ICF_2014\": 2.01, \"ICF_2015\": 1.91, \"ICF_2016\": 1.89, \"ICF_2017\": 1.84, \"ICF_2018\": 1.83, \"ICF_2019\": 1.86}, {\"Code\": \"57\", \"D\\u00e9partement\": \"Moselle\", \"ICF_2014\": 1.78, \"ICF_2015\": 1.73, \"ICF_2016\": 1.7, \"ICF_2017\": 1.68, \"ICF_2018\": 1.64, \"ICF_2019\": 1.67}, {\"Code\": \"58\", \"D\\u00e9partement\": \"Ni\\u00e8vre\", \"ICF_2014\": 1.87, \"ICF_2015\": 1.88, \"ICF_2016\": 1.83, \"ICF_2017\": 1.81, \"ICF_2018\": 1.89, \"ICF_2019\": 1.77}, {\"Code\": \"59\", \"D\\u00e9partement\": \"Nord\", \"ICF_2014\": 2.07, \"ICF_2015\": 2.01, \"ICF_2016\": 1.96, \"ICF_2017\": 1.9, \"ICF_2018\": 1.86, \"ICF_2019\": 1.86}, {\"Code\": \"60\", \"D\\u00e9partement\": \"Oise\", \"ICF_2014\": 2.12, \"ICF_2015\": 2.09, \"ICF_2016\": 2.01, \"ICF_2017\": 1.97, \"ICF_2018\": 1.9, \"ICF_2019\": 1.9}, {\"Code\": \"61\", \"D\\u00e9partement\": \"Orne\", \"ICF_2014\": 2.02, \"ICF_2015\": 1.97, \"ICF_2016\": 1.98, \"ICF_2017\": 1.9, \"ICF_2018\": 1.9, \"ICF_2019\": 1.86}, {\"Code\": \"62\", \"D\\u00e9partement\": \"Pas-de-Calais\", \"ICF_2014\": 2.14, \"ICF_2015\": 2.04, \"ICF_2016\": 1.99, \"ICF_2017\": 1.96, \"ICF_2018\": 1.87, \"ICF_2019\": 1.9}, {\"Code\": \"63\", \"D\\u00e9partement\": \"Puy-de-D\\u00f4me\", \"ICF_2014\": 1.82, \"ICF_2015\": 1.75, \"ICF_2016\": 1.72, \"ICF_2017\": 1.72, \"ICF_2018\": 1.72, \"ICF_2019\": 1.68}, {\"Code\": \"64\", \"D\\u00e9partement\": \"Pyr\\u00e9n\\u00e9es-Atlantiques\", \"ICF_2014\": 1.78, \"ICF_2015\": 1.7, \"ICF_2016\": 1.68, \"ICF_2017\": 1.62, \"ICF_2018\": 1.58, \"ICF_2019\": 1.59}, {\"Code\": \"65\", \"D\\u00e9partement\": \"Hautes-Pyr\\u00e9n\\u00e9es\", \"ICF_2014\": 1.98, \"ICF_2015\": 1.88, \"ICF_2016\": 1.8, \"ICF_2017\": 1.77, \"ICF_2018\": 1.69, \"ICF_2019\": 1.71}, {\"Code\": \"66\", \"D\\u00e9partement\": \"Pyr\\u00e9n\\u00e9es-Orientales\", \"ICF_2014\": 1.96, \"ICF_2015\": 1.92, \"ICF_2016\": 1.81, \"ICF_2017\": 1.83, \"ICF_2018\": 1.8, \"ICF_2019\": 1.8}, {\"Code\": \"67\", \"D\\u00e9partement\": \"Bas-Rhin\", \"ICF_2014\": 1.83, \"ICF_2015\": 1.74, \"ICF_2016\": 1.73, \"ICF_2017\": 1.7, \"ICF_2018\": 1.68, \"ICF_2019\": 1.65}, {\"Code\": \"68\", \"D\\u00e9partement\": \"Haut-Rhin\", \"ICF_2014\": 1.93, \"ICF_2015\": 1.9, \"ICF_2016\": 1.85, \"ICF_2017\": 1.83, \"ICF_2018\": 1.82, \"ICF_2019\": 1.75}, {\"Code\": \"69\", \"D\\u00e9partement\": \"Rh\\u00f4ne\", \"ICF_2014\": 2.06, \"ICF_2015\": 2.04, \"ICF_2016\": 2.0, \"ICF_2017\": 1.95, \"ICF_2018\": 1.93, \"ICF_2019\": 1.9}, {\"Code\": \"70\", \"D\\u00e9partement\": \"Haute-Sa\\u00f4ne\", \"ICF_2014\": 2.03, \"ICF_2015\": 2.01, \"ICF_2016\": 1.94, \"ICF_2017\": 1.9, \"ICF_2018\": 1.85, \"ICF_2019\": 1.81}, {\"Code\": \"71\", \"D\\u00e9partement\": \"Sa\\u00f4ne-et-Loire\", \"ICF_2014\": 2.03, \"ICF_2015\": 1.99, \"ICF_2016\": 1.91, \"ICF_2017\": 1.88, \"ICF_2018\": 1.86, \"ICF_2019\": 1.84}, {\"Code\": \"72\", \"D\\u00e9partement\": \"Sarthe\", \"ICF_2014\": 2.14, \"ICF_2015\": 2.03, \"ICF_2016\": 1.99, \"ICF_2017\": 1.93, \"ICF_2018\": 1.89, \"ICF_2019\": 1.95}, {\"Code\": \"73\", \"D\\u00e9partement\": \"Savoie\", \"ICF_2014\": 1.92, \"ICF_2015\": 1.88, \"ICF_2016\": 1.84, \"ICF_2017\": 1.81, \"ICF_2018\": 1.82, \"ICF_2019\": 1.78}, {\"Code\": \"74\", \"D\\u00e9partement\": \"Haute-Savoie\", \"ICF_2014\": 1.89, \"ICF_2015\": 1.88, \"ICF_2016\": 1.8, \"ICF_2017\": 1.78, \"ICF_2018\": 1.83, \"ICF_2019\": 1.81}, {\"Code\": \"75\", \"D\\u00e9partement\": \"Paris\", \"ICF_2014\": 1.57, \"ICF_2015\": 1.55, \"ICF_2016\": 1.57, \"ICF_2017\": 1.53, \"ICF_2018\": 1.54, \"ICF_2019\": 1.55}, {\"Code\": \"76\", \"D\\u00e9partement\": \"Seine-Maritime\", \"ICF_2014\": 1.96, \"ICF_2015\": 1.95, \"ICF_2016\": 1.91, \"ICF_2017\": 1.88, \"ICF_2018\": 1.87, \"ICF_2019\": 1.87}, {\"Code\": \"77\", \"D\\u00e9partement\": \"Seine-et-Marne\", \"ICF_2014\": 2.11, \"ICF_2015\": 2.05, \"ICF_2016\": 2.01, \"ICF_2017\": 2.0, \"ICF_2018\": 1.97, \"ICF_2019\": 1.99}, {\"Code\": \"78\", \"D\\u00e9partement\": \"Yvelines\", \"ICF_2014\": 2.15, \"ICF_2015\": 2.12, \"ICF_2016\": 2.09, \"ICF_2017\": 2.05, \"ICF_2018\": 2.06, \"ICF_2019\": 2.07}, {\"Code\": \"79\", \"D\\u00e9partement\": \"Deux-S\\u00e8vres\", \"ICF_2014\": 1.93, \"ICF_2015\": 1.88, \"ICF_2016\": 1.94, \"ICF_2017\": 1.83, \"ICF_2018\": 1.84, \"ICF_2019\": 1.85}, {\"Code\": \"80\", \"D\\u00e9partement\": \"Somme\", \"ICF_2014\": 1.88, \"ICF_2015\": 1.83, \"ICF_2016\": 1.8, \"ICF_2017\": 1.76, \"ICF_2018\": 1.73, \"ICF_2019\": 1.68}, {\"Code\": \"81\", \"D\\u00e9partement\": \"Tarn\", \"ICF_2014\": 1.99, \"ICF_2015\": 1.92, \"ICF_2016\": 1.89, \"ICF_2017\": 1.79, \"ICF_2018\": 1.73, \"ICF_2019\": 1.78}, {\"Code\": \"82\", \"D\\u00e9partement\": \"Tarn-et-Garonne\", \"ICF_2014\": 2.1, \"ICF_2015\": 2.1, \"ICF_2016\": 1.99, \"ICF_2017\": 2.03, \"ICF_2018\": 1.95, \"ICF_2019\": 1.97}, {\"Code\": \"83\", \"D\\u00e9partement\": \"Var\", \"ICF_2014\": 2.04, \"ICF_2015\": 1.96, \"ICF_2016\": 1.95, \"ICF_2017\": 1.92, \"ICF_2018\": 1.88, \"ICF_2019\": 1.93}, {\"Code\": \"84\", \"D\\u00e9partement\": \"Vaucluse\", \"ICF_2014\": 2.26, \"ICF_2015\": 2.2, \"ICF_2016\": 2.12, \"ICF_2017\": 2.08, \"ICF_2018\": 2.07, \"ICF_2019\": 2.07}, {\"Code\": \"85\", \"D\\u00e9partement\": \"Vend\\u00e9e\", \"ICF_2014\": 2.08, \"ICF_2015\": 1.99, \"ICF_2016\": 1.88, \"ICF_2017\": 1.84, \"ICF_2018\": 1.85, \"ICF_2019\": 1.83}, {\"Code\": \"86\", \"D\\u00e9partement\": \"Vienne\", \"ICF_2014\": 1.82, \"ICF_2015\": 1.75, \"ICF_2016\": 1.71, \"ICF_2017\": 1.68, \"ICF_2018\": 1.63, \"ICF_2019\": 1.66}, {\"Code\": \"87\", \"D\\u00e9partement\": \"Haute-Vienne\", \"ICF_2014\": 1.8, \"ICF_2015\": 1.78, \"ICF_2016\": 1.69, \"ICF_2017\": 1.68, \"ICF_2018\": 1.66, \"ICF_2019\": 1.73}, {\"Code\": \"88\", \"D\\u00e9partement\": \"Vosges\", \"ICF_2014\": 1.95, \"ICF_2015\": 1.87, \"ICF_2016\": 1.81, \"ICF_2017\": 1.8, \"ICF_2018\": 1.81, \"ICF_2019\": 1.8}, {\"Code\": \"89\", \"D\\u00e9partement\": \"Yonne\", \"ICF_2014\": 2.05, \"ICF_2015\": 2.11, \"ICF_2016\": 1.99, \"ICF_2017\": 1.89, \"ICF_2018\": 1.94, \"ICF_2019\": 1.95}, {\"Code\": \"90\", \"D\\u00e9partement\": \"Territoire de Belfort\", \"ICF_2014\": 1.96, \"ICF_2015\": 1.86, \"ICF_2016\": 1.9, \"ICF_2017\": 1.89, \"ICF_2018\": 1.92, \"ICF_2019\": 1.86}, {\"Code\": \"91\", \"D\\u00e9partement\": \"Essonne\", \"ICF_2014\": 2.2, \"ICF_2015\": 2.21, \"ICF_2016\": 2.15, \"ICF_2017\": 2.16, \"ICF_2018\": 2.16, \"ICF_2019\": 2.14}, {\"Code\": \"92\", \"D\\u00e9partement\": \"Hauts-de-Seine\", \"ICF_2014\": 1.98, \"ICF_2015\": 1.93, \"ICF_2016\": 1.93, \"ICF_2017\": 1.86, \"ICF_2018\": 1.83, \"ICF_2019\": 1.78}, {\"Code\": \"93\", \"D\\u00e9partement\": \"Seine-Saint-Denis\", \"ICF_2014\": 2.47, \"ICF_2015\": 2.43, \"ICF_2016\": 2.39, \"ICF_2017\": 2.36, \"ICF_2018\": 2.33, \"ICF_2019\": 2.3}, {\"Code\": \"94\", \"D\\u00e9partement\": \"Val-de-Marne\", \"ICF_2014\": 2.13, \"ICF_2015\": 2.07, \"ICF_2016\": 2.02, \"ICF_2017\": 2.01, \"ICF_2018\": 1.97, \"ICF_2019\": 1.96}, {\"Code\": \"95\", \"D\\u00e9partement\": \"Val-d'Oise\", \"ICF_2014\": 2.3, \"ICF_2015\": 2.28, \"ICF_2016\": 2.29, \"ICF_2017\": 2.28, \"ICF_2018\": 2.26, \"ICF_2019\": 2.29}, {\"Code\": \"971\", \"D\\u00e9partement\": \"Guadeloupe\", \"ICF_2014\": 2.19, \"ICF_2015\": 2.1, \"ICF_2016\": 2.14, \"ICF_2017\": 1.94, \"ICF_2018\": 2.04, \"ICF_2019\": 2.25}, {\"Code\": \"973\", \"D\\u00e9partement\": \"Martinique\", \"ICF_2014\": 2.08, \"ICF_2015\": 1.94, \"ICF_2016\": 1.9, \"ICF_2017\": 1.87, \"ICF_2018\": 1.91, \"ICF_2019\": 2.0}, {\"Code\": \"972\", \"D\\u00e9partement\": \"Guyane\", \"ICF_2014\": 3.44, \"ICF_2015\": 3.44, \"ICF_2016\": 3.61, \"ICF_2017\": 3.92, \"ICF_2018\": 3.79, \"ICF_2019\": 3.74}, {\"Code\": \"974\", \"D\\u00e9partement\": \"La R\\u00e9union\", \"ICF_2014\": 2.44, \"ICF_2015\": 2.46, \"ICF_2016\": 2.43, \"ICF_2017\": 2.44, \"ICF_2018\": 2.4, \"ICF_2019\": 2.39}, {\"Code\": null, \"D\\u00e9partement\": \"Mayotte\", \"ICF_2014\": 4.12, \"ICF_2015\": 4.87, \"ICF_2016\": 4.95, \"ICF_2017\": 4.92, \"ICF_2018\": 4.66, \"ICF_2019\": 4.59}]}}, {\"mode\": \"vega-lite\"});\n",
       "</script>"
      ],
      "text/plain": [
       "alt.Chart(...)"
      ]
     },
     "execution_count": 167,
     "metadata": {},
     "output_type": "execute_result"
    }
   ],
   "source": [
    "import altair as alt\n",
    "alt.Chart(df_fr, title=\"Test Altair\").mark_bar(size=15).encode(\n",
    "    alt.X(\"ICF_2014:Q\", bin=alt.Bin(extent=[1.2, 4.5], step=0.15)),\n",
    "    y='count()',\n",
    "    tooltip=['ICF_2014']\n",
    ")\n"
   ]
  },
  {
   "cell_type": "markdown",
   "metadata": {
    "id": "nRWsycQBMx38"
   },
   "source": [
    "<hr style=\"height: 2px; color:  #94bd13 ; background-color:  #94bd13; width: 100%; border: none;\">\n",
    "\n",
    "# 3. Calculs statistiques\n",
    "\n",
    "Réalisez les calculs qui vous permettront de mieux interpréter vos données, leur forme, les points d'attention..."
   ]
  },
  {
   "cell_type": "markdown",
   "metadata": {},
   "source": [
    "## 3.1.1 Univariée avec toutes les données"
   ]
  },
  {
   "cell_type": "code",
   "execution_count": 168,
   "metadata": {},
   "outputs": [
    {
     "data": {
      "text/html": [
       "<div>\n",
       "<style scoped>\n",
       "    .dataframe tbody tr th:only-of-type {\n",
       "        vertical-align: middle;\n",
       "    }\n",
       "\n",
       "    .dataframe tbody tr th {\n",
       "        vertical-align: top;\n",
       "    }\n",
       "\n",
       "    .dataframe thead th {\n",
       "        text-align: right;\n",
       "    }\n",
       "</style>\n",
       "<table border=\"1\" class=\"dataframe\">\n",
       "  <thead>\n",
       "    <tr style=\"text-align: right;\">\n",
       "      <th></th>\n",
       "      <th>ICF_2014</th>\n",
       "      <th>ICF_2019</th>\n",
       "    </tr>\n",
       "  </thead>\n",
       "  <tbody>\n",
       "    <tr>\n",
       "      <th>count</th>\n",
       "      <td>101.000000</td>\n",
       "      <td>101.000000</td>\n",
       "    </tr>\n",
       "    <tr>\n",
       "      <th>mean</th>\n",
       "      <td>2.006535</td>\n",
       "      <td>1.871188</td>\n",
       "    </tr>\n",
       "    <tr>\n",
       "      <th>std</th>\n",
       "      <td>0.302104</td>\n",
       "      <td>0.371425</td>\n",
       "    </tr>\n",
       "    <tr>\n",
       "      <th>min</th>\n",
       "      <td>1.490000</td>\n",
       "      <td>1.380000</td>\n",
       "    </tr>\n",
       "    <tr>\n",
       "      <th>25%</th>\n",
       "      <td>1.880000</td>\n",
       "      <td>1.720000</td>\n",
       "    </tr>\n",
       "    <tr>\n",
       "      <th>50%</th>\n",
       "      <td>1.980000</td>\n",
       "      <td>1.810000</td>\n",
       "    </tr>\n",
       "    <tr>\n",
       "      <th>75%</th>\n",
       "      <td>2.080000</td>\n",
       "      <td>1.920000</td>\n",
       "    </tr>\n",
       "    <tr>\n",
       "      <th>max</th>\n",
       "      <td>4.120000</td>\n",
       "      <td>4.590000</td>\n",
       "    </tr>\n",
       "  </tbody>\n",
       "</table>\n",
       "</div>"
      ],
      "text/plain": [
       "         ICF_2014    ICF_2019\n",
       "count  101.000000  101.000000\n",
       "mean     2.006535    1.871188\n",
       "std      0.302104    0.371425\n",
       "min      1.490000    1.380000\n",
       "25%      1.880000    1.720000\n",
       "50%      1.980000    1.810000\n",
       "75%      2.080000    1.920000\n",
       "max      4.120000    4.590000"
      ]
     },
     "execution_count": 168,
     "metadata": {},
     "output_type": "execute_result"
    }
   ],
   "source": [
    "df_fr[['ICF_2014','ICF_2019']].describe()"
   ]
  },
  {
   "cell_type": "markdown",
   "metadata": {},
   "source": [
    "## 3.1.2 Univariée sans les extrêmes"
   ]
  },
  {
   "cell_type": "code",
   "execution_count": 169,
   "metadata": {},
   "outputs": [
    {
     "data": {
      "text/html": [
       "<div>\n",
       "<style scoped>\n",
       "    .dataframe tbody tr th:only-of-type {\n",
       "        vertical-align: middle;\n",
       "    }\n",
       "\n",
       "    .dataframe tbody tr th {\n",
       "        vertical-align: top;\n",
       "    }\n",
       "\n",
       "    .dataframe thead th {\n",
       "        text-align: right;\n",
       "    }\n",
       "</style>\n",
       "<table border=\"1\" class=\"dataframe\">\n",
       "  <thead>\n",
       "    <tr style=\"text-align: right;\">\n",
       "      <th></th>\n",
       "      <th>ICF_2014</th>\n",
       "      <th>ICF_2019</th>\n",
       "    </tr>\n",
       "  </thead>\n",
       "  <tbody>\n",
       "    <tr>\n",
       "      <th>count</th>\n",
       "      <td>99.000000</td>\n",
       "      <td>99.000000</td>\n",
       "    </tr>\n",
       "    <tr>\n",
       "      <th>mean</th>\n",
       "      <td>1.970707</td>\n",
       "      <td>1.824848</td>\n",
       "    </tr>\n",
       "    <tr>\n",
       "      <th>std</th>\n",
       "      <td>0.159016</td>\n",
       "      <td>0.165944</td>\n",
       "    </tr>\n",
       "    <tr>\n",
       "      <th>min</th>\n",
       "      <td>1.490000</td>\n",
       "      <td>1.380000</td>\n",
       "    </tr>\n",
       "    <tr>\n",
       "      <th>25%</th>\n",
       "      <td>1.880000</td>\n",
       "      <td>1.720000</td>\n",
       "    </tr>\n",
       "    <tr>\n",
       "      <th>50%</th>\n",
       "      <td>1.970000</td>\n",
       "      <td>1.810000</td>\n",
       "    </tr>\n",
       "    <tr>\n",
       "      <th>75%</th>\n",
       "      <td>2.070000</td>\n",
       "      <td>1.910000</td>\n",
       "    </tr>\n",
       "    <tr>\n",
       "      <th>max</th>\n",
       "      <td>2.470000</td>\n",
       "      <td>2.390000</td>\n",
       "    </tr>\n",
       "  </tbody>\n",
       "</table>\n",
       "</div>"
      ],
      "text/plain": [
       "        ICF_2014   ICF_2019\n",
       "count  99.000000  99.000000\n",
       "mean    1.970707   1.824848\n",
       "std     0.159016   0.165944\n",
       "min     1.490000   1.380000\n",
       "25%     1.880000   1.720000\n",
       "50%     1.970000   1.810000\n",
       "75%     2.070000   1.910000\n",
       "max     2.470000   2.390000"
      ]
     },
     "execution_count": 169,
     "metadata": {},
     "output_type": "execute_result"
    }
   ],
   "source": [
    "df_fr[['ICF_2014','ICF_2019']].query(\"ICF_2014 < 3 or ICF_2019 < 3\").describe()"
   ]
  },
  {
   "cell_type": "markdown",
   "metadata": {},
   "source": [
    "## 3.2 Exemples sur les quantiles"
   ]
  },
  {
   "cell_type": "markdown",
   "metadata": {},
   "source": [
    "### 3.2.1 Afficher les 5 premiers % et 95 derniers %"
   ]
  },
  {
   "cell_type": "code",
   "execution_count": 170,
   "metadata": {},
   "outputs": [
    {
     "data": {
      "text/html": [
       "<div>\n",
       "<style scoped>\n",
       "    .dataframe tbody tr th:only-of-type {\n",
       "        vertical-align: middle;\n",
       "    }\n",
       "\n",
       "    .dataframe tbody tr th {\n",
       "        vertical-align: top;\n",
       "    }\n",
       "\n",
       "    .dataframe thead th {\n",
       "        text-align: right;\n",
       "    }\n",
       "</style>\n",
       "<table border=\"1\" class=\"dataframe\">\n",
       "  <thead>\n",
       "    <tr style=\"text-align: right;\">\n",
       "      <th></th>\n",
       "      <th>ICF_2014</th>\n",
       "      <th>ICF_2015</th>\n",
       "      <th>ICF_2016</th>\n",
       "      <th>ICF_2017</th>\n",
       "      <th>ICF_2018</th>\n",
       "      <th>ICF_2019</th>\n",
       "    </tr>\n",
       "  </thead>\n",
       "  <tbody>\n",
       "    <tr>\n",
       "      <th>0.05</th>\n",
       "      <td>1.75</td>\n",
       "      <td>1.69</td>\n",
       "      <td>1.67</td>\n",
       "      <td>1.63</td>\n",
       "      <td>1.60</td>\n",
       "      <td>1.61</td>\n",
       "    </tr>\n",
       "    <tr>\n",
       "      <th>0.95</th>\n",
       "      <td>2.26</td>\n",
       "      <td>2.21</td>\n",
       "      <td>2.15</td>\n",
       "      <td>2.16</td>\n",
       "      <td>2.16</td>\n",
       "      <td>2.25</td>\n",
       "    </tr>\n",
       "  </tbody>\n",
       "</table>\n",
       "</div>"
      ],
      "text/plain": [
       "      ICF_2014  ICF_2015  ICF_2016  ICF_2017  ICF_2018  ICF_2019\n",
       "0.05      1.75      1.69      1.67      1.63      1.60      1.61\n",
       "0.95      2.26      2.21      2.15      2.16      2.16      2.25"
      ]
     },
     "execution_count": 170,
     "metadata": {},
     "output_type": "execute_result"
    }
   ],
   "source": [
    "df_fr.quantile([.05, .95])"
   ]
  },
  {
   "cell_type": "markdown",
   "metadata": {},
   "source": [
    "### 3.2.2 Afficher les outliers au-delà de 1.5* l'interval interquartile (IQR)"
   ]
  },
  {
   "cell_type": "code",
   "execution_count": 171,
   "metadata": {},
   "outputs": [
    {
     "name": "stderr",
     "output_type": "stream",
     "text": [
      "/home/florian/miniconda3/envs/geo/lib/python3.7/site-packages/ipykernel_launcher.py:7: FutureWarning: Automatic reindexing on DataFrame vs Series comparisons is deprecated and will raise ValueError in a future version.  Do `left, right = left.align(right, axis=1, copy=False)` before e.g. `left == right`\n",
      "  import sys\n"
     ]
    },
    {
     "data": {
      "text/html": [
       "<div>\n",
       "<style scoped>\n",
       "    .dataframe tbody tr th:only-of-type {\n",
       "        vertical-align: middle;\n",
       "    }\n",
       "\n",
       "    .dataframe tbody tr th {\n",
       "        vertical-align: top;\n",
       "    }\n",
       "\n",
       "    .dataframe thead th {\n",
       "        text-align: right;\n",
       "    }\n",
       "</style>\n",
       "<table border=\"1\" class=\"dataframe\">\n",
       "  <thead>\n",
       "    <tr style=\"text-align: right;\">\n",
       "      <th></th>\n",
       "      <th>Code</th>\n",
       "      <th>Département</th>\n",
       "      <th>ICF_2014</th>\n",
       "      <th>ICF_2015</th>\n",
       "      <th>ICF_2016</th>\n",
       "      <th>ICF_2017</th>\n",
       "      <th>ICF_2018</th>\n",
       "      <th>ICF_2019</th>\n",
       "    </tr>\n",
       "  </thead>\n",
       "  <tbody>\n",
       "    <tr>\n",
       "      <th>0</th>\n",
       "      <td>01</td>\n",
       "      <td>Ain</td>\n",
       "      <td>1.98</td>\n",
       "      <td>1.87</td>\n",
       "      <td>1.88</td>\n",
       "      <td>1.82</td>\n",
       "      <td>1.86</td>\n",
       "      <td>1.80</td>\n",
       "    </tr>\n",
       "    <tr>\n",
       "      <th>1</th>\n",
       "      <td>02</td>\n",
       "      <td>Aisne</td>\n",
       "      <td>2.14</td>\n",
       "      <td>2.09</td>\n",
       "      <td>1.97</td>\n",
       "      <td>2.02</td>\n",
       "      <td>1.95</td>\n",
       "      <td>1.91</td>\n",
       "    </tr>\n",
       "    <tr>\n",
       "      <th>2</th>\n",
       "      <td>03</td>\n",
       "      <td>Allier</td>\n",
       "      <td>1.93</td>\n",
       "      <td>1.86</td>\n",
       "      <td>1.91</td>\n",
       "      <td>1.85</td>\n",
       "      <td>1.81</td>\n",
       "      <td>1.85</td>\n",
       "    </tr>\n",
       "    <tr>\n",
       "      <th>3</th>\n",
       "      <td>04</td>\n",
       "      <td>Alpes-de-Haute-Provence</td>\n",
       "      <td>1.98</td>\n",
       "      <td>1.95</td>\n",
       "      <td>1.93</td>\n",
       "      <td>1.85</td>\n",
       "      <td>1.82</td>\n",
       "      <td>1.80</td>\n",
       "    </tr>\n",
       "    <tr>\n",
       "      <th>4</th>\n",
       "      <td>05</td>\n",
       "      <td>Hautes-Alpes</td>\n",
       "      <td>1.93</td>\n",
       "      <td>1.86</td>\n",
       "      <td>1.80</td>\n",
       "      <td>1.69</td>\n",
       "      <td>1.77</td>\n",
       "      <td>1.78</td>\n",
       "    </tr>\n",
       "    <tr>\n",
       "      <th>...</th>\n",
       "      <td>...</td>\n",
       "      <td>...</td>\n",
       "      <td>...</td>\n",
       "      <td>...</td>\n",
       "      <td>...</td>\n",
       "      <td>...</td>\n",
       "      <td>...</td>\n",
       "      <td>...</td>\n",
       "    </tr>\n",
       "    <tr>\n",
       "      <th>90</th>\n",
       "      <td>90</td>\n",
       "      <td>Territoire de Belfort</td>\n",
       "      <td>1.96</td>\n",
       "      <td>1.86</td>\n",
       "      <td>1.90</td>\n",
       "      <td>1.89</td>\n",
       "      <td>1.92</td>\n",
       "      <td>1.86</td>\n",
       "    </tr>\n",
       "    <tr>\n",
       "      <th>91</th>\n",
       "      <td>91</td>\n",
       "      <td>Essonne</td>\n",
       "      <td>2.20</td>\n",
       "      <td>2.21</td>\n",
       "      <td>2.15</td>\n",
       "      <td>2.16</td>\n",
       "      <td>2.16</td>\n",
       "      <td>2.14</td>\n",
       "    </tr>\n",
       "    <tr>\n",
       "      <th>92</th>\n",
       "      <td>92</td>\n",
       "      <td>Hauts-de-Seine</td>\n",
       "      <td>1.98</td>\n",
       "      <td>1.93</td>\n",
       "      <td>1.93</td>\n",
       "      <td>1.86</td>\n",
       "      <td>1.83</td>\n",
       "      <td>1.78</td>\n",
       "    </tr>\n",
       "    <tr>\n",
       "      <th>94</th>\n",
       "      <td>94</td>\n",
       "      <td>Val-de-Marne</td>\n",
       "      <td>2.13</td>\n",
       "      <td>2.07</td>\n",
       "      <td>2.02</td>\n",
       "      <td>2.01</td>\n",
       "      <td>1.97</td>\n",
       "      <td>1.96</td>\n",
       "    </tr>\n",
       "    <tr>\n",
       "      <th>97</th>\n",
       "      <td>973</td>\n",
       "      <td>Martinique</td>\n",
       "      <td>2.08</td>\n",
       "      <td>1.94</td>\n",
       "      <td>1.90</td>\n",
       "      <td>1.87</td>\n",
       "      <td>1.91</td>\n",
       "      <td>2.00</td>\n",
       "    </tr>\n",
       "  </tbody>\n",
       "</table>\n",
       "<p>92 rows × 8 columns</p>\n",
       "</div>"
      ],
      "text/plain": [
       "   Code              Département  ICF_2014  ICF_2015  ICF_2016  ICF_2017  \\\n",
       "0    01                      Ain      1.98      1.87      1.88      1.82   \n",
       "1    02                    Aisne      2.14      2.09      1.97      2.02   \n",
       "2    03                   Allier      1.93      1.86      1.91      1.85   \n",
       "3    04  Alpes-de-Haute-Provence      1.98      1.95      1.93      1.85   \n",
       "4    05             Hautes-Alpes      1.93      1.86      1.80      1.69   \n",
       "..  ...                      ...       ...       ...       ...       ...   \n",
       "90   90    Territoire de Belfort      1.96      1.86      1.90      1.89   \n",
       "91   91                  Essonne      2.20      2.21      2.15      2.16   \n",
       "92   92           Hauts-de-Seine      1.98      1.93      1.93      1.86   \n",
       "94   94             Val-de-Marne      2.13      2.07      2.02      2.01   \n",
       "97  973               Martinique      2.08      1.94      1.90      1.87   \n",
       "\n",
       "    ICF_2018  ICF_2019  \n",
       "0       1.86      1.80  \n",
       "1       1.95      1.91  \n",
       "2       1.81      1.85  \n",
       "3       1.82      1.80  \n",
       "4       1.77      1.78  \n",
       "..       ...       ...  \n",
       "90      1.92      1.86  \n",
       "91      2.16      2.14  \n",
       "92      1.83      1.78  \n",
       "94      1.97      1.96  \n",
       "97      1.91      2.00  \n",
       "\n",
       "[92 rows x 8 columns]"
      ]
     },
     "execution_count": 171,
     "metadata": {},
     "output_type": "execute_result"
    }
   ],
   "source": [
    "# Calcul de l'IQR\n",
    "Q1 = df_fr.quantile(0.25)\n",
    "Q3 = df_fr.quantile(0.75)\n",
    "IQR = Q3 - Q1\n",
    "\n",
    "# Un autre moyen de filtrer en excluant les données inférieures à Q1 - 1.5 * IQR OU (|) supérieures ) Q3 + 1.5 * IQR sur un axe\n",
    "df_iqr = df_fr[~((df_fr < (Q1 - 1.5 * IQR)) |(df_fr > (Q3 + 1.5 * IQR))).any(axis=1)]\n",
    "df_iqr"
   ]
  },
  {
   "cell_type": "markdown",
   "metadata": {},
   "source": [
    "## 3.3 Tests de normalité"
   ]
  },
  {
   "cell_type": "markdown",
   "metadata": {},
   "source": [
    "### 3.3.1 Tests de la normalité sans les extrêmes"
   ]
  },
  {
   "cell_type": "code",
   "execution_count": 172,
   "metadata": {},
   "outputs": [
    {
     "data": {
      "text/plain": [
       "ShapiroResult(statistic=0.9731698632240295, pvalue=0.04050901532173157)"
      ]
     },
     "execution_count": 172,
     "metadata": {},
     "output_type": "execute_result"
    }
   ],
   "source": [
    "stats.shapiro(df_fr.query(\"ICF_2014 < 3\")['ICF_2014'])"
   ]
  },
  {
   "cell_type": "markdown",
   "metadata": {},
   "source": [
    "Le Shapiro test montre que la série 2014 est à la limite de la significativité (p-value = 0.04). \n",
    "L'histogramme laissait cependant suggérer une loi normale. On vérifie le kurtosis et le skew pour comprendre"
   ]
  },
  {
   "cell_type": "code",
   "execution_count": 124,
   "metadata": {},
   "outputs": [
    {
     "name": "stdout",
     "output_type": "stream",
     "text": [
      "Pour la série 2014 : \n",
      "Skew = 0.028\n",
      "Kurtosis = 1.624\n",
      "\n"
     ]
    }
   ],
   "source": [
    "s = df_fr.query(\"ICF_2014 < 3\")['ICF_2014'].skew()\n",
    "k = df_fr.query(\"ICF_2014 < 3\")['ICF_2014'].kurtosis()\n",
    "\n",
    "print(f\"\"\"Pour la série 2014 : \n",
    "Skew = {s:.3f}\n",
    "Kurtosis = {k:.3f}\n",
    "\"\"\")"
   ]
  },
  {
   "cell_type": "markdown",
   "metadata": {},
   "source": [
    "Le coefficient d'asymétrie (Skew) est très proche de 0, ce qui tend à montrer la symétrie de la distribution\n",
    "\n",
    "Le kurtosis est égal = 1.6, ce qui explique pourquoi le Shapiro-test est à la limite de la significativité. Un kurtosis standardisé de loi normale est normalement proche de 0"
   ]
  },
  {
   "cell_type": "code",
   "execution_count": 119,
   "metadata": {},
   "outputs": [
    {
     "data": {
      "text/plain": [
       "ShapiroResult(statistic=0.9591990113258362, pvalue=0.0037454513367265463)"
      ]
     },
     "execution_count": 119,
     "metadata": {},
     "output_type": "execute_result"
    }
   ],
   "source": [
    "stats.shapiro(df_fr.query(\"ICF_2019 < 3\")['ICF_2019'])"
   ]
  },
  {
   "cell_type": "markdown",
   "metadata": {},
   "source": [
    "Pour 2019, le shapiro-test montre que la série est loin de suivre une loi normale"
   ]
  },
  {
   "cell_type": "markdown",
   "metadata": {},
   "source": [
    "On peut également tester si les deux moyennes et les deux variances sont significativement différentes :\n",
    "- On utilise un test de Barlet pour la variance (ou de Levene selon le contexte) \n",
    "- un t-test pour la moyenne car les variances ne sont pas différentes entre les deux séries"
   ]
  },
  {
   "cell_type": "code",
   "execution_count": 173,
   "metadata": {},
   "outputs": [
    {
     "name": "stdout",
     "output_type": "stream",
     "text": [
      "\n",
      "Barlet p-value= 0.674\n",
      "Ttest p-value= 0.000000002\n",
      "\n"
     ]
    }
   ],
   "source": [
    "icf14 = df_fr.query(\"ICF_2014 < 3\")['ICF_2014']\n",
    "icf19 = df_fr.query(\"ICF_2019 < 3\")['ICF_2019']\n",
    "icf18 = df_fr.query(\"ICF_2018 < 3\")['ICF_2018']\n",
    "lr, lp = stats.bartlett(icf14,icf19) # lr correspond au résultat du test de Barlet, lp à sa p-value\n",
    "tr, tp = stats.ttest_ind(icf14,icf19) \n",
    "\n",
    "print(f\"\"\"\n",
    "Barlet p-value= {lp:.3f}\n",
    "Ttest p-value= {tp:.9f}\n",
    "\"\"\")"
   ]
  },
  {
   "cell_type": "markdown",
   "metadata": {},
   "source": [
    "Les variances des deux séries sans ls extrêmes ne sont pas significativement différentes, les moyennes sont significativement différentes"
   ]
  },
  {
   "cell_type": "markdown",
   "metadata": {},
   "source": [
    "### Une fonction pour tester les variances et les moyennes"
   ]
  },
  {
   "cell_type": "code",
   "execution_count": 177,
   "metadata": {},
   "outputs": [
    {
     "name": "stdout",
     "output_type": "stream",
     "text": [
      "Au moins une distribution ne suit pas une loi normale\n",
      "Les variances ne sont pas significativement différentes: p= 0.7844\n",
      "Les moyennes sont significativement différentes: 1.9707 et 1.8248, p= 0.0000\n"
     ]
    }
   ],
   "source": [
    "def test_moyenne(x, y):\n",
    "    \"\"\"\n",
    "    test de l'égalité de deux moyennes et de leur variance. Vérification de la normalité des données\n",
    "    et ajustement des tests si nécessaire (normalité, égalité des variances)\n",
    "    @return: str\n",
    "    @type x: np.array\n",
    "    @type y: np.array\n",
    "    \"\"\"\n",
    "    # TODO : à passer en class\n",
    "    # test de la normalité\n",
    "    sv_x, sp_x = stats.shapiro(x)\n",
    "    sv_y, sp_y = stats.shapiro(y)\n",
    "\n",
    "    if sp_x < 0.05 or sp_y < 0.05:\n",
    "        var = \"H1\"\n",
    "        test_n = \"Au moins une distribution ne suit pas une loi normale\"\n",
    "\n",
    "    else:\n",
    "        var = \"H0\"\n",
    "        test_n = \"Les deux distributions suivent une loi normale\"\n",
    "\n",
    "    # test de variance, en fonction de la normalité des données\n",
    "    if var == 'H0':\n",
    "        vv, vp = stats.bartlett(x, y)\n",
    "        if vp < 0.05:\n",
    "            test_v = f\"Les variances sont significativement différentes: p= {vp:.4f}\"\n",
    "        else:\n",
    "            test_v = f\"Les variances ne sont pas significativement différentes: p= {vp:.4f}\"\n",
    "\n",
    "    else:\n",
    "        vv, vp = stats.levene(x, y)\n",
    "        if vp < 0.05:\n",
    "            test_v = f\"Les variances sont significativement différentes: p= {vp:.4f}\"\n",
    "        else:\n",
    "            test_v = f\"Les variances ne sont pas significativement différentes: p= {vp:.4f}\"\n",
    "\n",
    "    # test d'égalité des moyennes, en fonction de l'égalité des variances\n",
    "    if vp >= 0.05:\n",
    "        tv, tp = stats.ttest_ind(x, y, equal_var=True)\n",
    "    else:\n",
    "        tv, tp = stats.ttest_ind(x, y, equal_var=False)  \n",
    "\n",
    "    if tp >= 0.05:\n",
    "        test_m = f\"Les moyennes ne sont pas significativement différentes: {np.mean(x):.4f} et {np.mean(y):.4f}, p= {tp:.4f}\"\n",
    "    else:\n",
    "        test_m = f\"Les moyennes sont significativement différentes: {np.mean(x):.4f} et {np.mean(y):.4f}, p= {tp:.4f}\"\n",
    "\n",
    "    return print(f\"\"\"{test_n}\\n{test_v}\\n{test_m}\"\"\")\n",
    "\n",
    "test_moyenne(icf14,icf19)\n",
    "#test_moyenne(icf18,icf19)"
   ]
  },
  {
   "cell_type": "markdown",
   "metadata": {},
   "source": [
    "## 3.3.2 QQ-plot sans les extrêmes"
   ]
  },
  {
   "cell_type": "code",
   "execution_count": 175,
   "metadata": {},
   "outputs": [
    {
     "name": "stderr",
     "output_type": "stream",
     "text": [
      "/home/florian/miniconda3/envs/geo/lib/python3.7/site-packages/statsmodels/graphics/gofplots.py:993: UserWarning: marker is redundantly defined by the 'marker' keyword argument and the fmt string \"bo\" (-> marker='o'). The keyword argument will take precedence.\n",
      "  ax.plot(x, y, fmt, **plot_style)\n"
     ]
    },
    {
     "data": {
      "image/png": "[encoded data removed]",
      "text/plain": [
       "<Figure size 432x288 with 1 Axes>"
      ]
     },
     "metadata": {
      "needs_background": "light"
     },
     "output_type": "display_data"
    }
   ],
   "source": [
    "sm.qqplot(df_fr.query(\"ICF_2014 < 3\")['ICF_2014'], line='s')\n",
    "plt.show()"
   ]
  },
  {
   "cell_type": "code",
   "execution_count": 176,
   "metadata": {},
   "outputs": [
    {
     "name": "stderr",
     "output_type": "stream",
     "text": [
      "/home/florian/miniconda3/envs/geo/lib/python3.7/site-packages/statsmodels/graphics/gofplots.py:993: UserWarning: marker is redundantly defined by the 'marker' keyword argument and the fmt string \"bo\" (-> marker='o'). The keyword argument will take precedence.\n",
      "  ax.plot(x, y, fmt, **plot_style)\n"
     ]
    },
    {
     "data": {
      "image/png": "[encoded data removed]",
      "text/plain": [
       "<Figure size 432x288 with 1 Axes>"
      ]
     },
     "metadata": {
      "needs_background": "light"
     },
     "output_type": "display_data"
    }
   ],
   "source": [
    "sm.qqplot(df_fr.query(\"ICF_2018 < 3\")['ICF_2018'], line='s')\n",
    "plt.show()"
   ]
  },
  {
   "cell_type": "markdown",
   "metadata": {
    "id": "nRWsycQBMx38"
   },
   "source": [
    "<hr style=\"height: 2px; color:  #94bd13 ; background-color:  #94bd13; width: 100%; border: none;\">\n",
    "\n",
    "# 4. Réponses à la demande\n",
    "\n",
    "Avant de répondre à la demande, \n",
    "\n",
    "- Essayez d'interpréter les résultats des graphiques et des calculs. \n",
    "- Que pouvez-vous tirer de cette analyse univariée ?\n",
    "- Pensez aux objectifs des cartes, au contexte, au public.\n",
    "\n",
    "Rédigez ensuite vos réponses et proposez une ou plusieurs méthodes de discrétisation\n",
    "\n",
    "\n",
    "\n"
   ]
  },
  {
   "cell_type": "markdown",
   "metadata": {},
   "source": []
  }
 ],
 "metadata": {
  "colab": {
   "authorship_tag": "ABX9TyOkexbfxkVCFcNqVtlGvlo+",
   "collapsed_sections": [],
   "include_colab_link": true,
   "name": "Pandas_univ.ipynb",
   "provenance": []
  },
  "kernelspec": {
   "display_name": "Python 3 (ipykernel)",
   "language": "python",
   "name": "python3"
  },
  "language_info": {
   "codemirror_mode": {
    "name": "ipython",
    "version": 3
   },
   "file_extension": ".py",
   "mimetype": "text/x-python",
   "name": "python",
   "nbconvert_exporter": "python",
   "pygments_lexer": "ipython3",
   "version": "3.7.11"
  }
 },
 "nbformat": 4,
 "nbformat_minor": 4
}
