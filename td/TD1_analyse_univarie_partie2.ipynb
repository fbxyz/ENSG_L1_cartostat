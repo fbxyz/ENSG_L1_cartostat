{
 "cells": [
  {
   "cell_type": "markdown",
   "metadata": {
    "id": "CLqyCoAiRKLy"
   },
   "source": [
    "<img src=\"https://upload.wikimedia.org/wikipedia/fr/thumb/9/9e/Logo_ENSG_G%C3%A9omatique_2012.svg/220px-Logo_ENSG_G%C3%A9omatique_2012.svg.png\" style=\"margin-left:auto; margin-right:auto\"/>\n"
   ]
  },
  {
   "cell_type": "markdown",
   "metadata": {
    "id": "wkgAs0oTI9gU",
    "tags": []
   },
   "source": [
    "<center> \n",
    "    <h1>ENSG : statistiques appliquées en cartographie</h1> \n",
    "    <h2>Réaliser une analyse univariée à l'aide de Python</h2> \n",
    "    <h3>Florian Bayer, décembre 2022</h3> \n",
    "</center> \n",
    "\n",
    "<hr style=\"height: 2px; color:  #94bd13 ; background-color:  #94bd13; width: 100%; border: none;\">\n",
    "\n",
    "*   L'objectif de la seconde partie de ce TD est d'appliquer les connaissances acquises dans la première partie\n",
    "  \n",
    "*   Vous utiliserez de nouveau jupyter lab pour réaliser votre petite analyse\n",
    "\n",
    "*   En cas de difficultés, ne restez pas bloqué et contactez moi\n",
    "\n",
    "Attention, les notebooks que vous lancez à partir de la page Git du cours sont temporaires. Vous pouvez néanmoins les sauvegarder. La manipulation sera montrée en cours\n",
    "\n",
    "Une autre solution, si vous disposez d'un compte google, est d'utiliser [Collaboratory](https://colab.research.google.com), mais il faudra importer les données csv. La manipulation sera montrée en cours\n"
   ]
  },
  {
   "cell_type": "markdown",
   "metadata": {
    "id": "wkgAs0oTI9gU",
    "tags": []
   },
   "source": [
    "<hr style=\"height: 2px; color:  #94bd13 ; background-color:  #94bd13; width: 100%; border: none;\">\n",
    "\n",
    "# Consignes\n",
    "\n",
    "La Fédération Française d'Etude de la Reproduction va organiser un congrès, dont le thème sera : état de l'offre de soins et infertilité en France. Il réunira des professionnels spécialisés dans l’assistance médicale à la procréation.\n",
    "\n",
    "L'introduction de la session plénière aura comme support deux cartes projetées sur grand écran : \n",
    "\n",
    "- Evolution de la fécondité des départements français entre 2014 et 2019. \n",
    "- Les deux cartes serviront de base à la discussion d’un sujet de la session :  Vers de nouvelles dynamiques de la fécondité en France ?\n"
   ]
  },
  {
   "cell_type": "markdown",
   "metadata": {},
   "source": [
    "Comme l’âge des femmes est un facteur d’infertilité et que la répartition de l’âge des femmes n’est pas identique sur les différents territoires étudiés, on vous demande d’utiliser l’indicateur conjoncturel de fécondité. \n",
    "\n",
    "Il correspond au nombre d'enfants qu'aurait une femme tout au long de sa vie, si les taux de fécondité observés l'année considérée à chaque âge demeuraient inchangés. Autrement dit, l’indicateur « gomme » l’effet de l’âge sur la fécondité sur la période et les territoires étudiés.\n",
    "\n",
    "Les cartes seront produites par un prestataire, mais en tant qu’apprenti, on vous demande de lui rédiger par écrit différentes tâches : \n",
    "- La discrétisation des 2 cartes (en précisant les bornes \"[  ]\")\n",
    "- La méthode de représentation à utiliser (quelle variable visuelle)\n",
    "- La justification de l’ensemble de vos choix (types de variables, caractéristiques statistiques, choix de représentation, choix des méthodes de discrétisation etc.)\n",
    "\n",
    "Vous devez choisir la ou les méthodes les plus adaptées selon vous et le nombre de classes, en justifiant vos choix. Référez-vous au cours sur les données, la discrétisation, la sémiologie graphique et le TD précédent sur l'univariée.\n",
    "\n",
    "Les données sont fournies dans le dossier ./data/ et proviennent de l’Insee.\n",
    "\n",
    "Attention :  \n",
    "- Certains calculs sont déjà faits à titre d'illustration. <b>Ceux à faire par vos soins sont signaler en <span style=\"color:#bc4749\">rouge</span>.</b>\n",
    "- il n’est pas encore demandé de réaliser la carte \n"
   ]
  },
  {
   "cell_type": "markdown",
   "metadata": {
    "id": "nRWsycQBMx38"
   },
   "source": [
    "<hr style=\"height: 2px; color:  #94bd13 ; background-color:  #94bd13; width: 100%; border: none;\">\n",
    "\n",
    "# 1. Importation des packages et des données\n"
   ]
  },
  {
   "cell_type": "markdown",
   "metadata": {},
   "source": [
    "Pour vous aider, les premières étapes de l'analyse sont guidées"
   ]
  },
  {
   "cell_type": "code",
   "execution_count": 2,
   "metadata": {
    "id": "fHvZEA5jIkch"
   },
   "outputs": [],
   "source": [
    "import pandas as pd # Pour importer les données dans un Dataframe\n",
    "import seaborn as sns # Pour faire les graphiques\n",
    "from scipy import stats # Un peu de stat\n",
    "import statsmodels.api as sm # Et pourquoi pas un Q-Q plot...\n",
    "import matplotlib.pyplot as plt\n",
    "import numpy as np"
   ]
  },
  {
   "cell_type": "markdown",
   "metadata": {},
   "source": [
    "<div style=\"color:#bc4749\">Importez les données France dans à l'aide de :</div>\n",
    "\n",
    "```python\n",
    "pd.read_csv()\n",
    "```\n",
    "\n",
    "<div style=\"color:#bc4749\">dans la cellule ci-dessous.Assignez ce Dataframe à une variable <b>df_fr</b></div>\n",
    "\n",
    "    \n"
   ]
  },
  {
   "cell_type": "code",
   "execution_count": null,
   "metadata": {},
   "outputs": [],
   "source": []
  },
  {
   "cell_type": "markdown",
   "metadata": {
    "id": "nRWsycQBMx38"
   },
   "source": [
    "<hr style=\"height: 2px; color:  #94bd13 ; background-color:  #94bd13; width: 100%; border: none;\">\n",
    "\n",
    "# 2. Représentations graphiques\n",
    "\n",
    "Utilisez le Dataframe précédemment créé pour réaliser les histogrammes et/ou les boxplots des données qui vous intéressent. N'oubliez pas, pour créer une nouvelle cellule de code, appuyez sur B (sauf sous Collaboratory)\n",
    "\n",
    "Pour créer une cellule de texte (Markdown), ajoutez une nouvelle cellule avec B puis appuyez sur M\n"
   ]
  },
  {
   "cell_type": "markdown",
   "metadata": {},
   "source": [
    "## 2.1 Les histogrammes"
   ]
  },
  {
   "cell_type": "markdown",
   "metadata": {},
   "source": [
    "### 2.1.1 Avec toutes les données"
   ]
  },
  {
   "cell_type": "markdown",
   "metadata": {},
   "source": [
    "<h4 style=\"color:#bc4749\">Pour 2014:</h4>"
   ]
  },
  {
   "cell_type": "code",
   "execution_count": null,
   "metadata": {},
   "outputs": [],
   "source": []
  },
  {
   "cell_type": "markdown",
   "metadata": {},
   "source": [
    "<h4 style=\"color:#bc4749\">Pour 2019:</h4>"
   ]
  },
  {
   "cell_type": "code",
   "execution_count": null,
   "metadata": {},
   "outputs": [],
   "source": []
  },
  {
   "cell_type": "markdown",
   "metadata": {},
   "source": [
    "### 2.1.2 Sans les valeurs extrêmes"
   ]
  },
  {
   "cell_type": "markdown",
   "metadata": {},
   "source": [
    "On décide de vérifier la répartition des données sans les valeurs extrèmes.\n",
    "\n",
    "NB. Le dataframe est passé en melt pour pouvoir appliquer la méthode facet (graphiques 2014 et 2018 côte à côte). Les variables sont passées en ligne, une colonne value est ajoutée"
   ]
  },
  {
   "cell_type": "code",
   "execution_count": 5,
   "metadata": {},
   "outputs": [
    {
     "data": {
      "text/html": [
       "<div>\n",
       "<style scoped>\n",
       "    .dataframe tbody tr th:only-of-type {\n",
       "        vertical-align: middle;\n",
       "    }\n",
       "\n",
       "    .dataframe tbody tr th {\n",
       "        vertical-align: top;\n",
       "    }\n",
       "\n",
       "    .dataframe thead th {\n",
       "        text-align: right;\n",
       "    }\n",
       "</style>\n",
       "<table border=\"1\" class=\"dataframe\">\n",
       "  <thead>\n",
       "    <tr style=\"text-align: right;\">\n",
       "      <th></th>\n",
       "      <th>Code</th>\n",
       "      <th>Département</th>\n",
       "      <th>variable</th>\n",
       "      <th>value</th>\n",
       "    </tr>\n",
       "  </thead>\n",
       "  <tbody>\n",
       "    <tr>\n",
       "      <th>0</th>\n",
       "      <td>01</td>\n",
       "      <td>Ain</td>\n",
       "      <td>ICF_2014</td>\n",
       "      <td>1.98</td>\n",
       "    </tr>\n",
       "    <tr>\n",
       "      <th>1</th>\n",
       "      <td>02</td>\n",
       "      <td>Aisne</td>\n",
       "      <td>ICF_2014</td>\n",
       "      <td>2.14</td>\n",
       "    </tr>\n",
       "    <tr>\n",
       "      <th>2</th>\n",
       "      <td>03</td>\n",
       "      <td>Allier</td>\n",
       "      <td>ICF_2014</td>\n",
       "      <td>1.93</td>\n",
       "    </tr>\n",
       "    <tr>\n",
       "      <th>3</th>\n",
       "      <td>04</td>\n",
       "      <td>Alpes-de-Haute-Provence</td>\n",
       "      <td>ICF_2014</td>\n",
       "      <td>1.98</td>\n",
       "    </tr>\n",
       "    <tr>\n",
       "      <th>4</th>\n",
       "      <td>05</td>\n",
       "      <td>Hautes-Alpes</td>\n",
       "      <td>ICF_2014</td>\n",
       "      <td>1.93</td>\n",
       "    </tr>\n",
       "    <tr>\n",
       "      <th>...</th>\n",
       "      <td>...</td>\n",
       "      <td>...</td>\n",
       "      <td>...</td>\n",
       "      <td>...</td>\n",
       "    </tr>\n",
       "    <tr>\n",
       "      <th>599</th>\n",
       "      <td>94</td>\n",
       "      <td>Val-de-Marne</td>\n",
       "      <td>ICF_2019</td>\n",
       "      <td>1.96</td>\n",
       "    </tr>\n",
       "    <tr>\n",
       "      <th>600</th>\n",
       "      <td>95</td>\n",
       "      <td>Val-d'Oise</td>\n",
       "      <td>ICF_2019</td>\n",
       "      <td>2.29</td>\n",
       "    </tr>\n",
       "    <tr>\n",
       "      <th>601</th>\n",
       "      <td>971</td>\n",
       "      <td>Guadeloupe</td>\n",
       "      <td>ICF_2019</td>\n",
       "      <td>2.25</td>\n",
       "    </tr>\n",
       "    <tr>\n",
       "      <th>602</th>\n",
       "      <td>973</td>\n",
       "      <td>Martinique</td>\n",
       "      <td>ICF_2019</td>\n",
       "      <td>2.00</td>\n",
       "    </tr>\n",
       "    <tr>\n",
       "      <th>604</th>\n",
       "      <td>974</td>\n",
       "      <td>La Réunion</td>\n",
       "      <td>ICF_2019</td>\n",
       "      <td>2.39</td>\n",
       "    </tr>\n",
       "  </tbody>\n",
       "</table>\n",
       "<p>594 rows × 4 columns</p>\n",
       "</div>"
      ],
      "text/plain": [
       "    Code              Département  variable  value\n",
       "0     01                      Ain  ICF_2014   1.98\n",
       "1     02                    Aisne  ICF_2014   2.14\n",
       "2     03                   Allier  ICF_2014   1.93\n",
       "3     04  Alpes-de-Haute-Provence  ICF_2014   1.98\n",
       "4     05             Hautes-Alpes  ICF_2014   1.93\n",
       "..   ...                      ...       ...    ...\n",
       "599   94             Val-de-Marne  ICF_2019   1.96\n",
       "600   95               Val-d'Oise  ICF_2019   2.29\n",
       "601  971               Guadeloupe  ICF_2019   2.25\n",
       "602  973               Martinique  ICF_2019   2.00\n",
       "604  974               La Réunion  ICF_2019   2.39\n",
       "\n",
       "[594 rows x 4 columns]"
      ]
     },
     "execution_count": 5,
     "metadata": {},
     "output_type": "execute_result"
    }
   ],
   "source": [
    "df_fr_m = pd.melt(df_fr, id_vars=['Code','Département'])\n",
    "df_fr_m.query(\"value < 3\")"
   ]
  },
  {
   "cell_type": "markdown",
   "metadata": {},
   "source": [
    "Pour supprimer les valeurs extrèmes, on filtre le dataframe et on ne conserve que 2014 et 2018"
   ]
  },
  {
   "cell_type": "code",
   "execution_count": 164,
   "metadata": {},
   "outputs": [
    {
     "data": {
      "text/plain": [
       "<seaborn.axisgrid.FacetGrid at 0x7f06ac0793d0>"
      ]
     },
     "execution_count": 164,
     "metadata": {},
     "output_type": "execute_result"
    },
    {
     "data": {
      "image/png": "[encoded data removed]",
      "text/plain": [
       "<Figure size 432x216 with 2 Axes>"
      ]
     },
     "metadata": {
      "needs_background": "light"
     },
     "output_type": "display_data"
    }
   ],
   "source": [
    "# Création, du facet, avec autant de colonne qu'il y a de modalités dans la colonne variable du dataframe\n",
    "g = sns.FacetGrid(df_fr_m.query(\"variable in ('ICF_2014','ICF_2019') and value <3\"),\n",
    "                  col=\"variable\", )\n",
    "\n",
    "# Il n'est pas possible de faire un displot en facet... Seaborn recommande d'utiliser histplot\n",
    "g.map_dataframe(sns.histplot, binwidth=0.1, binrange=(1.4, 2.5))"
   ]
  },
  {
   "cell_type": "markdown",
   "metadata": {
    "tags": []
   },
   "source": [
    "## 2.2 Boxplot pour voir les tendances"
   ]
  },
  {
   "cell_type": "markdown",
   "metadata": {
    "tags": []
   },
   "source": [
    "<h4 style=\"color:#bc4749\">Avec toutes les valeurs:</h4>"
   ]
  },
  {
   "cell_type": "code",
   "execution_count": null,
   "metadata": {},
   "outputs": [],
   "source": []
  },
  {
   "cell_type": "markdown",
   "metadata": {
    "tags": []
   },
   "source": [
    "<h4 style=\"color:#bc4749\">Sans les valeurs extrêmes:</h4>"
   ]
  },
  {
   "cell_type": "code",
   "execution_count": null,
   "metadata": {},
   "outputs": [],
   "source": []
  },
  {
   "cell_type": "markdown",
   "metadata": {
    "id": "nRWsycQBMx38"
   },
   "source": [
    "<hr style=\"height: 2px; color:  #94bd13 ; background-color:  #94bd13; width: 100%; border: none;\">\n",
    "\n",
    "# 3. Calculs statistiques\n",
    "\n",
    "Réalisez les calculs qui vous permettront de mieux interpréter vos données, leur forme, les points d'attention..."
   ]
  },
  {
   "cell_type": "markdown",
   "metadata": {},
   "source": [
    "<h4 style=\"color:#bc4749\">Univariée avec toutes les valeurs:</h4>"
   ]
  },
  {
   "cell_type": "code",
   "execution_count": null,
   "metadata": {},
   "outputs": [],
   "source": []
  },
  {
   "cell_type": "markdown",
   "metadata": {},
   "source": [
    "<h4 style=\"color:#bc4749\">Univariée sans les valeurs extrêmes:</h4>"
   ]
  },
  {
   "cell_type": "code",
   "execution_count": null,
   "metadata": {},
   "outputs": [],
   "source": []
  },
  {
   "cell_type": "markdown",
   "metadata": {},
   "source": [
    "## 3.2 Exemples sur les quantiles"
   ]
  },
  {
   "cell_type": "markdown",
   "metadata": {},
   "source": [
    "### 3.2.1 Afficher les 5 premiers % et 95 derniers %"
   ]
  },
  {
   "cell_type": "code",
   "execution_count": 13,
   "metadata": {},
   "outputs": [
    {
     "data": {
      "text/html": [
       "<div>\n",
       "<style scoped>\n",
       "    .dataframe tbody tr th:only-of-type {\n",
       "        vertical-align: middle;\n",
       "    }\n",
       "\n",
       "    .dataframe tbody tr th {\n",
       "        vertical-align: top;\n",
       "    }\n",
       "\n",
       "    .dataframe thead th {\n",
       "        text-align: right;\n",
       "    }\n",
       "</style>\n",
       "<table border=\"1\" class=\"dataframe\">\n",
       "  <thead>\n",
       "    <tr style=\"text-align: right;\">\n",
       "      <th></th>\n",
       "      <th>ICF_2014</th>\n",
       "      <th>ICF_2015</th>\n",
       "      <th>ICF_2016</th>\n",
       "      <th>ICF_2017</th>\n",
       "      <th>ICF_2018</th>\n",
       "      <th>ICF_2019</th>\n",
       "    </tr>\n",
       "  </thead>\n",
       "  <tbody>\n",
       "    <tr>\n",
       "      <th>0.05</th>\n",
       "      <td>1.75</td>\n",
       "      <td>1.69</td>\n",
       "      <td>1.67</td>\n",
       "      <td>1.63</td>\n",
       "      <td>1.60</td>\n",
       "      <td>1.61</td>\n",
       "    </tr>\n",
       "    <tr>\n",
       "      <th>0.95</th>\n",
       "      <td>2.26</td>\n",
       "      <td>2.21</td>\n",
       "      <td>2.15</td>\n",
       "      <td>2.16</td>\n",
       "      <td>2.16</td>\n",
       "      <td>2.25</td>\n",
       "    </tr>\n",
       "  </tbody>\n",
       "</table>\n",
       "</div>"
      ],
      "text/plain": [
       "      ICF_2014  ICF_2015  ICF_2016  ICF_2017  ICF_2018  ICF_2019\n",
       "0.05      1.75      1.69      1.67      1.63      1.60      1.61\n",
       "0.95      2.26      2.21      2.15      2.16      2.16      2.25"
      ]
     },
     "execution_count": 13,
     "metadata": {},
     "output_type": "execute_result"
    }
   ],
   "source": [
    "df_fr.quantile([.05, .95],numeric_only=True)"
   ]
  },
  {
   "cell_type": "markdown",
   "metadata": {},
   "source": [
    "### 3.2.2 Afficher les outliers au-delà de 1.5* l'interval interquartile (IQR)"
   ]
  },
  {
   "cell_type": "code",
   "execution_count": 11,
   "metadata": {},
   "outputs": [
    {
     "data": {
      "text/plain": [
       "ICF_2014    0.20\n",
       "ICF_2015    0.19\n",
       "ICF_2016    0.17\n",
       "ICF_2017    0.18\n",
       "ICF_2018    0.18\n",
       "ICF_2019    0.20\n",
       "dtype: float64"
      ]
     },
     "execution_count": 11,
     "metadata": {},
     "output_type": "execute_result"
    }
   ],
   "source": [
    "# Calcul de l'IQR\n",
    "Q1 = df_fr.quantile(0.25,numeric_only=True)\n",
    "Q3 = df_fr.quantile(0.75,numeric_only=True)\n",
    "IQR = Q3 - Q1\n",
    "IQR"
   ]
  },
  {
   "cell_type": "code",
   "execution_count": 10,
   "metadata": {},
   "outputs": [
    {
     "name": "stderr",
     "output_type": "stream",
     "text": [
      "/tmp/ipykernel_4646/94430222.py:7: FutureWarning: Automatic reindexing on DataFrame vs Series comparisons is deprecated and will raise ValueError in a future version. Do `left, right = left.align(right, axis=1, copy=False)` before e.g. `left == right`\n",
      "  df_iqr = df_fr[((df_fr < (Q1 - 1.5 * IQR)) |(df_fr > (Q3 + 1.5 * IQR))).any(axis=1)].copy()\n",
      "/tmp/ipykernel_4646/94430222.py:7: FutureWarning: Automatic reindexing on DataFrame vs Series comparisons is deprecated and will raise ValueError in a future version. Do `left, right = left.align(right, axis=1, copy=False)` before e.g. `left == right`\n",
      "  df_iqr = df_fr[((df_fr < (Q1 - 1.5 * IQR)) |(df_fr > (Q3 + 1.5 * IQR))).any(axis=1)].copy()\n"
     ]
    },
    {
     "data": {
      "text/html": [
       "<div>\n",
       "<style scoped>\n",
       "    .dataframe tbody tr th:only-of-type {\n",
       "        vertical-align: middle;\n",
       "    }\n",
       "\n",
       "    .dataframe tbody tr th {\n",
       "        vertical-align: top;\n",
       "    }\n",
       "\n",
       "    .dataframe thead th {\n",
       "        text-align: right;\n",
       "    }\n",
       "</style>\n",
       "<table border=\"1\" class=\"dataframe\">\n",
       "  <thead>\n",
       "    <tr style=\"text-align: right;\">\n",
       "      <th></th>\n",
       "      <th>Code</th>\n",
       "      <th>Département</th>\n",
       "      <th>ICF_2014</th>\n",
       "      <th>ICF_2015</th>\n",
       "      <th>ICF_2016</th>\n",
       "      <th>ICF_2017</th>\n",
       "      <th>ICF_2018</th>\n",
       "      <th>ICF_2019</th>\n",
       "    </tr>\n",
       "  </thead>\n",
       "  <tbody>\n",
       "    <tr>\n",
       "      <th>19</th>\n",
       "      <td>2A</td>\n",
       "      <td>Corse-du-Sud</td>\n",
       "      <td>1.49</td>\n",
       "      <td>1.45</td>\n",
       "      <td>1.48</td>\n",
       "      <td>1.42</td>\n",
       "      <td>1.50</td>\n",
       "      <td>1.46</td>\n",
       "    </tr>\n",
       "    <tr>\n",
       "      <th>20</th>\n",
       "      <td>2B</td>\n",
       "      <td>Haute-Corse</td>\n",
       "      <td>1.55</td>\n",
       "      <td>1.47</td>\n",
       "      <td>1.47</td>\n",
       "      <td>1.49</td>\n",
       "      <td>1.37</td>\n",
       "      <td>1.38</td>\n",
       "    </tr>\n",
       "    <tr>\n",
       "      <th>75</th>\n",
       "      <td>75</td>\n",
       "      <td>Paris</td>\n",
       "      <td>1.57</td>\n",
       "      <td>1.55</td>\n",
       "      <td>1.57</td>\n",
       "      <td>1.53</td>\n",
       "      <td>1.54</td>\n",
       "      <td>1.55</td>\n",
       "    </tr>\n",
       "    <tr>\n",
       "      <th>93</th>\n",
       "      <td>93</td>\n",
       "      <td>Seine-Saint-Denis</td>\n",
       "      <td>2.47</td>\n",
       "      <td>2.43</td>\n",
       "      <td>2.39</td>\n",
       "      <td>2.36</td>\n",
       "      <td>2.33</td>\n",
       "      <td>2.30</td>\n",
       "    </tr>\n",
       "    <tr>\n",
       "      <th>95</th>\n",
       "      <td>95</td>\n",
       "      <td>Val-d'Oise</td>\n",
       "      <td>2.30</td>\n",
       "      <td>2.28</td>\n",
       "      <td>2.29</td>\n",
       "      <td>2.28</td>\n",
       "      <td>2.26</td>\n",
       "      <td>2.29</td>\n",
       "    </tr>\n",
       "    <tr>\n",
       "      <th>96</th>\n",
       "      <td>971</td>\n",
       "      <td>Guadeloupe</td>\n",
       "      <td>2.19</td>\n",
       "      <td>2.10</td>\n",
       "      <td>2.14</td>\n",
       "      <td>1.94</td>\n",
       "      <td>2.04</td>\n",
       "      <td>2.25</td>\n",
       "    </tr>\n",
       "    <tr>\n",
       "      <th>98</th>\n",
       "      <td>972</td>\n",
       "      <td>Guyane</td>\n",
       "      <td>3.44</td>\n",
       "      <td>3.44</td>\n",
       "      <td>3.61</td>\n",
       "      <td>3.92</td>\n",
       "      <td>3.79</td>\n",
       "      <td>3.74</td>\n",
       "    </tr>\n",
       "    <tr>\n",
       "      <th>99</th>\n",
       "      <td>974</td>\n",
       "      <td>La Réunion</td>\n",
       "      <td>2.44</td>\n",
       "      <td>2.46</td>\n",
       "      <td>2.43</td>\n",
       "      <td>2.44</td>\n",
       "      <td>2.40</td>\n",
       "      <td>2.39</td>\n",
       "    </tr>\n",
       "    <tr>\n",
       "      <th>100</th>\n",
       "      <td>NaN</td>\n",
       "      <td>Mayotte</td>\n",
       "      <td>4.12</td>\n",
       "      <td>4.87</td>\n",
       "      <td>4.95</td>\n",
       "      <td>4.92</td>\n",
       "      <td>4.66</td>\n",
       "      <td>4.59</td>\n",
       "    </tr>\n",
       "  </tbody>\n",
       "</table>\n",
       "</div>"
      ],
      "text/plain": [
       "    Code        Département  ICF_2014  ICF_2015  ICF_2016  ICF_2017  ICF_2018  \\\n",
       "19    2A       Corse-du-Sud      1.49      1.45      1.48      1.42      1.50   \n",
       "20    2B        Haute-Corse      1.55      1.47      1.47      1.49      1.37   \n",
       "75    75              Paris      1.57      1.55      1.57      1.53      1.54   \n",
       "93    93  Seine-Saint-Denis      2.47      2.43      2.39      2.36      2.33   \n",
       "95    95         Val-d'Oise      2.30      2.28      2.29      2.28      2.26   \n",
       "96   971         Guadeloupe      2.19      2.10      2.14      1.94      2.04   \n",
       "98   972             Guyane      3.44      3.44      3.61      3.92      3.79   \n",
       "99   974         La Réunion      2.44      2.46      2.43      2.44      2.40   \n",
       "100  NaN            Mayotte      4.12      4.87      4.95      4.92      4.66   \n",
       "\n",
       "     ICF_2019  \n",
       "19       1.46  \n",
       "20       1.38  \n",
       "75       1.55  \n",
       "93       2.30  \n",
       "95       2.29  \n",
       "96       2.25  \n",
       "98       3.74  \n",
       "99       2.39  \n",
       "100      4.59  "
      ]
     },
     "execution_count": 10,
     "metadata": {},
     "output_type": "execute_result"
    }
   ],
   "source": [
    "# Filtre en excluant les données inférieures à Q1 - 1.5 * IQR OU (|) supérieures ) Q3 + 1.5 * IQR sur un axe\n",
    "df_iqr = df_fr[((df_fr < (Q1 - 1.5 * IQR)) |(df_fr > (Q3 + 1.5 * IQR))).any(axis=1)]\n",
    "df_iqr"
   ]
  },
  {
   "cell_type": "markdown",
   "metadata": {},
   "source": [
    "## 3.3 Tests de normalité"
   ]
  },
  {
   "cell_type": "markdown",
   "metadata": {},
   "source": [
    "### 3.3.1 Tests de la normalité sans les extrêmes"
   ]
  },
  {
   "cell_type": "code",
   "execution_count": 172,
   "metadata": {},
   "outputs": [
    {
     "data": {
      "text/plain": [
       "ShapiroResult(statistic=0.9731698632240295, pvalue=0.04050901532173157)"
      ]
     },
     "execution_count": 172,
     "metadata": {},
     "output_type": "execute_result"
    }
   ],
   "source": [
    "stats.shapiro(df_fr.query(\"ICF_2014 < 3\")['ICF_2014'])"
   ]
  },
  {
   "cell_type": "markdown",
   "metadata": {},
   "source": [
    "Le Shapiro test montre que la série 2014 est à la limite de la significativité (p-value = 0.04). \n",
    "L'histogramme laissait cependant suggérer une loi normale. On vérifie le kurtosis et le skew pour comprendre"
   ]
  },
  {
   "cell_type": "code",
   "execution_count": 124,
   "metadata": {},
   "outputs": [
    {
     "name": "stdout",
     "output_type": "stream",
     "text": [
      "Pour la série 2014 : \n",
      "Skew = 0.028\n",
      "Kurtosis = 1.624\n",
      "\n"
     ]
    }
   ],
   "source": [
    "s = df_fr.query(\"ICF_2014 < 3\")['ICF_2014'].skew()\n",
    "k = df_fr.query(\"ICF_2014 < 3\")['ICF_2014'].kurtosis()\n",
    "\n",
    "print(f\"\"\"Pour la série 2014 : \n",
    "Skew = {s:.3f}\n",
    "Kurtosis = {k:.3f}\n",
    "\"\"\")"
   ]
  },
  {
   "cell_type": "markdown",
   "metadata": {},
   "source": [
    "Le coefficient d'asymétrie (Skew) est très proche de 0, ce qui tend à montrer la symétrie de la distribution\n",
    "\n",
    "Le kurtosis est égal = 1.6, ce qui explique pourquoi le Shapiro-test est à la limite de la significativité. Un kurtosis standardisé de loi normale est normalement proche de 0"
   ]
  },
  {
   "cell_type": "code",
   "execution_count": 21,
   "metadata": {},
   "outputs": [
    {
     "data": {
      "text/plain": [
       "ShapiroResult(statistic=0.9591991901397705, pvalue=0.0037455339916050434)"
      ]
     },
     "execution_count": 21,
     "metadata": {},
     "output_type": "execute_result"
    }
   ],
   "source": [
    "stats.shapiro(df_fr.query(\"ICF_2019 < 3\")['ICF_2019'])"
   ]
  },
  {
   "cell_type": "markdown",
   "metadata": {},
   "source": [
    "On peut également tester si les deux moyennes et les deux variances sont significativement différentes :\n",
    "- On utilise un test de Barlet pour la variance (ou de Levene selon le contexte) \n",
    "- un t-test pour la moyenne car les variances ne sont pas différentes entre les deux séries"
   ]
  },
  {
   "cell_type": "code",
   "execution_count": 8,
   "metadata": {},
   "outputs": [
    {
     "name": "stdout",
     "output_type": "stream",
     "text": [
      "\n",
      "Barlet p-value= 0.674\n",
      "Ttest p-value= 5.24e-42\n",
      "\n"
     ]
    }
   ],
   "source": [
    "icf14 = df_fr.query(\"ICF_2014 < 3\")['ICF_2014']\n",
    "icf19 = df_fr.query(\"ICF_2019 < 3\")['ICF_2019']\n",
    "\n",
    "lr, lp = stats.bartlett(icf14,icf19) # lr correspond au résultat du test de Barlet, lp à sa p-value\n",
    "tr, tp = stats.ttest_rel(icf14,icf19)  # ici un test apparié, le même indicateur étant testé sur deux années\n",
    "\n",
    "print(f\"\"\"\n",
    "Barlet p-value= {lp:.3f}\n",
    "Ttest p-value= {tp:.3}\n",
    "\"\"\")"
   ]
  },
  {
   "cell_type": "markdown",
   "metadata": {},
   "source": [
    "Les variances des deux séries sans ls extrêmes ne sont pas significativement différentes, les moyennes sont significativement différentes"
   ]
  },
  {
   "cell_type": "markdown",
   "metadata": {},
   "source": [
    "### Une fonction pour tester les variances et les moyennes\n",
    "La fonction suivante sélectionne automatiquement les tests adéquats en fonction de la forme des deux séries"
   ]
  },
  {
   "cell_type": "code",
   "execution_count": 11,
   "metadata": {},
   "outputs": [
    {
     "name": "stdout",
     "output_type": "stream",
     "text": [
      "Au moins une distribution ne suit pas une loi normale\n",
      "Les variances ne sont pas significativement différentes: p= 0.7844\n",
      "Les moyennes sont significativement différentes: 1.9707 et 1.8248, p= 0.0000\n"
     ]
    }
   ],
   "source": [
    "def test_moyenne(x, y,pair=True):\n",
    "    \"\"\"\n",
    "    test de l'égalité de deux moyennes et de leur variance. Vérification de la normalité des données\n",
    "    et ajustement des tests si nécessaire (normalité, égalité des variances)\n",
    "    @return: str\n",
    "    @type x: np.array\n",
    "    @type y: np.array\n",
    "    \"\"\"\n",
    "    # TODO : trop de conditions, à passer en class\n",
    "    \n",
    "    # test de la normalité\n",
    "    sv_x, sp_x = stats.shapiro(x)\n",
    "    sv_y, sp_y = stats.shapiro(y)\n",
    "\n",
    "    if sp_x < 0.05 or sp_y < 0.05:\n",
    "        var = \"H1\"\n",
    "        test_n = \"Au moins une distribution ne suit pas une loi normale\"\n",
    "\n",
    "    else:\n",
    "        var = \"H0\"\n",
    "        test_n = \"Les deux distributions suivent une loi normale\"\n",
    "\n",
    "    # test de variance, en fonction de la normalité des données\n",
    "    if var == 'H0':\n",
    "        vv, vp = stats.bartlett(x, y)\n",
    "        if vp < 0.05:\n",
    "            test_v = f\"Les variances sont significativement différentes: p= {vp:.4f}\"\n",
    "        else:\n",
    "            test_v = f\"Les variances ne sont pas significativement différentes: p= {vp:.4f}\"\n",
    "\n",
    "    else:\n",
    "        vv, vp = stats.levene(x, y)\n",
    "        if vp < 0.05:\n",
    "            test_v = f\"Les variances sont significativement différentes: p= {vp:.4f}\"\n",
    "        else:\n",
    "            test_v = f\"Les variances ne sont pas significativement différentes: p= {vp:.4f}\"\n",
    "\n",
    "    if pair : \n",
    "         tv, tp = stats.ttest_rel(x, y) \n",
    "    else : \n",
    "         # test d'égalité des moyennes si les séries sont non appariées, en fonction de l'égalité des variances\n",
    "        if vp >= 0.05:\n",
    "            tv, tp = stats.ttest_ind(x, y, equal_var=True)\n",
    "        else:\n",
    "            tv, tp = stats.ttest_ind(x, y, equal_var=False)  \n",
    "\n",
    "    if tp >= 0.05:\n",
    "        test_m = f\"Les moyennes ne sont pas significativement différentes: {np.mean(x):.4f} et {np.mean(y):.4f}, p= {tp:.4f}\"\n",
    "    else:\n",
    "        test_m = f\"Les moyennes sont significativement différentes: {np.mean(x):.4f} et {np.mean(y):.4f}, p= {tp:.4f}\"\n",
    "\n",
    "    return print(f\"\"\"{test_n}\\n{test_v}\\n{test_m}\"\"\")\n",
    "\n",
    "# on appelle la fonction : \n",
    "test_moyenne(icf14,icf19)\n"
   ]
  },
  {
   "cell_type": "markdown",
   "metadata": {},
   "source": [
    "## 3.3.2 QQ-plot"
   ]
  },
  {
   "cell_type": "markdown",
   "metadata": {},
   "source": [
    "<h4 style=\"color:#bc4749\">QQ-plot avec toutes les valeurs:</h4>"
   ]
  },
  {
   "cell_type": "code",
   "execution_count": null,
   "metadata": {},
   "outputs": [],
   "source": []
  },
  {
   "cell_type": "markdown",
   "metadata": {},
   "source": [
    "<h4 style=\"color:#bc4749\">QQ-plot sans les valeurs extrêmes:</h4>"
   ]
  },
  {
   "cell_type": "code",
   "execution_count": null,
   "metadata": {},
   "outputs": [],
   "source": []
  },
  {
   "cell_type": "markdown",
   "metadata": {
    "id": "nRWsycQBMx38"
   },
   "source": [
    "<hr style=\"height: 2px; color:  #94bd13 ; background-color:  #94bd13; width: 100%; border: none;\">\n",
    "\n",
    "# 4. Réponses à la demande\n",
    "\n",
    "Avant de répondre à la demande, \n",
    "\n",
    "- Essayez d'interpréter les résultats des graphiques et des calculs. \n",
    "- Que pouvez-vous tirer de cette analyse univariée ?\n",
    "- Pensez aux objectifs des cartes, au contexte, au public.\n",
    "\n",
    "Rédigez ensuite vos réponses et proposez une ou plusieurs méthodes de discrétisation\n",
    "\n",
    "\n",
    "\n"
   ]
  },
  {
   "cell_type": "markdown",
   "metadata": {},
   "source": []
  }
 ],
 "metadata": {
  "colab": {
   "authorship_tag": "ABX9TyOkexbfxkVCFcNqVtlGvlo+",
   "collapsed_sections": [],
   "include_colab_link": true,
   "name": "Pandas_univ.ipynb",
   "provenance": []
  },
  "kernelspec": {
   "display_name": "Python 3 (ipykernel)",
   "language": "python",
   "name": "python3"
  },
  "language_info": {
   "codemirror_mode": {
    "name": "ipython",
    "version": 3
   },
   "file_extension": ".py",
   "mimetype": "text/x-python",
   "name": "python",
   "nbconvert_exporter": "python",
   "pygments_lexer": "ipython3",
   "version": "3.11.0"
  }
 },
 "nbformat": 4,
 "nbformat_minor": 4
}
