{
 "cells": [
  {
   "cell_type": "code",
   "execution_count": 4,
   "id": "ff859048-6d15-4796-a939-77ab8195f818",
   "metadata": {},
   "outputs": [],
   "source": [
    "import geopandas as gpd"
   ]
  },
  {
   "cell_type": "code",
   "execution_count": 10,
   "id": "ca14ed04-77a1-4324-8b46-b481c674d3eb",
   "metadata": {},
   "outputs": [],
   "source": [
    "gdf = gpd.read_file(\"UE_GEN3_3857.geojson\")\n",
    "gdf =gdf.set_crs(3857,allow_override=True)"
   ]
  },
  {
   "cell_type": "code",
   "execution_count": 13,
   "id": "66fac2bd-e055-47c9-a474-95872701104b",
   "metadata": {},
   "outputs": [],
   "source": [
    "gdf.to_file(\"UE_GEN3_3857.geojson\")"
   ]
  },
  {
   "cell_type": "code",
   "execution_count": null,
   "id": "520394e6-73ad-4af6-9052-9f4ad20ea0c2",
   "metadata": {},
   "outputs": [],
   "source": []
  }
 ],
 "metadata": {
  "kernelspec": {
   "display_name": "Python 3 (ipykernel)",
   "language": "python",
   "name": "python3"
  },
  "language_info": {
   "codemirror_mode": {
    "name": "ipython",
    "version": 3
   },
   "file_extension": ".py",
   "mimetype": "text/x-python",
   "name": "python",
   "nbconvert_exporter": "python",
   "pygments_lexer": "ipython3",
   "version": "3.11.0"
  }
 },
 "nbformat": 4,
 "nbformat_minor": 5
}
