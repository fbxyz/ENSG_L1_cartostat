{
 "cells": [
  {
   "cell_type": "markdown",
   "id": "d59908c4-0826-4489-b60f-2d1b893833eb",
   "metadata": {
    "id": "CLqyCoAiRKLy"
   },
   "source": [
    "<img src=\"https://upload.wikimedia.org/wikipedia/fr/thumb/9/9e/Logo_ENSG_G%C3%A9omatique_2012.svg/220px-Logo_ENSG_G%C3%A9omatique_2012.svg.png\" style=\"margin-left:auto; margin-right:auto\"/>\n"
   ]
  },
  {
   "cell_type": "markdown",
   "id": "0c786eb7-b0d5-419e-a0b4-04d163ac234f",
   "metadata": {},
   "source": [
    "https://colab.research.google.com/drive/1TKe1_1ECzOlP4Aj1P3vzbn47U9YrqVFQ#scrollTo=XTefDhHfBOS4"
   ]
  },
  {
   "cell_type": "markdown",
   "id": "ae6dd4e2-5e22-4640-930d-8132171e8f38",
   "metadata": {
    "id": "wkgAs0oTI9gU",
    "tags": []
   },
   "source": [
    "<center> \n",
    "    <h1>ENSG : statistiques appliquées en cartographie</h1> \n",
    "    <h2>Cartographie des résultats du TD 1</h2> \n",
    "    <h3>Florian Bayer, décembre 2022</h3> \n",
    "</center> \n",
    "\n",
    "<hr style=\"height: 2px; color:  #94bd13 ; background-color:  #94bd13; width: 100%; border: none;\">\n",
    "\n",
    "* L'objectif de ce TD est d'appliquer les connaissances acquises durant le cours et les TD précédents\n",
    "  \n",
    "* En cartographiant les \n",
    "\n",
    "* https://www.santepubliquefrance.fr/docs/mesure-des-inegalites-de-mortalite-par-cause-de-deces.-approche-ecologique-a-l-aide-d-un-indice-de-desavantage-social\n"
   ]
  },
  {
   "cell_type": "markdown",
   "id": "181e77d5-e62b-4f87-90a7-739ec5c304cc",
   "metadata": {},
   "source": [
    "<hr style=\"height: 2px; color:  #94bd13 ; background-color:  #94bd13; width: 100%; border: none;\">\n",
    "\n",
    "# 1.Import des données\n",
    "\n",
    "Pour ce TD, les données sont directement importées au format json : \n",
    "- le revenu médian par ménage\n",
    "- le pourcentage de bacheliers dans la population de plus de 15 ans\n",
    "- le pourcentage d’ouvriers dans la population active \n",
    "- le taux de chômage."
   ]
  },
  {
   "cell_type": "markdown",
   "id": "4b700f50-6b43-497d-a584-46cfec7e6f10",
   "metadata": {
    "id": "nRWsycQBMx38"
   },
   "source": [
    "<hr style=\"height: 2px; color:  #94bd13 ; background-color:  #94bd13; width: 100%; border: none;\">\n",
    "\n",
    "# 1. Importation des données\n",
    "\n",
    "Pour ce TD, les données sont directement importées au format json, un standard d'échange web :\n"
   ]
  },
  {
   "cell_type": "code",
   "execution_count": 40,
   "id": "bb137ddc-3033-4078-9068-642b9647a121",
   "metadata": {},
   "outputs": [
    {
     "data": {
      "text/html": [
       "<div>\n",
       "<style scoped>\n",
       "    .dataframe tbody tr th:only-of-type {\n",
       "        vertical-align: middle;\n",
       "    }\n",
       "\n",
       "    .dataframe tbody tr th {\n",
       "        vertical-align: top;\n",
       "    }\n",
       "\n",
       "    .dataframe thead th {\n",
       "        text-align: right;\n",
       "    }\n",
       "</style>\n",
       "<table border=\"1\" class=\"dataframe\">\n",
       "  <thead>\n",
       "    <tr style=\"text-align: right;\">\n",
       "      <th></th>\n",
       "      <th>COD_GEO</th>\n",
       "      <th>CODEGEO_label</th>\n",
       "      <th>MED_REV18</th>\n",
       "      <th>P_BAC18</th>\n",
       "      <th>P_OUV18</th>\n",
       "      <th>TX_CHOM18</th>\n",
       "    </tr>\n",
       "  </thead>\n",
       "  <tbody>\n",
       "    <tr>\n",
       "      <th>0</th>\n",
       "      <td>01</td>\n",
       "      <td>Ain</td>\n",
       "      <td>23420</td>\n",
       "      <td>47.03</td>\n",
       "      <td>26.66</td>\n",
       "      <td>10.0</td>\n",
       "    </tr>\n",
       "    <tr>\n",
       "      <th>1</th>\n",
       "      <td>02</td>\n",
       "      <td>Aisne</td>\n",
       "      <td>19690</td>\n",
       "      <td>35.23</td>\n",
       "      <td>27.86</td>\n",
       "      <td>17.4</td>\n",
       "    </tr>\n",
       "    <tr>\n",
       "      <th>2</th>\n",
       "      <td>03</td>\n",
       "      <td>Allier</td>\n",
       "      <td>20360</td>\n",
       "      <td>37.88</td>\n",
       "      <td>24.15</td>\n",
       "      <td>13.5</td>\n",
       "    </tr>\n",
       "    <tr>\n",
       "      <th>3</th>\n",
       "      <td>04</td>\n",
       "      <td>Alpes-de-Haute-Provence</td>\n",
       "      <td>20580</td>\n",
       "      <td>45.60</td>\n",
       "      <td>19.02</td>\n",
       "      <td>14.1</td>\n",
       "    </tr>\n",
       "    <tr>\n",
       "      <th>4</th>\n",
       "      <td>05</td>\n",
       "      <td>Hautes-Alpes</td>\n",
       "      <td>20880</td>\n",
       "      <td>49.92</td>\n",
       "      <td>17.57</td>\n",
       "      <td>10.2</td>\n",
       "    </tr>\n",
       "  </tbody>\n",
       "</table>\n",
       "</div>"
      ],
      "text/plain": [
       "  COD_GEO            CODEGEO_label  MED_REV18  P_BAC18  P_OUV18  TX_CHOM18\n",
       "0      01                      Ain      23420    47.03    26.66       10.0\n",
       "1      02                    Aisne      19690    35.23    27.86       17.4\n",
       "2      03                   Allier      20360    37.88    24.15       13.5\n",
       "3      04  Alpes-de-Haute-Provence      20580    45.60    19.02       14.1\n",
       "4      05             Hautes-Alpes      20880    49.92    17.57       10.2"
      ]
     },
     "execution_count": 40,
     "metadata": {},
     "output_type": "execute_result"
    }
   ],
   "source": [
    "import altair as alt\n",
    "import pandas as pd\n",
    "\n",
    "jsondata = '{\"COD_GEO\":{\"0\":\"01\",\"1\":\"02\",\"2\":\"03\",\"3\":\"04\",\"4\":\"05\",\"5\":\"06\",\"6\":\"07\",\"7\":\"08\",\"8\":\"09\",\"9\":\"10\",\"10\":\"11\",\"11\":\"12\",\"12\":\"13\",\"13\":\"14\",\"14\":\"15\",\"15\":\"16\",\"16\":\"17\",\"17\":\"18\",\"18\":\"19\",\"19\":\"21\",\"20\":\"22\",\"21\":\"23\",\"22\":\"24\",\"23\":\"25\",\"24\":\"26\",\"25\":\"27\",\"26\":\"28\",\"27\":\"29\",\"28\":\"2A\",\"29\":\"2B\",\"30\":\"30\",\"31\":\"31\",\"32\":\"32\",\"33\":\"33\",\"34\":\"34\",\"35\":\"35\",\"36\":\"36\",\"37\":\"37\",\"38\":\"38\",\"39\":\"39\",\"40\":\"40\",\"41\":\"41\",\"42\":\"42\",\"43\":\"43\",\"44\":\"44\",\"45\":\"45\",\"46\":\"46\",\"47\":\"47\",\"48\":\"48\",\"49\":\"49\",\"50\":\"50\",\"51\":\"51\",\"52\":\"52\",\"53\":\"53\",\"54\":\"54\",\"55\":\"55\",\"56\":\"56\",\"57\":\"57\",\"58\":\"58\",\"59\":\"59\",\"60\":\"60\",\"61\":\"61\",\"62\":\"62\",\"63\":\"63\",\"64\":\"64\",\"65\":\"65\",\"66\":\"66\",\"67\":\"67\",\"68\":\"68\",\"69\":\"69\",\"70\":\"70\",\"71\":\"71\",\"72\":\"72\",\"73\":\"73\",\"74\":\"74\",\"75\":\"75\",\"76\":\"76\",\"77\":\"77\",\"78\":\"78\",\"79\":\"79\",\"80\":\"80\",\"81\":\"81\",\"82\":\"82\",\"83\":\"83\",\"84\":\"84\",\"85\":\"85\",\"86\":\"86\",\"87\":\"87\",\"88\":\"88\",\"89\":\"89\",\"90\":\"90\",\"91\":\"91\",\"92\":\"92\",\"93\":\"93\",\"94\":\"94\",\"95\":\"95\"},\"CODEGEO_label\":{\"0\":\"Ain\",\"1\":\"Aisne\",\"2\":\"Allier\",\"3\":\"Alpes-de-Haute-Provence\",\"4\":\"Hautes-Alpes\",\"5\":\"Alpes-Maritimes\",\"6\":\"Ard\\\\u00e8che\",\"7\":\"Ardennes\",\"8\":\"Ari\\\\u00e8ge\",\"9\":\"Aube\",\"10\":\"Aude\",\"11\":\"Aveyron\",\"12\":\"Bouches-du-Rh\\\\u00f4ne\",\"13\":\"Calvados\",\"14\":\"Cantal\",\"15\":\"Charente\",\"16\":\"Charente-Maritime\",\"17\":\"Cher\",\"18\":\"Corr\\\\u00e8ze\",\"19\":\"C\\\\u00f4te-d\\'Or\",\"20\":\"C\\\\u00f4tes-d\\'Armor\",\"21\":\"Creuse\",\"22\":\"Dordogne\",\"23\":\"Doubs\",\"24\":\"Dr\\\\u00f4me\",\"25\":\"Eure\",\"26\":\"Eure-et-Loir\",\"27\":\"Finist\\\\u00e8re\",\"28\":\"Corse-du-Sud\",\"29\":\"Haute-Corse\",\"30\":\"Gard\",\"31\":\"Haute-Garonne\",\"32\":\"Gers\",\"33\":\"Gironde\",\"34\":\"H\\\\u00e9rault\",\"35\":\"Ille-et-Vilaine\",\"36\":\"Indre\",\"37\":\"Indre-et-Loire\",\"38\":\"Is\\\\u00e8re\",\"39\":\"Jura\",\"40\":\"Landes\",\"41\":\"Loir-et-Cher\",\"42\":\"Loire\",\"43\":\"Haute-Loire\",\"44\":\"Loire-Atlantique\",\"45\":\"Loiret\",\"46\":\"Lot\",\"47\":\"Lot-et-Garonne\",\"48\":\"Loz\\\\u00e8re\",\"49\":\"Maine-et-Loire\",\"50\":\"Manche\",\"51\":\"Marne\",\"52\":\"Haute-Marne\",\"53\":\"Mayenne\",\"54\":\"Meurthe-et-Moselle\",\"55\":\"Meuse\",\"56\":\"Morbihan\",\"57\":\"Moselle\",\"58\":\"Ni\\\\u00e8vre\",\"59\":\"Nord\",\"60\":\"Oise\",\"61\":\"Orne\",\"62\":\"Pas-de-Calais\",\"63\":\"Puy-de-D\\\\u00f4me\",\"64\":\"Pyr\\\\u00e9n\\\\u00e9es-Atlantiques\",\"65\":\"Hautes-Pyr\\\\u00e9n\\\\u00e9es\",\"66\":\"Pyr\\\\u00e9n\\\\u00e9es-Orientales\",\"67\":\"Bas-Rhin\",\"68\":\"Haut-Rhin\",\"69\":\"Rh\\\\u00f4ne\",\"70\":\"Haute-Sa\\\\u00f4ne\",\"71\":\"Sa\\\\u00f4ne-et-Loire\",\"72\":\"Sarthe\",\"73\":\"Savoie\",\"74\":\"Haute-Savoie\",\"75\":\"Paris\",\"76\":\"Seine-Maritime\",\"77\":\"Seine-et-Marne\",\"78\":\"Yvelines\",\"79\":\"Deux-S\\\\u00e8vres\",\"80\":\"Somme\",\"81\":\"Tarn\",\"82\":\"Tarn-et-Garonne\",\"83\":\"Var\",\"84\":\"Vaucluse\",\"85\":\"Vend\\\\u00e9e\",\"86\":\"Vienne\",\"87\":\"Haute-Vienne\",\"88\":\"Vosges\",\"89\":\"Yonne\",\"90\":\"Territoire de Belfort\",\"91\":\"Essonne\",\"92\":\"Hauts-de-Seine\",\"93\":\"Seine-Saint-Denis\",\"94\":\"Val-de-Marne\",\"95\":\"Val-d\\'Oise\"},\"MED_REV18\":{\"0\":23420,\"1\":19690,\"2\":20360,\"3\":20580,\"4\":20880,\"5\":22140,\"6\":20780,\"7\":19650,\"8\":19820,\"9\":20430,\"10\":19240,\"11\":20640,\"12\":21360,\"13\":21490,\"14\":20510,\"15\":20640,\"16\":21280,\"17\":20880,\"18\":20960,\"19\":22400,\"20\":21230,\"21\":19380,\"22\":20140,\"23\":22590,\"24\":21100,\"25\":21700,\"26\":22070,\"27\":21690,\"28\":21670,\"29\":19840,\"30\":20020,\"31\":23140,\"32\":20820,\"33\":22400,\"34\":20330,\"35\":22230,\"36\":20200,\"37\":21750,\"38\":22950,\"39\":21700,\"40\":21360,\"41\":21380,\"42\":20770,\"43\":20800,\"44\":22600,\"45\":21960,\"46\":20740,\"47\":19930,\"48\":20420,\"49\":21110,\"50\":20980,\"51\":21650,\"52\":20190,\"53\":20830,\"54\":21480,\"55\":20590,\"56\":21600,\"57\":21650,\"58\":20320,\"59\":20040,\"60\":22150,\"61\":20140,\"62\":19200,\"63\":21890,\"64\":21850,\"65\":20420,\"66\":19350,\"67\":22620,\"68\":23130,\"69\":22990,\"70\":20680,\"71\":20850,\"72\":21040,\"73\":23160,\"74\":26600,\"75\":28270,\"76\":21140,\"77\":23470,\"78\":26810,\"79\":20840,\"80\":20320,\"81\":20400,\"82\":20140,\"83\":21590,\"84\":19880,\"85\":21320,\"86\":20900,\"87\":20860,\"88\":20240,\"89\":20800,\"90\":21860,\"91\":23920,\"92\":28040,\"93\":17740,\"94\":22880,\"95\":21970},\"P_BAC18\":{\"0\":47.03,\"1\":35.23,\"2\":37.88,\"3\":45.6,\"4\":49.92,\"5\":50.8,\"6\":43.24,\"7\":35.91,\"8\":43.67,\"9\":37.63,\"10\":43.86,\"11\":43.7,\"12\":50.62,\"13\":43.32,\"14\":39.09,\"15\":40.3,\"16\":42.4,\"17\":39.12,\"18\":42.45,\"19\":47.45,\"20\":44.49,\"21\":37.29,\"22\":39.56,\"23\":45.1,\"24\":46.35,\"25\":40.03,\"26\":40.37,\"27\":49.98,\"28\":49.25,\"29\":47.32,\"30\":45.46,\"31\":59.98,\"32\":44.18,\"33\":51.86,\"34\":51.93,\"35\":52.01,\"36\":34.31,\"37\":47.39,\"38\":51.16,\"39\":41.42,\"40\":43.73,\"41\":38.21,\"42\":42.07,\"43\":42.47,\"44\":52.54,\"45\":44.29,\"46\":44.5,\"47\":39.62,\"48\":45.36,\"49\":44.0,\"50\":38.07,\"51\":43.52,\"52\":34.91,\"53\":38.73,\"54\":45.68,\"55\":37.3,\"56\":45.98,\"57\":42.66,\"58\":36.13,\"59\":45.36,\"60\":42.96,\"61\":34.06,\"62\":39.25,\"63\":47.37,\"64\":50.16,\"65\":43.59,\"66\":43.75,\"67\":48.08,\"68\":43.27,\"69\":56.57,\"70\":37.61,\"71\":38.31,\"72\":38.71,\"73\":49.3,\"74\":52.2,\"75\":75.64,\"76\":41.33,\"77\":50.32,\"78\":61.78,\"79\":40.34,\"80\":39.43,\"81\":44.41,\"82\":42.31,\"83\":47.81,\"84\":44.83,\"85\":40.05,\"86\":44.95,\"87\":44.51,\"88\":36.96,\"89\":36.57,\"90\":45.33,\"91\":54.8,\"92\":69.13,\"93\":45.91,\"94\":57.96,\"95\":51.51},\"P_OUV18\":{\"0\":26.66,\"1\":27.86,\"2\":24.15,\"3\":19.02,\"4\":17.57,\"5\":14.95,\"6\":22.77,\"7\":27.17,\"8\":18.35,\"9\":25.39,\"10\":19.82,\"11\":21.82,\"12\":16.49,\"13\":23.15,\"14\":21.91,\"15\":26.49,\"16\":21.06,\"17\":24.45,\"18\":23.26,\"19\":21.59,\"20\":25.32,\"21\":20.04,\"22\":23.49,\"23\":25.19,\"24\":23.31,\"25\":27.38,\"26\":25.25,\"27\":22.19,\"28\":18.74,\"29\":18.98,\"30\":18.53,\"31\":14.84,\"32\":20.51,\"33\":18.29,\"34\":15.49,\"35\":21.39,\"36\":26.96,\"37\":21.04,\"38\":19.37,\"39\":27.47,\"40\":23.89,\"41\":26.24,\"42\":23.89,\"43\":25.61,\"44\":20.3,\"45\":23.93,\"46\":21.47,\"47\":24.35,\"48\":19.11,\"49\":26.12,\"50\":26.36,\"51\":24.38,\"52\":28.22,\"53\":30.03,\"54\":19.71,\"55\":25.82,\"56\":24.73,\"57\":23.38,\"58\":24.02,\"59\":21.39,\"60\":25.24,\"61\":28.22,\"62\":26.8,\"63\":21.33,\"64\":19.16,\"65\":19.22,\"66\":18.88,\"67\":22.41,\"68\":24.82,\"69\":15.75,\"70\":28.39,\"71\":26.16,\"72\":27.3,\"73\":20.98,\"74\":21.67,\"75\":9.18,\"76\":23.67,\"77\":20.69,\"78\":14.02,\"79\":25.53,\"80\":26.21,\"81\":19.96,\"82\":20.88,\"83\":16.85,\"84\":20.52,\"85\":30.82,\"86\":21.12,\"87\":20.4,\"88\":27.13,\"89\":26.67,\"90\":19.51,\"91\":16.67,\"92\":7.71,\"93\":16.42,\"94\":14.91,\"95\":18.24},\"TX_CHOM18\":{\"0\":10.0,\"1\":17.4,\"2\":13.5,\"3\":14.1,\"4\":10.2,\"5\":13.0,\"6\":13.6,\"7\":16.5,\"8\":15.0,\"9\":16.0,\"10\":17.3,\"11\":9.3,\"12\":14.1,\"13\":12.4,\"14\":8.3,\"15\":13.4,\"16\":13.9,\"17\":13.5,\"18\":10.6,\"19\":11.2,\"20\":11.4,\"21\":12.2,\"22\":13.5,\"23\":11.9,\"24\":13.6,\"25\":13.0,\"26\":12.2,\"27\":12.0,\"28\":11.0,\"29\":12.4,\"30\":16.7,\"31\":12.3,\"32\":10.6,\"33\":12.6,\"34\":16.8,\"35\":10.4,\"36\":12.6,\"37\":12.4,\"38\":11.0,\"39\":10.1,\"40\":13.0,\"41\":11.7,\"42\":12.9,\"43\":10.2,\"44\":11.1,\"45\":12.7,\"46\":12.7,\"47\":13.9,\"48\":9.4,\"49\":11.8,\"50\":10.4,\"51\":13.1,\"52\":13.0,\"53\":8.9,\"54\":13.5,\"55\":13.2,\"56\":12.1,\"57\":13.1,\"58\":13.2,\"59\":17.1,\"60\":13.2,\"61\":12.7,\"62\":16.6,\"63\":11.9,\"64\":11.5,\"65\":13.3,\"66\":18.9,\"67\":11.6,\"68\":13.4,\"69\":12.1,\"70\":12.0,\"71\":11.9,\"72\":12.5,\"73\":9.0,\"74\":9.5,\"75\":11.3,\"76\":14.9,\"77\":11.2,\"78\":10.2,\"79\":10.7,\"80\":15.4,\"81\":13.4,\"82\":13.7,\"83\":14.1,\"84\":16.0,\"85\":10.4,\"86\":12.2,\"87\":12.4,\"88\":14.5,\"89\":13.4,\"90\":14.5,\"91\":10.9,\"92\":10.6,\"93\":17.7,\"94\":12.4,\"95\":12.8}}'\n",
    "df_td3 = pd.read_json(jsondata)\n",
    "df_td3.head()"
   ]
  },
  {
   "cell_type": "markdown",
   "id": "5df66fe3-f0af-4b0b-8187-bdd641cb0f24",
   "metadata": {
    "id": "nRWsycQBMx38"
   },
   "source": [
    "<hr style=\"height: 2px; color:  #94bd13 ; background-color:  #94bd13; width: 100%; border: none;\">\n",
    "\n",
    "# 2. Analyse univarié des données avec Python\n",
    "\n",
    "<blockquote style=\"color:#bc4749\">\n",
    "    \n",
    "Réalisez l'analyse univariée des données quantitatives à votre disposition : \n",
    "- forme et caractéristiques des séries\n",
    "- valeurs centrales et dispersion des séries\n",
    "- interprétation des résultats\n",
    "\n",
    "Appuyez-vous sur les outils abordés dans le TD1. \n",
    "\n",
    "Organisez ce notebook afin de présenter vos résultats et interprétations. Les notebooks sont particulièrement adaptés pour présenter et discuter de résultats \n",
    "    \n",
    "</blockquote>\n"
   ]
  },
  {
   "cell_type": "markdown",
   "id": "7ae12376-129e-43b2-a74b-9a71c07513d3",
   "metadata": {
    "id": "nRWsycQBMx38"
   },
   "source": [
    "<hr style=\"height: 2px; color:  #94bd13 ; background-color:  #94bd13; width: 100%; border: none;\">\n",
    "\n",
    "# 3. Cartographie des résultats avec Qgis\n",
    "\n",
    "<blockquote style=\"color:#bc4749\">\n",
    "    \n",
    "A l'aide de Qgis, réalisez une planche regroupant les 4 cartes. \n",
    "    \n",
    "Attention, faites en sorte que ces cartes soient comparables. \n",
    "\n",
    "Appuyez-vous sur les outils abordés dans le TD2. \n",
    "    \n",
    "</blockquote>\n",
    "\n",
    "\n"
   ]
  },
  {
   "cell_type": "markdown",
   "id": "e484f557-dbf1-4d77-af3c-9c7773d20a08",
   "metadata": {},
   "source": [
    "<blockquote style=\"color:#bc4749\">\n",
    "    \n",
    "Exportez votre planche cartographique en image (png, jpg ou même svg). Uploader cette image dans un répertoire accessible par le notebook et ajoutez la à une balise html image dans le notebook :\n",
    "\n",
    "```<img alt=\"\" src=\"maplanche.png\">```\n",
    "</blockquote>\n",
    "\n"
   ]
  },
  {
   "cell_type": "markdown",
   "id": "d535bf98-5411-4d75-8860-d11d2fe291a2",
   "metadata": {
    "id": "nRWsycQBMx38"
   },
   "source": [
    "<hr style=\"height: 2px; color:  #94bd13 ; background-color:  #94bd13; width: 100%; border: none;\">\n",
    "\n",
    "# 4. ACP et cartographie avec Python\n",
    "\n",
    "<blockquote style=\"color:#bc4749\">\n",
    "    \n",
    "A l'aide de Qgis, réalisez une planche regroupant les 4 cartes. \n",
    "    \n",
    "Attention, faites en sorte que ces cartes soient comparables. \n",
    "\n",
    "Appuyez-vous sur les outils abordés dans le TD2. \n",
    "    \n",
    "</blockquote>\n",
    "\n",
    "\n"
   ]
  },
  {
   "cell_type": "markdown",
   "id": "b79e08e2-0084-44f1-abb8-c895f8dbfacf",
   "metadata": {},
   "source": []
  },
  {
   "cell_type": "markdown",
   "id": "0596f148-3577-4fca-86d2-0589b46481a6",
   "metadata": {},
   "source": [
    "## 3.1 Chargement des données\n",
    "Le code ci-dessous vous montre comment créer une carte simple avec Altair. Des options plus avancées existent, mais ne seront pas abordées dans ce TD. Consultez le [site d'Altair](https://altair-viz.github.io/gallery/index.html#maps) pour plus de détails \n",
    "Vous allez maintenant cartographier les différents indicateurs. Pour cela, vous n'utiliserez pas Qgis mais un package python : Altair.\n",
    "\n",
    "Altair permet de créer des graphiques et des cartes avec Python. L'ensemble des graphiques et des cartes du cours ont d'ailleurs été créés avec.\n",
    "\n",
    "Le fond de carte peut-être chargé directement à partir de l'URL du git du cours : "
   ]
  },
  {
   "cell_type": "code",
   "execution_count": 41,
   "id": "4912624e-8abb-402b-9466-ba0e1d1bab82",
   "metadata": {},
   "outputs": [],
   "source": [
    "url_basemap = \"https://raw.githubusercontent.com/fbxyz/ENSG_L1_cartostat/main/td/data/DEP_GEN3_4326.geojson\"  # Noter que le crs du fond est 4326, soit un système WGS84\n",
    "basemap = alt.Data(\n",
    "    url=url_basemap, format=alt.DataFormat(property=\"features\", type=\"json\")\n",
    ")"
   ]
  },
  {
   "cell_type": "code",
   "execution_count": 41,
   "id": "d40bdfb1-ec62-4e62-8d6c-dad50f568d6f",
   "metadata": {},
   "outputs": [],
   "source": [
    "url_basemap = \"https://raw.githubusercontent.com/fbxyz/ENSG_L1_cartostat/main/td/data/DEP_GEN3_4326.geojson\"  # Noter que le crs du fond est 4326, soit un système WGS84\n",
    "basemap = alt.Data(\n",
    "    url=url_basemap, format=alt.DataFormat(property=\"features\", type=\"json\")\n",
    ")"
   ]
  },
  {
   "cell_type": "markdown",
   "id": "df3d6d51-e3c4-49c1-a208-d7a8c98ca975",
   "metadata": {},
   "source": [
    "La carte est construite de la manière suivante avec Altair. Attention les commentaires à chaque ligne sont pour vous aider, il ne faut jamais faire ça dans votre code Python"
   ]
  },
  {
   "cell_type": "code",
   "execution_count": 73,
   "id": "0ca2ba59-5d31-410f-af4e-68b61d8f9107",
   "metadata": {},
   "outputs": [
    {
     "data": {
      "text/html": [
       "\n",
       "<div id=\"altair-viz-275c58dd88d84895907c32c9c723671a\"></div>\n",
       "<script type=\"text/javascript\">\n",
       "  var VEGA_DEBUG = (typeof VEGA_DEBUG == \"undefined\") ? {} : VEGA_DEBUG;\n",
       "  (function(spec, embedOpt){\n",
       "    let outputDiv = document.currentScript.previousElementSibling;\n",
       "    if (outputDiv.id !== \"altair-viz-275c58dd88d84895907c32c9c723671a\") {\n",
       "      outputDiv = document.getElementById(\"altair-viz-275c58dd88d84895907c32c9c723671a\");\n",
       "    }\n",
       "    const paths = {\n",
       "      \"vega\": \"https://cdn.jsdelivr.net/npm//vega@5?noext\",\n",
       "      \"vega-lib\": \"https://cdn.jsdelivr.net/npm//vega-lib?noext\",\n",
       "      \"vega-lite\": \"https://cdn.jsdelivr.net/npm//vega-lite@4.17.0?noext\",\n",
       "      \"vega-embed\": \"https://cdn.jsdelivr.net/npm//vega-embed@6?noext\",\n",
       "    };\n",
       "\n",
       "    function maybeLoadScript(lib, version) {\n",
       "      var key = `${lib.replace(\"-\", \"\")}_version`;\n",
       "      return (VEGA_DEBUG[key] == version) ?\n",
       "        Promise.resolve(paths[lib]) :\n",
       "        new Promise(function(resolve, reject) {\n",
       "          var s = document.createElement('script');\n",
       "          document.getElementsByTagName(\"head\")[0].appendChild(s);\n",
       "          s.async = true;\n",
       "          s.onload = () => {\n",
       "            VEGA_DEBUG[key] = version;\n",
       "            return resolve(paths[lib]);\n",
       "          };\n",
       "          s.onerror = () => reject(`Error loading script: ${paths[lib]}`);\n",
       "          s.src = paths[lib];\n",
       "        });\n",
       "    }\n",
       "\n",
       "    function showError(err) {\n",
       "      outputDiv.innerHTML = `<div class=\"error\" style=\"color:red;\">${err}</div>`;\n",
       "      throw err;\n",
       "    }\n",
       "\n",
       "    function displayChart(vegaEmbed) {\n",
       "      vegaEmbed(outputDiv, spec, embedOpt)\n",
       "        .catch(err => showError(`Javascript Error: ${err.message}<br>This usually means there's a typo in your chart specification. See the javascript console for the full traceback.`));\n",
       "    }\n",
       "\n",
       "    if(typeof define === \"function\" && define.amd) {\n",
       "      requirejs.config({paths});\n",
       "      require([\"vega-embed\"], displayChart, err => showError(`Error loading script: ${err.message}`));\n",
       "    } else {\n",
       "      maybeLoadScript(\"vega\", \"5\")\n",
       "        .then(() => maybeLoadScript(\"vega-lite\", \"4.17.0\"))\n",
       "        .then(() => maybeLoadScript(\"vega-embed\", \"6\"))\n",
       "        .catch(showError)\n",
       "        .then(() => displayChart(vegaEmbed));\n",
       "    }\n",
       "  })({\"config\": {\"view\": {\"continuousWidth\": 400, \"continuousHeight\": 300}, \"legend\": {\"columnPadding\": 10, \"columns\": 10, \"direction\": \"horizontal\", \"labelColor\": \"grey\", \"labelFontSize\": 12, \"orient\": \"bottom\", \"rowPadding\": 12, \"symbolType\": \"square\", \"titleColor\": \"grey\", \"titleFontSize\": 13, \"titleLimit\": 500, \"titlePadding\": 7}, \"title\": {\"color\": \"gray\", \"fontSize\": 16}}, \"data\": {\"url\": \"https://raw.githubusercontent.com/fbxyz/ENSG_L1_cartostat/main/td/data/DEP_GEN3_4326.geojson\", \"format\": {\"property\": \"features\", \"type\": \"json\"}}, \"mark\": \"geoshape\", \"encoding\": {\"color\": {\"field\": \"MED_REV18\", \"title\": \"Revenu m\\u00e9dian des m\\u00e9nages (\\u20ac)\", \"type\": \"ordinal\"}, \"tooltip\": [{\"field\": \"properties.LIB_GEO\", \"title\": \"D\\u00e9partement\", \"type\": \"nominal\"}, {\"field\": \"MED_REV18\", \"format\": \".0f\", \"title\": \"Revenu m\\u00e9dian des m\\u00e9nages\", \"type\": \"ordinal\"}]}, \"height\": 500, \"projection\": {\"type\": \"conicConformal\"}, \"title\": [\"Revenu m\\u00e9dian des m\\u00e9nages\", \"par d\\u00e9partement en 2018\"], \"transform\": [{\"lookup\": \"properties.COD_GEO\", \"from\": {\"data\": {\"name\": \"data-ae366277d90ac3b748198b704bea4f33\"}, \"key\": \"COD_GEO\", \"fields\": [\"MED_REV18\", \"P_BAC18\", \"P_OUV18\", \"TX_CHOM18\"]}}], \"width\": 500, \"$schema\": \"https://vega.github.io/schema/vega-lite/v4.17.0.json\", \"datasets\": {\"data-ae366277d90ac3b748198b704bea4f33\": [{\"COD_GEO\": \"01\", \"CODEGEO_label\": \"Ain\", \"MED_REV18\": 23420, \"P_BAC18\": 47.03, \"P_OUV18\": 26.66, \"TX_CHOM18\": 10.0}, {\"COD_GEO\": \"02\", \"CODEGEO_label\": \"Aisne\", \"MED_REV18\": 19690, \"P_BAC18\": 35.23, \"P_OUV18\": 27.86, \"TX_CHOM18\": 17.4}, {\"COD_GEO\": \"03\", \"CODEGEO_label\": \"Allier\", \"MED_REV18\": 20360, \"P_BAC18\": 37.88, \"P_OUV18\": 24.15, \"TX_CHOM18\": 13.5}, {\"COD_GEO\": \"04\", \"CODEGEO_label\": \"Alpes-de-Haute-Provence\", \"MED_REV18\": 20580, \"P_BAC18\": 45.6, \"P_OUV18\": 19.02, \"TX_CHOM18\": 14.1}, {\"COD_GEO\": \"05\", \"CODEGEO_label\": \"Hautes-Alpes\", \"MED_REV18\": 20880, \"P_BAC18\": 49.92, \"P_OUV18\": 17.57, \"TX_CHOM18\": 10.2}, {\"COD_GEO\": \"06\", \"CODEGEO_label\": \"Alpes-Maritimes\", \"MED_REV18\": 22140, \"P_BAC18\": 50.8, \"P_OUV18\": 14.95, \"TX_CHOM18\": 13.0}, {\"COD_GEO\": \"07\", \"CODEGEO_label\": \"Ard\\u00e8che\", \"MED_REV18\": 20780, \"P_BAC18\": 43.24, \"P_OUV18\": 22.77, \"TX_CHOM18\": 13.6}, {\"COD_GEO\": \"08\", \"CODEGEO_label\": \"Ardennes\", \"MED_REV18\": 19650, \"P_BAC18\": 35.91, \"P_OUV18\": 27.17, \"TX_CHOM18\": 16.5}, {\"COD_GEO\": \"09\", \"CODEGEO_label\": \"Ari\\u00e8ge\", \"MED_REV18\": 19820, \"P_BAC18\": 43.67, \"P_OUV18\": 18.35, \"TX_CHOM18\": 15.0}, {\"COD_GEO\": \"10\", \"CODEGEO_label\": \"Aube\", \"MED_REV18\": 20430, \"P_BAC18\": 37.63, \"P_OUV18\": 25.39, \"TX_CHOM18\": 16.0}, {\"COD_GEO\": \"11\", \"CODEGEO_label\": \"Aude\", \"MED_REV18\": 19240, \"P_BAC18\": 43.86, \"P_OUV18\": 19.82, \"TX_CHOM18\": 17.3}, {\"COD_GEO\": \"12\", \"CODEGEO_label\": \"Aveyron\", \"MED_REV18\": 20640, \"P_BAC18\": 43.7, \"P_OUV18\": 21.82, \"TX_CHOM18\": 9.3}, {\"COD_GEO\": \"13\", \"CODEGEO_label\": \"Bouches-du-Rh\\u00f4ne\", \"MED_REV18\": 21360, \"P_BAC18\": 50.62, \"P_OUV18\": 16.49, \"TX_CHOM18\": 14.1}, {\"COD_GEO\": \"14\", \"CODEGEO_label\": \"Calvados\", \"MED_REV18\": 21490, \"P_BAC18\": 43.32, \"P_OUV18\": 23.15, \"TX_CHOM18\": 12.4}, {\"COD_GEO\": \"15\", \"CODEGEO_label\": \"Cantal\", \"MED_REV18\": 20510, \"P_BAC18\": 39.09, \"P_OUV18\": 21.91, \"TX_CHOM18\": 8.3}, {\"COD_GEO\": \"16\", \"CODEGEO_label\": \"Charente\", \"MED_REV18\": 20640, \"P_BAC18\": 40.3, \"P_OUV18\": 26.49, \"TX_CHOM18\": 13.4}, {\"COD_GEO\": \"17\", \"CODEGEO_label\": \"Charente-Maritime\", \"MED_REV18\": 21280, \"P_BAC18\": 42.4, \"P_OUV18\": 21.06, \"TX_CHOM18\": 13.9}, {\"COD_GEO\": \"18\", \"CODEGEO_label\": \"Cher\", \"MED_REV18\": 20880, \"P_BAC18\": 39.12, \"P_OUV18\": 24.45, \"TX_CHOM18\": 13.5}, {\"COD_GEO\": \"19\", \"CODEGEO_label\": \"Corr\\u00e8ze\", \"MED_REV18\": 20960, \"P_BAC18\": 42.45, \"P_OUV18\": 23.26, \"TX_CHOM18\": 10.6}, {\"COD_GEO\": \"21\", \"CODEGEO_label\": \"C\\u00f4te-d'Or\", \"MED_REV18\": 22400, \"P_BAC18\": 47.45, \"P_OUV18\": 21.59, \"TX_CHOM18\": 11.2}, {\"COD_GEO\": \"22\", \"CODEGEO_label\": \"C\\u00f4tes-d'Armor\", \"MED_REV18\": 21230, \"P_BAC18\": 44.49, \"P_OUV18\": 25.32, \"TX_CHOM18\": 11.4}, {\"COD_GEO\": \"23\", \"CODEGEO_label\": \"Creuse\", \"MED_REV18\": 19380, \"P_BAC18\": 37.29, \"P_OUV18\": 20.04, \"TX_CHOM18\": 12.2}, {\"COD_GEO\": \"24\", \"CODEGEO_label\": \"Dordogne\", \"MED_REV18\": 20140, \"P_BAC18\": 39.56, \"P_OUV18\": 23.49, \"TX_CHOM18\": 13.5}, {\"COD_GEO\": \"25\", \"CODEGEO_label\": \"Doubs\", \"MED_REV18\": 22590, \"P_BAC18\": 45.1, \"P_OUV18\": 25.19, \"TX_CHOM18\": 11.9}, {\"COD_GEO\": \"26\", \"CODEGEO_label\": \"Dr\\u00f4me\", \"MED_REV18\": 21100, \"P_BAC18\": 46.35, \"P_OUV18\": 23.31, \"TX_CHOM18\": 13.6}, {\"COD_GEO\": \"27\", \"CODEGEO_label\": \"Eure\", \"MED_REV18\": 21700, \"P_BAC18\": 40.03, \"P_OUV18\": 27.38, \"TX_CHOM18\": 13.0}, {\"COD_GEO\": \"28\", \"CODEGEO_label\": \"Eure-et-Loir\", \"MED_REV18\": 22070, \"P_BAC18\": 40.37, \"P_OUV18\": 25.25, \"TX_CHOM18\": 12.2}, {\"COD_GEO\": \"29\", \"CODEGEO_label\": \"Finist\\u00e8re\", \"MED_REV18\": 21690, \"P_BAC18\": 49.98, \"P_OUV18\": 22.19, \"TX_CHOM18\": 12.0}, {\"COD_GEO\": \"2A\", \"CODEGEO_label\": \"Corse-du-Sud\", \"MED_REV18\": 21670, \"P_BAC18\": 49.25, \"P_OUV18\": 18.74, \"TX_CHOM18\": 11.0}, {\"COD_GEO\": \"2B\", \"CODEGEO_label\": \"Haute-Corse\", \"MED_REV18\": 19840, \"P_BAC18\": 47.32, \"P_OUV18\": 18.98, \"TX_CHOM18\": 12.4}, {\"COD_GEO\": \"30\", \"CODEGEO_label\": \"Gard\", \"MED_REV18\": 20020, \"P_BAC18\": 45.46, \"P_OUV18\": 18.53, \"TX_CHOM18\": 16.7}, {\"COD_GEO\": \"31\", \"CODEGEO_label\": \"Haute-Garonne\", \"MED_REV18\": 23140, \"P_BAC18\": 59.98, \"P_OUV18\": 14.84, \"TX_CHOM18\": 12.3}, {\"COD_GEO\": \"32\", \"CODEGEO_label\": \"Gers\", \"MED_REV18\": 20820, \"P_BAC18\": 44.18, \"P_OUV18\": 20.51, \"TX_CHOM18\": 10.6}, {\"COD_GEO\": \"33\", \"CODEGEO_label\": \"Gironde\", \"MED_REV18\": 22400, \"P_BAC18\": 51.86, \"P_OUV18\": 18.29, \"TX_CHOM18\": 12.6}, {\"COD_GEO\": \"34\", \"CODEGEO_label\": \"H\\u00e9rault\", \"MED_REV18\": 20330, \"P_BAC18\": 51.93, \"P_OUV18\": 15.49, \"TX_CHOM18\": 16.8}, {\"COD_GEO\": \"35\", \"CODEGEO_label\": \"Ille-et-Vilaine\", \"MED_REV18\": 22230, \"P_BAC18\": 52.01, \"P_OUV18\": 21.39, \"TX_CHOM18\": 10.4}, {\"COD_GEO\": \"36\", \"CODEGEO_label\": \"Indre\", \"MED_REV18\": 20200, \"P_BAC18\": 34.31, \"P_OUV18\": 26.96, \"TX_CHOM18\": 12.6}, {\"COD_GEO\": \"37\", \"CODEGEO_label\": \"Indre-et-Loire\", \"MED_REV18\": 21750, \"P_BAC18\": 47.39, \"P_OUV18\": 21.04, \"TX_CHOM18\": 12.4}, {\"COD_GEO\": \"38\", \"CODEGEO_label\": \"Is\\u00e8re\", \"MED_REV18\": 22950, \"P_BAC18\": 51.16, \"P_OUV18\": 19.37, \"TX_CHOM18\": 11.0}, {\"COD_GEO\": \"39\", \"CODEGEO_label\": \"Jura\", \"MED_REV18\": 21700, \"P_BAC18\": 41.42, \"P_OUV18\": 27.47, \"TX_CHOM18\": 10.1}, {\"COD_GEO\": \"40\", \"CODEGEO_label\": \"Landes\", \"MED_REV18\": 21360, \"P_BAC18\": 43.73, \"P_OUV18\": 23.89, \"TX_CHOM18\": 13.0}, {\"COD_GEO\": \"41\", \"CODEGEO_label\": \"Loir-et-Cher\", \"MED_REV18\": 21380, \"P_BAC18\": 38.21, \"P_OUV18\": 26.24, \"TX_CHOM18\": 11.7}, {\"COD_GEO\": \"42\", \"CODEGEO_label\": \"Loire\", \"MED_REV18\": 20770, \"P_BAC18\": 42.07, \"P_OUV18\": 23.89, \"TX_CHOM18\": 12.9}, {\"COD_GEO\": \"43\", \"CODEGEO_label\": \"Haute-Loire\", \"MED_REV18\": 20800, \"P_BAC18\": 42.47, \"P_OUV18\": 25.61, \"TX_CHOM18\": 10.2}, {\"COD_GEO\": \"44\", \"CODEGEO_label\": \"Loire-Atlantique\", \"MED_REV18\": 22600, \"P_BAC18\": 52.54, \"P_OUV18\": 20.3, \"TX_CHOM18\": 11.1}, {\"COD_GEO\": \"45\", \"CODEGEO_label\": \"Loiret\", \"MED_REV18\": 21960, \"P_BAC18\": 44.29, \"P_OUV18\": 23.93, \"TX_CHOM18\": 12.7}, {\"COD_GEO\": \"46\", \"CODEGEO_label\": \"Lot\", \"MED_REV18\": 20740, \"P_BAC18\": 44.5, \"P_OUV18\": 21.47, \"TX_CHOM18\": 12.7}, {\"COD_GEO\": \"47\", \"CODEGEO_label\": \"Lot-et-Garonne\", \"MED_REV18\": 19930, \"P_BAC18\": 39.62, \"P_OUV18\": 24.35, \"TX_CHOM18\": 13.9}, {\"COD_GEO\": \"48\", \"CODEGEO_label\": \"Loz\\u00e8re\", \"MED_REV18\": 20420, \"P_BAC18\": 45.36, \"P_OUV18\": 19.11, \"TX_CHOM18\": 9.4}, {\"COD_GEO\": \"49\", \"CODEGEO_label\": \"Maine-et-Loire\", \"MED_REV18\": 21110, \"P_BAC18\": 44.0, \"P_OUV18\": 26.12, \"TX_CHOM18\": 11.8}, {\"COD_GEO\": \"50\", \"CODEGEO_label\": \"Manche\", \"MED_REV18\": 20980, \"P_BAC18\": 38.07, \"P_OUV18\": 26.36, \"TX_CHOM18\": 10.4}, {\"COD_GEO\": \"51\", \"CODEGEO_label\": \"Marne\", \"MED_REV18\": 21650, \"P_BAC18\": 43.52, \"P_OUV18\": 24.38, \"TX_CHOM18\": 13.1}, {\"COD_GEO\": \"52\", \"CODEGEO_label\": \"Haute-Marne\", \"MED_REV18\": 20190, \"P_BAC18\": 34.91, \"P_OUV18\": 28.22, \"TX_CHOM18\": 13.0}, {\"COD_GEO\": \"53\", \"CODEGEO_label\": \"Mayenne\", \"MED_REV18\": 20830, \"P_BAC18\": 38.73, \"P_OUV18\": 30.03, \"TX_CHOM18\": 8.9}, {\"COD_GEO\": \"54\", \"CODEGEO_label\": \"Meurthe-et-Moselle\", \"MED_REV18\": 21480, \"P_BAC18\": 45.68, \"P_OUV18\": 19.71, \"TX_CHOM18\": 13.5}, {\"COD_GEO\": \"55\", \"CODEGEO_label\": \"Meuse\", \"MED_REV18\": 20590, \"P_BAC18\": 37.3, \"P_OUV18\": 25.82, \"TX_CHOM18\": 13.2}, {\"COD_GEO\": \"56\", \"CODEGEO_label\": \"Morbihan\", \"MED_REV18\": 21600, \"P_BAC18\": 45.98, \"P_OUV18\": 24.73, \"TX_CHOM18\": 12.1}, {\"COD_GEO\": \"57\", \"CODEGEO_label\": \"Moselle\", \"MED_REV18\": 21650, \"P_BAC18\": 42.66, \"P_OUV18\": 23.38, \"TX_CHOM18\": 13.1}, {\"COD_GEO\": \"58\", \"CODEGEO_label\": \"Ni\\u00e8vre\", \"MED_REV18\": 20320, \"P_BAC18\": 36.13, \"P_OUV18\": 24.02, \"TX_CHOM18\": 13.2}, {\"COD_GEO\": \"59\", \"CODEGEO_label\": \"Nord\", \"MED_REV18\": 20040, \"P_BAC18\": 45.36, \"P_OUV18\": 21.39, \"TX_CHOM18\": 17.1}, {\"COD_GEO\": \"60\", \"CODEGEO_label\": \"Oise\", \"MED_REV18\": 22150, \"P_BAC18\": 42.96, \"P_OUV18\": 25.24, \"TX_CHOM18\": 13.2}, {\"COD_GEO\": \"61\", \"CODEGEO_label\": \"Orne\", \"MED_REV18\": 20140, \"P_BAC18\": 34.06, \"P_OUV18\": 28.22, \"TX_CHOM18\": 12.7}, {\"COD_GEO\": \"62\", \"CODEGEO_label\": \"Pas-de-Calais\", \"MED_REV18\": 19200, \"P_BAC18\": 39.25, \"P_OUV18\": 26.8, \"TX_CHOM18\": 16.6}, {\"COD_GEO\": \"63\", \"CODEGEO_label\": \"Puy-de-D\\u00f4me\", \"MED_REV18\": 21890, \"P_BAC18\": 47.37, \"P_OUV18\": 21.33, \"TX_CHOM18\": 11.9}, {\"COD_GEO\": \"64\", \"CODEGEO_label\": \"Pyr\\u00e9n\\u00e9es-Atlantiques\", \"MED_REV18\": 21850, \"P_BAC18\": 50.16, \"P_OUV18\": 19.16, \"TX_CHOM18\": 11.5}, {\"COD_GEO\": \"65\", \"CODEGEO_label\": \"Hautes-Pyr\\u00e9n\\u00e9es\", \"MED_REV18\": 20420, \"P_BAC18\": 43.59, \"P_OUV18\": 19.22, \"TX_CHOM18\": 13.3}, {\"COD_GEO\": \"66\", \"CODEGEO_label\": \"Pyr\\u00e9n\\u00e9es-Orientales\", \"MED_REV18\": 19350, \"P_BAC18\": 43.75, \"P_OUV18\": 18.88, \"TX_CHOM18\": 18.9}, {\"COD_GEO\": \"67\", \"CODEGEO_label\": \"Bas-Rhin\", \"MED_REV18\": 22620, \"P_BAC18\": 48.08, \"P_OUV18\": 22.41, \"TX_CHOM18\": 11.6}, {\"COD_GEO\": \"68\", \"CODEGEO_label\": \"Haut-Rhin\", \"MED_REV18\": 23130, \"P_BAC18\": 43.27, \"P_OUV18\": 24.82, \"TX_CHOM18\": 13.4}, {\"COD_GEO\": \"69\", \"CODEGEO_label\": \"Rh\\u00f4ne\", \"MED_REV18\": 22990, \"P_BAC18\": 56.57, \"P_OUV18\": 15.75, \"TX_CHOM18\": 12.1}, {\"COD_GEO\": \"70\", \"CODEGEO_label\": \"Haute-Sa\\u00f4ne\", \"MED_REV18\": 20680, \"P_BAC18\": 37.61, \"P_OUV18\": 28.39, \"TX_CHOM18\": 12.0}, {\"COD_GEO\": \"71\", \"CODEGEO_label\": \"Sa\\u00f4ne-et-Loire\", \"MED_REV18\": 20850, \"P_BAC18\": 38.31, \"P_OUV18\": 26.16, \"TX_CHOM18\": 11.9}, {\"COD_GEO\": \"72\", \"CODEGEO_label\": \"Sarthe\", \"MED_REV18\": 21040, \"P_BAC18\": 38.71, \"P_OUV18\": 27.3, \"TX_CHOM18\": 12.5}, {\"COD_GEO\": \"73\", \"CODEGEO_label\": \"Savoie\", \"MED_REV18\": 23160, \"P_BAC18\": 49.3, \"P_OUV18\": 20.98, \"TX_CHOM18\": 9.0}, {\"COD_GEO\": \"74\", \"CODEGEO_label\": \"Haute-Savoie\", \"MED_REV18\": 26600, \"P_BAC18\": 52.2, \"P_OUV18\": 21.67, \"TX_CHOM18\": 9.5}, {\"COD_GEO\": \"75\", \"CODEGEO_label\": \"Paris\", \"MED_REV18\": 28270, \"P_BAC18\": 75.64, \"P_OUV18\": 9.18, \"TX_CHOM18\": 11.3}, {\"COD_GEO\": \"76\", \"CODEGEO_label\": \"Seine-Maritime\", \"MED_REV18\": 21140, \"P_BAC18\": 41.33, \"P_OUV18\": 23.67, \"TX_CHOM18\": 14.9}, {\"COD_GEO\": \"77\", \"CODEGEO_label\": \"Seine-et-Marne\", \"MED_REV18\": 23470, \"P_BAC18\": 50.32, \"P_OUV18\": 20.69, \"TX_CHOM18\": 11.2}, {\"COD_GEO\": \"78\", \"CODEGEO_label\": \"Yvelines\", \"MED_REV18\": 26810, \"P_BAC18\": 61.78, \"P_OUV18\": 14.02, \"TX_CHOM18\": 10.2}, {\"COD_GEO\": \"79\", \"CODEGEO_label\": \"Deux-S\\u00e8vres\", \"MED_REV18\": 20840, \"P_BAC18\": 40.34, \"P_OUV18\": 25.53, \"TX_CHOM18\": 10.7}, {\"COD_GEO\": \"80\", \"CODEGEO_label\": \"Somme\", \"MED_REV18\": 20320, \"P_BAC18\": 39.43, \"P_OUV18\": 26.21, \"TX_CHOM18\": 15.4}, {\"COD_GEO\": \"81\", \"CODEGEO_label\": \"Tarn\", \"MED_REV18\": 20400, \"P_BAC18\": 44.41, \"P_OUV18\": 19.96, \"TX_CHOM18\": 13.4}, {\"COD_GEO\": \"82\", \"CODEGEO_label\": \"Tarn-et-Garonne\", \"MED_REV18\": 20140, \"P_BAC18\": 42.31, \"P_OUV18\": 20.88, \"TX_CHOM18\": 13.7}, {\"COD_GEO\": \"83\", \"CODEGEO_label\": \"Var\", \"MED_REV18\": 21590, \"P_BAC18\": 47.81, \"P_OUV18\": 16.85, \"TX_CHOM18\": 14.1}, {\"COD_GEO\": \"84\", \"CODEGEO_label\": \"Vaucluse\", \"MED_REV18\": 19880, \"P_BAC18\": 44.83, \"P_OUV18\": 20.52, \"TX_CHOM18\": 16.0}, {\"COD_GEO\": \"85\", \"CODEGEO_label\": \"Vend\\u00e9e\", \"MED_REV18\": 21320, \"P_BAC18\": 40.05, \"P_OUV18\": 30.82, \"TX_CHOM18\": 10.4}, {\"COD_GEO\": \"86\", \"CODEGEO_label\": \"Vienne\", \"MED_REV18\": 20900, \"P_BAC18\": 44.95, \"P_OUV18\": 21.12, \"TX_CHOM18\": 12.2}, {\"COD_GEO\": \"87\", \"CODEGEO_label\": \"Haute-Vienne\", \"MED_REV18\": 20860, \"P_BAC18\": 44.51, \"P_OUV18\": 20.4, \"TX_CHOM18\": 12.4}, {\"COD_GEO\": \"88\", \"CODEGEO_label\": \"Vosges\", \"MED_REV18\": 20240, \"P_BAC18\": 36.96, \"P_OUV18\": 27.13, \"TX_CHOM18\": 14.5}, {\"COD_GEO\": \"89\", \"CODEGEO_label\": \"Yonne\", \"MED_REV18\": 20800, \"P_BAC18\": 36.57, \"P_OUV18\": 26.67, \"TX_CHOM18\": 13.4}, {\"COD_GEO\": \"90\", \"CODEGEO_label\": \"Territoire de Belfort\", \"MED_REV18\": 21860, \"P_BAC18\": 45.33, \"P_OUV18\": 19.51, \"TX_CHOM18\": 14.5}, {\"COD_GEO\": \"91\", \"CODEGEO_label\": \"Essonne\", \"MED_REV18\": 23920, \"P_BAC18\": 54.8, \"P_OUV18\": 16.67, \"TX_CHOM18\": 10.9}, {\"COD_GEO\": \"92\", \"CODEGEO_label\": \"Hauts-de-Seine\", \"MED_REV18\": 28040, \"P_BAC18\": 69.13, \"P_OUV18\": 7.71, \"TX_CHOM18\": 10.6}, {\"COD_GEO\": \"93\", \"CODEGEO_label\": \"Seine-Saint-Denis\", \"MED_REV18\": 17740, \"P_BAC18\": 45.91, \"P_OUV18\": 16.42, \"TX_CHOM18\": 17.7}, {\"COD_GEO\": \"94\", \"CODEGEO_label\": \"Val-de-Marne\", \"MED_REV18\": 22880, \"P_BAC18\": 57.96, \"P_OUV18\": 14.91, \"TX_CHOM18\": 12.4}, {\"COD_GEO\": \"95\", \"CODEGEO_label\": \"Val-d'Oise\", \"MED_REV18\": 21970, \"P_BAC18\": 51.51, \"P_OUV18\": 18.24, \"TX_CHOM18\": 12.8}]}}, {\"mode\": \"vega-lite\"});\n",
       "</script>"
      ],
      "text/plain": [
       "alt.Chart(...)"
      ]
     },
     "execution_count": 73,
     "metadata": {},
     "output_type": "execute_result"
    }
   ],
   "source": [
    "columns = [\"MED_REV18\", \"P_BAC18\", \"P_OUV18\", \"TX_CHOM18\"]\n",
    "ind_carto = \"MED_REV18\"  # l'indicateur cartographié pour cette carte\n",
    "map_title = [\n",
    "    \"Revenu médian des ménages\",\n",
    "    \"par département en 2018\",\n",
    "]  # le titre est passé dans une liste pour l'avoir sur deux lignes\n",
    "leg_title = \"Revenu médian des ménages (€)\"\n",
    "\n",
    "\n",
    "alt.Chart(\n",
    "    basemap, title=map_title \n",
    ").transform_lookup(  # transform_lookup permet de faire une jointure entre le json basemap et le dataframe df_td3.\n",
    "    lookup=\"properties.COD_GEO\",  # dans le json basemap, on cherche le champs COD_GEO du noeud properties. Il servira à la jointure\n",
    "    from_=alt.LookupData(\n",
    "        data=df_td3, key=\"COD_GEO\", fields=columns\n",
    "    ),  # on left_join df_td3 sur le champs COD_GEO, on ajoute les champs indicateurs\n",
    ").mark_geoshape().encode(\n",
    "    color=alt.Color(f\"{ind_carto}:O\",title=leg_title),  # l'indicateur à cartographier. Noter à la fin le \":O\" qui précise que les données sont ordinales. :N pour nominal, :Q pour quantitatives continues\n",
    "    tooltip=[  # permet d'ajouter des informations sur le département au passage de la souris sur la carte\n",
    "        alt.Tooltip(\"properties.LIB_GEO:N\", title=\"Département\"),\n",
    "        alt.Tooltip(f\"{(ind_carto)}:O\", title=\"Revenu médian des ménages\",format='.0f'),\n",
    "    ],\n",
    ").project(\n",
    "    type=\"conicConformal\"  # On reprojette avec une conique conforme\n",
    ").properties(\n",
    "    width=500, height=500  # la largeur et la hauteur de la carte\n",
    ").configure_legend(\n",
    "    titleFontSize=13,  # la taille du titre de la légende\n",
    "    labelFontSize=12,  # la taille des éléments de la légende\n",
    "    titleColor=\"grey\",  # la couleur du titre de la légende\n",
    "    labelColor=\"grey\",  # la couleur des éléments de la légende\n",
    "    titleLimit=500,  # évite de couper le titre de la légende si trop long\n",
    "    titlePadding=7,  # écart entre le titre de la légende et les éléments de la légende\n",
    "    direction=\"horizontal\",  # légende horizontale\n",
    "    orient=\"bottom\",  # légende placée en bas\n",
    "    columns=10,  # nombre de colonnes max pour la légende\n",
    "    columnPadding=10, # espace entre les colonnes\n",
    "    rowPadding=12, # espace entre les lignes\n",
    "    symbolType=\"square\", # type de caissons de légende\n",
    ").configure_title(\n",
    "    fontSize=16, color=\"gray\"\n",
    ")"
   ]
  },
  {
   "cell_type": "markdown",
   "id": "53ee1e8b-1e14-47da-be49-09a893f771cd",
   "metadata": {},
   "source": [
    "Comme vous le constatez, Altair ne discrétise pas les données : il y a "
   ]
  },
  {
   "cell_type": "code",
   "execution_count": null,
   "id": "98cec338-6edc-4742-a22f-de31ee0f0f56",
   "metadata": {},
   "outputs": [],
   "source": [
    "import matplotlib.pyplot as plt\n",
    "import numpy as np\n",
    "import pandas as pd\n",
    "import seaborn as sns\n",
    "from matplotlib.collections import LineCollection\n",
    "from sklearn.decomposition import PCA\n",
    "from sklearn.preprocessing import StandardScaler"
   ]
  },
  {
   "cell_type": "markdown",
   "id": "6f0e0c5d-94fc-42b6-95f5-e8897bc2323d",
   "metadata": {
    "tags": []
   },
   "source": [
    "Les données sont stockées dans un numpy array"
   ]
  },
  {
   "cell_type": "code",
   "execution_count": null,
   "id": "9c705be4-fe0f-48f6-b05a-a31cef19e958",
   "metadata": {},
   "outputs": [],
   "source": [
    "X = df_td3[[\"MED_REV18\", \"P_BAC18\", \"P_OUV18\", \"TX_CHOM18\"]].values"
   ]
  },
  {
   "cell_type": "markdown",
   "id": "86be9bf9-e296-453c-b99b-77b0ace1b932",
   "metadata": {},
   "source": [
    "Ainsi que le nom des colonnes "
   ]
  },
  {
   "cell_type": "code",
   "execution_count": null,
   "id": "59816ea4-67f9-4de6-afbf-9cfb278e3765",
   "metadata": {},
   "outputs": [],
   "source": [
    "features = df_td3.columns\n",
    "features"
   ]
  },
  {
   "cell_type": "code",
   "execution_count": null,
   "id": "e0857a5f-6379-4c78-b84f-922edc0a6d56",
   "metadata": {},
   "outputs": [],
   "source": [
    "scaler = StandardScaler()"
   ]
  },
  {
   "cell_type": "code",
   "execution_count": null,
   "id": "0797227a-e306-4a02-b853-a02e6b327367",
   "metadata": {},
   "outputs": [],
   "source": [
    "scaler.fit(X)"
   ]
  },
  {
   "cell_type": "markdown",
   "id": "20a4d472-e1c2-4954-adb7-dd0d22056def",
   "metadata": {},
   "source": [
    "Les données doivent être centrée-réduites"
   ]
  },
  {
   "cell_type": "code",
   "execution_count": null,
   "id": "0b90762e-802f-4d90-8c16-3ac5fbd7c380",
   "metadata": {},
   "outputs": [],
   "source": [
    "X_cr = scaler.transform(X)\n",
    "idx = [\"moyenne\", \"écart-type\"]\n",
    "\n",
    "pd.DataFrame(X_cr).describe().round(2)"
   ]
  },
  {
   "cell_type": "markdown",
   "id": "b02fdc22-80ed-4ff4-aea2-b5d5dc8bfe0d",
   "metadata": {},
   "source": [
    "On fait l'ACP avec les 4 composantes"
   ]
  },
  {
   "cell_type": "code",
   "execution_count": null,
   "id": "9b52edbe-c261-4fbf-9aaa-d1c6b13773db",
   "metadata": {},
   "outputs": [],
   "source": [
    "n_composantes = 4\n",
    "acp = PCA(n_components=n_composantes)"
   ]
  },
  {
   "cell_type": "code",
   "execution_count": null,
   "id": "a738b16c-d6cd-49b8-838d-90bcba296ac7",
   "metadata": {},
   "outputs": [],
   "source": [
    "acp.fit(X_cr)"
   ]
  },
  {
   "cell_type": "markdown",
   "id": "e2351b1b-c8be-4870-b3a6-f943f88a8cc1",
   "metadata": {},
   "source": [
    "La variance portée par chaque composante"
   ]
  },
  {
   "cell_type": "code",
   "execution_count": null,
   "id": "790ed131-9d20-4af6-96ce-73cfdb153c4f",
   "metadata": {},
   "outputs": [],
   "source": [
    "var = (acp.explained_variance_ratio_ * 100).round(2)\n",
    "var_cum = var.cumsum().round()"
   ]
  },
  {
   "cell_type": "code",
   "execution_count": null,
   "id": "7c66e714-7072-430b-91c3-19e9753a232c",
   "metadata": {},
   "outputs": [],
   "source": [
    "x_list"
   ]
  },
  {
   "cell_type": "code",
   "execution_count": null,
   "id": "326dd749-773a-4faa-8aea-647c3b753223",
   "metadata": {},
   "outputs": [],
   "source": [
    "x_list = list(range(1, n_composantes + 1))\n",
    "plt.bar(x_list, var)\n",
    "plt.plot(x_list, var_cum, c=\"red\", marker=\"o\")\n",
    "plt.xlabel(\"Composante\")\n",
    "plt.ylabel(\"% de variance\")\n",
    "plt.title(\"Variance et variance cummulée par les composantes\")\n",
    "plt.show(block=False)"
   ]
  },
  {
   "cell_type": "markdown",
   "id": "3cba8ebf-cfd2-42ef-8912-c9167aae83e9",
   "metadata": {},
   "source": [
    "Corrélation des variables sur les facteurs"
   ]
  },
  {
   "cell_type": "code",
   "execution_count": null,
   "id": "7a2f4466-1146-45b8-89cc-b64fbd008759",
   "metadata": {},
   "outputs": [],
   "source": [
    "pcs = pd.DataFrame(acp.components_, columns=features[2:]).round(2).T\n",
    "pcs.columns = x_list\n",
    "pcs"
   ]
  },
  {
   "cell_type": "markdown",
   "id": "ade888e8-81c0-4438-804c-cdb6e3471964",
   "metadata": {},
   "source": [
    "Projection sur les individus"
   ]
  },
  {
   "cell_type": "code",
   "execution_count": null,
   "id": "67637207-da3d-4f1b-b062-24ef387d34f0",
   "metadata": {},
   "outputs": [],
   "source": [
    "X_proj = acp.transform(X_cr)\n",
    "pd.DataFrame(X_proj)"
   ]
  },
  {
   "cell_type": "code",
   "execution_count": null,
   "id": "a1f18d81-ae95-4d86-a45b-770ae26dc9b2",
   "metadata": {},
   "outputs": [],
   "source": []
  }
 ],
 "metadata": {
  "kernelspec": {
   "display_name": "geo",
   "language": "python",
   "name": "geo"
  },
  "language_info": {
   "codemirror_mode": {
    "name": "ipython",
    "version": 3
   },
   "file_extension": ".py",
   "mimetype": "text/x-python",
   "name": "python",
   "nbconvert_exporter": "python",
   "pygments_lexer": "ipython3",
   "version": "3.11.0"
  }
 },
 "nbformat": 4,
 "nbformat_minor": 5
}
