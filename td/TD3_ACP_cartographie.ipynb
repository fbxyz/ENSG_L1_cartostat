{
 "cells": [
  {
   "cell_type": "markdown",
   "id": "d59908c4-0826-4489-b60f-2d1b893833eb",
   "metadata": {
    "id": "CLqyCoAiRKLy"
   },
   "source": [
    "<img src=\"https://upload.wikimedia.org/wikipedia/fr/thumb/9/9e/Logo_ENSG_G%C3%A9omatique_2012.svg/220px-Logo_ENSG_G%C3%A9omatique_2012.svg.png\" style=\"margin-left:auto; margin-right:auto\"/>\n"
   ]
  },
  {
   "cell_type": "markdown",
   "id": "ae6dd4e2-5e22-4640-930d-8132171e8f38",
   "metadata": {
    "id": "wkgAs0oTI9gU",
    "tags": []
   },
   "source": [
    "<center> \n",
    "    <h1>ENSG : statistiques appliquées en cartographie</h1> \n",
    "    <h2>TD 3 : application de l'ensemble des connaissances</h2> \n",
    "    <h3>Florian Bayer, décembre 2022</h3> \n",
    "</center> \n",
    "\n",
    "<hr style=\"height: 2px; color:  #94bd13 ; background-color:  #94bd13; width: 100%; border: none;\">\n",
    "\n",
    "## Objectifs : \n",
    "- Le premier objectif de ce TD est d'appliquer les connaissances acquises durant le cours et les TD précédents\n",
    "- Puis d'aborder une réflexion autours de l'analyse de données en cartographie avec :\n",
    "    - la réalisation d'une ACP avec Python\n",
    "    - la cartographie des résultats, toujours avec Python\n",
    "\n",
    "\n",
    "## Contexte :\n",
    "Dans le cadre d'une mission proposée par une ONG, on vous demande de réaliser **trois cartes**  illustrant le niveau de développement des pays Africains à la fin des années 1990.\n",
    "\n",
    "Un jeu de données vous est fourni avec par pays, des informations sur :\n",
    "\n",
    "<blockquote>\n",
    "    \n",
    "- DEN99: densité de population (hab/km²) en 1999\n",
    "- URB00: part de la population urbaine dans la population totale (%) en 2000\n",
    "- AGR00: part des agriculteurs dans la population active (%) en 2000\n",
    "- JEU99:\tpart des moins de 15 ans dans la population totale (%) en 1999\n",
    "- VIE99:\tpart des plus de 60 ans dans la population totale (%) en 1999\n",
    "- TMI99:\ttaux de mortalité infantile (pour 1000 naissances) en 1999\n",
    "- EVH99:\tespérance de vie des hommes (ans) en 1999\n",
    "- EVF99:\tespérance de vie des femmes (ans) en 1999\n",
    "- PNB97:\tproduit national humain en 1997\n",
    "- PIB99:\tproduit intérieur humain en 1997\n",
    "- ALP95:\ttaux d'alphabétisation en 1995\n",
    "- SCO95:\ttaux de scolarisation en 1995\n",
    "- IDH95:\tindice de développement humain en 1995\n",
    "- ISF99:\tindice synthétique de fécondité (nombre d'enfants par femme en âge de procréer) en 1999\n",
    "    \n",
    "</blockquote>\n",
    "A noter que certains pays sont manquants"
   ]
  },
  {
   "cell_type": "markdown",
   "id": "4b700f50-6b43-497d-a584-46cfec7e6f10",
   "metadata": {
    "id": "nRWsycQBMx38"
   },
   "source": [
    "<hr style=\"height: 2px; color:  #94bd13 ; background-color:  #94bd13; width: 100%; border: none;\">\n",
    "\n",
    "# 1. Importation"
   ]
  },
  {
   "cell_type": "markdown",
   "id": "8e350c2c-e56c-4f4e-a838-cf5f33f93d8f",
   "metadata": {},
   "source": [
    "Le code suivant permet d'installer si nécessaire les packages du TD"
   ]
  },
  {
   "cell_type": "markdown",
   "id": "496a88fa-6c4c-4254-a292-1d13b1f329ff",
   "metadata": {},
   "source": [
    "## 1.1 des packages"
   ]
  },
  {
   "cell_type": "code",
   "execution_count": null,
   "id": "94b68308-fb19-41d3-89fd-c5a61734a9a0",
   "metadata": {},
   "outputs": [],
   "source": [
    "from warnings import simplefilter\n",
    "simplefilter(action=\"ignore\", category=FutureWarning)\n",
    "\n",
    "import os\n",
    "import pandas as pd\n",
    "\n",
    "try:\n",
    "    import sklearn\n",
    "except:\n",
    "    print (\"scikit-learn non installé, installation ... \")\n",
    "    os.system(\"conda install scikit-learn -y\")\n",
    "    import sklearn\n",
    "finally:\n",
    "    print(\"scikit-learn est installé\")\n",
    "    \n",
    "try:\n",
    "    import altair\n",
    "except:\n",
    "    print (\"altair non installé, installation ... \")\n",
    "    os.system(\"conda install altair -y\")\n",
    "    import altair\n",
    "finally:\n",
    "    print(\"altair est installé\")"
   ]
  },
  {
   "cell_type": "markdown",
   "id": "5982fc5d-fd4f-4288-98a2-ff400e269dfe",
   "metadata": {},
   "source": [
    "## 1.2 des données"
   ]
  },
  {
   "cell_type": "markdown",
   "id": "8c6fb960-6792-44e7-943b-bf0e57e1e5ff",
   "metadata": {},
   "source": [
    "Les données sont directement récupérées sur Git. Elles sont aussi disponibles dans le répertoire ```./data```"
   ]
  },
  {
   "cell_type": "code",
   "execution_count": null,
   "id": "5e2a2275-c3c7-4c98-9e35-a6797db12008",
   "metadata": {},
   "outputs": [],
   "source": [
    "df_td3 = pd.read_table(\n",
    "    r\"https://raw.githubusercontent.com/fbxyz/ENSG_L1_cartostat/main/td/data/TD3_Afrique.csv\",\n",
    "    sep=\",\",\n",
    ")\n",
    "df_td3 = df_td3.sort_values(\"CODE_ISO3\").copy().reset_index(drop=True) # Les données sont triées avec une copie du dataframe avant d'être réindexées\n",
    "df_td3.head()"
   ]
  },
  {
   "cell_type": "markdown",
   "id": "5df66fe3-f0af-4b0b-8187-bdd641cb0f24",
   "metadata": {
    "id": "nRWsycQBMx38"
   },
   "source": [
    "<hr style=\"height: 2px; color:  #94bd13 ; background-color:  #94bd13; width: 100%; border: none;\">\n",
    "\n",
    "# 2. Analyse univarié des données avec Python\n",
    "\n",
    "<blockquote style=\"color:#bc4749\">\n",
    "    \n",
    "Réalisez l'analyse univariée des 4 données quantitatives que vous avez sélectionné : \n",
    "- forme et caractéristiques des séries\n",
    "- valeurs centrales et dispersion des séries\n",
    "- interprétation des résultats\n",
    "\n",
    "Appuyez-vous sur les outils abordés dans le TD1. \n",
    "\n",
    "Organisez ce notebook afin de présenter vos résultats et interprétations. Les notebooks sont particulièrement adaptés pour présenter et discuter de résultats avec des collègues.\n",
    "    \n",
    "</blockquote>\n"
   ]
  },
  {
   "cell_type": "markdown",
   "id": "9d2097ad-9ad6-44c4-97d3-6704c747b758",
   "metadata": {},
   "source": []
  },
  {
   "cell_type": "markdown",
   "id": "7ae12376-129e-43b2-a74b-9a71c07513d3",
   "metadata": {
    "id": "nRWsycQBMx38"
   },
   "source": [
    "<hr style=\"height: 2px; color:  #94bd13 ; background-color:  #94bd13; width: 100%; border: none;\">\n",
    "\n",
    "# 3. Cartographie des résultats avec Qgis\n",
    "\n",
    "<blockquote style=\"color:#bc4749\">\n",
    "    \n",
    "A l'aide de Qgis, réalisez une planche regroupant les 4 cartes. Utilisez le fichier de données csv ainsi que le fichier PAYS_AFRIQUE_4326.topojson du répertoire ```./data```\n",
    "    \n",
    "Attention, faites en sorte que ces cartes soient comparables. \n",
    "\n",
    "Appuyez-vous sur les outils abordés dans le TD2. \n",
    "    \n",
    "</blockquote>\n",
    "\n",
    "<blockquote style=\"color:#bc4749\">\n",
    "    \n",
    "Exportez votre planche cartographique en image (png, jpg ou même svg). Uploader cette image dans un répertoire accessible par le notebook et ajoutez la à une balise html image dans le notebook :\n",
    "\n",
    "```<img alt=\"\" src=\"chemin_vers_ma_planche.png\">```\n",
    "</blockquote>\n",
    "\n"
   ]
  },
  {
   "cell_type": "markdown",
   "id": "542a9ad9-54d7-4cfe-aad0-09ad6df15293",
   "metadata": {},
   "source": []
  },
  {
   "cell_type": "markdown",
   "id": "d535bf98-5411-4d75-8860-d11d2fe291a2",
   "metadata": {
    "id": "nRWsycQBMx38"
   },
   "source": [
    "<hr style=\"height: 2px; color:  #94bd13 ; background-color:  #94bd13; width: 100%; border: none;\">\n",
    "\n",
    "# 4. ACP et cartographie avec Python\n",
    "\n",
    "Trois cartes ne semblent pas suffisantes pour mesurer le niveau de développement des pays africains à la fin des années 1990.\n",
    "\n",
    "L'Analyse en Composante Principale apparaît comme une excellente alternative pour répondre à la demande de l'ONG : \n",
    "- Elle permet de réorganiser l'information contenue dans le tableau de départ sous la forme de composantes/facteurs/axes\n",
    "- Sous la forme de nouveaux indicateurs indépendants et hiérarchisés\n",
    "\n",
    "Sa réalisation avec Python et la cartographie des résultats -toujours avec Python- sont présentées ci-dessous. Il s'agira pour vous d'interpréter  les résultats, tout en vous illustrant la puissance de Python en analyse de données.\n",
    "\n",
    "\n"
   ]
  },
  {
   "cell_type": "markdown",
   "id": "d09163b3-2e79-426d-83b8-49162eb4e3d7",
   "metadata": {},
   "source": [
    "<hr style=\"height: 1px; color:  #a7aeae ; background-color:  #a7aeae; width: 25%; border: none;\">\n",
    "\n",
    "## 4.1 Préparation de l'ACP\n",
    "\n",
    "La librairie [scikit-learn](https://scikit-learn.org/stable/) est idéale pour réaliser une ACP. C'est **la** librairie majoritairement utilisée en Machine Learning.\n",
    "\n",
    "Si ce domaine vous intéresse, je vous conseille cet excellent ouvrage : \n",
    "\n",
    "[<q> Müller, A. C., & Guido, S. (2016). Introduction to machine learning with Python: a guide for data scientists. \" O'Reilly Media, Inc.\". </q>](https://books.google.com/books?hl=fr&lr=&id=1-4lDQAAQBAJ&oi=fnd&pg=PP1&dq=Introduction+to+Machine+Learning+with+Python&ots=28nMKNNM0Y&sig=8GE7PzHFzbH80hQG6E6N2gXup5M)\n",
    "\n"
   ]
  },
  {
   "cell_type": "code",
   "execution_count": null,
   "id": "b8e80d1c-efd5-44e7-a896-a2c7c269bc72",
   "metadata": {},
   "outputs": [],
   "source": [
    "from sklearn.decomposition import PCA  # l'ACP\n",
    "from sklearn.preprocessing import (\n",
    "    StandardScaler,  # Pour centrer-réduire les données afin de réaliser une ACP normée\n",
    ")"
   ]
  },
  {
   "cell_type": "markdown",
   "id": "52d9d5c0-834b-4c65-8e57-ac97c6b98afb",
   "metadata": {
    "tags": []
   },
   "source": [
    "Dans un premier temps, on sélectionne les données quantitatives à utiliser dans l'ACP.\n",
    "\n",
    "Remarquez l'assignation à la variable X qui est une notation standard pour les inputs d'un modèle avec scikit-learn. \n",
    "\n",
    "Pour plus de simplicité, on se contente d'exclure les colonnes code et nom. Le résultat est un numpy array"
   ]
  },
  {
   "cell_type": "code",
   "execution_count": null,
   "id": "10c5c03e-ae14-4c30-a18c-11f5ef8d77f1",
   "metadata": {},
   "outputs": [],
   "source": [
    "X = df_td3.drop(columns=[\"CODE_ISO3\", \"nom\"]).values\n",
    "type(X)"
   ]
  },
  {
   "cell_type": "markdown",
   "id": "005690a0-cbce-4b62-8cfc-eec371bd9d48",
   "metadata": {},
   "source": [
    "On fait de même pour le nom des colonnes"
   ]
  },
  {
   "cell_type": "code",
   "execution_count": null,
   "id": "8316bb13-e3aa-4d66-930f-77a6e0f89eee",
   "metadata": {},
   "outputs": [],
   "source": [
    "cols = df_td3.drop(columns=[\"CODE_ISO3\", \"nom\"]).columns\n",
    "cols"
   ]
  },
  {
   "cell_type": "markdown",
   "id": "7d36dc23-5596-443c-8bfc-93cc335dcf07",
   "metadata": {},
   "source": [
    "Et pour les pays"
   ]
  },
  {
   "cell_type": "code",
   "execution_count": null,
   "id": "5b62d0b7-6af9-4db2-806f-a6f4df74e828",
   "metadata": {},
   "outputs": [],
   "source": [
    "code_iso3 = df_td3[\"CODE_ISO3\"].values\n",
    "code_iso3"
   ]
  },
  {
   "cell_type": "markdown",
   "id": "7f1d52fb-9f97-470b-b0b1-dd95b01b7b19",
   "metadata": {},
   "source": [
    "Les données à utiliser n'étant pas de même nature, il faut utiliser une ACP normée. Pour cela, on utilise StandardScaler() pour centrer réduire les données de X (cf. cours et TD1)"
   ]
  },
  {
   "cell_type": "code",
   "execution_count": null,
   "id": "f669adff-1211-4fd2-bb0a-afd2026b44a7",
   "metadata": {},
   "outputs": [],
   "source": [
    "scaler = StandardScaler()  # On instancie le scaler\n",
    "scaler.fit(X)\n",
    "X_cr = scaler.transform(X)"
   ]
  },
  {
   "cell_type": "markdown",
   "id": "025b6c5f-16fb-429c-8e5e-0668523eb210",
   "metadata": {},
   "source": [
    "Les données ont bien été centrée-réduites (moyenne =0, écart-type = 1)"
   ]
  },
  {
   "cell_type": "code",
   "execution_count": null,
   "id": "80f58121-cee7-4e6b-a1b3-e9b70479bb3f",
   "metadata": {},
   "outputs": [],
   "source": [
    "pd.DataFrame(X_cr, columns=cols).describe().round(2)"
   ]
  },
  {
   "cell_type": "markdown",
   "id": "14babd03-5917-4892-930d-0da1ef2b91b3",
   "metadata": {},
   "source": [
    "<hr style=\"height: 1px; color:  #a7aeae ; background-color:  #a7aeae; width: 25%; border: none;\">\n",
    "\n",
    "## 4.2 Calcul de l'ACP normée"
   ]
  },
  {
   "cell_type": "markdown",
   "id": "cc825e6d-7d5d-4d08-a2b8-6ad6e1e86ed2",
   "metadata": {},
   "source": [
    "Les données sont prêtes, l'ACP avec 13 composantes peut-être calculée.\n",
    "\n",
    "On prépare une liste avec le nom des colonnes pour chaque composante. Cela facilitera la lecture des dataframes par la suite"
   ]
  },
  {
   "cell_type": "code",
   "execution_count": null,
   "id": "6311e743-ae4c-4a0a-81d4-add12bd108df",
   "metadata": {},
   "outputs": [],
   "source": [
    "n_composantes = 13\n",
    "x_list = [f\"c{i:02d}\" for i in range(1, n_composantes + 1)] \n",
    "print(x_list)"
   ]
  },
  {
   "cell_type": "markdown",
   "id": "48f5cb9c-8beb-49a9-8f14-e809ab801e01",
   "metadata": {},
   "source": [
    "Puis on lance l'ACP sur les données centrée réduite X_cr"
   ]
  },
  {
   "cell_type": "code",
   "execution_count": null,
   "id": "7476117f-c69e-4534-a1d6-f7e15027e6cb",
   "metadata": {},
   "outputs": [],
   "source": [
    "acp = PCA(n_components=n_composantes)\n",
    "acp.fit(X_cr)"
   ]
  },
  {
   "cell_type": "markdown",
   "id": "e3189987-8089-4705-9920-f012e1cebd87",
   "metadata": {},
   "source": [
    "<hr style=\"height: 1px; color:  #a7aeae ; background-color:  #a7aeae; width: 25%; border: none;\">\n",
    "\n",
    "## 4.3 Interprétation de l'ACP normée\n",
    "\n",
    "Les calculs sont déjà finis... Il ne reste plus qu'à interpréter les résultats"
   ]
  },
  {
   "cell_type": "markdown",
   "id": "e1d8df8b-2fcd-4837-b18f-ad425e0d4d62",
   "metadata": {},
   "source": [
    "### 4.3.1 Part de variance portée par chaque composante\n",
    "\n",
    "Pour rappel, la part de variance (% de valeur propre / inertie) renseigne sur la quantité d'information du tableau de départ portée par chaque facteur"
   ]
  },
  {
   "cell_type": "code",
   "execution_count": null,
   "id": "652afe0f-2e55-442c-945a-983b497238f3",
   "metadata": {},
   "outputs": [],
   "source": [
    "var = (acp.explained_variance_ratio_ * 100).round(2)\n",
    "var_cum = var.cumsum().round()\n",
    "\n",
    "df_var = pd.DataFrame({\"Composante\": x_list, \"Var\": var, \"Var_cum\": var_cum})\n",
    "df_var"
   ]
  },
  {
   "cell_type": "markdown",
   "id": "fe5032d3-74dd-4182-88b9-828ae10aecbc",
   "metadata": {},
   "source": [
    "La part de variance sur chaque composante est généralement représentée avec un screeplot\n",
    "\n",
    "Pour faire ce graphique, le package Altair va être utilisé à la place de Seaborn (pour des questions de goûts personnels...)"
   ]
  },
  {
   "cell_type": "code",
   "execution_count": null,
   "id": "f0878a1e-6d54-4264-8a46-6a87ea68eced",
   "metadata": {},
   "outputs": [],
   "source": [
    "import altair as alt\n",
    "\n",
    "screeplot_bar = (\n",
    "    alt.Chart(\n",
    "        df_var, title=\"Variance et variance cumulée pour chaque composante\"\n",
    "    )  # on instancie le graphique (chart)\n",
    "    .mark_bar(size=15)  # on précise que l'on va faire un graphique avec des barres\n",
    "    .encode(\n",
    "        x=alt.X(\"Composante\"),\n",
    "        y=alt.Y(\"Var\", title=\"% de la variance totale\"),\n",
    "        tooltip=[\n",
    "            alt.Tooltip(\"Composante:N\"),\n",
    "            alt.Tooltip(\n",
    "                \"Var\", format=\".1f\"\n",
    "            ),  # on ajoute la possibilité d'affichier des informations au passage de la souris\n",
    "        ],\n",
    "    )\n",
    ")\n",
    "\n",
    "screeplot_cum = (\n",
    "    alt.Chart(df_var)\n",
    "    .mark_line(color=\"red\")  # on ajoute ici un graphique en ligne\n",
    "    .encode(\n",
    "        x=alt.X(\"Composante\"),\n",
    "        y=alt.Y(\"Var_cum\", title=\"\"),\n",
    "        tooltip=[\n",
    "            alt.Tooltip(\"Composante:N\"),\n",
    "            alt.Tooltip(\"Var_cum\", format=\".1f\"),\n",
    "        ],\n",
    "    )\n",
    ")\n",
    "\n",
    "alt.layer(screeplot_cum, screeplot_bar)  # on combine les deux graphiques"
   ]
  },
  {
   "cell_type": "markdown",
   "id": "56f9bb18-a9fd-4993-b106-64c37ea7b130",
   "metadata": {},
   "source": [
    "<blockquote style=\"color:#bc4749\">\n",
    "    \n",
    "A la lumière de ce graphique (screeplot), que pouvez-vous en conclure sur la capacité de synthèse de votre ACP ?\n",
    "    \n",
    "</blockquote>"
   ]
  },
  {
   "cell_type": "markdown",
   "id": "e8be66bb-ab5e-48cc-b4c7-31aa21464982",
   "metadata": {},
   "source": []
  },
  {
   "cell_type": "markdown",
   "id": "5542199f-e6a4-441e-bec9-875e1b826b29",
   "metadata": {},
   "source": [
    "### 4.3.2 Coordonnées des variables sur les composantes\n",
    "\n",
    "Il est maintenant nécessaire d'interpréter vos composantes. Pour cela, on regarde les coordonnées des variables sur les composantes, qui s'interprètent comme les corrélations de chaque variable sur les composantes"
   ]
  },
  {
   "cell_type": "code",
   "execution_count": null,
   "id": "be40bb53-fc2f-4326-993a-6e5d86cc0711",
   "metadata": {},
   "outputs": [],
   "source": [
    "pcs = pd.DataFrame(acp.components_, columns=cols).round(2).T\n",
    "pcs.columns = x_list\n",
    "pcs"
   ]
  },
  {
   "cell_type": "markdown",
   "id": "12e2aa2d-0976-432c-818c-bbd31492a722",
   "metadata": {},
   "source": [
    "<blockquote style=\"color:#bc4749\">\n",
    "    \n",
    "Interprétez la composante 1 (c01). Que pouvez-vous en conclure par rapport à la demande de l'ONG ?\n",
    "        \n",
    "</blockquote>"
   ]
  },
  {
   "cell_type": "markdown",
   "id": "cde757f1-31b3-4de1-bec9-584b83f9b21a",
   "metadata": {},
   "source": []
  },
  {
   "cell_type": "markdown",
   "id": "5be9ddd4-d646-4d17-9ffc-6af48780fafd",
   "metadata": {},
   "source": [
    "<blockquote style=\"color:#bc4749\">\n",
    "    \n",
    "Interprétez la composante 2 (c02). Etrange non ?\n",
    "    \n",
    "</blockquote>"
   ]
  },
  {
   "cell_type": "markdown",
   "id": "93357006-be45-4146-b276-b241407cd1dc",
   "metadata": {},
   "source": []
  },
  {
   "cell_type": "markdown",
   "id": "6b602d13-90cb-4e5e-a391-4fa319ee2e4a",
   "metadata": {},
   "source": [
    "<hr style=\"height: 1px; color:  #a7aeae ; background-color:  #a7aeae; width: 25%; border: none;\">\n",
    "\n",
    "## 4.4 Cartographie des composantes 1 et 2\n",
    "\n",
    "Les composantes 1 et 2 étant interprétées, il est maintenant possible de les cartographier. "
   ]
  },
  {
   "cell_type": "markdown",
   "id": "8b7457e8-1d6b-429a-9a30-9168dbe8e243",
   "metadata": {},
   "source": [
    "### 4.4.1 Coordonnées des individus sur les composantes\n",
    "\n",
    "Pour cela, on projette d'abord les individus sur les composantes. On obtient les coordonnées des individus sur ces composantes.\n",
    "\n",
    "On ne garde que les deux premières composantes avec la propriété iloc de Pandas (seules les deux premières colonnes sont conservées)"
   ]
  },
  {
   "cell_type": "code",
   "execution_count": null,
   "id": "511dc798-601d-466a-8c45-861494ad71c8",
   "metadata": {},
   "outputs": [],
   "source": [
    "X_proj = acp.transform(X_cr)\n",
    "df_acp = pd.DataFrame(X_proj, columns=x_list).iloc[:, 0:2]\n",
    "df_acp.insert(0, \"CODE_ISO3\", code_iso3)  # insertion en index 0 des codes iso des  pays\n",
    "df_acp.head()"
   ]
  },
  {
   "cell_type": "markdown",
   "id": "9ce89434-1206-4d58-8ef8-64d0fd489fa3",
   "metadata": {},
   "source": [
    "On en profite pour discrétiser nos données. Pour cartographier les résultats d'une ACP, la méthode de la moyenne moyenne et de l'écart-type sont généralement utilisée\n",
    "\n",
    "Pour ne pas complexifier ce TD, une discrétisation basée sur des quantiles est réalisée. Les résultats seront assez proches d'une discrétisation par moyenne et écart-type. \n",
    "\n",
    "pandas.qcut() est ici utilisé pour discrétiser à partir de quantiles. Il est possible d'utiliser pandas.cut() pour définir les bornes manuellement. Enfin, il existe des packages Python comme [mapclassify](https://pypi.org/project/mapclassify/) pour appliquer directement des méthodes de discrétisation, les bornes étant calculées automatiquement.  "
   ]
  },
  {
   "cell_type": "code",
   "execution_count": null,
   "id": "ee44346b-a9ea-4187-84e1-a59b5ae9dba5",
   "metadata": {},
   "outputs": [],
   "source": [
    "def cut(x, q, c):\n",
    "    \"\"\"\n",
    "    Retourne deux arrays avec les bornes de classes et des couleurs à partir d'un numpy array,\n",
    "    de bornes de quantiles et d'un array de couleur\n",
    "    \"\"\"\n",
    "\n",
    "    _cut = (\n",
    "        pd.qcut(x, q=q, precision=1).astype(str).str.replace(\"(\", \"[\", regex=False)\n",
    "    )  # les libellés des bornes de classe\n",
    "    _colors = pd.qcut(x, q=q, labels=c)  # les couleurs associées\n",
    "\n",
    "    return _cut, _colors\n",
    "\n",
    "\n",
    "colors = ['#d7191c','#fdae61','#ffffbf','#a6d96a','#1a9641']\n",
    "quantiles = [0, 0.2, 0.4, 0.6, 0.80, 1]\n",
    "\n",
    "df_acp[\"class_c01\"], df_acp[\"colors_c01\"] = cut(df_acp.c01, quantiles, colors)\n",
    "df_acp[\"class_c02\"], df_acp[\"colors_c02\"] = cut(df_acp.c02, quantiles, colors)\n",
    "df_acp.head()"
   ]
  },
  {
   "cell_type": "markdown",
   "id": "0596f148-3577-4fca-86d2-0589b46481a6",
   "metadata": {
    "tags": []
   },
   "source": [
    "## N.B. \n",
    "Le code ci-dessous vous montre comment créer une carte simple avec Altair. Des options plus avancées existent, mais ne seront pas abordées dans ce TD. Consultez le [site d'Altair](https://altair-viz.github.io/gallery/index.html#maps) pour plus de détails.\n",
    "\n",
    "L'objectif est de vous montrer rapidement comment créer une carte avec Python. Pour plus de \"liberté\" dans la mise en page, vous pouvez utiliser [Geopandas](https://geopandas.org/en/stable/docs/user_guide/mapping.html) et Matplotlib. Seul, le premier permet de créer rapidement des cartes, sans pour autant atteindre un \"bon niveau\". Geopandas produisant un objet matplotlib, vous pouvez le modifier pour le rendre plus acceptable cartographiquement... Mais au prix d'étapes parfois complexes.\n",
    "\n",
    "Pour cette illustration, nous nous contenterons donc d'Altair, qui est une bonne alternative : rapide à mettre en place pour un résultat presque satisfaisant"
   ]
  },
  {
   "cell_type": "markdown",
   "id": "7991e35e-4f22-46ea-be3f-b1705dbcb26c",
   "metadata": {},
   "source": [
    "### 4.4.2 Chargement des données\n",
    "\n",
    "Le fond de carte peut-être chargé directement à partir de l'URL du git du cours : "
   ]
  },
  {
   "cell_type": "code",
   "execution_count": null,
   "id": "d40bdfb1-ec62-4e62-8d6c-dad50f568d6f",
   "metadata": {},
   "outputs": [],
   "source": [
    "url_basemap = \"https://raw.githubusercontent.com/fbxyz/ENSG_L1_cartostat/main/td/data/PAYS_AFRIQUE_4326.topojson\"  # Noter que le crs du fond est 4326, soit un système WGS84\n",
    "basemap = alt.topo_feature(url=url_basemap, feature=\"afrique\")"
   ]
  },
  {
   "cell_type": "markdown",
   "id": "df3d6d51-e3c4-49c1-a208-d7a8c98ca975",
   "metadata": {},
   "source": [
    "La carte est construite de la manière suivante avec Altair. Attention les commentaires à chaque ligne sont pour vous aider, il ne faut jamais faire ça dans votre code Python"
   ]
  },
  {
   "cell_type": "code",
   "execution_count": null,
   "id": "819b140d-4682-47fe-afab-4376612cd8c6",
   "metadata": {
    "tags": []
   },
   "outputs": [],
   "source": [
    "def carto_acp(_basemap, _df, _composante, _main_title, _leg_title, _fields):\n",
    "    \n",
    "    \"\"\"\n",
    "    Création des cartes pour l'ACP du TD3. Join le fond de carte avec les données de l'ACP.\n",
    "    Les bornes et couleurs de classes sont récupérées du dataframe.\n",
    "    \n",
    "    \"\"\"\n",
    "\n",
    "    _ind_class = f\"class_{_composante}\"\n",
    "    _ind_colors = f\"colors_{_composante}\"\n",
    "\n",
    "    _sort = _df.sort_values(_composante)\n",
    "    _dom = _sort[_ind_class].unique()\n",
    "    _col = list(_sort[_ind_colors].unique())\n",
    "\n",
    "    # le fond de carte avec le type de graphique altair : geoshape\n",
    "    _basemap = (\n",
    "        alt.Chart(_basemap, title=_main_title)\n",
    "        .mark_geoshape(  \n",
    "            fill=\"white\",\n",
    "            stroke=\"#4d4d4d\",\n",
    "            strokeWidth=0.35,\n",
    "        )\n",
    "        .project(type=\"mercator\")  # On projette le rendu\n",
    "        .properties(width=600, height=600)  # la largeur et la hauteur de la carte en px\n",
    "    )\n",
    "\n",
    "    # l'acp à cartographier\n",
    "    _acp_map = (\n",
    "        _basemap.transform_lookup(  # transform_lookup permet de faire une jointure entre le topojson _basemap et le dataframe _df.\n",
    "            lookup=\"properties.CODE_ISO3\",  # dans _basemap, on cherche le champs CODE_ISO3 du noeud properties. Il servira à la jointure\n",
    "            from_=alt.LookupData(\n",
    "                data= _df, key=\"CODE_ISO3\", fields=_fields\n",
    "            ),  # left_join _df sur le champs COD_GEO, on ajoute les champs indicateurs : _fields\n",
    "        )\n",
    "        .mark_geoshape()\n",
    "        .encode(\n",
    "            color=alt.Color(\n",
    "                f\"{_ind_class}:O\", # l'indicateur à cartographier.\n",
    "                scale=alt.Scale(domain=_dom, range=_col),\n",
    "                legend=alt.Legend(title=f\"{_leg_title}\"),\n",
    "            ),  \n",
    "            tooltip=[  # permet d'ajouter des informations sur le département au passage de la souris sur la carte\n",
    "                alt.Tooltip(\"properties.nom:N\", title=\"Pays\"),\n",
    "                alt.Tooltip(\n",
    "                    f\"{(_composante)}:O\",format=\".2f\"\n",
    "                ),\n",
    "            ],\n",
    "        )\n",
    "    )\n",
    "    \n",
    "    # Ajout d'un texte descriptif sur l'ACP\n",
    "    _text_acp = (\n",
    "        alt.Chart()\n",
    "        .mark_text(\n",
    "            align=\"left\", baseline=\"bottom\", fontSize=11, color=\"#adb5bd\"\n",
    "        )\n",
    "        .encode(\n",
    "            x=alt.value(20),  # position en pixels\n",
    "            y=alt.value(370), \n",
    "            text=alt.value([\"Résultats d'une ACP normée menée de 42 pays\",\n",
    "                            \"en fonction de critères démographiques et\",\n",
    "                            \"socioéconomiques à la fin desannées 1990\",\n",
    "                            \"Source : INED 2001\"]),\n",
    "        )\n",
    "    )\n",
    "\n",
    "    return (\n",
    "        alt.layer(_basemap, _acp_map, _text_acp) # alt.layer combine les 3 graphiques en 1 seul\n",
    "        .configure_legend(\n",
    "            titleFontSize=14,  # la taille du titre de la légende\n",
    "            labelFontSize=13,  # la taille des éléments de la légende\n",
    "            titleColor=\"#495057\",  # la couleur du titre de la légende\n",
    "            labelColor=\"#495057\",  # la couleur des éléments de la légende\n",
    "            titleLimit=500,  # évite de couper le titre de la légende si trop long\n",
    "            titlePadding=7,  # écart entre le titre de la légende et les éléments de la légende\n",
    "            direction=\"horizontal\",  # légende horizontale\n",
    "            orient=\"bottom\",  # légende placée en bas\n",
    "            columns=10,  # nombre de colonnes max pour la légende\n",
    "            columnPadding=10,  # espace entre les colonnes\n",
    "            rowPadding=12,  # espace entre les lignes\n",
    "            symbolType=\"square\",  # type de caissons de légende\n",
    "        )\n",
    "        .configure_title(fontSize=16, color=\"#343a40\")\n",
    "    )\n"
   ]
  },
  {
   "cell_type": "markdown",
   "id": "7e3aa13b-ecea-4ddd-9ad2-83391e4ac135",
   "metadata": {},
   "source": [
    "Il ne reste plus qu'à lancer la fonction carto_acp() :"
   ]
  },
  {
   "cell_type": "code",
   "execution_count": null,
   "id": "7a8f1b45-f711-44a0-9dfc-3a9f8e198e1a",
   "metadata": {
    "tags": []
   },
   "outputs": [],
   "source": [
    "composante = \"c01\" # pour cartographier la composante 2, changez en c02\n",
    "map_title = [\n",
    "    \"Indicateur synthétique de niveau de développement\",\n",
    "    \"des pays Africain à la fin des années 1990\",\n",
    "]\n",
    "\n",
    "variance = df_var.query(f\"Composante=='{composante}'\").Var.values[0]\n",
    "leg_title = f\"Coordonnées sur le premier facteur ({variance}% de la variance totale)\"\n",
    "f = list(df_acp.columns)\n",
    "\n",
    "carto_acp(\n",
    "    _basemap=basemap,\n",
    "    _df=df_acp,\n",
    "    _composante=composante,\n",
    "    _main_title=map_title,\n",
    "    _leg_title=leg_title,\n",
    "    _fields=f,\n",
    ")"
   ]
  },
  {
   "cell_type": "markdown",
   "id": "77bf7525-e314-426e-96cf-f46b93cda07c",
   "metadata": {},
   "source": [
    "<blockquote style=\"color:#bc4749\">\n",
    "    \n",
    "Faites la carte de la composante 2. Quel phénomène se cache derrière ?\n",
    "    \n",
    "</blockquote>"
   ]
  },
  {
   "cell_type": "markdown",
   "id": "fd7fe862-42dd-4be8-970a-57ddbc4b502a",
   "metadata": {},
   "source": []
  },
  {
   "cell_type": "markdown",
   "id": "48ab659f-6d22-484e-aefa-cdf94d2c4c59",
   "metadata": {
    "id": "nRWsycQBMx38"
   },
   "source": [
    "<hr style=\"height: 2px; color:  #94bd13 ; background-color:  #94bd13; width: 100%; border: none;\">\n",
    "\n",
    "# Conclusion du cours\n",
    "\n",
    "Ce cours vous a permis d'aborder les statistiques en cartographie en fonction de deux axes : \n",
    "- l'analyse univariée des données, afin de vous aider à mieux comprendre le phénomène étudié\n",
    "- la discrétisation, afin de transmettre efficacement le message cartographique lorsque vous traitez des données quantitatives de taux.\n",
    "\n",
    "Vos connaissances en statistiques ont pu être appliquées à la géographie : \n",
    "- valeurs centrales et paramètres de dispersion\n",
    "- tests de normalité\n",
    "- tests comparaison de moyennes et de variances\n",
    "- construction de graphiques associés aux calculs précédents\n",
    "\n",
    "Des Notebook avec le langage Python ont été utilisés comme principaux outils d'analyse de données. Ce sont deux standards dans le monde professionnel.\n",
    "\n",
    "Les différents TD vous ont permis d'appliquer vos connaissances, en vous rendant autonomes petit-à-petit.\n",
    "TD 1 : \n",
    "- Prise en main de jupyter notebook et de python pour l'analyse univariée \n",
    "- Interprétation des résultats \n",
    "- Choix d'une méthode de discrétisation en fonction du public\n",
    "\n",
    "TD 2 :\n",
    "- Cartographie des résultats du TD 1 avec Qgis\n",
    "\n",
    "TD 3 : \n",
    "- Sans aide, application des acquis des TD 1 et 2\n",
    "- Introduction à l'analyse de données avec Python : réalisation d'une ACP\n",
    "- Introduction à la cartographie avec Altair\n",
    "\n",
    "\n",
    "Enfin, n'hésitez pas à me contacter si vous avez la moindre question."
   ]
  },
  {
   "cell_type": "code",
   "execution_count": null,
   "id": "2514c69d-4f80-4f3a-8559-15bb69fde89c",
   "metadata": {},
   "outputs": [],
   "source": []
  }
 ],
 "metadata": {
  "kernelspec": {
   "display_name": "geo",
   "language": "python",
   "name": "geo"
  },
  "language_info": {
   "codemirror_mode": {
    "name": "ipython",
    "version": 3
   },
   "file_extension": ".py",
   "mimetype": "text/x-python",
   "name": "python",
   "nbconvert_exporter": "python",
   "pygments_lexer": "ipython3",
   "version": "3.11.0"
  }
 },
 "nbformat": 4,
 "nbformat_minor": 5
}
