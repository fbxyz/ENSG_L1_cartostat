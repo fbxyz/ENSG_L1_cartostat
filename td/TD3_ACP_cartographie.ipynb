{
 "cells": [
  {
   "cell_type": "markdown",
   "id": "d59908c4-0826-4489-b60f-2d1b893833eb",
   "metadata": {
    "id": "CLqyCoAiRKLy"
   },
   "source": [
    "<img src=\"https://upload.wikimedia.org/wikipedia/fr/thumb/9/9e/Logo_ENSG_G%C3%A9omatique_2012.svg/220px-Logo_ENSG_G%C3%A9omatique_2012.svg.png\" style=\"margin-left:auto; margin-right:auto\"/>\n"
   ]
  },
  {
   "cell_type": "markdown",
   "id": "0c786eb7-b0d5-419e-a0b4-04d163ac234f",
   "metadata": {},
   "source": [
    "https://colab.research.google.com/drive/1TKe1_1ECzOlP4Aj1P3vzbn47U9YrqVFQ#scrollTo=XTefDhHfBOS4"
   ]
  },
  {
   "cell_type": "markdown",
   "id": "ae6dd4e2-5e22-4640-930d-8132171e8f38",
   "metadata": {
    "id": "wkgAs0oTI9gU",
    "tags": []
   },
   "source": [
    "<center> \n",
    "    <h1>ENSG : statistiques appliquées en cartographie</h1> \n",
    "    <h2>Cartographie des résultats du TD 1</h2> \n",
    "    <h3>Florian Bayer, décembre 2022</h3> \n",
    "</center> \n",
    "\n",
    "<hr style=\"height: 2px; color:  #94bd13 ; background-color:  #94bd13; width: 100%; border: none;\">\n",
    "\n",
    "* L'objectif de ce TD est d'appliquer les connaissances acquises durant le cours et les TD précédents\n",
    "  \n",
    "* En cartographiant les \n",
    "\n",
    "* https://www.santepubliquefrance.fr/docs/mesure-des-inegalites-de-mortalite-par-cause-de-deces.-approche-ecologique-a-l-aide-d-un-indice-de-desavantage-social\n"
   ]
  },
  {
   "cell_type": "markdown",
   "id": "181e77d5-e62b-4f87-90a7-739ec5c304cc",
   "metadata": {},
   "source": [
    "<hr style=\"height: 2px; color:  #94bd13 ; background-color:  #94bd13; width: 100%; border: none;\">\n",
    "\n",
    "# 1.Import des données\n",
    "\n",
    "Pour ce TD, les données sont directement importées au format json : \n",
    "- le revenu médian par ménage\n",
    "- le pourcentage de bacheliers dans la population de plus de 15 ans\n",
    "- le pourcentage d’ouvriers dans la population active \n",
    "- le taux de chômage."
   ]
  },
  {
   "cell_type": "markdown",
   "id": "4b700f50-6b43-497d-a584-46cfec7e6f10",
   "metadata": {
    "id": "nRWsycQBMx38"
   },
   "source": [
    "<hr style=\"height: 2px; color:  #94bd13 ; background-color:  #94bd13; width: 100%; border: none;\">\n",
    "\n",
    "# 1. Importation des données\n",
    "\n",
    "Pour ce TD, les données sont directement importées au format json, un standard d'échange web :\n"
   ]
  },
  {
   "cell_type": "code",
   "execution_count": 141,
   "id": "bb137ddc-3033-4078-9068-642b9647a121",
   "metadata": {},
   "outputs": [
    {
     "data": {
      "text/html": [
       "<div>\n",
       "<style scoped>\n",
       "    .dataframe tbody tr th:only-of-type {\n",
       "        vertical-align: middle;\n",
       "    }\n",
       "\n",
       "    .dataframe tbody tr th {\n",
       "        vertical-align: top;\n",
       "    }\n",
       "\n",
       "    .dataframe thead th {\n",
       "        text-align: right;\n",
       "    }\n",
       "</style>\n",
       "<table border=\"1\" class=\"dataframe\">\n",
       "  <thead>\n",
       "    <tr style=\"text-align: right;\">\n",
       "      <th></th>\n",
       "      <th>CODEGEO</th>\n",
       "      <th>CODEGEO_label</th>\n",
       "      <th>MED_REV18</th>\n",
       "      <th>P_BAC18</th>\n",
       "      <th>P_OUV18</th>\n",
       "      <th>TX_CHOM18</th>\n",
       "    </tr>\n",
       "  </thead>\n",
       "  <tbody>\n",
       "    <tr>\n",
       "      <th>0</th>\n",
       "      <td>01</td>\n",
       "      <td>Ain</td>\n",
       "      <td>23420</td>\n",
       "      <td>47.03</td>\n",
       "      <td>26.66</td>\n",
       "      <td>10.0</td>\n",
       "    </tr>\n",
       "    <tr>\n",
       "      <th>1</th>\n",
       "      <td>02</td>\n",
       "      <td>Aisne</td>\n",
       "      <td>19690</td>\n",
       "      <td>35.23</td>\n",
       "      <td>27.86</td>\n",
       "      <td>17.4</td>\n",
       "    </tr>\n",
       "    <tr>\n",
       "      <th>2</th>\n",
       "      <td>03</td>\n",
       "      <td>Allier</td>\n",
       "      <td>20360</td>\n",
       "      <td>37.88</td>\n",
       "      <td>24.15</td>\n",
       "      <td>13.5</td>\n",
       "    </tr>\n",
       "    <tr>\n",
       "      <th>3</th>\n",
       "      <td>04</td>\n",
       "      <td>Alpes-de-Haute-Provence</td>\n",
       "      <td>20580</td>\n",
       "      <td>45.60</td>\n",
       "      <td>19.02</td>\n",
       "      <td>14.1</td>\n",
       "    </tr>\n",
       "    <tr>\n",
       "      <th>4</th>\n",
       "      <td>05</td>\n",
       "      <td>Hautes-Alpes</td>\n",
       "      <td>20880</td>\n",
       "      <td>49.92</td>\n",
       "      <td>17.57</td>\n",
       "      <td>10.2</td>\n",
       "    </tr>\n",
       "  </tbody>\n",
       "</table>\n",
       "</div>"
      ],
      "text/plain": [
       "  CODEGEO            CODEGEO_label  MED_REV18  P_BAC18  P_OUV18  TX_CHOM18\n",
       "0      01                      Ain      23420    47.03    26.66       10.0\n",
       "1      02                    Aisne      19690    35.23    27.86       17.4\n",
       "2      03                   Allier      20360    37.88    24.15       13.5\n",
       "3      04  Alpes-de-Haute-Provence      20580    45.60    19.02       14.1\n",
       "4      05             Hautes-Alpes      20880    49.92    17.57       10.2"
      ]
     },
     "execution_count": 141,
     "metadata": {},
     "output_type": "execute_result"
    }
   ],
   "source": [
    "jsondata = '{\"CODEGEO\":{\"0\":\"01\",\"1\":\"02\",\"2\":\"03\",\"3\":\"04\",\"4\":\"05\",\"5\":\"06\",\"6\":\"07\",\"7\":\"08\",\"8\":\"09\",\"9\":\"10\",\"10\":\"11\",\"11\":\"12\",\"12\":\"13\",\"13\":\"14\",\"14\":\"15\",\"15\":\"16\",\"16\":\"17\",\"17\":\"18\",\"18\":\"19\",\"19\":\"21\",\"20\":\"22\",\"21\":\"23\",\"22\":\"24\",\"23\":\"25\",\"24\":\"26\",\"25\":\"27\",\"26\":\"28\",\"27\":\"29\",\"28\":\"2A\",\"29\":\"2B\",\"30\":\"30\",\"31\":\"31\",\"32\":\"32\",\"33\":\"33\",\"34\":\"34\",\"35\":\"35\",\"36\":\"36\",\"37\":\"37\",\"38\":\"38\",\"39\":\"39\",\"40\":\"40\",\"41\":\"41\",\"42\":\"42\",\"43\":\"43\",\"44\":\"44\",\"45\":\"45\",\"46\":\"46\",\"47\":\"47\",\"48\":\"48\",\"49\":\"49\",\"50\":\"50\",\"51\":\"51\",\"52\":\"52\",\"53\":\"53\",\"54\":\"54\",\"55\":\"55\",\"56\":\"56\",\"57\":\"57\",\"58\":\"58\",\"59\":\"59\",\"60\":\"60\",\"61\":\"61\",\"62\":\"62\",\"63\":\"63\",\"64\":\"64\",\"65\":\"65\",\"66\":\"66\",\"67\":\"67\",\"68\":\"68\",\"69\":\"69\",\"70\":\"70\",\"71\":\"71\",\"72\":\"72\",\"73\":\"73\",\"74\":\"74\",\"75\":\"75\",\"76\":\"76\",\"77\":\"77\",\"78\":\"78\",\"79\":\"79\",\"80\":\"80\",\"81\":\"81\",\"82\":\"82\",\"83\":\"83\",\"84\":\"84\",\"85\":\"85\",\"86\":\"86\",\"87\":\"87\",\"88\":\"88\",\"89\":\"89\",\"90\":\"90\",\"91\":\"91\",\"92\":\"92\",\"93\":\"93\",\"94\":\"94\",\"95\":\"95\"},\"CODEGEO_label\":{\"0\":\"Ain\",\"1\":\"Aisne\",\"2\":\"Allier\",\"3\":\"Alpes-de-Haute-Provence\",\"4\":\"Hautes-Alpes\",\"5\":\"Alpes-Maritimes\",\"6\":\"Ard\\\\u00e8che\",\"7\":\"Ardennes\",\"8\":\"Ari\\\\u00e8ge\",\"9\":\"Aube\",\"10\":\"Aude\",\"11\":\"Aveyron\",\"12\":\"Bouches-du-Rh\\\\u00f4ne\",\"13\":\"Calvados\",\"14\":\"Cantal\",\"15\":\"Charente\",\"16\":\"Charente-Maritime\",\"17\":\"Cher\",\"18\":\"Corr\\\\u00e8ze\",\"19\":\"C\\\\u00f4te-d\\'Or\",\"20\":\"C\\\\u00f4tes-d\\'Armor\",\"21\":\"Creuse\",\"22\":\"Dordogne\",\"23\":\"Doubs\",\"24\":\"Dr\\\\u00f4me\",\"25\":\"Eure\",\"26\":\"Eure-et-Loir\",\"27\":\"Finist\\\\u00e8re\",\"28\":\"Corse-du-Sud\",\"29\":\"Haute-Corse\",\"30\":\"Gard\",\"31\":\"Haute-Garonne\",\"32\":\"Gers\",\"33\":\"Gironde\",\"34\":\"H\\\\u00e9rault\",\"35\":\"Ille-et-Vilaine\",\"36\":\"Indre\",\"37\":\"Indre-et-Loire\",\"38\":\"Is\\\\u00e8re\",\"39\":\"Jura\",\"40\":\"Landes\",\"41\":\"Loir-et-Cher\",\"42\":\"Loire\",\"43\":\"Haute-Loire\",\"44\":\"Loire-Atlantique\",\"45\":\"Loiret\",\"46\":\"Lot\",\"47\":\"Lot-et-Garonne\",\"48\":\"Loz\\\\u00e8re\",\"49\":\"Maine-et-Loire\",\"50\":\"Manche\",\"51\":\"Marne\",\"52\":\"Haute-Marne\",\"53\":\"Mayenne\",\"54\":\"Meurthe-et-Moselle\",\"55\":\"Meuse\",\"56\":\"Morbihan\",\"57\":\"Moselle\",\"58\":\"Ni\\\\u00e8vre\",\"59\":\"Nord\",\"60\":\"Oise\",\"61\":\"Orne\",\"62\":\"Pas-de-Calais\",\"63\":\"Puy-de-D\\\\u00f4me\",\"64\":\"Pyr\\\\u00e9n\\\\u00e9es-Atlantiques\",\"65\":\"Hautes-Pyr\\\\u00e9n\\\\u00e9es\",\"66\":\"Pyr\\\\u00e9n\\\\u00e9es-Orientales\",\"67\":\"Bas-Rhin\",\"68\":\"Haut-Rhin\",\"69\":\"Rh\\\\u00f4ne\",\"70\":\"Haute-Sa\\\\u00f4ne\",\"71\":\"Sa\\\\u00f4ne-et-Loire\",\"72\":\"Sarthe\",\"73\":\"Savoie\",\"74\":\"Haute-Savoie\",\"75\":\"Paris\",\"76\":\"Seine-Maritime\",\"77\":\"Seine-et-Marne\",\"78\":\"Yvelines\",\"79\":\"Deux-S\\\\u00e8vres\",\"80\":\"Somme\",\"81\":\"Tarn\",\"82\":\"Tarn-et-Garonne\",\"83\":\"Var\",\"84\":\"Vaucluse\",\"85\":\"Vend\\\\u00e9e\",\"86\":\"Vienne\",\"87\":\"Haute-Vienne\",\"88\":\"Vosges\",\"89\":\"Yonne\",\"90\":\"Territoire de Belfort\",\"91\":\"Essonne\",\"92\":\"Hauts-de-Seine\",\"93\":\"Seine-Saint-Denis\",\"94\":\"Val-de-Marne\",\"95\":\"Val-d\\'Oise\"},\"MED_REV18\":{\"0\":23420,\"1\":19690,\"2\":20360,\"3\":20580,\"4\":20880,\"5\":22140,\"6\":20780,\"7\":19650,\"8\":19820,\"9\":20430,\"10\":19240,\"11\":20640,\"12\":21360,\"13\":21490,\"14\":20510,\"15\":20640,\"16\":21280,\"17\":20880,\"18\":20960,\"19\":22400,\"20\":21230,\"21\":19380,\"22\":20140,\"23\":22590,\"24\":21100,\"25\":21700,\"26\":22070,\"27\":21690,\"28\":21670,\"29\":19840,\"30\":20020,\"31\":23140,\"32\":20820,\"33\":22400,\"34\":20330,\"35\":22230,\"36\":20200,\"37\":21750,\"38\":22950,\"39\":21700,\"40\":21360,\"41\":21380,\"42\":20770,\"43\":20800,\"44\":22600,\"45\":21960,\"46\":20740,\"47\":19930,\"48\":20420,\"49\":21110,\"50\":20980,\"51\":21650,\"52\":20190,\"53\":20830,\"54\":21480,\"55\":20590,\"56\":21600,\"57\":21650,\"58\":20320,\"59\":20040,\"60\":22150,\"61\":20140,\"62\":19200,\"63\":21890,\"64\":21850,\"65\":20420,\"66\":19350,\"67\":22620,\"68\":23130,\"69\":22990,\"70\":20680,\"71\":20850,\"72\":21040,\"73\":23160,\"74\":26600,\"75\":28270,\"76\":21140,\"77\":23470,\"78\":26810,\"79\":20840,\"80\":20320,\"81\":20400,\"82\":20140,\"83\":21590,\"84\":19880,\"85\":21320,\"86\":20900,\"87\":20860,\"88\":20240,\"89\":20800,\"90\":21860,\"91\":23920,\"92\":28040,\"93\":17740,\"94\":22880,\"95\":21970},\"P_BAC18\":{\"0\":47.03,\"1\":35.23,\"2\":37.88,\"3\":45.6,\"4\":49.92,\"5\":50.8,\"6\":43.24,\"7\":35.91,\"8\":43.67,\"9\":37.63,\"10\":43.86,\"11\":43.7,\"12\":50.62,\"13\":43.32,\"14\":39.09,\"15\":40.3,\"16\":42.4,\"17\":39.12,\"18\":42.45,\"19\":47.45,\"20\":44.49,\"21\":37.29,\"22\":39.56,\"23\":45.1,\"24\":46.35,\"25\":40.03,\"26\":40.37,\"27\":49.98,\"28\":49.25,\"29\":47.32,\"30\":45.46,\"31\":59.98,\"32\":44.18,\"33\":51.86,\"34\":51.93,\"35\":52.01,\"36\":34.31,\"37\":47.39,\"38\":51.16,\"39\":41.42,\"40\":43.73,\"41\":38.21,\"42\":42.07,\"43\":42.47,\"44\":52.54,\"45\":44.29,\"46\":44.5,\"47\":39.62,\"48\":45.36,\"49\":44.0,\"50\":38.07,\"51\":43.52,\"52\":34.91,\"53\":38.73,\"54\":45.68,\"55\":37.3,\"56\":45.98,\"57\":42.66,\"58\":36.13,\"59\":45.36,\"60\":42.96,\"61\":34.06,\"62\":39.25,\"63\":47.37,\"64\":50.16,\"65\":43.59,\"66\":43.75,\"67\":48.08,\"68\":43.27,\"69\":56.57,\"70\":37.61,\"71\":38.31,\"72\":38.71,\"73\":49.3,\"74\":52.2,\"75\":75.64,\"76\":41.33,\"77\":50.32,\"78\":61.78,\"79\":40.34,\"80\":39.43,\"81\":44.41,\"82\":42.31,\"83\":47.81,\"84\":44.83,\"85\":40.05,\"86\":44.95,\"87\":44.51,\"88\":36.96,\"89\":36.57,\"90\":45.33,\"91\":54.8,\"92\":69.13,\"93\":45.91,\"94\":57.96,\"95\":51.51},\"P_OUV18\":{\"0\":26.66,\"1\":27.86,\"2\":24.15,\"3\":19.02,\"4\":17.57,\"5\":14.95,\"6\":22.77,\"7\":27.17,\"8\":18.35,\"9\":25.39,\"10\":19.82,\"11\":21.82,\"12\":16.49,\"13\":23.15,\"14\":21.91,\"15\":26.49,\"16\":21.06,\"17\":24.45,\"18\":23.26,\"19\":21.59,\"20\":25.32,\"21\":20.04,\"22\":23.49,\"23\":25.19,\"24\":23.31,\"25\":27.38,\"26\":25.25,\"27\":22.19,\"28\":18.74,\"29\":18.98,\"30\":18.53,\"31\":14.84,\"32\":20.51,\"33\":18.29,\"34\":15.49,\"35\":21.39,\"36\":26.96,\"37\":21.04,\"38\":19.37,\"39\":27.47,\"40\":23.89,\"41\":26.24,\"42\":23.89,\"43\":25.61,\"44\":20.3,\"45\":23.93,\"46\":21.47,\"47\":24.35,\"48\":19.11,\"49\":26.12,\"50\":26.36,\"51\":24.38,\"52\":28.22,\"53\":30.03,\"54\":19.71,\"55\":25.82,\"56\":24.73,\"57\":23.38,\"58\":24.02,\"59\":21.39,\"60\":25.24,\"61\":28.22,\"62\":26.8,\"63\":21.33,\"64\":19.16,\"65\":19.22,\"66\":18.88,\"67\":22.41,\"68\":24.82,\"69\":15.75,\"70\":28.39,\"71\":26.16,\"72\":27.3,\"73\":20.98,\"74\":21.67,\"75\":9.18,\"76\":23.67,\"77\":20.69,\"78\":14.02,\"79\":25.53,\"80\":26.21,\"81\":19.96,\"82\":20.88,\"83\":16.85,\"84\":20.52,\"85\":30.82,\"86\":21.12,\"87\":20.4,\"88\":27.13,\"89\":26.67,\"90\":19.51,\"91\":16.67,\"92\":7.71,\"93\":16.42,\"94\":14.91,\"95\":18.24},\"TX_CHOM18\":{\"0\":10.0,\"1\":17.4,\"2\":13.5,\"3\":14.1,\"4\":10.2,\"5\":13.0,\"6\":13.6,\"7\":16.5,\"8\":15.0,\"9\":16.0,\"10\":17.3,\"11\":9.3,\"12\":14.1,\"13\":12.4,\"14\":8.3,\"15\":13.4,\"16\":13.9,\"17\":13.5,\"18\":10.6,\"19\":11.2,\"20\":11.4,\"21\":12.2,\"22\":13.5,\"23\":11.9,\"24\":13.6,\"25\":13.0,\"26\":12.2,\"27\":12.0,\"28\":11.0,\"29\":12.4,\"30\":16.7,\"31\":12.3,\"32\":10.6,\"33\":12.6,\"34\":16.8,\"35\":10.4,\"36\":12.6,\"37\":12.4,\"38\":11.0,\"39\":10.1,\"40\":13.0,\"41\":11.7,\"42\":12.9,\"43\":10.2,\"44\":11.1,\"45\":12.7,\"46\":12.7,\"47\":13.9,\"48\":9.4,\"49\":11.8,\"50\":10.4,\"51\":13.1,\"52\":13.0,\"53\":8.9,\"54\":13.5,\"55\":13.2,\"56\":12.1,\"57\":13.1,\"58\":13.2,\"59\":17.1,\"60\":13.2,\"61\":12.7,\"62\":16.6,\"63\":11.9,\"64\":11.5,\"65\":13.3,\"66\":18.9,\"67\":11.6,\"68\":13.4,\"69\":12.1,\"70\":12.0,\"71\":11.9,\"72\":12.5,\"73\":9.0,\"74\":9.5,\"75\":11.3,\"76\":14.9,\"77\":11.2,\"78\":10.2,\"79\":10.7,\"80\":15.4,\"81\":13.4,\"82\":13.7,\"83\":14.1,\"84\":16.0,\"85\":10.4,\"86\":12.2,\"87\":12.4,\"88\":14.5,\"89\":13.4,\"90\":14.5,\"91\":10.9,\"92\":10.6,\"93\":17.7,\"94\":12.4,\"95\":12.8}}'\n",
    "df_td3=pd.read_json(jsondata)\n",
    "df_td3.head()"
   ]
  },
  {
   "cell_type": "markdown",
   "id": "5df66fe3-f0af-4b0b-8187-bdd641cb0f24",
   "metadata": {
    "id": "nRWsycQBMx38"
   },
   "source": [
    "<hr style=\"height: 2px; color:  #94bd13 ; background-color:  #94bd13; width: 100%; border: none;\">\n",
    "\n",
    "# 2. Analyse univarié des données avec Python\n",
    "\n",
    "<blockquote style=\"color:#bc4749\">\n",
    "    \n",
    "Réalisez l'analyse univariée des données quantitatives à votre disposition : \n",
    "- forme et caractéristiques des séries\n",
    "- valeurs centrales et dispersion des séries\n",
    "- interprétation des résultats\n",
    "\n",
    "Appuyez-vous sur les outils abordés dans le TD1. \n",
    "\n",
    "Organisez ce notebook afin de présenter vos résultats et interprétations. Les notebooks sont particulièrement adaptés pour présenter et discuter de résultats \n",
    "    \n",
    "</blockquote>\n"
   ]
  },
  {
   "cell_type": "markdown",
   "id": "7ae12376-129e-43b2-a74b-9a71c07513d3",
   "metadata": {
    "id": "nRWsycQBMx38"
   },
   "source": [
    "<hr style=\"height: 2px; color:  #94bd13 ; background-color:  #94bd13; width: 100%; border: none;\">\n",
    "\n",
    "# 3. Cartographie des résultats\n",
    "\n",
    "<blockquote style=\"color:#bc4749\">\n",
    "    \n",
    "Réalisez l'analyse univariée des données quantitatives à votre disposition : \n",
    "- forme et caractéristiques des séries\n",
    "- valeurs centrales et dispersion des séries\n",
    "- interprétation des résultats\n",
    "\n",
    "Appuyez-vous sur les outils abordés dans le TD1. \n",
    "\n",
    "Organisez ce notebook afin de présenter vos résultats et interprétations. Les notebooks sont particulièrement adaptés pour présenter et discuter de résultats \n",
    "    \n",
    "</blockquote>\n"
   ]
  },
  {
   "cell_type": "code",
   "execution_count": 52,
   "id": "cef63ef9-15b3-450c-8cdd-e1b6eb4422f1",
   "metadata": {},
   "outputs": [
    {
     "data": {
      "text/html": [
       "\n",
       "<div id=\"altair-viz-220d1551ec5f491fa7f7a4246e9d8a2e\"></div>\n",
       "<script type=\"text/javascript\">\n",
       "  var VEGA_DEBUG = (typeof VEGA_DEBUG == \"undefined\") ? {} : VEGA_DEBUG;\n",
       "  (function(spec, embedOpt){\n",
       "    let outputDiv = document.currentScript.previousElementSibling;\n",
       "    if (outputDiv.id !== \"altair-viz-220d1551ec5f491fa7f7a4246e9d8a2e\") {\n",
       "      outputDiv = document.getElementById(\"altair-viz-220d1551ec5f491fa7f7a4246e9d8a2e\");\n",
       "    }\n",
       "    const paths = {\n",
       "      \"vega\": \"https://cdn.jsdelivr.net/npm//vega@5?noext\",\n",
       "      \"vega-lib\": \"https://cdn.jsdelivr.net/npm//vega-lib?noext\",\n",
       "      \"vega-lite\": \"https://cdn.jsdelivr.net/npm//vega-lite@4.17.0?noext\",\n",
       "      \"vega-embed\": \"https://cdn.jsdelivr.net/npm//vega-embed@6?noext\",\n",
       "    };\n",
       "\n",
       "    function maybeLoadScript(lib, version) {\n",
       "      var key = `${lib.replace(\"-\", \"\")}_version`;\n",
       "      return (VEGA_DEBUG[key] == version) ?\n",
       "        Promise.resolve(paths[lib]) :\n",
       "        new Promise(function(resolve, reject) {\n",
       "          var s = document.createElement('script');\n",
       "          document.getElementsByTagName(\"head\")[0].appendChild(s);\n",
       "          s.async = true;\n",
       "          s.onload = () => {\n",
       "            VEGA_DEBUG[key] = version;\n",
       "            return resolve(paths[lib]);\n",
       "          };\n",
       "          s.onerror = () => reject(`Error loading script: ${paths[lib]}`);\n",
       "          s.src = paths[lib];\n",
       "        });\n",
       "    }\n",
       "\n",
       "    function showError(err) {\n",
       "      outputDiv.innerHTML = `<div class=\"error\" style=\"color:red;\">${err}</div>`;\n",
       "      throw err;\n",
       "    }\n",
       "\n",
       "    function displayChart(vegaEmbed) {\n",
       "      vegaEmbed(outputDiv, spec, embedOpt)\n",
       "        .catch(err => showError(`Javascript Error: ${err.message}<br>This usually means there's a typo in your chart specification. See the javascript console for the full traceback.`));\n",
       "    }\n",
       "\n",
       "    if(typeof define === \"function\" && define.amd) {\n",
       "      requirejs.config({paths});\n",
       "      require([\"vega-embed\"], displayChart, err => showError(`Error loading script: ${err.message}`));\n",
       "    } else {\n",
       "      maybeLoadScript(\"vega\", \"5\")\n",
       "        .then(() => maybeLoadScript(\"vega-lite\", \"4.17.0\"))\n",
       "        .then(() => maybeLoadScript(\"vega-embed\", \"6\"))\n",
       "        .catch(showError)\n",
       "        .then(() => displayChart(vegaEmbed));\n",
       "    }\n",
       "  })({\"config\": {\"view\": {\"continuousWidth\": 400, \"continuousHeight\": 300}}, \"data\": {\"url\": \"https://raw.githubusercontent.com/fbxyz/ENSG_L1_cartostat/main/td/data/DEP_GEN3_4326.geojson\", \"format\": {\"property\": \"features\", \"type\": \"json\"}}, \"mark\": \"geoshape\", \"encoding\": {\"color\": {\"field\": \"properties.name\", \"type\": \"nominal\"}}, \"projection\": {\"type\": \"mercator\"}, \"$schema\": \"https://vega.github.io/schema/vega-lite/v4.17.0.json\"}, {\"mode\": \"vega-lite\"});\n",
       "</script>"
      ],
      "text/plain": [
       "alt.Chart(...)"
      ]
     },
     "execution_count": 52,
     "metadata": {},
     "output_type": "execute_result"
    }
   ],
   "source": [
    "# remote geojson data object\n",
    "url_geojson = 'https://raw.githubusercontent.com/fbxyz/ENSG_L1_cartostat/main/td/data/DEP_GEN3_4326.geojson'\n",
    "data_geojson_remote = alt.Data(url=url_geojson, format=alt.DataFormat(property='features',type='json'))\n",
    "\n",
    "# chart object\n",
    "alt.Chart(data_geojson_remote).mark_geoshape(\n",
    ").encode(\n",
    "    color=\"properties.name:N\"\n",
    ").project(\n",
    "    type='mercator'\n",
    ")\n"
   ]
  },
  {
   "cell_type": "code",
   "execution_count": 2,
   "id": "98cec338-6edc-4742-a22f-de31ee0f0f56",
   "metadata": {},
   "outputs": [],
   "source": [
    "import pandas as pd\n",
    "import numpy as np\n",
    "\n",
    "from sklearn.decomposition import PCA\n",
    "from sklearn.preprocessing import StandardScaler\n",
    "\n",
    "import matplotlib.pyplot as plt\n",
    "from matplotlib.collections import LineCollection\n",
    "\n",
    "import seaborn as sns"
   ]
  },
  {
   "cell_type": "markdown",
   "id": "6f0e0c5d-94fc-42b6-95f5-e8897bc2323d",
   "metadata": {
    "tags": []
   },
   "source": [
    "Les données sont stockées dans un numpy array"
   ]
  },
  {
   "cell_type": "code",
   "execution_count": 98,
   "id": "9c705be4-fe0f-48f6-b05a-a31cef19e958",
   "metadata": {},
   "outputs": [],
   "source": [
    "X = df_td3[[\"MED_REV18\",\"P_BAC18\",\"P_OUV18\",\"TX_CHOM18\"]].values"
   ]
  },
  {
   "cell_type": "markdown",
   "id": "86be9bf9-e296-453c-b99b-77b0ace1b932",
   "metadata": {},
   "source": [
    "Ainsi que le nom des colonnes "
   ]
  },
  {
   "cell_type": "code",
   "execution_count": 99,
   "id": "59816ea4-67f9-4de6-afbf-9cfb278e3765",
   "metadata": {},
   "outputs": [
    {
     "data": {
      "text/plain": [
       "Index(['CODEGEO', 'CODEGEO_label', 'MED_REV18', 'P_BAC18', 'P_OUV18',\n",
       "       'TX_CHOM18'],\n",
       "      dtype='object')"
      ]
     },
     "execution_count": 99,
     "metadata": {},
     "output_type": "execute_result"
    }
   ],
   "source": [
    "features = df_td3.columns\n",
    "features"
   ]
  },
  {
   "cell_type": "code",
   "execution_count": 87,
   "id": "e0857a5f-6379-4c78-b84f-922edc0a6d56",
   "metadata": {},
   "outputs": [],
   "source": [
    "scaler = StandardScaler()"
   ]
  },
  {
   "cell_type": "code",
   "execution_count": 100,
   "id": "0797227a-e306-4a02-b853-a02e6b327367",
   "metadata": {},
   "outputs": [
    {
     "data": {
      "text/html": [
       "<style>#sk-container-id-1 {color: black;background-color: white;}#sk-container-id-1 pre{padding: 0;}#sk-container-id-1 div.sk-toggleable {background-color: white;}#sk-container-id-1 label.sk-toggleable__label {cursor: pointer;display: block;width: 100%;margin-bottom: 0;padding: 0.3em;box-sizing: border-box;text-align: center;}#sk-container-id-1 label.sk-toggleable__label-arrow:before {content: \"▸\";float: left;margin-right: 0.25em;color: #696969;}#sk-container-id-1 label.sk-toggleable__label-arrow:hover:before {color: black;}#sk-container-id-1 div.sk-estimator:hover label.sk-toggleable__label-arrow:before {color: black;}#sk-container-id-1 div.sk-toggleable__content {max-height: 0;max-width: 0;overflow: hidden;text-align: left;background-color: #f0f8ff;}#sk-container-id-1 div.sk-toggleable__content pre {margin: 0.2em;color: black;border-radius: 0.25em;background-color: #f0f8ff;}#sk-container-id-1 input.sk-toggleable__control:checked~div.sk-toggleable__content {max-height: 200px;max-width: 100%;overflow: auto;}#sk-container-id-1 input.sk-toggleable__control:checked~label.sk-toggleable__label-arrow:before {content: \"▾\";}#sk-container-id-1 div.sk-estimator input.sk-toggleable__control:checked~label.sk-toggleable__label {background-color: #d4ebff;}#sk-container-id-1 div.sk-label input.sk-toggleable__control:checked~label.sk-toggleable__label {background-color: #d4ebff;}#sk-container-id-1 input.sk-hidden--visually {border: 0;clip: rect(1px 1px 1px 1px);clip: rect(1px, 1px, 1px, 1px);height: 1px;margin: -1px;overflow: hidden;padding: 0;position: absolute;width: 1px;}#sk-container-id-1 div.sk-estimator {font-family: monospace;background-color: #f0f8ff;border: 1px dotted black;border-radius: 0.25em;box-sizing: border-box;margin-bottom: 0.5em;}#sk-container-id-1 div.sk-estimator:hover {background-color: #d4ebff;}#sk-container-id-1 div.sk-parallel-item::after {content: \"\";width: 100%;border-bottom: 1px solid gray;flex-grow: 1;}#sk-container-id-1 div.sk-label:hover label.sk-toggleable__label {background-color: #d4ebff;}#sk-container-id-1 div.sk-serial::before {content: \"\";position: absolute;border-left: 1px solid gray;box-sizing: border-box;top: 0;bottom: 0;left: 50%;z-index: 0;}#sk-container-id-1 div.sk-serial {display: flex;flex-direction: column;align-items: center;background-color: white;padding-right: 0.2em;padding-left: 0.2em;position: relative;}#sk-container-id-1 div.sk-item {position: relative;z-index: 1;}#sk-container-id-1 div.sk-parallel {display: flex;align-items: stretch;justify-content: center;background-color: white;position: relative;}#sk-container-id-1 div.sk-item::before, #sk-container-id-1 div.sk-parallel-item::before {content: \"\";position: absolute;border-left: 1px solid gray;box-sizing: border-box;top: 0;bottom: 0;left: 50%;z-index: -1;}#sk-container-id-1 div.sk-parallel-item {display: flex;flex-direction: column;z-index: 1;position: relative;background-color: white;}#sk-container-id-1 div.sk-parallel-item:first-child::after {align-self: flex-end;width: 50%;}#sk-container-id-1 div.sk-parallel-item:last-child::after {align-self: flex-start;width: 50%;}#sk-container-id-1 div.sk-parallel-item:only-child::after {width: 0;}#sk-container-id-1 div.sk-dashed-wrapped {border: 1px dashed gray;margin: 0 0.4em 0.5em 0.4em;box-sizing: border-box;padding-bottom: 0.4em;background-color: white;}#sk-container-id-1 div.sk-label label {font-family: monospace;font-weight: bold;display: inline-block;line-height: 1.2em;}#sk-container-id-1 div.sk-label-container {text-align: center;}#sk-container-id-1 div.sk-container {/* jupyter's `normalize.less` sets `[hidden] { display: none; }` but bootstrap.min.css set `[hidden] { display: none !important; }` so we also need the `!important` here to be able to override the default hidden behavior on the sphinx rendered scikit-learn.org. See: https://github.com/scikit-learn/scikit-learn/issues/21755 */display: inline-block !important;position: relative;}#sk-container-id-1 div.sk-text-repr-fallback {display: none;}</style><div id=\"sk-container-id-1\" class=\"sk-top-container\"><div class=\"sk-text-repr-fallback\"><pre>StandardScaler()</pre><b>In a Jupyter environment, please rerun this cell to show the HTML representation or trust the notebook. <br />On GitHub, the HTML representation is unable to render, please try loading this page with nbviewer.org.</b></div><div class=\"sk-container\" hidden><div class=\"sk-item\"><div class=\"sk-estimator sk-toggleable\"><input class=\"sk-toggleable__control sk-hidden--visually\" id=\"sk-estimator-id-1\" type=\"checkbox\" checked><label for=\"sk-estimator-id-1\" class=\"sk-toggleable__label sk-toggleable__label-arrow\">StandardScaler</label><div class=\"sk-toggleable__content\"><pre>StandardScaler()</pre></div></div></div></div></div>"
      ],
      "text/plain": [
       "StandardScaler()"
      ]
     },
     "execution_count": 100,
     "metadata": {},
     "output_type": "execute_result"
    }
   ],
   "source": [
    "scaler.fit(X)"
   ]
  },
  {
   "cell_type": "markdown",
   "id": "20a4d472-e1c2-4954-adb7-dd0d22056def",
   "metadata": {},
   "source": [
    "Les données doivent être centrée-réduites"
   ]
  },
  {
   "cell_type": "code",
   "execution_count": 106,
   "id": "0b90762e-802f-4d90-8c16-3ac5fbd7c380",
   "metadata": {},
   "outputs": [
    {
     "data": {
      "text/html": [
       "<div>\n",
       "<style scoped>\n",
       "    .dataframe tbody tr th:only-of-type {\n",
       "        vertical-align: middle;\n",
       "    }\n",
       "\n",
       "    .dataframe tbody tr th {\n",
       "        vertical-align: top;\n",
       "    }\n",
       "\n",
       "    .dataframe thead th {\n",
       "        text-align: right;\n",
       "    }\n",
       "</style>\n",
       "<table border=\"1\" class=\"dataframe\">\n",
       "  <thead>\n",
       "    <tr style=\"text-align: right;\">\n",
       "      <th></th>\n",
       "      <th>0</th>\n",
       "      <th>1</th>\n",
       "      <th>2</th>\n",
       "      <th>3</th>\n",
       "    </tr>\n",
       "  </thead>\n",
       "  <tbody>\n",
       "    <tr>\n",
       "      <th>count</th>\n",
       "      <td>96.00</td>\n",
       "      <td>96.00</td>\n",
       "      <td>96.00</td>\n",
       "      <td>96.00</td>\n",
       "    </tr>\n",
       "    <tr>\n",
       "      <th>mean</th>\n",
       "      <td>-0.00</td>\n",
       "      <td>-0.00</td>\n",
       "      <td>-0.00</td>\n",
       "      <td>-0.00</td>\n",
       "    </tr>\n",
       "    <tr>\n",
       "      <th>std</th>\n",
       "      <td>1.01</td>\n",
       "      <td>1.01</td>\n",
       "      <td>1.01</td>\n",
       "      <td>1.01</td>\n",
       "    </tr>\n",
       "    <tr>\n",
       "      <th>min</th>\n",
       "      <td>-2.20</td>\n",
       "      <td>-1.55</td>\n",
       "      <td>-3.37</td>\n",
       "      <td>-2.10</td>\n",
       "    </tr>\n",
       "    <tr>\n",
       "      <th>25%</th>\n",
       "      <td>-0.59</td>\n",
       "      <td>-0.71</td>\n",
       "      <td>-0.65</td>\n",
       "      <td>-0.69</td>\n",
       "    </tr>\n",
       "    <tr>\n",
       "      <th>50%</th>\n",
       "      <td>-0.23</td>\n",
       "      <td>-0.13</td>\n",
       "      <td>-0.02</td>\n",
       "      <td>-0.06</td>\n",
       "    </tr>\n",
       "    <tr>\n",
       "      <th>75%</th>\n",
       "      <td>0.31</td>\n",
       "      <td>0.39</td>\n",
       "      <td>0.77</td>\n",
       "      <td>0.38</td>\n",
       "    </tr>\n",
       "    <tr>\n",
       "      <th>max</th>\n",
       "      <td>4.13</td>\n",
       "      <td>4.43</td>\n",
       "      <td>2.03</td>\n",
       "      <td>2.93</td>\n",
       "    </tr>\n",
       "  </tbody>\n",
       "</table>\n",
       "</div>"
      ],
      "text/plain": [
       "           0      1      2      3\n",
       "count  96.00  96.00  96.00  96.00\n",
       "mean   -0.00  -0.00  -0.00  -0.00\n",
       "std     1.01   1.01   1.01   1.01\n",
       "min    -2.20  -1.55  -3.37  -2.10\n",
       "25%    -0.59  -0.71  -0.65  -0.69\n",
       "50%    -0.23  -0.13  -0.02  -0.06\n",
       "75%     0.31   0.39   0.77   0.38\n",
       "max     4.13   4.43   2.03   2.93"
      ]
     },
     "execution_count": 106,
     "metadata": {},
     "output_type": "execute_result"
    }
   ],
   "source": [
    "X_cr = scaler.transform(X)\n",
    "idx = [\"moyenne\", \"écart-type\"]\n",
    "\n",
    "pd.DataFrame(X_cr).describe().round(2)"
   ]
  },
  {
   "cell_type": "markdown",
   "id": "b02fdc22-80ed-4ff4-aea2-b5d5dc8bfe0d",
   "metadata": {},
   "source": [
    "On fait l'ACP avec les 4 composantes"
   ]
  },
  {
   "cell_type": "code",
   "execution_count": 108,
   "id": "9b52edbe-c261-4fbf-9aaa-d1c6b13773db",
   "metadata": {},
   "outputs": [],
   "source": [
    "n_composantes = 4\n",
    "acp = PCA(n_components=n_composantes)"
   ]
  },
  {
   "cell_type": "code",
   "execution_count": 109,
   "id": "a738b16c-d6cd-49b8-838d-90bcba296ac7",
   "metadata": {},
   "outputs": [
    {
     "data": {
      "text/html": [
       "<style>#sk-container-id-2 {color: black;background-color: white;}#sk-container-id-2 pre{padding: 0;}#sk-container-id-2 div.sk-toggleable {background-color: white;}#sk-container-id-2 label.sk-toggleable__label {cursor: pointer;display: block;width: 100%;margin-bottom: 0;padding: 0.3em;box-sizing: border-box;text-align: center;}#sk-container-id-2 label.sk-toggleable__label-arrow:before {content: \"▸\";float: left;margin-right: 0.25em;color: #696969;}#sk-container-id-2 label.sk-toggleable__label-arrow:hover:before {color: black;}#sk-container-id-2 div.sk-estimator:hover label.sk-toggleable__label-arrow:before {color: black;}#sk-container-id-2 div.sk-toggleable__content {max-height: 0;max-width: 0;overflow: hidden;text-align: left;background-color: #f0f8ff;}#sk-container-id-2 div.sk-toggleable__content pre {margin: 0.2em;color: black;border-radius: 0.25em;background-color: #f0f8ff;}#sk-container-id-2 input.sk-toggleable__control:checked~div.sk-toggleable__content {max-height: 200px;max-width: 100%;overflow: auto;}#sk-container-id-2 input.sk-toggleable__control:checked~label.sk-toggleable__label-arrow:before {content: \"▾\";}#sk-container-id-2 div.sk-estimator input.sk-toggleable__control:checked~label.sk-toggleable__label {background-color: #d4ebff;}#sk-container-id-2 div.sk-label input.sk-toggleable__control:checked~label.sk-toggleable__label {background-color: #d4ebff;}#sk-container-id-2 input.sk-hidden--visually {border: 0;clip: rect(1px 1px 1px 1px);clip: rect(1px, 1px, 1px, 1px);height: 1px;margin: -1px;overflow: hidden;padding: 0;position: absolute;width: 1px;}#sk-container-id-2 div.sk-estimator {font-family: monospace;background-color: #f0f8ff;border: 1px dotted black;border-radius: 0.25em;box-sizing: border-box;margin-bottom: 0.5em;}#sk-container-id-2 div.sk-estimator:hover {background-color: #d4ebff;}#sk-container-id-2 div.sk-parallel-item::after {content: \"\";width: 100%;border-bottom: 1px solid gray;flex-grow: 1;}#sk-container-id-2 div.sk-label:hover label.sk-toggleable__label {background-color: #d4ebff;}#sk-container-id-2 div.sk-serial::before {content: \"\";position: absolute;border-left: 1px solid gray;box-sizing: border-box;top: 0;bottom: 0;left: 50%;z-index: 0;}#sk-container-id-2 div.sk-serial {display: flex;flex-direction: column;align-items: center;background-color: white;padding-right: 0.2em;padding-left: 0.2em;position: relative;}#sk-container-id-2 div.sk-item {position: relative;z-index: 1;}#sk-container-id-2 div.sk-parallel {display: flex;align-items: stretch;justify-content: center;background-color: white;position: relative;}#sk-container-id-2 div.sk-item::before, #sk-container-id-2 div.sk-parallel-item::before {content: \"\";position: absolute;border-left: 1px solid gray;box-sizing: border-box;top: 0;bottom: 0;left: 50%;z-index: -1;}#sk-container-id-2 div.sk-parallel-item {display: flex;flex-direction: column;z-index: 1;position: relative;background-color: white;}#sk-container-id-2 div.sk-parallel-item:first-child::after {align-self: flex-end;width: 50%;}#sk-container-id-2 div.sk-parallel-item:last-child::after {align-self: flex-start;width: 50%;}#sk-container-id-2 div.sk-parallel-item:only-child::after {width: 0;}#sk-container-id-2 div.sk-dashed-wrapped {border: 1px dashed gray;margin: 0 0.4em 0.5em 0.4em;box-sizing: border-box;padding-bottom: 0.4em;background-color: white;}#sk-container-id-2 div.sk-label label {font-family: monospace;font-weight: bold;display: inline-block;line-height: 1.2em;}#sk-container-id-2 div.sk-label-container {text-align: center;}#sk-container-id-2 div.sk-container {/* jupyter's `normalize.less` sets `[hidden] { display: none; }` but bootstrap.min.css set `[hidden] { display: none !important; }` so we also need the `!important` here to be able to override the default hidden behavior on the sphinx rendered scikit-learn.org. See: https://github.com/scikit-learn/scikit-learn/issues/21755 */display: inline-block !important;position: relative;}#sk-container-id-2 div.sk-text-repr-fallback {display: none;}</style><div id=\"sk-container-id-2\" class=\"sk-top-container\"><div class=\"sk-text-repr-fallback\"><pre>PCA(n_components=4)</pre><b>In a Jupyter environment, please rerun this cell to show the HTML representation or trust the notebook. <br />On GitHub, the HTML representation is unable to render, please try loading this page with nbviewer.org.</b></div><div class=\"sk-container\" hidden><div class=\"sk-item\"><div class=\"sk-estimator sk-toggleable\"><input class=\"sk-toggleable__control sk-hidden--visually\" id=\"sk-estimator-id-2\" type=\"checkbox\" checked><label for=\"sk-estimator-id-2\" class=\"sk-toggleable__label sk-toggleable__label-arrow\">PCA</label><div class=\"sk-toggleable__content\"><pre>PCA(n_components=4)</pre></div></div></div></div></div>"
      ],
      "text/plain": [
       "PCA(n_components=4)"
      ]
     },
     "execution_count": 109,
     "metadata": {},
     "output_type": "execute_result"
    }
   ],
   "source": [
    "acp.fit(X_cr)"
   ]
  },
  {
   "cell_type": "markdown",
   "id": "e2351b1b-c8be-4870-b3a6-f943f88a8cc1",
   "metadata": {},
   "source": [
    "La variance portée par chaque composante"
   ]
  },
  {
   "cell_type": "code",
   "execution_count": 117,
   "id": "790ed131-9d20-4af6-96ce-73cfdb153c4f",
   "metadata": {},
   "outputs": [
    {
     "data": {
      "text/plain": [
       "array([ 63.,  91.,  98., 100.])"
      ]
     },
     "execution_count": 117,
     "metadata": {},
     "output_type": "execute_result"
    }
   ],
   "source": [
    "var = (acp.explained_variance_ratio_*100).round(2)\n",
    "var_cum = var.cumsum().round()"
   ]
  },
  {
   "cell_type": "code",
   "execution_count": 132,
   "id": "7c66e714-7072-430b-91c3-19e9753a232c",
   "metadata": {},
   "outputs": [
    {
     "data": {
      "text/plain": [
       "[1, 2, 3, 4]"
      ]
     },
     "execution_count": 132,
     "metadata": {},
     "output_type": "execute_result"
    }
   ],
   "source": [
    "x_list"
   ]
  },
  {
   "cell_type": "code",
   "execution_count": 130,
   "id": "326dd749-773a-4faa-8aea-647c3b753223",
   "metadata": {},
   "outputs": [
    {
     "data": {
      "image/png": "[encoded data removed]",
      "text/plain": [
       "<Figure size 432x288 with 1 Axes>"
      ]
     },
     "metadata": {
      "needs_background": "light"
     },
     "output_type": "display_data"
    }
   ],
   "source": [
    "x_list = list(range(1, n_composantes+1))\n",
    "plt.bar(x_list, var)\n",
    "plt.plot(x_list, var_cum,c=\"red\",marker='o')\n",
    "plt.xlabel(\"Composante\")\n",
    "plt.ylabel(\"% de variance\")\n",
    "plt.title(\"Variance et variance cummulée par les composantes\")\n",
    "plt.show(block=False)"
   ]
  },
  {
   "cell_type": "markdown",
   "id": "3cba8ebf-cfd2-42ef-8912-c9167aae83e9",
   "metadata": {},
   "source": [
    "Corrélation des variables sur les facteurs"
   ]
  },
  {
   "cell_type": "code",
   "execution_count": 135,
   "id": "7a2f4466-1146-45b8-89cc-b64fbd008759",
   "metadata": {},
   "outputs": [
    {
     "data": {
      "text/html": [
       "<div>\n",
       "<style scoped>\n",
       "    .dataframe tbody tr th:only-of-type {\n",
       "        vertical-align: middle;\n",
       "    }\n",
       "\n",
       "    .dataframe tbody tr th {\n",
       "        vertical-align: top;\n",
       "    }\n",
       "\n",
       "    .dataframe thead th {\n",
       "        text-align: right;\n",
       "    }\n",
       "</style>\n",
       "<table border=\"1\" class=\"dataframe\">\n",
       "  <thead>\n",
       "    <tr style=\"text-align: right;\">\n",
       "      <th></th>\n",
       "      <th>1</th>\n",
       "      <th>2</th>\n",
       "      <th>3</th>\n",
       "      <th>4</th>\n",
       "    </tr>\n",
       "  </thead>\n",
       "  <tbody>\n",
       "    <tr>\n",
       "      <th>MED_REV18</th>\n",
       "      <td>0.55</td>\n",
       "      <td>-0.26</td>\n",
       "      <td>-0.69</td>\n",
       "      <td>0.39</td>\n",
       "    </tr>\n",
       "    <tr>\n",
       "      <th>P_BAC18</th>\n",
       "      <td>0.61</td>\n",
       "      <td>0.20</td>\n",
       "      <td>-0.03</td>\n",
       "      <td>-0.77</td>\n",
       "    </tr>\n",
       "    <tr>\n",
       "      <th>P_OUV18</th>\n",
       "      <td>-0.50</td>\n",
       "      <td>-0.50</td>\n",
       "      <td>-0.50</td>\n",
       "      <td>-0.50</td>\n",
       "    </tr>\n",
       "    <tr>\n",
       "      <th>TX_CHOM18</th>\n",
       "      <td>-0.28</td>\n",
       "      <td>0.80</td>\n",
       "      <td>-0.53</td>\n",
       "      <td>0.00</td>\n",
       "    </tr>\n",
       "  </tbody>\n",
       "</table>\n",
       "</div>"
      ],
      "text/plain": [
       "              1     2     3     4\n",
       "MED_REV18  0.55 -0.26 -0.69  0.39\n",
       "P_BAC18    0.61  0.20 -0.03 -0.77\n",
       "P_OUV18   -0.50 -0.50 -0.50 -0.50\n",
       "TX_CHOM18 -0.28  0.80 -0.53  0.00"
      ]
     },
     "execution_count": 135,
     "metadata": {},
     "output_type": "execute_result"
    }
   ],
   "source": [
    "pcs = pd.DataFrame(acp.components_,columns=features[2:]).round(2).T\n",
    "pcs.columns = x_list\n",
    "pcs"
   ]
  },
  {
   "cell_type": "markdown",
   "id": "ade888e8-81c0-4438-804c-cdb6e3471964",
   "metadata": {},
   "source": [
    "Projection sur les individus"
   ]
  },
  {
   "cell_type": "code",
   "execution_count": 138,
   "id": "67637207-da3d-4f1b-b062-24ef387d34f0",
   "metadata": {},
   "outputs": [
    {
     "data": {
      "text/html": [
       "<div>\n",
       "<style scoped>\n",
       "    .dataframe tbody tr th:only-of-type {\n",
       "        vertical-align: middle;\n",
       "    }\n",
       "\n",
       "    .dataframe tbody tr th {\n",
       "        vertical-align: top;\n",
       "    }\n",
       "\n",
       "    .dataframe thead th {\n",
       "        text-align: right;\n",
       "    }\n",
       "</style>\n",
       "<table border=\"1\" class=\"dataframe\">\n",
       "  <thead>\n",
       "    <tr style=\"text-align: right;\">\n",
       "      <th></th>\n",
       "      <th>0</th>\n",
       "      <th>1</th>\n",
       "      <th>2</th>\n",
       "      <th>3</th>\n",
       "    </tr>\n",
       "  </thead>\n",
       "  <tbody>\n",
       "    <tr>\n",
       "      <th>0</th>\n",
       "      <td>0.696654</td>\n",
       "      <td>-1.825464</td>\n",
       "      <td>-0.682397</td>\n",
       "      <td>-0.300548</td>\n",
       "    </tr>\n",
       "    <tr>\n",
       "      <th>1</th>\n",
       "      <td>-2.694749</td>\n",
       "      <td>1.095026</td>\n",
       "      <td>-1.097865</td>\n",
       "      <td>-0.000597</td>\n",
       "    </tr>\n",
       "    <tr>\n",
       "      <th>2</th>\n",
       "      <td>-1.289540</td>\n",
       "      <td>0.022202</td>\n",
       "      <td>0.027713</td>\n",
       "      <td>0.290720</td>\n",
       "    </tr>\n",
       "    <tr>\n",
       "      <th>3</th>\n",
       "      <td>-0.024946</td>\n",
       "      <td>1.036056</td>\n",
       "      <td>0.346888</td>\n",
       "      <td>0.090113</td>\n",
       "    </tr>\n",
       "    <tr>\n",
       "      <th>4</th>\n",
       "      <td>1.139446</td>\n",
       "      <td>-0.196119</td>\n",
       "      <td>1.355431</td>\n",
       "      <td>-0.156166</td>\n",
       "    </tr>\n",
       "    <tr>\n",
       "      <th>...</th>\n",
       "      <td>...</td>\n",
       "      <td>...</td>\n",
       "      <td>...</td>\n",
       "      <td>...</td>\n",
       "    </tr>\n",
       "    <tr>\n",
       "      <th>91</th>\n",
       "      <td>2.585507</td>\n",
       "      <td>-0.170099</td>\n",
       "      <td>0.009289</td>\n",
       "      <td>0.130006</td>\n",
       "    </tr>\n",
       "    <tr>\n",
       "      <th>92</th>\n",
       "      <td>6.287105</td>\n",
       "      <td>0.520265</td>\n",
       "      <td>-0.636522</td>\n",
       "      <td>0.567464</td>\n",
       "    </tr>\n",
       "    <tr>\n",
       "      <th>93</th>\n",
       "      <td>-1.116214</td>\n",
       "      <td>3.165399</td>\n",
       "      <td>0.909940</td>\n",
       "      <td>-0.303969</td>\n",
       "    </tr>\n",
       "    <tr>\n",
       "      <th>94</th>\n",
       "      <td>2.521540</td>\n",
       "      <td>0.859764</td>\n",
       "      <td>0.249981</td>\n",
       "      <td>-0.256761</td>\n",
       "    </tr>\n",
       "    <tr>\n",
       "      <th>95</th>\n",
       "      <td>1.215566</td>\n",
       "      <td>0.581858</td>\n",
       "      <td>0.166264</td>\n",
       "      <td>-0.147039</td>\n",
       "    </tr>\n",
       "  </tbody>\n",
       "</table>\n",
       "<p>96 rows × 4 columns</p>\n",
       "</div>"
      ],
      "text/plain": [
       "           0         1         2         3\n",
       "0   0.696654 -1.825464 -0.682397 -0.300548\n",
       "1  -2.694749  1.095026 -1.097865 -0.000597\n",
       "2  -1.289540  0.022202  0.027713  0.290720\n",
       "3  -0.024946  1.036056  0.346888  0.090113\n",
       "4   1.139446 -0.196119  1.355431 -0.156166\n",
       "..       ...       ...       ...       ...\n",
       "91  2.585507 -0.170099  0.009289  0.130006\n",
       "92  6.287105  0.520265 -0.636522  0.567464\n",
       "93 -1.116214  3.165399  0.909940 -0.303969\n",
       "94  2.521540  0.859764  0.249981 -0.256761\n",
       "95  1.215566  0.581858  0.166264 -0.147039\n",
       "\n",
       "[96 rows x 4 columns]"
      ]
     },
     "execution_count": 138,
     "metadata": {},
     "output_type": "execute_result"
    }
   ],
   "source": [
    "X_proj = acp.transform(X_cr)\n",
    "pd.DataFrame(X_proj)"
   ]
  },
  {
   "cell_type": "code",
   "execution_count": null,
   "id": "a1f18d81-ae95-4d86-a45b-770ae26dc9b2",
   "metadata": {},
   "outputs": [],
   "source": []
  }
 ],
 "metadata": {
  "kernelspec": {
   "display_name": "Python 3 (ipykernel)",
   "language": "python",
   "name": "python3"
  },
  "language_info": {
   "codemirror_mode": {
    "name": "ipython",
    "version": 3
   },
   "file_extension": ".py",
   "mimetype": "text/x-python",
   "name": "python",
   "nbconvert_exporter": "python",
   "pygments_lexer": "ipython3",
   "version": "3.11.0"
  }
 },
 "nbformat": 4,
 "nbformat_minor": 5
}
