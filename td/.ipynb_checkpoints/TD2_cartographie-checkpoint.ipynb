{
 "cells": [
  {
   "cell_type": "markdown",
   "id": "d59908c4-0826-4489-b60f-2d1b893833eb",
   "metadata": {
    "id": "CLqyCoAiRKLy"
   },
   "source": [
    "<img src=\"https://upload.wikimedia.org/wikipedia/fr/thumb/9/9e/Logo_ENSG_G%C3%A9omatique_2012.svg/220px-Logo_ENSG_G%C3%A9omatique_2012.svg.png\" style=\"margin-left:auto; margin-right:auto\"/>\n"
   ]
  },
  {
   "cell_type": "markdown",
   "id": "ae6dd4e2-5e22-4640-930d-8132171e8f38",
   "metadata": {
    "id": "wkgAs0oTI9gU",
    "tags": []
   },
   "source": [
    "<center> \n",
    "    <h1>ENSG : statistiques appliquées en cartographie</h1> \n",
    "    <h2>Cartographie des résultats du TD 1</h2> \n",
    "    <h3>Florian Bayer, janvier 2022</h3> \n",
    "</center> \n",
    "\n",
    "<hr style=\"height: 2px; color:  #94bd13 ; background-color:  #94bd13; width: 100%; border: none;\">\n",
    "\n",
    "* L'objectif de ce TD est de réaliser les cartes du TD 1 précédent\n",
    "  \n",
    "* Vous utiliserez qgis pour réaliser les cartes\n",
    "\n",
    "* Ce notebook ne servira qu'à illustrer les étapes, aucun code Python ne sera utilisé\n",
    "\n",
    "* Attention, quelques indications sont présentes pour vous aider à réaliser la mise en page des cartes, mais il est considéré que ces outils sont maitrisés\n"
   ]
  },
  {
   "cell_type": "markdown",
   "id": "181e77d5-e62b-4f87-90a7-739ec5c304cc",
   "metadata": {},
   "source": [
    "<hr style=\"height: 2px; color:  #94bd13 ; background-color:  #94bd13; width: 100%; border: none;\">\n",
    "\n",
    "# 1.Import des données\n",
    "\n",
    "Créez un dossier qui contiendra votre projet. Les documents téléchargés devront s'y trouver\n",
    "\n",
    "Si vous êtes encore dans Jupyter Lab, allez dans le dossier ./data/ et cliquez droit &#8594; Download le fichier TD_France.csv ainsi que DEP_GEN3_3857.geojson \n",
    "\n",
    "Sinon, cliquez sur ces deux liens et clic-droit dans le navigateur &#8594; enregistrer-sous \n",
    "\n",
    "- [DEP_GEN3_3857.geojson](https://raw.githubusercontent.com/fbxyz/ENSG_L1_cartostat/main/td/data/DEP_GEN3_3857.geojson)\n",
    "- [TD_France.csv](https://raw.githubusercontent.com/fbxyz/ENSG_L1_cartostat/main/td/data/TD_France.csv)\n",
    "\n",
    "N.B. DEP_GEN3_3857.geojson est projeté en Spherical Mercator, EPSG 3857"
   ]
  },
  {
   "cell_type": "markdown",
   "id": "24c15ece-ded9-481e-8412-1e9915412674",
   "metadata": {},
   "source": [
    "<hr style=\"height: 2px; color:  #94bd13 ; background-color:  #94bd13; width: 100%; border: none;\">\n",
    "\n",
    "# 2.Chargement des données dans Qgis\n",
    "\n",
    "## 2.1 Fond de carte\n",
    "Dans Qgis, faites glisser le fichier DEP_GEN3_3857.geojson dans la vue principale. La carte devrait apparaitre\n",
    "\n",
    "Pour vérifier si la carte est bien projetée, vous pouvez ajouter temporairement un fond OSM à votre carte\n",
    "\n",
    "\n",
    "<img src=\"https://i.imgur.com/QN7t0IX.png\" style=\"margin-left:auto; margin-right:auto\"/>\n",
    "\n",
    "<hr style=\"height: 1px; color:  #a7aeae ; background-color:  #a7aeae; width: 25%; border: none;\">\n",
    "\n",
    "## 2.2 Données attributaires\n",
    "Il n'est pas conseillé de faire glisser le fichier CSV dans Qgis. Les délimiteurs (;) et décimales (,) n'étant pas stantards, la table sera mal chargée\n",
    "\n",
    "Allez dans Couche &#8594; Ajouter une couche &#8594; Ajouter une couche de texte délimité\n",
    "\n",
    "<img src=\"https://i.imgur.com/ehJfXRy.png\" style=\"margin-left:auto; margin-right:auto\"/>\n",
    "\n",
    "\n",
    "Puis renseignez la fenêtre avec les paramètres suivants :\n",
    "\n",
    "- délimiteurs personnalisés Points-virgule (pensez à décocher les autres)\n",
    "- virgule en séparateur décimal\n",
    "- pas de géométrie\n",
    "\n",
    "Et ajoutez la couche \n",
    "\n",
    "<img src=\"https://i.imgur.com/YXIvGNs.png\" style=\"margin-left:auto; margin-right:auto\"/>\n",
    "\n"
   ]
  },
  {
   "cell_type": "markdown",
   "id": "87622dde-bc5d-4e6a-a82e-a179070967d4",
   "metadata": {},
   "source": [
    "<hr style=\"height: 2px; color:  #94bd13 ; background-color:  #94bd13; width: 100%; border: none;\">\n",
    "\n",
    "# 3.Jointure\n",
    "\n",
    "Dans les propriétés de la couche DEP_GEN3_3857 (propriété &#8594; jointure), réalisez la jointure avec le fichier CSV.\n",
    "\n",
    "<img src=\"https://i.imgur.com/AYb8JLT.png\" style=\"margin-left:auto; margin-right:auto\"/>\n"
   ]
  },
  {
   "cell_type": "markdown",
   "id": "6e957dc5-9283-4b75-b2ef-c9a3c9d1b1cd",
   "metadata": {},
   "source": [
    "<hr style=\"height: 2px; color:  #94bd13 ; background-color:  #94bd13; width: 100%; border: none;\">\n",
    "\n",
    "# 4.Préparation des cartes\n",
    "\n",
    "## 4.1 Vérifier la projection \n",
    "La projection de la couche DEP_GEN3_3857 n'est probablement pas la plus adaptée à une carte de France. \n",
    "\n",
    "Reprojetez la couche de manière adéquat\n",
    "\n",
    "<hr style=\"height: 1px; color:  #a7aeae ; background-color:  #a7aeae; width: 25%; border: none;\">\n",
    "\n",
    "## 4.2 Dupliquez et renommez les couches\n",
    "Deux cartes sont à produire pour 2014 et 2019. Nous allons faire en sorte qu'elles soient sur la même mise en page Qgis.\n",
    "\n",
    "Pour cela, il est préférable d'avoir deux couches : une 2014 et une 2019. Dupliquez et renommez les couches\n",
    "\n",
    "Il est aussi temps de sauvegarder votre projet...\n",
    "\n",
    "<hr style=\"height: 1px; color:  #a7aeae ; background-color:  #a7aeae; width: 25%; border: none;\">\n",
    "\n",
    "## 4.3 Discrétisez vos cartes\n",
    "Il est temps d'appliquer la discrétisation choisi dans le TD précédent.\n",
    "\n",
    "Dans la symbologie de la couche, appliquez vos discrétisations et montées en valeur"
   ]
  },
  {
   "cell_type": "markdown",
   "id": "782d55ae-9594-4e8c-8f0f-d0e4ce6b2468",
   "metadata": {},
   "source": [
    "<hr style=\"height: 2px; color:  #94bd13 ; background-color:  #94bd13; width: 100%; border: none;\">\n",
    "\n",
    "# 5.Mise en page\n",
    "\n",
    "Créez maintenant une nouvelle mise en page : Projet &#8594; Mise en page\n",
    "\n",
    "<hr style=\"height: 1px; color:  #a7aeae ; background-color:  #a7aeae; width: 25%; border: none;\">\n",
    "\n",
    "## 5.1 Ajoutez une première carte à votre mise en page\n",
    "Ajoutez un premier bloc de carte pour 2014 et dessinez le bloc sur la mise en page : \n",
    "\n",
    "<img src=\"https://i.imgur.com/pu4dN49.png\" style=\"margin-left:auto; margin-right:auto\"/>\n",
    "\n",
    "N'oubliez pas d'ajuster la taille en fonction du contexte de la carte. Utilisez les outils **Sélectionner/déplacer un objet** et **Déplacer le contenu d'un objet** \n",
    "\n",
    "<img src=\"https://i.imgur.com/y7tz1f4.png\" style=\"margin-left:auto; margin-right:auto\"/>\n",
    "\n",
    "## 5.2 Ajoutez la seconde carte 2019\n",
    "Une fois la première carte 2014 placée sur votre mise en page :\n",
    "- copiez/collez la \n",
    "- ajustez son emplacement à côté de la carte 2014\n",
    "\n",
    "Pensez à bien organiser votre travail en renommant les différents blocs (ICF_2014 et ICF 2019)\n",
    "\n",
    "<img src=\"https://i.imgur.com/kJsoUHw.png\" style=\"margin-left:auto; margin-right:auto\"/>\n",
    "\n"
   ]
  },
  {
   "cell_type": "code",
   "execution_count": null,
   "id": "601b81b0-dfbb-4684-973f-53bff5420aa3",
   "metadata": {},
   "outputs": [],
   "source": []
  }
 ],
 "metadata": {
  "kernelspec": {
   "display_name": "Python 3 (ipykernel)",
   "language": "python",
   "name": "python3"
  },
  "language_info": {
   "codemirror_mode": {
    "name": "ipython",
    "version": 3
   },
   "file_extension": ".py",
   "mimetype": "text/x-python",
   "name": "python",
   "nbconvert_exporter": "python",
   "pygments_lexer": "ipython3",
   "version": "3.10.1"
  }
 },
 "nbformat": 4,
 "nbformat_minor": 5
}
