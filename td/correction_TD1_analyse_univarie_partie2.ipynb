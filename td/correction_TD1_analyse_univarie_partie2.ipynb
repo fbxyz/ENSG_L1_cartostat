{
 "cells": [
  {
   "cell_type": "markdown",
   "metadata": {
    "id": "CLqyCoAiRKLy"
   },
   "source": [
    "<img src=\"https://upload.wikimedia.org/wikipedia/commons/3/39/Logo-ENSG-couleur-2023.svg\" style=\"margin-left:auto; margin-right:auto; width:200px; height:auto;\"/>\n"
   ]
  },
  {
   "cell_type": "markdown",
   "metadata": {
    "id": "wkgAs0oTI9gU",
    "tags": []
   },
   "source": [
    "<center> \n",
    "    <h1>ENSG : statistiques appliquées en cartographie</h1> \n",
    "    <h2>Réaliser une analyse univariée à l'aide de Python</h2> \n",
    "    <h3>Florian Bayer, Sami Guembour, Janvier 2025</h3>\n",
    "</center> \n",
    "\n",
    "<hr style=\"height: 2px; color:  #94bd13 ; background-color:  #94bd13; width: 100%; border: none;\">\n",
    "\n",
    "*   L'objectif de la seconde partie de ce TD est d'appliquer les connaissances acquises dans la première partie\n",
    "  \n",
    "*   Vous utiliserez de nouveau jupyter lab pour réaliser votre petite analyse\n",
    "\n",
    "*   En cas de difficultés, ne restez pas bloqué et contactez l'enseignant\n",
    "\n",
    "Attention, les notebooks que vous lancez à partir de la page Git du cours sont **temporaires**. Vous pouvez néanmoins les sauvegarder et les uploader. La manipulation sera montrée en cours\n",
    "\n",
    "Si vous le souhaitez, vous pouvez cloner ce Git et installer un environnement Conda sur votre ordinateur en suivant cette [procédure](https://github.com/fbxyz/ENSG_L1_cartostat/tree/main/td#comment-cloner-le-repo-git-du-cours-cr%C3%A9er-un-environnement-conda-installer-les-packages-et-lancer-jupyter-lab). \n",
    "\n",
    "Une dernière solution, si vous disposez d'un compte google, est d'utiliser [Collaboratory](https://colab.research.google.com), mais il faudra importer les données csv."
   ]
  },
  {
   "cell_type": "markdown",
   "metadata": {
    "id": "wkgAs0oTI9gU",
    "tags": []
   },
   "source": [
    "<hr style=\"height: 2px; color:  #94bd13 ; background-color:  #94bd13; width: 100%; border: none;\">\n",
    "\n",
    "# Consignes\n",
    "\n",
    "La Fédération Française d'Etude de la Reproduction va organiser un congrès, dont le thème sera : état de l'offre de soins et infertilité en France. Il réunira des professionnels spécialisés dans l’assistance médicale à la procréation.\n",
    "\n",
    "L'introduction de la session plénière aura comme support deux cartes projetées sur grand écran : \n",
    "\n",
    "- Evolution de la fécondité des départements français entre 2014 et 2019. \n",
    "- Les deux cartes serviront de base à la discussion d’un sujet de la session :  Vers de nouvelles dynamiques de la fécondité en France ?\n"
   ]
  },
  {
   "cell_type": "markdown",
   "metadata": {},
   "source": [
    "Comme l’âge des femmes est un facteur d’infertilité et que la répartition de l’âge des femmes n’est pas identique sur les différents territoires étudiés, on vous demande d’utiliser l’indicateur conjoncturel de fécondité. \n",
    "\n",
    "Il correspond au nombre d'enfants qu'aurait une femme tout au long de sa vie, si les taux de fécondité observés l'année considérée à chaque âge demeuraient inchangés. Autrement dit, l’indicateur « gomme » l’effet de l’âge sur la fécondité sur la période et les territoires étudiés.\n",
    "\n",
    "Les cartes seront produites par un prestataire, mais en tant qu’apprenti, on vous demande de lui rédiger par écrit différentes tâches : \n",
    "- La discrétisation des 2 cartes (en précisant les bornes \"[  ]\")\n",
    "- La méthode de représentation à utiliser (quelle variable visuelle)\n",
    "- La justification de l’ensemble de vos choix (types de variables, caractéristiques statistiques, choix de représentation, choix des méthodes de discrétisation etc.)\n",
    "\n",
    "Vous devez choisir la ou les méthodes les plus adaptées selon vous et le nombre de classes, en justifiant vos choix. Référez-vous au cours sur les données, la discrétisation, la sémiologie graphique et le TD précédent sur l'univariée.\n",
    "\n",
    "Les données sont fournies dans le dossier ./data/ et proviennent de l’Insee.\n",
    "\n",
    "Attention, il n’est pas encore demandé de réaliser la carte \n"
   ]
  },
  {
   "cell_type": "markdown",
   "metadata": {
    "id": "nRWsycQBMx38"
   },
   "source": [
    "<hr style=\"height: 2px; color:  #94bd13 ; background-color:  #94bd13; width: 100%; border: none;\">\n",
    "\n",
    "# 1. Importation des packages et des données\n"
   ]
  },
  {
   "cell_type": "markdown",
   "metadata": {},
   "source": [
    "Pour vous aider, les premières étapes de l'analyse sont guidées"
   ]
  },
  {
   "cell_type": "code",
   "execution_count": 44,
   "metadata": {
    "id": "fHvZEA5jIkch"
   },
   "outputs": [],
   "source": [
    "import pandas as pd # Pour importer les données dans un Dataframe\n",
    "import seaborn as sns # Pour faire les graphiques\n",
    "from scipy import stats # Un peu de stat\n",
    "import statsmodels.api as sm # Et pourquoi pas un Q-Q plot...\n",
    "import matplotlib.pyplot as plt\n",
    "import numpy as np"
   ]
  },
  {
   "cell_type": "markdown",
   "metadata": {},
   "source": [
    "<blockquote style=\"color:#bc4749\">\n",
    "    \n",
    "<b>Exercice</b> <br>\n",
    "Importez les données TD_France.csv dans un Dataframe  <b>df_fr</b> à l'aide de :\n",
    "    \n",
    "```python\n",
    "pd.read_csv()\n",
    "```\n",
    "    \n",
    "Attention, il faut faire en sorte que le fichier TD_France.csv soit accessible depuis votre Notebook. Si besoin, aidez-vous du TD1 partie 1\n",
    "    \n",
    "Une autre solution est de charger les données directement à partir du Git du cours : \n",
    "\n",
    "```python\n",
    "pd.read_table(\n",
    "    r\"https://raw.githubusercontent.com/fbxyz/ENSG_L1_cartostat/main/td/data/TD_France.csv\",\n",
    "    sep=\",\"\n",
    ") \n",
    "```\n",
    "</blockquote>    \n"
   ]
  },
  {
   "cell_type": "code",
   "execution_count": 48,
   "metadata": {},
   "outputs": [
    {
     "data": {
      "text/html": [
       "<div>\n",
       "<style scoped>\n",
       "    .dataframe tbody tr th:only-of-type {\n",
       "        vertical-align: middle;\n",
       "    }\n",
       "\n",
       "    .dataframe tbody tr th {\n",
       "        vertical-align: top;\n",
       "    }\n",
       "\n",
       "    .dataframe thead th {\n",
       "        text-align: right;\n",
       "    }\n",
       "</style>\n",
       "<table border=\"1\" class=\"dataframe\">\n",
       "  <thead>\n",
       "    <tr style=\"text-align: right;\">\n",
       "      <th></th>\n",
       "      <th>Code</th>\n",
       "      <th>Département</th>\n",
       "      <th>ICF_2014</th>\n",
       "      <th>ICF_2015</th>\n",
       "      <th>ICF_2016</th>\n",
       "      <th>ICF_2017</th>\n",
       "      <th>ICF_2018</th>\n",
       "      <th>ICF_2019</th>\n",
       "    </tr>\n",
       "  </thead>\n",
       "  <tbody>\n",
       "    <tr>\n",
       "      <th>0</th>\n",
       "      <td>01</td>\n",
       "      <td>Ain</td>\n",
       "      <td>1.98</td>\n",
       "      <td>1.87</td>\n",
       "      <td>1.88</td>\n",
       "      <td>1.82</td>\n",
       "      <td>1.86</td>\n",
       "      <td>1.80</td>\n",
       "    </tr>\n",
       "    <tr>\n",
       "      <th>1</th>\n",
       "      <td>02</td>\n",
       "      <td>Aisne</td>\n",
       "      <td>2.14</td>\n",
       "      <td>2.09</td>\n",
       "      <td>1.97</td>\n",
       "      <td>2.02</td>\n",
       "      <td>1.95</td>\n",
       "      <td>1.91</td>\n",
       "    </tr>\n",
       "    <tr>\n",
       "      <th>2</th>\n",
       "      <td>03</td>\n",
       "      <td>Allier</td>\n",
       "      <td>1.93</td>\n",
       "      <td>1.86</td>\n",
       "      <td>1.91</td>\n",
       "      <td>1.85</td>\n",
       "      <td>1.81</td>\n",
       "      <td>1.85</td>\n",
       "    </tr>\n",
       "    <tr>\n",
       "      <th>3</th>\n",
       "      <td>04</td>\n",
       "      <td>Alpes-de-Haute-Provence</td>\n",
       "      <td>1.98</td>\n",
       "      <td>1.95</td>\n",
       "      <td>1.93</td>\n",
       "      <td>1.85</td>\n",
       "      <td>1.82</td>\n",
       "      <td>1.80</td>\n",
       "    </tr>\n",
       "    <tr>\n",
       "      <th>4</th>\n",
       "      <td>05</td>\n",
       "      <td>Hautes-Alpes</td>\n",
       "      <td>1.93</td>\n",
       "      <td>1.86</td>\n",
       "      <td>1.80</td>\n",
       "      <td>1.69</td>\n",
       "      <td>1.77</td>\n",
       "      <td>1.78</td>\n",
       "    </tr>\n",
       "    <tr>\n",
       "      <th>...</th>\n",
       "      <td>...</td>\n",
       "      <td>...</td>\n",
       "      <td>...</td>\n",
       "      <td>...</td>\n",
       "      <td>...</td>\n",
       "      <td>...</td>\n",
       "      <td>...</td>\n",
       "      <td>...</td>\n",
       "    </tr>\n",
       "    <tr>\n",
       "      <th>96</th>\n",
       "      <td>971</td>\n",
       "      <td>Guadeloupe</td>\n",
       "      <td>2.19</td>\n",
       "      <td>2.10</td>\n",
       "      <td>2.14</td>\n",
       "      <td>1.94</td>\n",
       "      <td>2.04</td>\n",
       "      <td>2.25</td>\n",
       "    </tr>\n",
       "    <tr>\n",
       "      <th>97</th>\n",
       "      <td>972</td>\n",
       "      <td>Martinique</td>\n",
       "      <td>2.08</td>\n",
       "      <td>1.94</td>\n",
       "      <td>1.90</td>\n",
       "      <td>1.87</td>\n",
       "      <td>1.91</td>\n",
       "      <td>2.00</td>\n",
       "    </tr>\n",
       "    <tr>\n",
       "      <th>98</th>\n",
       "      <td>973</td>\n",
       "      <td>Guyane</td>\n",
       "      <td>3.44</td>\n",
       "      <td>3.44</td>\n",
       "      <td>3.61</td>\n",
       "      <td>3.92</td>\n",
       "      <td>3.79</td>\n",
       "      <td>3.74</td>\n",
       "    </tr>\n",
       "    <tr>\n",
       "      <th>99</th>\n",
       "      <td>974</td>\n",
       "      <td>La Réunion</td>\n",
       "      <td>2.44</td>\n",
       "      <td>2.46</td>\n",
       "      <td>2.43</td>\n",
       "      <td>2.44</td>\n",
       "      <td>2.40</td>\n",
       "      <td>2.39</td>\n",
       "    </tr>\n",
       "    <tr>\n",
       "      <th>100</th>\n",
       "      <td>976</td>\n",
       "      <td>Mayotte</td>\n",
       "      <td>4.12</td>\n",
       "      <td>4.87</td>\n",
       "      <td>4.95</td>\n",
       "      <td>4.92</td>\n",
       "      <td>4.66</td>\n",
       "      <td>4.59</td>\n",
       "    </tr>\n",
       "  </tbody>\n",
       "</table>\n",
       "<p>101 rows × 8 columns</p>\n",
       "</div>"
      ],
      "text/plain": [
       "    Code              Département  ICF_2014  ICF_2015  ICF_2016  ICF_2017  \\\n",
       "0     01                      Ain      1.98      1.87      1.88      1.82   \n",
       "1     02                    Aisne      2.14      2.09      1.97      2.02   \n",
       "2     03                   Allier      1.93      1.86      1.91      1.85   \n",
       "3     04  Alpes-de-Haute-Provence      1.98      1.95      1.93      1.85   \n",
       "4     05             Hautes-Alpes      1.93      1.86      1.80      1.69   \n",
       "..   ...                      ...       ...       ...       ...       ...   \n",
       "96   971               Guadeloupe      2.19      2.10      2.14      1.94   \n",
       "97   972               Martinique      2.08      1.94      1.90      1.87   \n",
       "98   973                   Guyane      3.44      3.44      3.61      3.92   \n",
       "99   974               La Réunion      2.44      2.46      2.43      2.44   \n",
       "100  976                  Mayotte      4.12      4.87      4.95      4.92   \n",
       "\n",
       "     ICF_2018  ICF_2019  \n",
       "0        1.86      1.80  \n",
       "1        1.95      1.91  \n",
       "2        1.81      1.85  \n",
       "3        1.82      1.80  \n",
       "4        1.77      1.78  \n",
       "..        ...       ...  \n",
       "96       2.04      2.25  \n",
       "97       1.91      2.00  \n",
       "98       3.79      3.74  \n",
       "99       2.40      2.39  \n",
       "100      4.66      4.59  \n",
       "\n",
       "[101 rows x 8 columns]"
      ]
     },
     "execution_count": 48,
     "metadata": {},
     "output_type": "execute_result"
    }
   ],
   "source": [
    "df_fr = pd.read_csv(\"./data/TD_France.csv\", decimal=\".\", sep=\",\")\n",
    "df_fr"
   ]
  },
  {
   "cell_type": "markdown",
   "metadata": {},
   "source": [
    "Vous pouvez ensuite vérifier le type de variable avec la commande suivante"
   ]
  },
  {
   "cell_type": "code",
   "execution_count": 49,
   "metadata": {},
   "outputs": [
    {
     "data": {
      "text/plain": [
       "Code            object\n",
       "Département     object\n",
       "ICF_2014       float64\n",
       "ICF_2015       float64\n",
       "ICF_2016       float64\n",
       "ICF_2017       float64\n",
       "ICF_2018       float64\n",
       "ICF_2019       float64\n",
       "dtype: object"
      ]
     },
     "execution_count": 49,
     "metadata": {},
     "output_type": "execute_result"
    }
   ],
   "source": [
    "df_fr.dtypes"
   ]
  },
  {
   "cell_type": "markdown",
   "metadata": {
    "id": "nRWsycQBMx38"
   },
   "source": [
    "<hr style=\"height: 2px; color:  #94bd13 ; background-color:  #94bd13; width: 100%; border: none;\">\n",
    "\n",
    "# 2. Représentations graphiques\n",
    "\n",
    "Utilisez le Dataframe précédemment créé pour réaliser les histogrammes et/ou les boxplots des données qui vous intéressent. N'oubliez pas, pour créer une nouvelle cellule de code, appuyez sur B (sauf sous Collaboratory)\n",
    "\n",
    "Pour créer une cellule de texte (Markdown), ajoutez une nouvelle cellule avec B puis appuyez sur M\n"
   ]
  },
  {
   "cell_type": "markdown",
   "metadata": {},
   "source": [
    "## 2.1 Les histogrammes"
   ]
  },
  {
   "cell_type": "markdown",
   "metadata": {},
   "source": [
    "### 2.1.1 Avec toutes les données"
   ]
  },
  {
   "cell_type": "code",
   "execution_count": 50,
   "metadata": {},
   "outputs": [
    {
     "data": {
      "text/plain": [
       "<seaborn.axisgrid.FacetGrid at 0x7efd9b1e3010>"
      ]
     },
     "execution_count": 50,
     "metadata": {},
     "output_type": "execute_result"
    },
    {
     "data": {
      "image/png": "[encoded data removed]",
      "text/plain": [
       "<Figure size 500x500 with 1 Axes>"
      ]
     },
     "metadata": {},
     "output_type": "display_data"
    }
   ],
   "source": [
    "annee = 2014\n",
    "\n",
    "hist_14 = sns.displot(data=df_fr, x=f\"ICF_{annee}\", bins=10, kde=True)\n",
    "hist_14.set(title=f'ICF des départements français en {annee}',\n",
    "         xlabel='Indicateur conjoncturel de fécondité',\n",
    "         ylabel='Effectif',\n",
    "         xlim = (1.2,4.2),\n",
    "         ylim=(0, 80))"
   ]
  },
  {
   "cell_type": "code",
   "execution_count": 51,
   "metadata": {},
   "outputs": [
    {
     "data": {
      "text/plain": [
       "<seaborn.axisgrid.FacetGrid at 0x7efd9b08b390>"
      ]
     },
     "execution_count": 51,
     "metadata": {},
     "output_type": "execute_result"
    },
    {
     "data": {
      "image/png": "[encoded data removed]",
      "text/plain": [
       "<Figure size 500x500 with 1 Axes>"
      ]
     },
     "metadata": {},
     "output_type": "display_data"
    }
   ],
   "source": [
    "annee = 2019\n",
    "hist_19 = sns.displot(data=df_fr, x=f\"ICF_{annee}\", bins=10, kde=True)\n",
    "hist_19.set(title=f'ICF des départements français en {annee}',\n",
    "         xlabel='Indicateur conjoncturel de fécondité',\n",
    "         ylabel='Effectif',\n",
    "         xlim = (1.2,4.2),\n",
    "         ylim=(0, 80))"
   ]
  },
  {
   "cell_type": "markdown",
   "metadata": {},
   "source": [
    "<blockquote style=\"color:#bc4749\">\n",
    "    \n",
    "<b>Exercice</b> <br>\n",
    "\n",
    "Interprétez ces résultats graphiques. Que constatez-vous ?\n",
    "    \n",
    "</blockquote>    "
   ]
  },
  {
   "cell_type": "markdown",
   "metadata": {},
   "source": [
    "Séries unimodales étirez à droite, en lien avec des valeurs extrêmes avec un ICF entre 3 et 4 \n",
    "\n",
    "Il semble également y avoir une plus faible fécondité en 2019 avec plus de départements avec des valeurs <2"
   ]
  },
  {
   "cell_type": "markdown",
   "metadata": {},
   "source": [
    "### 2.1.2 Sans les valeurs extrêmes"
   ]
  },
  {
   "cell_type": "markdown",
   "metadata": {},
   "source": [
    "On décide de vérifier la répartition des données sans les valeurs extrèmes.\n",
    "\n",
    "NB. Le dataframe est passé en melt pour pouvoir appliquer la méthode facet (graphiques 2014 et 2019 côte à côte). Les variables sont passées en ligne, une colonne value est ajoutée\n",
    "\n",
    "Le format melt est très pratique car il évite de démultiplier le nombre de colonnes (une seule colonne pour les années)"
   ]
  },
  {
   "cell_type": "code",
   "execution_count": 62,
   "metadata": {},
   "outputs": [
    {
     "data": {
      "text/html": [
       "<div>\n",
       "<style scoped>\n",
       "    .dataframe tbody tr th:only-of-type {\n",
       "        vertical-align: middle;\n",
       "    }\n",
       "\n",
       "    .dataframe tbody tr th {\n",
       "        vertical-align: top;\n",
       "    }\n",
       "\n",
       "    .dataframe thead th {\n",
       "        text-align: right;\n",
       "    }\n",
       "</style>\n",
       "<table border=\"1\" class=\"dataframe\">\n",
       "  <thead>\n",
       "    <tr style=\"text-align: right;\">\n",
       "      <th></th>\n",
       "      <th>Code</th>\n",
       "      <th>Département</th>\n",
       "      <th>variable</th>\n",
       "      <th>value</th>\n",
       "    </tr>\n",
       "  </thead>\n",
       "  <tbody>\n",
       "    <tr>\n",
       "      <th>0</th>\n",
       "      <td>01</td>\n",
       "      <td>Ain</td>\n",
       "      <td>ICF_2014</td>\n",
       "      <td>1.98</td>\n",
       "    </tr>\n",
       "    <tr>\n",
       "      <th>1</th>\n",
       "      <td>02</td>\n",
       "      <td>Aisne</td>\n",
       "      <td>ICF_2014</td>\n",
       "      <td>2.14</td>\n",
       "    </tr>\n",
       "    <tr>\n",
       "      <th>2</th>\n",
       "      <td>03</td>\n",
       "      <td>Allier</td>\n",
       "      <td>ICF_2014</td>\n",
       "      <td>1.93</td>\n",
       "    </tr>\n",
       "    <tr>\n",
       "      <th>3</th>\n",
       "      <td>04</td>\n",
       "      <td>Alpes-de-Haute-Provence</td>\n",
       "      <td>ICF_2014</td>\n",
       "      <td>1.98</td>\n",
       "    </tr>\n",
       "    <tr>\n",
       "      <th>4</th>\n",
       "      <td>05</td>\n",
       "      <td>Hautes-Alpes</td>\n",
       "      <td>ICF_2014</td>\n",
       "      <td>1.93</td>\n",
       "    </tr>\n",
       "    <tr>\n",
       "      <th>...</th>\n",
       "      <td>...</td>\n",
       "      <td>...</td>\n",
       "      <td>...</td>\n",
       "      <td>...</td>\n",
       "    </tr>\n",
       "    <tr>\n",
       "      <th>599</th>\n",
       "      <td>94</td>\n",
       "      <td>Val-de-Marne</td>\n",
       "      <td>ICF_2019</td>\n",
       "      <td>1.96</td>\n",
       "    </tr>\n",
       "    <tr>\n",
       "      <th>600</th>\n",
       "      <td>95</td>\n",
       "      <td>Val-d'Oise</td>\n",
       "      <td>ICF_2019</td>\n",
       "      <td>2.29</td>\n",
       "    </tr>\n",
       "    <tr>\n",
       "      <th>601</th>\n",
       "      <td>971</td>\n",
       "      <td>Guadeloupe</td>\n",
       "      <td>ICF_2019</td>\n",
       "      <td>2.25</td>\n",
       "    </tr>\n",
       "    <tr>\n",
       "      <th>602</th>\n",
       "      <td>972</td>\n",
       "      <td>Martinique</td>\n",
       "      <td>ICF_2019</td>\n",
       "      <td>2.00</td>\n",
       "    </tr>\n",
       "    <tr>\n",
       "      <th>604</th>\n",
       "      <td>974</td>\n",
       "      <td>La Réunion</td>\n",
       "      <td>ICF_2019</td>\n",
       "      <td>2.39</td>\n",
       "    </tr>\n",
       "  </tbody>\n",
       "</table>\n",
       "<p>594 rows × 4 columns</p>\n",
       "</div>"
      ],
      "text/plain": [
       "    Code              Département  variable  value\n",
       "0     01                      Ain  ICF_2014   1.98\n",
       "1     02                    Aisne  ICF_2014   2.14\n",
       "2     03                   Allier  ICF_2014   1.93\n",
       "3     04  Alpes-de-Haute-Provence  ICF_2014   1.98\n",
       "4     05             Hautes-Alpes  ICF_2014   1.93\n",
       "..   ...                      ...       ...    ...\n",
       "599   94             Val-de-Marne  ICF_2019   1.96\n",
       "600   95               Val-d'Oise  ICF_2019   2.29\n",
       "601  971               Guadeloupe  ICF_2019   2.25\n",
       "602  972               Martinique  ICF_2019   2.00\n",
       "604  974               La Réunion  ICF_2019   2.39\n",
       "\n",
       "[594 rows x 4 columns]"
      ]
     },
     "execution_count": 62,
     "metadata": {},
     "output_type": "execute_result"
    }
   ],
   "source": [
    "df_fr_m = pd.melt(df_fr, id_vars=['Code','Département'])\n",
    "\n",
    "# On utilise le filtre par query vu dans le TD1 partie 1, chapitre 2.3 \n",
    "df_fr_m.query(\"value < 3\")"
   ]
  },
  {
   "cell_type": "markdown",
   "metadata": {},
   "source": [
    "Pour supprimer les valeurs extrèmes, on filtre le dataframe et on ne conserve que 2014 et 2019"
   ]
  },
  {
   "cell_type": "code",
   "execution_count": 35,
   "metadata": {},
   "outputs": [
    {
     "data": {
      "text/plain": [
       "<seaborn.axisgrid.FacetGrid at 0x7efd9c658e50>"
      ]
     },
     "execution_count": 35,
     "metadata": {},
     "output_type": "execute_result"
    },
    {
     "data": {
      "image/png": "[encoded data removed]",
      "text/plain": [
       "<Figure size 600x300 with 2 Axes>"
      ]
     },
     "metadata": {},
     "output_type": "display_data"
    }
   ],
   "source": [
    "# Création, du facet, avec autant de colonne qu'il y a de modalités dans la colonne variable du dataframe\n",
    "g = sns.FacetGrid(df_fr_m.query(\"variable in ('ICF_2014','ICF_2019') and value <3\"),\n",
    "                  col=\"variable\", )\n",
    "\n",
    "# Il n'est pas possible de faire un displot en facet... Seaborn recommande d'utiliser histplot\n",
    "g.map_dataframe(sns.histplot, binwidth=0.1, binrange=(1.4, 2.5))"
   ]
  },
  {
   "cell_type": "markdown",
   "metadata": {
    "tags": []
   },
   "source": [
    "## 2.2 Boxplot pour voir les tendances"
   ]
  },
  {
   "cell_type": "markdown",
   "metadata": {
    "tags": []
   },
   "source": [
    "<blockquote style=\"color:#bc4749\">\n",
    "    \n",
    "<b>Exercice</b> <br>\n",
    "\n",
    "Faites les boxplots avec toutes les valeurs. Pensez à ajouter un titre à votre graphique.\n",
    "    \n",
    "</blockquote>   \n"
   ]
  },
  {
   "cell_type": "code",
   "execution_count": 36,
   "metadata": {},
   "outputs": [
    {
     "data": {
      "text/plain": [
       "[Text(0.5, 1.0, \"Evolution de l'inndicateurs conjoncturel de fécondité\\ndans les départements français\")]"
      ]
     },
     "execution_count": 36,
     "metadata": {},
     "output_type": "execute_result"
    },
    {
     "data": {
      "image/png": "[encoded data removed]",
      "text/plain": [
       "<Figure size 640x480 with 1 Axes>"
      ]
     },
     "metadata": {},
     "output_type": "display_data"
    }
   ],
   "source": [
    "bp = sns.boxplot(data=df_fr)\n",
    "bp.set(title=\"Evolution de l'inndicateurs conjoncturel de fécondité\\ndans les départements français\")"
   ]
  },
  {
   "cell_type": "markdown",
   "metadata": {
    "tags": []
   },
   "source": [
    "<blockquote style=\"color:#bc4749\">\n",
    "    \n",
    "<b>Exercice</b> <br>\n",
    "\n",
    "Faites les boxplots sans les valeurs extrêmes. Filtrer directement sur les valeurs est risqué (query(\"value <3\")). Il donc est préférable d'enlever toutes les valeurs de Mayotte et de la Guyane qui correspondent à ces valeurs extrêmes\n",
    "\n",
    "Il est préférable de créer un nouveau dataframe pour cette partie\n",
    "    \n",
    "</blockquote>   "
   ]
  },
  {
   "cell_type": "code",
   "execution_count": 60,
   "metadata": {},
   "outputs": [
    {
     "data": {
      "text/plain": [
       "[Text(0.5, 1.0, \"Evolution de l'inndicateurs conjoncturel de fécondité\\ndans les départements français hors Mayotte et Guyane\")]"
      ]
     },
     "execution_count": 60,
     "metadata": {},
     "output_type": "execute_result"
    },
    {
     "data": {
      "image/png": "[encoded data removed]",
      "text/plain": [
       "<Figure size 640x480 with 1 Axes>"
      ]
     },
     "metadata": {},
     "output_type": "display_data"
    }
   ],
   "source": [
    "df_fr2 = df_fr.query(\"Code not in ('973','976')\")\n",
    "bp = sns.boxplot(data=df_fr2)\n",
    "title = \"Evolution de l'inndicateurs conjoncturel de fécondité\\ndans les départements français hors Mayotte et Guyane\"\n",
    "bp.set(title=title)"
   ]
  },
  {
   "cell_type": "markdown",
   "metadata": {},
   "source": [
    "<blockquote style=\"color:#bc4749\">\n",
    "    \n",
    "<b>Exercice</b> <br>\n",
    "\n",
    "Interprétez ces résultats graphiques. Que constatez-vous ?\n",
    "\n",
    "</blockquote>    "
   ]
  },
  {
   "cell_type": "markdown",
   "metadata": {},
   "source": [
    "En excluant Mayotte et la Guyane, tendance globale à la baisse de la fécondité depuis 2014, avec stabilisation entre 2017 et 2018. \n",
    "\n",
    "La dispersion mesurée par l'IQR en 2019 semble montrer une plus grande hétérogénéité entre les départements qu'en 2018"
   ]
  },
  {
   "cell_type": "markdown",
   "metadata": {},
   "source": [
    "## Exemple Altair"
   ]
  },
  {
   "cell_type": "code",
   "execution_count": 56,
   "metadata": {},
   "outputs": [
    {
     "data": {
      "text/html": [
       "\n",
       "<style>\n",
       "  #altair-viz-3453493d2f6347a0a5de9b9ef8b5335b.vega-embed {\n",
       "    width: 100%;\n",
       "    display: flex;\n",
       "  }\n",
       "\n",
       "  #altair-viz-3453493d2f6347a0a5de9b9ef8b5335b.vega-embed details,\n",
       "  #altair-viz-3453493d2f6347a0a5de9b9ef8b5335b.vega-embed details summary {\n",
       "    position: relative;\n",
       "  }\n",
       "</style>\n",
       "<div id=\"altair-viz-3453493d2f6347a0a5de9b9ef8b5335b\"></div>\n",
       "<script type=\"text/javascript\">\n",
       "  var VEGA_DEBUG = (typeof VEGA_DEBUG == \"undefined\") ? {} : VEGA_DEBUG;\n",
       "  (function(spec, embedOpt){\n",
       "    let outputDiv = document.currentScript.previousElementSibling;\n",
       "    if (outputDiv.id !== \"altair-viz-3453493d2f6347a0a5de9b9ef8b5335b\") {\n",
       "      outputDiv = document.getElementById(\"altair-viz-3453493d2f6347a0a5de9b9ef8b5335b\");\n",
       "    }\n",
       "    const paths = {\n",
       "      \"vega\": \"https://cdn.jsdelivr.net/npm/vega@5?noext\",\n",
       "      \"vega-lib\": \"https://cdn.jsdelivr.net/npm/vega-lib?noext\",\n",
       "      \"vega-lite\": \"https://cdn.jsdelivr.net/npm/vega-lite@5.15.1?noext\",\n",
       "      \"vega-embed\": \"https://cdn.jsdelivr.net/npm/vega-embed@6?noext\",\n",
       "    };\n",
       "\n",
       "    function maybeLoadScript(lib, version) {\n",
       "      var key = `${lib.replace(\"-\", \"\")}_version`;\n",
       "      return (VEGA_DEBUG[key] == version) ?\n",
       "        Promise.resolve(paths[lib]) :\n",
       "        new Promise(function(resolve, reject) {\n",
       "          var s = document.createElement('script');\n",
       "          document.getElementsByTagName(\"head\")[0].appendChild(s);\n",
       "          s.async = true;\n",
       "          s.onload = () => {\n",
       "            VEGA_DEBUG[key] = version;\n",
       "            return resolve(paths[lib]);\n",
       "          };\n",
       "          s.onerror = () => reject(`Error loading script: ${paths[lib]}`);\n",
       "          s.src = paths[lib];\n",
       "        });\n",
       "    }\n",
       "\n",
       "    function showError(err) {\n",
       "      outputDiv.innerHTML = `<div class=\"error\" style=\"color:red;\">${err}</div>`;\n",
       "      throw err;\n",
       "    }\n",
       "\n",
       "    function displayChart(vegaEmbed) {\n",
       "      vegaEmbed(outputDiv, spec, embedOpt)\n",
       "        .catch(err => showError(`Javascript Error: ${err.message}<br>This usually means there's a typo in your chart specification. See the javascript console for the full traceback.`));\n",
       "    }\n",
       "\n",
       "    if(typeof define === \"function\" && define.amd) {\n",
       "      requirejs.config({paths});\n",
       "      require([\"vega-embed\"], displayChart, err => showError(`Error loading script: ${err.message}`));\n",
       "    } else {\n",
       "      maybeLoadScript(\"vega\", \"5\")\n",
       "        .then(() => maybeLoadScript(\"vega-lite\", \"5.15.1\"))\n",
       "        .then(() => maybeLoadScript(\"vega-embed\", \"6\"))\n",
       "        .catch(showError)\n",
       "        .then(() => displayChart(vegaEmbed));\n",
       "    }\n",
       "  })({\"config\": {\"view\": {\"continuousWidth\": 300, \"continuousHeight\": 300}}, \"data\": {\"name\": \"data-81cc89b8fdb67d217662e8c50e482c0a\"}, \"mark\": {\"type\": \"bar\", \"size\": 15}, \"encoding\": {\"tooltip\": [{\"field\": \"ICF_2014\", \"type\": \"quantitative\"}], \"x\": {\"bin\": {\"extent\": [1.2, 4.5], \"step\": 0.15}, \"field\": \"ICF_2014\", \"type\": \"quantitative\"}, \"y\": {\"aggregate\": \"count\", \"type\": \"quantitative\"}}, \"title\": \"Test Altair\", \"$schema\": \"https://vega.github.io/schema/vega-lite/v5.15.1.json\", \"datasets\": {\"data-81cc89b8fdb67d217662e8c50e482c0a\": [{\"Code\": \"01\", \"D\\u00e9partement\": \"Ain\", \"ICF_2014\": 1.98, \"ICF_2015\": 1.87, \"ICF_2016\": 1.88, \"ICF_2017\": 1.82, \"ICF_2018\": 1.86, \"ICF_2019\": 1.8}, {\"Code\": \"02\", \"D\\u00e9partement\": \"Aisne\", \"ICF_2014\": 2.14, \"ICF_2015\": 2.09, \"ICF_2016\": 1.97, \"ICF_2017\": 2.02, \"ICF_2018\": 1.95, \"ICF_2019\": 1.91}, {\"Code\": \"03\", \"D\\u00e9partement\": \"Allier\", \"ICF_2014\": 1.93, \"ICF_2015\": 1.86, \"ICF_2016\": 1.91, \"ICF_2017\": 1.85, \"ICF_2018\": 1.81, \"ICF_2019\": 1.85}, {\"Code\": \"04\", \"D\\u00e9partement\": \"Alpes-de-Haute-Provence\", \"ICF_2014\": 1.98, \"ICF_2015\": 1.95, \"ICF_2016\": 1.93, \"ICF_2017\": 1.85, \"ICF_2018\": 1.82, \"ICF_2019\": 1.8}, {\"Code\": \"05\", \"D\\u00e9partement\": \"Hautes-Alpes\", \"ICF_2014\": 1.93, \"ICF_2015\": 1.86, \"ICF_2016\": 1.8, \"ICF_2017\": 1.69, \"ICF_2018\": 1.77, \"ICF_2019\": 1.78}, {\"Code\": \"06\", \"D\\u00e9partement\": \"Alpes-Maritimes\", \"ICF_2014\": 1.94, \"ICF_2015\": 1.92, \"ICF_2016\": 1.91, \"ICF_2017\": 1.91, \"ICF_2018\": 1.88, \"ICF_2019\": 1.88}, {\"Code\": \"07\", \"D\\u00e9partement\": \"Ard\\u00e8che\", \"ICF_2014\": 2.04, \"ICF_2015\": 2.05, \"ICF_2016\": 1.81, \"ICF_2017\": 1.92, \"ICF_2018\": 1.87, \"ICF_2019\": 1.97}, {\"Code\": \"08\", \"D\\u00e9partement\": \"Ardennes\", \"ICF_2014\": 1.95, \"ICF_2015\": 1.87, \"ICF_2016\": 1.87, \"ICF_2017\": 1.75, \"ICF_2018\": 1.74, \"ICF_2019\": 1.86}, {\"Code\": \"09\", \"D\\u00e9partement\": \"Ari\\u00e8ge\", \"ICF_2014\": 1.87, \"ICF_2015\": 1.91, \"ICF_2016\": 1.87, \"ICF_2017\": 1.77, \"ICF_2018\": 1.74, \"ICF_2019\": 1.71}, {\"Code\": \"10\", \"D\\u00e9partement\": \"Aube\", \"ICF_2014\": 1.92, \"ICF_2015\": 1.97, \"ICF_2016\": 1.9, \"ICF_2017\": 1.79, \"ICF_2018\": 1.82, \"ICF_2019\": 1.79}, {\"Code\": \"11\", \"D\\u00e9partement\": \"Aude\", \"ICF_2014\": 1.92, \"ICF_2015\": 1.93, \"ICF_2016\": 1.86, \"ICF_2017\": 1.84, \"ICF_2018\": 1.79, \"ICF_2019\": 1.79}, {\"Code\": \"12\", \"D\\u00e9partement\": \"Aveyron\", \"ICF_2014\": 1.96, \"ICF_2015\": 1.82, \"ICF_2016\": 1.86, \"ICF_2017\": 1.81, \"ICF_2018\": 1.78, \"ICF_2019\": 1.74}, {\"Code\": \"13\", \"D\\u00e9partement\": \"Bouches-du-Rh\\u00f4ne\", \"ICF_2014\": 2.09, \"ICF_2015\": 2.08, \"ICF_2016\": 2.05, \"ICF_2017\": 2.05, \"ICF_2018\": 2.03, \"ICF_2019\": 2.01}, {\"Code\": \"14\", \"D\\u00e9partement\": \"Calvados\", \"ICF_2014\": 1.85, \"ICF_2015\": 1.8, \"ICF_2016\": 1.74, \"ICF_2017\": 1.69, \"ICF_2018\": 1.69, \"ICF_2019\": 1.69}, {\"Code\": \"15\", \"D\\u00e9partement\": \"Cantal\", \"ICF_2014\": 1.79, \"ICF_2015\": 1.69, \"ICF_2016\": 1.64, \"ICF_2017\": 1.67, \"ICF_2018\": 1.75, \"ICF_2019\": 1.64}, {\"Code\": \"16\", \"D\\u00e9partement\": \"Charente\", \"ICF_2014\": 1.91, \"ICF_2015\": 1.87, \"ICF_2016\": 1.81, \"ICF_2017\": 1.74, \"ICF_2018\": 1.7, \"ICF_2019\": 1.73}, {\"Code\": \"17\", \"D\\u00e9partement\": \"Charente-Maritime\", \"ICF_2014\": 1.86, \"ICF_2015\": 1.74, \"ICF_2016\": 1.76, \"ICF_2017\": 1.69, \"ICF_2018\": 1.67, \"ICF_2019\": 1.72}, {\"Code\": \"18\", \"D\\u00e9partement\": \"Cher\", \"ICF_2014\": 2.01, \"ICF_2015\": 1.86, \"ICF_2016\": 1.93, \"ICF_2017\": 1.88, \"ICF_2018\": 1.82, \"ICF_2019\": 1.92}, {\"Code\": \"19\", \"D\\u00e9partement\": \"Corr\\u00e8ze\", \"ICF_2014\": 1.85, \"ICF_2015\": 1.72, \"ICF_2016\": 1.76, \"ICF_2017\": 1.74, \"ICF_2018\": 1.75, \"ICF_2019\": 1.7}, {\"Code\": \"2A\", \"D\\u00e9partement\": \"Corse-du-Sud\", \"ICF_2014\": 1.49, \"ICF_2015\": 1.45, \"ICF_2016\": 1.48, \"ICF_2017\": 1.42, \"ICF_2018\": 1.5, \"ICF_2019\": 1.46}, {\"Code\": \"2B\", \"D\\u00e9partement\": \"Haute-Corse\", \"ICF_2014\": 1.55, \"ICF_2015\": 1.47, \"ICF_2016\": 1.47, \"ICF_2017\": 1.49, \"ICF_2018\": 1.37, \"ICF_2019\": 1.38}, {\"Code\": \"21\", \"D\\u00e9partement\": \"C\\u00f4te-d'Or\", \"ICF_2014\": 1.78, \"ICF_2015\": 1.69, \"ICF_2016\": 1.67, \"ICF_2017\": 1.69, \"ICF_2018\": 1.65, \"ICF_2019\": 1.62}, {\"Code\": \"22\", \"D\\u00e9partement\": \"C\\u00f4tes-d'Armor\", \"ICF_2014\": 2.04, \"ICF_2015\": 1.99, \"ICF_2016\": 1.94, \"ICF_2017\": 1.93, \"ICF_2018\": 1.96, \"ICF_2019\": 1.91}, {\"Code\": \"23\", \"D\\u00e9partement\": \"Creuse\", \"ICF_2014\": 1.75, \"ICF_2015\": 1.78, \"ICF_2016\": 1.67, \"ICF_2017\": 1.74, \"ICF_2018\": 1.73, \"ICF_2019\": 1.68}, {\"Code\": \"24\", \"D\\u00e9partement\": \"Dordogne\", \"ICF_2014\": 1.87, \"ICF_2015\": 1.77, \"ICF_2016\": 1.78, \"ICF_2017\": 1.77, \"ICF_2018\": 1.65, \"ICF_2019\": 1.7}, {\"Code\": \"25\", \"D\\u00e9partement\": \"Doubs\", \"ICF_2014\": 1.98, \"ICF_2015\": 1.95, \"ICF_2016\": 1.91, \"ICF_2017\": 1.86, \"ICF_2018\": 1.83, \"ICF_2019\": 1.77}, {\"Code\": \"26\", \"D\\u00e9partement\": \"Dr\\u00f4me\", \"ICF_2014\": 2.13, \"ICF_2015\": 2.06, \"ICF_2016\": 1.98, \"ICF_2017\": 1.98, \"ICF_2018\": 1.92, \"ICF_2019\": 1.95}, {\"Code\": \"27\", \"D\\u00e9partement\": \"Eure\", \"ICF_2014\": 2.09, \"ICF_2015\": 2.02, \"ICF_2016\": 2.07, \"ICF_2017\": 1.98, \"ICF_2018\": 1.96, \"ICF_2019\": 1.92}, {\"Code\": \"28\", \"D\\u00e9partement\": \"Eure-et-Loir\", \"ICF_2014\": 2.14, \"ICF_2015\": 2.07, \"ICF_2016\": 2.15, \"ICF_2017\": 2.02, \"ICF_2018\": 2.03, \"ICF_2019\": 2.0}, {\"Code\": \"29\", \"D\\u00e9partement\": \"Finist\\u00e8re\", \"ICF_2014\": 1.9, \"ICF_2015\": 1.85, \"ICF_2016\": 1.79, \"ICF_2017\": 1.79, \"ICF_2018\": 1.74, \"ICF_2019\": 1.72}, {\"Code\": \"30\", \"D\\u00e9partement\": \"Gard\", \"ICF_2014\": 2.05, \"ICF_2015\": 2.0, \"ICF_2016\": 2.0, \"ICF_2017\": 1.95, \"ICF_2018\": 1.93, \"ICF_2019\": 1.92}, {\"Code\": \"31\", \"D\\u00e9partement\": \"Haute-Garonne\", \"ICF_2014\": 1.77, \"ICF_2015\": 1.72, \"ICF_2016\": 1.68, \"ICF_2017\": 1.67, \"ICF_2018\": 1.65, \"ICF_2019\": 1.63}, {\"Code\": \"32\", \"D\\u00e9partement\": \"Gers\", \"ICF_2014\": 1.93, \"ICF_2015\": 1.85, \"ICF_2016\": 1.76, \"ICF_2017\": 1.63, \"ICF_2018\": 1.7, \"ICF_2019\": 1.66}, {\"Code\": \"33\", \"D\\u00e9partement\": \"Gironde\", \"ICF_2014\": 1.74, \"ICF_2015\": 1.7, \"ICF_2016\": 1.68, \"ICF_2017\": 1.66, \"ICF_2018\": 1.65, \"ICF_2019\": 1.62}, {\"Code\": \"34\", \"D\\u00e9partement\": \"H\\u00e9rault\", \"ICF_2014\": 1.85, \"ICF_2015\": 1.83, \"ICF_2016\": 1.8, \"ICF_2017\": 1.75, \"ICF_2018\": 1.75, \"ICF_2019\": 1.72}, {\"Code\": \"35\", \"D\\u00e9partement\": \"Ille-et-Vilaine\", \"ICF_2014\": 1.89, \"ICF_2015\": 1.81, \"ICF_2016\": 1.8, \"ICF_2017\": 1.76, \"ICF_2018\": 1.75, \"ICF_2019\": 1.75}, {\"Code\": \"36\", \"D\\u00e9partement\": \"Indre\", \"ICF_2014\": 1.98, \"ICF_2015\": 1.84, \"ICF_2016\": 1.75, \"ICF_2017\": 1.74, \"ICF_2018\": 1.81, \"ICF_2019\": 1.83}, {\"Code\": \"37\", \"D\\u00e9partement\": \"Indre-et-Loire\", \"ICF_2014\": 1.88, \"ICF_2015\": 1.82, \"ICF_2016\": 1.81, \"ICF_2017\": 1.76, \"ICF_2018\": 1.73, \"ICF_2019\": 1.71}, {\"Code\": \"38\", \"D\\u00e9partement\": \"Is\\u00e8re\", \"ICF_2014\": 2.05, \"ICF_2015\": 1.97, \"ICF_2016\": 1.97, \"ICF_2017\": 1.93, \"ICF_2018\": 1.86, \"ICF_2019\": 1.85}, {\"Code\": \"39\", \"D\\u00e9partement\": \"Jura\", \"ICF_2014\": 1.98, \"ICF_2015\": 1.9, \"ICF_2016\": 1.92, \"ICF_2017\": 1.86, \"ICF_2018\": 1.79, \"ICF_2019\": 1.86}, {\"Code\": \"40\", \"D\\u00e9partement\": \"Landes\", \"ICF_2014\": 1.84, \"ICF_2015\": 1.83, \"ICF_2016\": 1.73, \"ICF_2017\": 1.69, \"ICF_2018\": 1.68, \"ICF_2019\": 1.76}, {\"Code\": \"41\", \"D\\u00e9partement\": \"Loir-et-Cher\", \"ICF_2014\": 2.11, \"ICF_2015\": 2.02, \"ICF_2016\": 1.96, \"ICF_2017\": 1.93, \"ICF_2018\": 1.9, \"ICF_2019\": 1.88}, {\"Code\": \"42\", \"D\\u00e9partement\": \"Loire\", \"ICF_2014\": 2.15, \"ICF_2015\": 2.12, \"ICF_2016\": 2.02, \"ICF_2017\": 1.99, \"ICF_2018\": 2.01, \"ICF_2019\": 2.01}, {\"Code\": \"43\", \"D\\u00e9partement\": \"Haute-Loire\", \"ICF_2014\": 1.98, \"ICF_2015\": 2.02, \"ICF_2016\": 1.87, \"ICF_2017\": 1.87, \"ICF_2018\": 1.93, \"ICF_2019\": 1.83}, {\"Code\": \"44\", \"D\\u00e9partement\": \"Loire-Atlantique\", \"ICF_2014\": 1.96, \"ICF_2015\": 1.89, \"ICF_2016\": 1.85, \"ICF_2017\": 1.85, \"ICF_2018\": 1.83, \"ICF_2019\": 1.81}, {\"Code\": \"45\", \"D\\u00e9partement\": \"Loiret\", \"ICF_2014\": 2.07, \"ICF_2015\": 2.03, \"ICF_2016\": 1.97, \"ICF_2017\": 1.95, \"ICF_2018\": 1.96, \"ICF_2019\": 1.98}, {\"Code\": \"46\", \"D\\u00e9partement\": \"Lot\", \"ICF_2014\": 1.91, \"ICF_2015\": 1.69, \"ICF_2016\": 1.73, \"ICF_2017\": 1.7, \"ICF_2018\": 1.75, \"ICF_2019\": 1.66}, {\"Code\": \"47\", \"D\\u00e9partement\": \"Lot-et-Garonne\", \"ICF_2014\": 2.0, \"ICF_2015\": 1.86, \"ICF_2016\": 1.86, \"ICF_2017\": 1.8, \"ICF_2018\": 1.82, \"ICF_2019\": 1.85}, {\"Code\": \"48\", \"D\\u00e9partement\": \"Loz\\u00e8re\", \"ICF_2014\": 1.71, \"ICF_2015\": 1.86, \"ICF_2016\": 1.78, \"ICF_2017\": 1.62, \"ICF_2018\": 1.6, \"ICF_2019\": 1.61}, {\"Code\": \"49\", \"D\\u00e9partement\": \"Maine-et-Loire\", \"ICF_2014\": 2.04, \"ICF_2015\": 1.99, \"ICF_2016\": 1.95, \"ICF_2017\": 1.94, \"ICF_2018\": 1.9, \"ICF_2019\": 1.85}, {\"Code\": \"50\", \"D\\u00e9partement\": \"Manche\", \"ICF_2014\": 1.97, \"ICF_2015\": 1.97, \"ICF_2016\": 1.86, \"ICF_2017\": 1.83, \"ICF_2018\": 1.8, \"ICF_2019\": 1.86}, {\"Code\": \"51\", \"D\\u00e9partement\": \"Marne\", \"ICF_2014\": 1.91, \"ICF_2015\": 1.86, \"ICF_2016\": 1.82, \"ICF_2017\": 1.75, \"ICF_2018\": 1.76, \"ICF_2019\": 1.79}, {\"Code\": \"52\", \"D\\u00e9partement\": \"Haute-Marne\", \"ICF_2014\": 2.09, \"ICF_2015\": 1.93, \"ICF_2016\": 1.84, \"ICF_2017\": 1.8, \"ICF_2018\": 1.79, \"ICF_2019\": 1.73}, {\"Code\": \"53\", \"D\\u00e9partement\": \"Mayenne\", \"ICF_2014\": 2.13, \"ICF_2015\": 2.1, \"ICF_2016\": 2.06, \"ICF_2017\": 1.94, \"ICF_2018\": 1.98, \"ICF_2019\": 1.99}, {\"Code\": \"54\", \"D\\u00e9partement\": \"Meurthe-et-Moselle\", \"ICF_2014\": 1.75, \"ICF_2015\": 1.68, \"ICF_2016\": 1.7, \"ICF_2017\": 1.64, \"ICF_2018\": 1.57, \"ICF_2019\": 1.56}, {\"Code\": \"55\", \"D\\u00e9partement\": \"Meuse\", \"ICF_2014\": 1.9, \"ICF_2015\": 1.88, \"ICF_2016\": 1.81, \"ICF_2017\": 1.84, \"ICF_2018\": 1.78, \"ICF_2019\": 1.75}, {\"Code\": \"56\", \"D\\u00e9partement\": \"Morbihan\", \"ICF_2014\": 2.01, \"ICF_2015\": 1.91, \"ICF_2016\": 1.89, \"ICF_2017\": 1.84, \"ICF_2018\": 1.83, \"ICF_2019\": 1.86}, {\"Code\": \"57\", \"D\\u00e9partement\": \"Moselle\", \"ICF_2014\": 1.78, \"ICF_2015\": 1.73, \"ICF_2016\": 1.7, \"ICF_2017\": 1.68, \"ICF_2018\": 1.64, \"ICF_2019\": 1.67}, {\"Code\": \"58\", \"D\\u00e9partement\": \"Ni\\u00e8vre\", \"ICF_2014\": 1.87, \"ICF_2015\": 1.88, \"ICF_2016\": 1.83, \"ICF_2017\": 1.81, \"ICF_2018\": 1.89, \"ICF_2019\": 1.77}, {\"Code\": \"59\", \"D\\u00e9partement\": \"Nord\", \"ICF_2014\": 2.07, \"ICF_2015\": 2.01, \"ICF_2016\": 1.96, \"ICF_2017\": 1.9, \"ICF_2018\": 1.86, \"ICF_2019\": 1.86}, {\"Code\": \"60\", \"D\\u00e9partement\": \"Oise\", \"ICF_2014\": 2.12, \"ICF_2015\": 2.09, \"ICF_2016\": 2.01, \"ICF_2017\": 1.97, \"ICF_2018\": 1.9, \"ICF_2019\": 1.9}, {\"Code\": \"61\", \"D\\u00e9partement\": \"Orne\", \"ICF_2014\": 2.02, \"ICF_2015\": 1.97, \"ICF_2016\": 1.98, \"ICF_2017\": 1.9, \"ICF_2018\": 1.9, \"ICF_2019\": 1.86}, {\"Code\": \"62\", \"D\\u00e9partement\": \"Pas-de-Calais\", \"ICF_2014\": 2.14, \"ICF_2015\": 2.04, \"ICF_2016\": 1.99, \"ICF_2017\": 1.96, \"ICF_2018\": 1.87, \"ICF_2019\": 1.9}, {\"Code\": \"63\", \"D\\u00e9partement\": \"Puy-de-D\\u00f4me\", \"ICF_2014\": 1.82, \"ICF_2015\": 1.75, \"ICF_2016\": 1.72, \"ICF_2017\": 1.72, \"ICF_2018\": 1.72, \"ICF_2019\": 1.68}, {\"Code\": \"64\", \"D\\u00e9partement\": \"Pyr\\u00e9n\\u00e9es-Atlantiques\", \"ICF_2014\": 1.78, \"ICF_2015\": 1.7, \"ICF_2016\": 1.68, \"ICF_2017\": 1.62, \"ICF_2018\": 1.58, \"ICF_2019\": 1.59}, {\"Code\": \"65\", \"D\\u00e9partement\": \"Hautes-Pyr\\u00e9n\\u00e9es\", \"ICF_2014\": 1.98, \"ICF_2015\": 1.88, \"ICF_2016\": 1.8, \"ICF_2017\": 1.77, \"ICF_2018\": 1.69, \"ICF_2019\": 1.71}, {\"Code\": \"66\", \"D\\u00e9partement\": \"Pyr\\u00e9n\\u00e9es-Orientales\", \"ICF_2014\": 1.96, \"ICF_2015\": 1.92, \"ICF_2016\": 1.81, \"ICF_2017\": 1.83, \"ICF_2018\": 1.8, \"ICF_2019\": 1.8}, {\"Code\": \"67\", \"D\\u00e9partement\": \"Bas-Rhin\", \"ICF_2014\": 1.83, \"ICF_2015\": 1.74, \"ICF_2016\": 1.73, \"ICF_2017\": 1.7, \"ICF_2018\": 1.68, \"ICF_2019\": 1.65}, {\"Code\": \"68\", \"D\\u00e9partement\": \"Haut-Rhin\", \"ICF_2014\": 1.93, \"ICF_2015\": 1.9, \"ICF_2016\": 1.85, \"ICF_2017\": 1.83, \"ICF_2018\": 1.82, \"ICF_2019\": 1.75}, {\"Code\": \"69\", \"D\\u00e9partement\": \"Rh\\u00f4ne\", \"ICF_2014\": 2.06, \"ICF_2015\": 2.04, \"ICF_2016\": 2.0, \"ICF_2017\": 1.95, \"ICF_2018\": 1.93, \"ICF_2019\": 1.9}, {\"Code\": \"70\", \"D\\u00e9partement\": \"Haute-Sa\\u00f4ne\", \"ICF_2014\": 2.03, \"ICF_2015\": 2.01, \"ICF_2016\": 1.94, \"ICF_2017\": 1.9, \"ICF_2018\": 1.85, \"ICF_2019\": 1.81}, {\"Code\": \"71\", \"D\\u00e9partement\": \"Sa\\u00f4ne-et-Loire\", \"ICF_2014\": 2.03, \"ICF_2015\": 1.99, \"ICF_2016\": 1.91, \"ICF_2017\": 1.88, \"ICF_2018\": 1.86, \"ICF_2019\": 1.84}, {\"Code\": \"72\", \"D\\u00e9partement\": \"Sarthe\", \"ICF_2014\": 2.14, \"ICF_2015\": 2.03, \"ICF_2016\": 1.99, \"ICF_2017\": 1.93, \"ICF_2018\": 1.89, \"ICF_2019\": 1.95}, {\"Code\": \"73\", \"D\\u00e9partement\": \"Savoie\", \"ICF_2014\": 1.92, \"ICF_2015\": 1.88, \"ICF_2016\": 1.84, \"ICF_2017\": 1.81, \"ICF_2018\": 1.82, \"ICF_2019\": 1.78}, {\"Code\": \"74\", \"D\\u00e9partement\": \"Haute-Savoie\", \"ICF_2014\": 1.89, \"ICF_2015\": 1.88, \"ICF_2016\": 1.8, \"ICF_2017\": 1.78, \"ICF_2018\": 1.83, \"ICF_2019\": 1.81}, {\"Code\": \"75\", \"D\\u00e9partement\": \"Paris\", \"ICF_2014\": 1.57, \"ICF_2015\": 1.55, \"ICF_2016\": 1.57, \"ICF_2017\": 1.53, \"ICF_2018\": 1.54, \"ICF_2019\": 1.55}, {\"Code\": \"76\", \"D\\u00e9partement\": \"Seine-Maritime\", \"ICF_2014\": 1.96, \"ICF_2015\": 1.95, \"ICF_2016\": 1.91, \"ICF_2017\": 1.88, \"ICF_2018\": 1.87, \"ICF_2019\": 1.87}, {\"Code\": \"77\", \"D\\u00e9partement\": \"Seine-et-Marne\", \"ICF_2014\": 2.11, \"ICF_2015\": 2.05, \"ICF_2016\": 2.01, \"ICF_2017\": 2.0, \"ICF_2018\": 1.97, \"ICF_2019\": 1.99}, {\"Code\": \"78\", \"D\\u00e9partement\": \"Yvelines\", \"ICF_2014\": 2.15, \"ICF_2015\": 2.12, \"ICF_2016\": 2.09, \"ICF_2017\": 2.05, \"ICF_2018\": 2.06, \"ICF_2019\": 2.07}, {\"Code\": \"79\", \"D\\u00e9partement\": \"Deux-S\\u00e8vres\", \"ICF_2014\": 1.93, \"ICF_2015\": 1.88, \"ICF_2016\": 1.94, \"ICF_2017\": 1.83, \"ICF_2018\": 1.84, \"ICF_2019\": 1.85}, {\"Code\": \"80\", \"D\\u00e9partement\": \"Somme\", \"ICF_2014\": 1.88, \"ICF_2015\": 1.83, \"ICF_2016\": 1.8, \"ICF_2017\": 1.76, \"ICF_2018\": 1.73, \"ICF_2019\": 1.68}, {\"Code\": \"81\", \"D\\u00e9partement\": \"Tarn\", \"ICF_2014\": 1.99, \"ICF_2015\": 1.92, \"ICF_2016\": 1.89, \"ICF_2017\": 1.79, \"ICF_2018\": 1.73, \"ICF_2019\": 1.78}, {\"Code\": \"82\", \"D\\u00e9partement\": \"Tarn-et-Garonne\", \"ICF_2014\": 2.1, \"ICF_2015\": 2.1, \"ICF_2016\": 1.99, \"ICF_2017\": 2.03, \"ICF_2018\": 1.95, \"ICF_2019\": 1.97}, {\"Code\": \"83\", \"D\\u00e9partement\": \"Var\", \"ICF_2014\": 2.04, \"ICF_2015\": 1.96, \"ICF_2016\": 1.95, \"ICF_2017\": 1.92, \"ICF_2018\": 1.88, \"ICF_2019\": 1.93}, {\"Code\": \"84\", \"D\\u00e9partement\": \"Vaucluse\", \"ICF_2014\": 2.26, \"ICF_2015\": 2.2, \"ICF_2016\": 2.12, \"ICF_2017\": 2.08, \"ICF_2018\": 2.07, \"ICF_2019\": 2.07}, {\"Code\": \"85\", \"D\\u00e9partement\": \"Vend\\u00e9e\", \"ICF_2014\": 2.08, \"ICF_2015\": 1.99, \"ICF_2016\": 1.88, \"ICF_2017\": 1.84, \"ICF_2018\": 1.85, \"ICF_2019\": 1.83}, {\"Code\": \"86\", \"D\\u00e9partement\": \"Vienne\", \"ICF_2014\": 1.82, \"ICF_2015\": 1.75, \"ICF_2016\": 1.71, \"ICF_2017\": 1.68, \"ICF_2018\": 1.63, \"ICF_2019\": 1.66}, {\"Code\": \"87\", \"D\\u00e9partement\": \"Haute-Vienne\", \"ICF_2014\": 1.8, \"ICF_2015\": 1.78, \"ICF_2016\": 1.69, \"ICF_2017\": 1.68, \"ICF_2018\": 1.66, \"ICF_2019\": 1.73}, {\"Code\": \"88\", \"D\\u00e9partement\": \"Vosges\", \"ICF_2014\": 1.95, \"ICF_2015\": 1.87, \"ICF_2016\": 1.81, \"ICF_2017\": 1.8, \"ICF_2018\": 1.81, \"ICF_2019\": 1.8}, {\"Code\": \"89\", \"D\\u00e9partement\": \"Yonne\", \"ICF_2014\": 2.05, \"ICF_2015\": 2.11, \"ICF_2016\": 1.99, \"ICF_2017\": 1.89, \"ICF_2018\": 1.94, \"ICF_2019\": 1.95}, {\"Code\": \"90\", \"D\\u00e9partement\": \"Territoire de Belfort\", \"ICF_2014\": 1.96, \"ICF_2015\": 1.86, \"ICF_2016\": 1.9, \"ICF_2017\": 1.89, \"ICF_2018\": 1.92, \"ICF_2019\": 1.86}, {\"Code\": \"91\", \"D\\u00e9partement\": \"Essonne\", \"ICF_2014\": 2.2, \"ICF_2015\": 2.21, \"ICF_2016\": 2.15, \"ICF_2017\": 2.16, \"ICF_2018\": 2.16, \"ICF_2019\": 2.14}, {\"Code\": \"92\", \"D\\u00e9partement\": \"Hauts-de-Seine\", \"ICF_2014\": 1.98, \"ICF_2015\": 1.93, \"ICF_2016\": 1.93, \"ICF_2017\": 1.86, \"ICF_2018\": 1.83, \"ICF_2019\": 1.78}, {\"Code\": \"93\", \"D\\u00e9partement\": \"Seine-Saint-Denis\", \"ICF_2014\": 2.47, \"ICF_2015\": 2.43, \"ICF_2016\": 2.39, \"ICF_2017\": 2.36, \"ICF_2018\": 2.33, \"ICF_2019\": 2.3}, {\"Code\": \"94\", \"D\\u00e9partement\": \"Val-de-Marne\", \"ICF_2014\": 2.13, \"ICF_2015\": 2.07, \"ICF_2016\": 2.02, \"ICF_2017\": 2.01, \"ICF_2018\": 1.97, \"ICF_2019\": 1.96}, {\"Code\": \"95\", \"D\\u00e9partement\": \"Val-d'Oise\", \"ICF_2014\": 2.3, \"ICF_2015\": 2.28, \"ICF_2016\": 2.29, \"ICF_2017\": 2.28, \"ICF_2018\": 2.26, \"ICF_2019\": 2.29}, {\"Code\": \"971\", \"D\\u00e9partement\": \"Guadeloupe\", \"ICF_2014\": 2.19, \"ICF_2015\": 2.1, \"ICF_2016\": 2.14, \"ICF_2017\": 1.94, \"ICF_2018\": 2.04, \"ICF_2019\": 2.25}, {\"Code\": \"972\", \"D\\u00e9partement\": \"Martinique\", \"ICF_2014\": 2.08, \"ICF_2015\": 1.94, \"ICF_2016\": 1.9, \"ICF_2017\": 1.87, \"ICF_2018\": 1.91, \"ICF_2019\": 2.0}, {\"Code\": \"973\", \"D\\u00e9partement\": \"Guyane\", \"ICF_2014\": 3.44, \"ICF_2015\": 3.44, \"ICF_2016\": 3.61, \"ICF_2017\": 3.92, \"ICF_2018\": 3.79, \"ICF_2019\": 3.74}, {\"Code\": \"974\", \"D\\u00e9partement\": \"La R\\u00e9union\", \"ICF_2014\": 2.44, \"ICF_2015\": 2.46, \"ICF_2016\": 2.43, \"ICF_2017\": 2.44, \"ICF_2018\": 2.4, \"ICF_2019\": 2.39}, {\"Code\": \"976\", \"D\\u00e9partement\": \"Mayotte\", \"ICF_2014\": 4.12, \"ICF_2015\": 4.87, \"ICF_2016\": 4.95, \"ICF_2017\": 4.92, \"ICF_2018\": 4.66, \"ICF_2019\": 4.59}]}}, {\"mode\": \"vega-lite\"});\n",
       "</script>"
      ],
      "text/plain": [
       "alt.Chart(...)"
      ]
     },
     "execution_count": 56,
     "metadata": {},
     "output_type": "execute_result"
    }
   ],
   "source": [
    "import altair as alt\n",
    "alt.Chart(df_fr, title=\"Test Altair\").mark_bar(size=15).encode(\n",
    "    alt.X(\"ICF_2014:Q\", bin=alt.Bin(extent=[1.2, 4.5], step=0.15)),\n",
    "    y='count()',\n",
    "    tooltip=['ICF_2014']\n",
    ")\n"
   ]
  },
  {
   "cell_type": "markdown",
   "metadata": {
    "id": "nRWsycQBMx38"
   },
   "source": [
    "<hr style=\"height: 2px; color:  #94bd13 ; background-color:  #94bd13; width: 100%; border: none;\">\n",
    "\n",
    "# 3. Calculs statistiques\n",
    "\n",
    "Réalisez les calculs qui vous permettront de mieux interpréter vos données, leur forme, les points d'attention..."
   ]
  },
  {
   "cell_type": "markdown",
   "metadata": {},
   "source": [
    "\n",
    "<blockquote style=\"color:#bc4749\">\n",
    "    \n",
    "<b>Exercice</b> <br>\n",
    "\n",
    "Faites les calculs univariée avec toutes les valeurs. Reportez vous à la partie 4 du TD1 partie 1\n",
    "    \n",
    "</blockquote>   \n"
   ]
  },
  {
   "cell_type": "code",
   "execution_count": 57,
   "metadata": {},
   "outputs": [
    {
     "data": {
      "text/html": [
       "<div>\n",
       "<style scoped>\n",
       "    .dataframe tbody tr th:only-of-type {\n",
       "        vertical-align: middle;\n",
       "    }\n",
       "\n",
       "    .dataframe tbody tr th {\n",
       "        vertical-align: top;\n",
       "    }\n",
       "\n",
       "    .dataframe thead th {\n",
       "        text-align: right;\n",
       "    }\n",
       "</style>\n",
       "<table border=\"1\" class=\"dataframe\">\n",
       "  <thead>\n",
       "    <tr style=\"text-align: right;\">\n",
       "      <th></th>\n",
       "      <th>ICF_2014</th>\n",
       "      <th>ICF_2015</th>\n",
       "      <th>ICF_2016</th>\n",
       "      <th>ICF_2017</th>\n",
       "      <th>ICF_2018</th>\n",
       "      <th>ICF_2019</th>\n",
       "    </tr>\n",
       "  </thead>\n",
       "  <tbody>\n",
       "    <tr>\n",
       "      <th>count</th>\n",
       "      <td>101.000000</td>\n",
       "      <td>101.000000</td>\n",
       "      <td>101.000000</td>\n",
       "      <td>101.000000</td>\n",
       "      <td>101.000000</td>\n",
       "      <td>101.000000</td>\n",
       "    </tr>\n",
       "    <tr>\n",
       "      <th>mean</th>\n",
       "      <td>2.006535</td>\n",
       "      <td>1.961683</td>\n",
       "      <td>1.927129</td>\n",
       "      <td>1.892970</td>\n",
       "      <td>1.875446</td>\n",
       "      <td>1.871188</td>\n",
       "    </tr>\n",
       "    <tr>\n",
       "      <th>std</th>\n",
       "      <td>0.302104</td>\n",
       "      <td>0.367750</td>\n",
       "      <td>0.383159</td>\n",
       "      <td>0.400211</td>\n",
       "      <td>0.375775</td>\n",
       "      <td>0.371425</td>\n",
       "    </tr>\n",
       "    <tr>\n",
       "      <th>min</th>\n",
       "      <td>1.490000</td>\n",
       "      <td>1.450000</td>\n",
       "      <td>1.470000</td>\n",
       "      <td>1.420000</td>\n",
       "      <td>1.370000</td>\n",
       "      <td>1.380000</td>\n",
       "    </tr>\n",
       "    <tr>\n",
       "      <th>25%</th>\n",
       "      <td>1.880000</td>\n",
       "      <td>1.830000</td>\n",
       "      <td>1.800000</td>\n",
       "      <td>1.750000</td>\n",
       "      <td>1.740000</td>\n",
       "      <td>1.720000</td>\n",
       "    </tr>\n",
       "    <tr>\n",
       "      <th>50%</th>\n",
       "      <td>1.980000</td>\n",
       "      <td>1.910000</td>\n",
       "      <td>1.880000</td>\n",
       "      <td>1.840000</td>\n",
       "      <td>1.820000</td>\n",
       "      <td>1.810000</td>\n",
       "    </tr>\n",
       "    <tr>\n",
       "      <th>75%</th>\n",
       "      <td>2.080000</td>\n",
       "      <td>2.020000</td>\n",
       "      <td>1.970000</td>\n",
       "      <td>1.930000</td>\n",
       "      <td>1.920000</td>\n",
       "      <td>1.920000</td>\n",
       "    </tr>\n",
       "    <tr>\n",
       "      <th>max</th>\n",
       "      <td>4.120000</td>\n",
       "      <td>4.870000</td>\n",
       "      <td>4.950000</td>\n",
       "      <td>4.920000</td>\n",
       "      <td>4.660000</td>\n",
       "      <td>4.590000</td>\n",
       "    </tr>\n",
       "  </tbody>\n",
       "</table>\n",
       "</div>"
      ],
      "text/plain": [
       "         ICF_2014    ICF_2015    ICF_2016    ICF_2017    ICF_2018    ICF_2019\n",
       "count  101.000000  101.000000  101.000000  101.000000  101.000000  101.000000\n",
       "mean     2.006535    1.961683    1.927129    1.892970    1.875446    1.871188\n",
       "std      0.302104    0.367750    0.383159    0.400211    0.375775    0.371425\n",
       "min      1.490000    1.450000    1.470000    1.420000    1.370000    1.380000\n",
       "25%      1.880000    1.830000    1.800000    1.750000    1.740000    1.720000\n",
       "50%      1.980000    1.910000    1.880000    1.840000    1.820000    1.810000\n",
       "75%      2.080000    2.020000    1.970000    1.930000    1.920000    1.920000\n",
       "max      4.120000    4.870000    4.950000    4.920000    4.660000    4.590000"
      ]
     },
     "execution_count": 57,
     "metadata": {},
     "output_type": "execute_result"
    }
   ],
   "source": [
    "df_fr.describe()"
   ]
  },
  {
   "cell_type": "markdown",
   "metadata": {},
   "source": [
    "<blockquote style=\"color:#bc4749\">\n",
    "    \n",
    "<b>Exercice</b> <br>\n",
    "\n",
    "Faites les calculs univariée sans les valeurs extrêmes, comme pour les boxplots du point 2.2 précédents (TD1 partie 2). \n",
    "\n",
    "Si vous avez créé un Dataframe sans les valeurs extrêmes, réutilisez le\n",
    "    \n",
    "</blockquote>   \n",
    "\n"
   ]
  },
  {
   "cell_type": "code",
   "execution_count": 61,
   "metadata": {},
   "outputs": [
    {
     "data": {
      "text/html": [
       "<div>\n",
       "<style scoped>\n",
       "    .dataframe tbody tr th:only-of-type {\n",
       "        vertical-align: middle;\n",
       "    }\n",
       "\n",
       "    .dataframe tbody tr th {\n",
       "        vertical-align: top;\n",
       "    }\n",
       "\n",
       "    .dataframe thead th {\n",
       "        text-align: right;\n",
       "    }\n",
       "</style>\n",
       "<table border=\"1\" class=\"dataframe\">\n",
       "  <thead>\n",
       "    <tr style=\"text-align: right;\">\n",
       "      <th></th>\n",
       "      <th>ICF_2014</th>\n",
       "      <th>ICF_2015</th>\n",
       "      <th>ICF_2016</th>\n",
       "      <th>ICF_2017</th>\n",
       "      <th>ICF_2018</th>\n",
       "      <th>ICF_2019</th>\n",
       "    </tr>\n",
       "  </thead>\n",
       "  <tbody>\n",
       "    <tr>\n",
       "      <th>count</th>\n",
       "      <td>99.000000</td>\n",
       "      <td>99.000000</td>\n",
       "      <td>99.000000</td>\n",
       "      <td>99.000000</td>\n",
       "      <td>99.000000</td>\n",
       "      <td>99.000000</td>\n",
       "    </tr>\n",
       "    <tr>\n",
       "      <th>mean</th>\n",
       "      <td>1.970707</td>\n",
       "      <td>1.917374</td>\n",
       "      <td>1.879596</td>\n",
       "      <td>1.841919</td>\n",
       "      <td>1.827980</td>\n",
       "      <td>1.824848</td>\n",
       "    </tr>\n",
       "    <tr>\n",
       "      <th>std</th>\n",
       "      <td>0.159016</td>\n",
       "      <td>0.165552</td>\n",
       "      <td>0.159322</td>\n",
       "      <td>0.159308</td>\n",
       "      <td>0.159028</td>\n",
       "      <td>0.165944</td>\n",
       "    </tr>\n",
       "    <tr>\n",
       "      <th>min</th>\n",
       "      <td>1.490000</td>\n",
       "      <td>1.450000</td>\n",
       "      <td>1.470000</td>\n",
       "      <td>1.420000</td>\n",
       "      <td>1.370000</td>\n",
       "      <td>1.380000</td>\n",
       "    </tr>\n",
       "    <tr>\n",
       "      <th>25%</th>\n",
       "      <td>1.880000</td>\n",
       "      <td>1.830000</td>\n",
       "      <td>1.795000</td>\n",
       "      <td>1.745000</td>\n",
       "      <td>1.735000</td>\n",
       "      <td>1.720000</td>\n",
       "    </tr>\n",
       "    <tr>\n",
       "      <th>50%</th>\n",
       "      <td>1.970000</td>\n",
       "      <td>1.910000</td>\n",
       "      <td>1.870000</td>\n",
       "      <td>1.840000</td>\n",
       "      <td>1.820000</td>\n",
       "      <td>1.810000</td>\n",
       "    </tr>\n",
       "    <tr>\n",
       "      <th>75%</th>\n",
       "      <td>2.070000</td>\n",
       "      <td>2.020000</td>\n",
       "      <td>1.970000</td>\n",
       "      <td>1.930000</td>\n",
       "      <td>1.905000</td>\n",
       "      <td>1.910000</td>\n",
       "    </tr>\n",
       "    <tr>\n",
       "      <th>max</th>\n",
       "      <td>2.470000</td>\n",
       "      <td>2.460000</td>\n",
       "      <td>2.430000</td>\n",
       "      <td>2.440000</td>\n",
       "      <td>2.400000</td>\n",
       "      <td>2.390000</td>\n",
       "    </tr>\n",
       "  </tbody>\n",
       "</table>\n",
       "</div>"
      ],
      "text/plain": [
       "        ICF_2014   ICF_2015   ICF_2016   ICF_2017   ICF_2018   ICF_2019\n",
       "count  99.000000  99.000000  99.000000  99.000000  99.000000  99.000000\n",
       "mean    1.970707   1.917374   1.879596   1.841919   1.827980   1.824848\n",
       "std     0.159016   0.165552   0.159322   0.159308   0.159028   0.165944\n",
       "min     1.490000   1.450000   1.470000   1.420000   1.370000   1.380000\n",
       "25%     1.880000   1.830000   1.795000   1.745000   1.735000   1.720000\n",
       "50%     1.970000   1.910000   1.870000   1.840000   1.820000   1.810000\n",
       "75%     2.070000   2.020000   1.970000   1.930000   1.905000   1.910000\n",
       "max     2.470000   2.460000   2.430000   2.440000   2.400000   2.390000"
      ]
     },
     "execution_count": 61,
     "metadata": {},
     "output_type": "execute_result"
    }
   ],
   "source": [
    "df_fr2.describe()"
   ]
  },
  {
   "cell_type": "markdown",
   "metadata": {},
   "source": [
    "## 3.2 Exemples sur les quantiles\n",
    "\n",
    "Les cellules suivantes vous montrent comment calculer des quantiles spécifiques avec Pandas : "
   ]
  },
  {
   "cell_type": "markdown",
   "metadata": {},
   "source": [
    "### 3.2.1 Afficher les valeurs de quantiles spécifiques"
   ]
  },
  {
   "cell_type": "code",
   "execution_count": null,
   "metadata": {},
   "outputs": [],
   "source": [
    "df_fr.quantile([.20, .80],numeric_only=True)"
   ]
  },
  {
   "cell_type": "markdown",
   "metadata": {},
   "source": [
    "<blockquote style=\"color:#bc4749\">\n",
    "    \n",
    "<b>Exercice</b> <br>\n",
    "\n",
    "Affichez les 5 premiers % et les 95 derniers %\n",
    "    \n",
    "</blockquote>   \n",
    "\n"
   ]
  },
  {
   "cell_type": "code",
   "execution_count": 170,
   "metadata": {},
   "outputs": [
    {
     "data": {
      "text/html": [
       "<div>\n",
       "<style scoped>\n",
       "    .dataframe tbody tr th:only-of-type {\n",
       "        vertical-align: middle;\n",
       "    }\n",
       "\n",
       "    .dataframe tbody tr th {\n",
       "        vertical-align: top;\n",
       "    }\n",
       "\n",
       "    .dataframe thead th {\n",
       "        text-align: right;\n",
       "    }\n",
       "</style>\n",
       "<table border=\"1\" class=\"dataframe\">\n",
       "  <thead>\n",
       "    <tr style=\"text-align: right;\">\n",
       "      <th></th>\n",
       "      <th>ICF_2014</th>\n",
       "      <th>ICF_2015</th>\n",
       "      <th>ICF_2016</th>\n",
       "      <th>ICF_2017</th>\n",
       "      <th>ICF_2018</th>\n",
       "      <th>ICF_2019</th>\n",
       "    </tr>\n",
       "  </thead>\n",
       "  <tbody>\n",
       "    <tr>\n",
       "      <th>0.05</th>\n",
       "      <td>1.75</td>\n",
       "      <td>1.69</td>\n",
       "      <td>1.67</td>\n",
       "      <td>1.63</td>\n",
       "      <td>1.60</td>\n",
       "      <td>1.61</td>\n",
       "    </tr>\n",
       "    <tr>\n",
       "      <th>0.95</th>\n",
       "      <td>2.26</td>\n",
       "      <td>2.21</td>\n",
       "      <td>2.15</td>\n",
       "      <td>2.16</td>\n",
       "      <td>2.16</td>\n",
       "      <td>2.25</td>\n",
       "    </tr>\n",
       "  </tbody>\n",
       "</table>\n",
       "</div>"
      ],
      "text/plain": [
       "      ICF_2014  ICF_2015  ICF_2016  ICF_2017  ICF_2018  ICF_2019\n",
       "0.05      1.75      1.69      1.67      1.63      1.60      1.61\n",
       "0.95      2.26      2.21      2.15      2.16      2.16      2.25"
      ]
     },
     "execution_count": 170,
     "metadata": {},
     "output_type": "execute_result"
    }
   ],
   "source": [
    "df_fr.quantile([.05, .95],numeric_only=True)"
   ]
  },
  {
   "cell_type": "markdown",
   "metadata": {},
   "source": [
    "## 3.3 Tests de normalité"
   ]
  },
  {
   "cell_type": "markdown",
   "metadata": {},
   "source": [
    "### 3.3.1 Tests de la normalité sans les extrêmes\n",
    "\n",
    "Les graphiques précédents ont montré que les séries 2014 et 2019 étaient étirées vers la droite à cause des valeurs de Mayotte et de la Guyane. \n",
    "\n",
    "Testons la normalité de la série 2014 sans ces deux valeurs."
   ]
  },
  {
   "cell_type": "code",
   "execution_count": 63,
   "metadata": {},
   "outputs": [
    {
     "data": {
      "text/plain": [
       "ShapiroResult(statistic=0.9731698632240295, pvalue=0.040508922189474106)"
      ]
     },
     "execution_count": 63,
     "metadata": {},
     "output_type": "execute_result"
    }
   ],
   "source": [
    "# on écrit la query d'exclusion des deux DROM dans une variable pour ne pas le refaire à chaque fois \n",
    "q = \"Code not in ('973','976')\"\n",
    "\n",
    "# On utilise le module stats de scipy abordé dans la partie 4.3 de la partie 1 du TD1\n",
    "stats.shapiro(df_fr.query(q)['ICF_2014'])"
   ]
  },
  {
   "cell_type": "markdown",
   "metadata": {},
   "source": [
    "Le Shapiro test montre que la série 2014 est à la limite de la significativité (p-value = 0.04). \n",
    "L'histogramme laissait cependant suggérer une loi normale. On vérifie le kurtosis et le skew pour comprendre"
   ]
  },
  {
   "cell_type": "code",
   "execution_count": 67,
   "metadata": {},
   "outputs": [
    {
     "name": "stdout",
     "output_type": "stream",
     "text": [
      "Pour la série 2014 : \n",
      "Skew = 0.028\n",
      "Kurtosis = 1.624\n",
      "\n"
     ]
    }
   ],
   "source": [
    "s = df_fr.query(q)['ICF_2014'].skew()\n",
    "k = df_fr.query(q)['ICF_2014'].kurtosis()\n",
    "\n",
    "# on fait un print avec un format `f` afin d'obtenir un résultat plus lisible\n",
    "print(f\"\"\"Pour la série 2014 : \n",
    "Skew = {s:.3f}\n",
    "Kurtosis = {k:.3f}\n",
    "\"\"\")"
   ]
  },
  {
   "cell_type": "markdown",
   "metadata": {},
   "source": [
    "Le coefficient d'asymétrie (Skew) est très proche de 0, ce qui tend à montrer la symétrie de la distribution\n",
    "\n",
    "Le kurtosis est égal = 1.6, ce qui explique pourquoi le Shapiro-test est à la limite de la significativité. Un kurtosis standardisé de loi normale est normalement proche de 0"
   ]
  },
  {
   "cell_type": "code",
   "execution_count": 66,
   "metadata": {},
   "outputs": [
    {
     "data": {
      "text/plain": [
       "ShapiroResult(statistic=0.9591991901397705, pvalue=0.0037455339916050434)"
      ]
     },
     "execution_count": 66,
     "metadata": {},
     "output_type": "execute_result"
    }
   ],
   "source": [
    "stats.shapiro(df_fr.query(q)['ICF_2019'])"
   ]
  },
  {
   "cell_type": "markdown",
   "metadata": {},
   "source": [
    "<blockquote style=\"color:#bc4749\">\n",
    "    \n",
    "<b>Exercice</b> <br>\n",
    "\n",
    "Pour 2019, le shapiro-test montre que la série est loin de suivre une loi normale : la p-value est fortement significative.\n",
    "\n",
    "</blockquote>   "
   ]
  },
  {
   "cell_type": "markdown",
   "metadata": {},
   "source": [
    "On peut également tester si les deux moyennes et les deux variances sont significativement différentes :\n",
    "- On utilise un test de Levene car la série 2019 ne suit pas une loi normale\n",
    "- un t-test pour la moyenne car les variances ne sont pas différentes entre les deux séries"
   ]
  },
  {
   "cell_type": "code",
   "execution_count": 72,
   "metadata": {},
   "outputs": [
    {
     "name": "stdout",
     "output_type": "stream",
     "text": [
      "\n",
      "Levene p-value= 0.784\n",
      "Ttest p-value= 0.000000002\n",
      "\n"
     ]
    }
   ],
   "source": [
    "icf14 = df_fr.query(q)['ICF_2014']\n",
    "icf19 = df_fr.query(q)['ICF_2019']\n",
    "\n",
    "lr, lp = stats.levene(icf14,icf19) # lr correspond au résultat du test de Levene, lp à sa p-value\n",
    "tr, tp = stats.ttest_ind(icf14,icf19) \n",
    "\n",
    "print(f\"\"\"\n",
    "Levene p-value= {lp:.3f}\n",
    "Ttest p-value= {tp:.9f}\n",
    "\"\"\")"
   ]
  },
  {
   "cell_type": "markdown",
   "metadata": {},
   "source": [
    "Les variances des deux séries sans ls extrêmes ne sont pas significativement différentes, les moyennes sont significativement différentes"
   ]
  },
  {
   "cell_type": "markdown",
   "metadata": {},
   "source": [
    "<blockquote style=\"color:#bc4749\">\n",
    "    \n",
    "<b>Exercice</b> <br>\n",
    "\n",
    "Faites les tests d'équalité de variance et de moyennes entre 2018 et 2019 :\n",
    "    \n",
    "</blockquote>   "
   ]
  },
  {
   "cell_type": "code",
   "execution_count": 73,
   "metadata": {},
   "outputs": [
    {
     "name": "stdout",
     "output_type": "stream",
     "text": [
      "\n",
      "Barlet p-value= 0.636\n",
      "Ttest p-value= 0.892312288\n",
      "\n"
     ]
    }
   ],
   "source": [
    "icf18 = df_fr.query(q)['ICF_2018']\n",
    "\n",
    "lr, lp = stats.levene(icf18,icf19) \n",
    "tr, tp = stats.ttest_ind(icf18,icf19) \n",
    "\n",
    "print(f\"\"\"\n",
    "Barlet p-value= {lp:.3f}\n",
    "Ttest p-value= {tp:.9f}\n",
    "\"\"\")"
   ]
  },
  {
   "cell_type": "markdown",
   "metadata": {},
   "source": [
    "<blockquote style=\"color:#bc4749\">\n",
    "    \n",
    "<b>Exercice</b> <br>\n",
    "\n",
    "Comme suggéré par l'analyse des graphiques, il ne semble pas y avoir de différence entre 2018 et 2019, aussi bien pour les moyennes que pour les variances de l'ICF 2018 vs 2019\n",
    "</blockquote>   "
   ]
  },
  {
   "cell_type": "markdown",
   "metadata": {},
   "source": [
    "### Une fonction pour tester les variances et les moyennes\n",
    "La fonction suivante sélectionne automatiquement les tests adéquats en fonction de la forme des deux séries. C'est le genre de fonction créée avec Python qui s'avère très utile pour de multiples études."
   ]
  },
  {
   "cell_type": "code",
   "execution_count": 70,
   "metadata": {},
   "outputs": [
    {
     "name": "stdout",
     "output_type": "stream",
     "text": [
      "Au moins une distribution ne suit pas une loi normale\n",
      "Levene : Les variances ne sont pas significativement différentes: p= 0.7844\n",
      "Les moyennes sont significativement différentes: 1.9707 et 1.8248, p= 0.0000\n"
     ]
    }
   ],
   "source": [
    "def test_moyenne(x, y,pair=True):\n",
    "    \"\"\"\n",
    "    test de l'égalité de deux moyennes et de leur variance. Vérification de la normalité des données\n",
    "    et ajustement des tests si nécessaire (normalité, égalité des variances). Test apparié par défaut\n",
    "    @return: str\n",
    "    @type x: np.array\n",
    "    @type y: np.array\n",
    "    @type y: boolean\n",
    "    \"\"\"\n",
    "    # TODO : trop de conditions, à passer en class\n",
    "    \n",
    "    # test de la normalité\n",
    "    sv_x, sp_x = stats.shapiro(x)\n",
    "    sv_y, sp_y = stats.shapiro(y)\n",
    "\n",
    "    if sp_x < 0.05 or sp_y < 0.05:\n",
    "        var = \"H1\"\n",
    "        test_n = \"Au moins une distribution ne suit pas une loi normale\"\n",
    "\n",
    "    else:\n",
    "        var = \"H0\"\n",
    "        test_n = \"Les deux distributions suivent une loi normale\"\n",
    "\n",
    "    # test de variance, en fonction de la normalité des données\n",
    "    if var == 'H0':\n",
    "        vv, vp = stats.bartlett(x, y)\n",
    "        if vp < 0.05:\n",
    "            test_v = f\"Bartlett : Les variances sont significativement différentes: p= {vp:.4f}\"\n",
    "        else:\n",
    "            test_v = f\"Bartlett : Les variances ne sont pas significativement différentes: p= {vp:.4f}\"\n",
    "\n",
    "    else:\n",
    "        vv, vp = stats.levene(x, y)\n",
    "        if vp < 0.05:\n",
    "            test_v = f\"Levene : Les variances sont significativement différentes: p= {vp:.4f}\"\n",
    "        else:\n",
    "            test_v = f\"Levene : Les variances ne sont pas significativement différentes: p= {vp:.4f}\"\n",
    "\n",
    "    if pair : \n",
    "         tv, tp = stats.ttest_rel(x, y) \n",
    "    else : \n",
    "         # test d'égalité des moyennes si les séries sont non appariées, en fonction de l'égalité des variances\n",
    "        if vp >= 0.05:\n",
    "            tv, tp = stats.ttest_ind(x, y, equal_var=True)\n",
    "        else:\n",
    "            tv, tp = stats.ttest_ind(x, y, equal_var=False)  \n",
    "\n",
    "    if tp >= 0.05:\n",
    "        test_m = f\"Les moyennes ne sont pas significativement différentes: {np.mean(x):.4f} et {np.mean(y):.4f}, p= {tp:.4f}\"\n",
    "    else:\n",
    "        test_m = f\"Les moyennes sont significativement différentes: {np.mean(x):.4f} et {np.mean(y):.4f}, p= {tp:.4f}\"\n",
    "\n",
    "    return print(f\"\"\"{test_n}\\n{test_v}\\n{test_m}\"\"\")\n",
    "\n",
    "# on appelle la fonction : \n",
    "test_moyenne(icf14,icf19)\n"
   ]
  },
  {
   "cell_type": "markdown",
   "metadata": {},
   "source": [
    "## 3.3.2 QQ-plot\n",
    "\n",
    "Enfin, on valide graphiquement les résultats des tests de normalité avec le QQ-plot"
   ]
  },
  {
   "cell_type": "markdown",
   "metadata": {},
   "source": [
    "<blockquote style=\"color:#bc4749\">\n",
    "    \n",
    "<b>Exercice</b> <br>\n",
    "\n",
    "Faites les QQ-plot 2014 et 2019 avec toutes les valeurs (cf. première partie du TD1, chapitre 4.4) :\n",
    "    \n",
    "</blockquote>   "
   ]
  },
  {
   "cell_type": "code",
   "execution_count": 77,
   "metadata": {},
   "outputs": [
    {
     "data": {
      "image/png": "[encoded data removed]",
      "text/plain": [
       "<Figure size 640x480 with 1 Axes>"
      ]
     },
     "metadata": {},
     "output_type": "display_data"
    }
   ],
   "source": [
    "sm.qqplot(df_fr['ICF_2014'], line='s')\n",
    "plt.show()"
   ]
  },
  {
   "cell_type": "code",
   "execution_count": 78,
   "metadata": {},
   "outputs": [
    {
     "data": {
      "image/png": "[encoded data removed]",
      "text/plain": [
       "<Figure size 640x480 with 1 Axes>"
      ]
     },
     "metadata": {},
     "output_type": "display_data"
    }
   ],
   "source": [
    "sm.qqplot(df_fr['ICF_2019'], line='s')\n",
    "plt.show()"
   ]
  },
  {
   "cell_type": "markdown",
   "metadata": {},
   "source": [
    "<blockquote style=\"color:#bc4749\">\n",
    "    \n",
    "<b>Exercice</b> <br>\n",
    "\n",
    "Et 2014 puis 2019 sans les valeurs extrêmes :\n",
    "    \n",
    "</blockquote>   "
   ]
  },
  {
   "cell_type": "code",
   "execution_count": 79,
   "metadata": {},
   "outputs": [
    {
     "data": {
      "image/png": "[encoded data removed]",
      "text/plain": [
       "<Figure size 640x480 with 1 Axes>"
      ]
     },
     "metadata": {},
     "output_type": "display_data"
    }
   ],
   "source": [
    "sm.qqplot(df_fr.query(q)['ICF_2014'], line='s')\n",
    "plt.show()"
   ]
  },
  {
   "cell_type": "code",
   "execution_count": 80,
   "metadata": {},
   "outputs": [
    {
     "data": {
      "image/png": "[encoded data removed]",
      "text/plain": [
       "<Figure size 640x480 with 1 Axes>"
      ]
     },
     "metadata": {},
     "output_type": "display_data"
    }
   ],
   "source": [
    "sm.qqplot(df_fr.query(q)['ICF_2019'], line='s')\n",
    "plt.show()"
   ]
  },
  {
   "cell_type": "markdown",
   "metadata": {
    "id": "nRWsycQBMx38"
   },
   "source": [
    "<hr style=\"height: 2px; color:  #94bd13 ; background-color:  #94bd13; width: 100%; border: none;\">\n",
    "\n",
    "# 4. Réponses à la demande\n",
    "\n",
    "Avant de répondre à la demande initiale, \n",
    "\n",
    "- Essayez d'interpréter les résultats des graphiques et des calculs. \n",
    "- Que pouvez-vous tirer de cette analyse univariée ?\n",
    "- Pensez aux objectifs des cartes, au contexte, au public.\n",
    "\n",
    "Rédigez ensuite vos réponses et proposez une ou plusieurs méthodes de discrétisation. Pour rappel, il n'est pas encore démandé de faire la carte.\n",
    "\n",
    "\n",
    "\n"
   ]
  },
  {
   "cell_type": "markdown",
   "metadata": {},
   "source": []
  }
 ],
 "metadata": {
  "colab": {
   "authorship_tag": "ABX9TyOkexbfxkVCFcNqVtlGvlo+",
   "collapsed_sections": [],
   "include_colab_link": true,
   "name": "Pandas_univ.ipynb",
   "provenance": []
  },
  "kernelspec": {
   "display_name": "Python 3 (ipykernel)",
   "language": "python",
   "name": "python3"
  },
  "language_info": {
   "codemirror_mode": {
    "name": "ipython",
    "version": 3
   },
   "file_extension": ".py",
   "mimetype": "text/x-python",
   "name": "python",
   "nbconvert_exporter": "python",
   "pygments_lexer": "ipython3",
   "version": "3.11.6"
  }
 },
 "nbformat": 4,
 "nbformat_minor": 4
}
