{
  "nbformat": 4,
  "nbformat_minor": 0,
  "metadata": {
    "colab": {
      "name": "Pandas_univ.ipynb",
      "provenance": [],
      "collapsed_sections": [],
      "toc_visible": true,
      "authorship_tag": "ABX9TyMfKAYaLtsFjD0w1cy/Tzzo",
      "include_colab_link": true
    },
    "kernelspec": {
      "name": "python3",
      "display_name": "Python 3"
    },
    "language_info": {
      "name": "python"
    }
  },
  "cells": [
    {
      "cell_type": "markdown",
      "metadata": {
        "id": "view-in-github",
        "colab_type": "text"
      },
      "source": [
        "<a href=\"https://colab.research.google.com/github/fbxyz/ENSG_L1_cartostat/blob/main/Pandas_univ.ipynb\" target=\"_parent\"><img src=\"https://colab.research.google.com/assets/colab-badge.svg\" alt=\"Open In Colab\"/></a>"
      ]
    },
    {
      "cell_type": "markdown",
      "source": [
        "# ENSG : statistiques appliquées en cartographie\n",
        "## Réaliser une analyse univariée à l'aide de Python\n",
        "\n",
        "\n",
        "---\n"
      ],
      "metadata": {
        "id": "wkgAs0oTI9gU"
      }
    },
    {
      "cell_type": "markdown",
      "source": [
        "# 1. Importation des packages\n",
        "\n",
        "\n",
        "\n",
        "\n",
        "On importe dans un premier temps les packages nécessaires à l'analyse"
      ],
      "metadata": {
        "id": "nRWsycQBMx38"
      }
    },
    {
      "cell_type": "code",
      "execution_count": null,
      "metadata": {
        "id": "fHvZEA5jIkch"
      },
      "outputs": [],
      "source": [
        "import pandas as pd # Pour gérer les tableaux de données (on partle de Dataframe)"
      ]
    },
    {
      "cell_type": "code",
      "source": [
        "df = pd.read_excel()"
      ],
      "metadata": {
        "id": "vr0U4f0mNDmZ"
      },
      "execution_count": null,
      "outputs": []
    }
  ]
}