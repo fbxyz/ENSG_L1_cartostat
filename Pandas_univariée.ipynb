{
  "nbformat": 4,
  "nbformat_minor": 0,
  "metadata": {
    "colab": {
      "name": "Pandas_univariée.ipynb",
      "provenance": [],
      "collapsed_sections": [],
      "authorship_tag": "ABX9TyPQJqeeq2OBDbHv7PTuaFGM",
      "include_colab_link": true
    },
    "kernelspec": {
      "name": "python3",
      "display_name": "Python 3"
    },
    "language_info": {
      "name": "python"
    }
  },
  "cells": [
    {
      "cell_type": "markdown",
      "metadata": {
        "id": "view-in-github",
        "colab_type": "text"
      },
      "source": [
        "<a href=\"https://colab.research.google.com/github/fbxyz/ENSG_L1_cartostat/blob/main/Pandas_univari%C3%A9e.ipynb\" target=\"_parent\"><img src=\"https://colab.research.google.com/assets/colab-badge.svg\" alt=\"Open In Colab\"/></a>"
      ]
    },
    {
      "cell_type": "markdown",
      "source": [
        "# ENSG : statistiques appliquées en cartographie\n",
        "## Réaliser une analyse univariée à l'aide de Python"
      ],
      "metadata": {
        "id": "wkgAs0oTI9gU"
      }
    },
    {
      "cell_type": "code",
      "execution_count": 1,
      "metadata": {
        "id": "fHvZEA5jIkch"
      },
      "outputs": [],
      "source": [
        "import pandas as pd"
      ]
    }
  ]
}